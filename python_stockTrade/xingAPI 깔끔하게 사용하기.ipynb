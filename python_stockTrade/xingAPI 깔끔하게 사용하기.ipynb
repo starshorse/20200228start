{
 "cells": [
  {
   "cell_type": "markdown",
   "id": "e796fcfd",
   "metadata": {},
   "source": [
    "### Python으로 이베스트증권 xingAPI 깔끔하게 사용하기 (w/ pandas)"
   ]
  },
  {
   "cell_type": "markdown",
   "id": "ccee2784",
   "metadata": {},
   "source": [
    "https://hwangheek.github.io/2021/neat-xingapi-with-python/"
   ]
  },
  {
   "cell_type": "code",
   "execution_count": null,
   "id": "6db44091",
   "metadata": {},
   "outputs": [],
   "source": []
  },
  {
   "cell_type": "code",
   "execution_count": null,
   "id": "d8a67806",
   "metadata": {},
   "outputs": [],
   "source": []
  },
  {
   "cell_type": "code",
   "execution_count": null,
   "id": "c8039fae",
   "metadata": {},
   "outputs": [],
   "source": []
  },
  {
   "cell_type": "code",
   "execution_count": null,
   "id": "0f47d912",
   "metadata": {},
   "outputs": [],
   "source": []
  }
 ],
 "metadata": {
  "kernelspec": {
   "display_name": "Python 3 (ipykernel)",
   "language": "python",
   "name": "python3"
  },
  "language_info": {
   "codemirror_mode": {
    "name": "ipython",
    "version": 3
   },
   "file_extension": ".py",
   "mimetype": "text/x-python",
   "name": "python",
   "nbconvert_exporter": "python",
   "pygments_lexer": "ipython3",
   "version": "3.10.6"
  }
 },
 "nbformat": 4,
 "nbformat_minor": 5
}
