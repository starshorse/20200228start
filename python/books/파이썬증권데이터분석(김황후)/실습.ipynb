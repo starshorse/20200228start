{
 "cells": [
  {
   "cell_type": "markdown",
   "id": "5957235b",
   "metadata": {},
   "source": [
    "#### 연평균 성장률 ( CAGR ) 구하기 "
   ]
  },
  {
   "cell_type": "code",
   "execution_count": 1,
   "id": "b3f2ff2a",
   "metadata": {},
   "outputs": [],
   "source": [
    "def getCAGR( first , last , years ):\n",
    "    return (last/first)**(1/years)-1"
   ]
  },
  {
   "cell_type": "code",
   "execution_count": 12,
   "id": "1fb4b946",
   "metadata": {},
   "outputs": [
    {
     "name": "stdout",
     "output_type": "stream",
     "text": [
      "SEC  CAGR: 20.38%\n"
     ]
    }
   ],
   "source": [
    "cagr = getCAGR( 65300, 2669000, 20)\n",
    "print(\"SEC  CAGR: {:.2%}\".format(cagr))"
   ]
  },
  {
   "cell_type": "code",
   "execution_count": 17,
   "id": "4a704d8e",
   "metadata": {},
   "outputs": [
    {
     "name": "stdout",
     "output_type": "stream",
     "text": [
      "richard choi 50\n"
     ]
    }
   ],
   "source": [
    "dic = {'name': 'richard choi', 'age': 50 }\n",
    "print('%s %d' % (dic['name'], dic['age']))"
   ]
  },
  {
   "cell_type": "markdown",
   "id": "5022ea4b",
   "metadata": {},
   "source": [
    "### Lamdba "
   ]
  },
  {
   "cell_type": "code",
   "execution_count": 22,
   "id": "28ef786f",
   "metadata": {},
   "outputs": [],
   "source": [
    "insertComma = lambda x : format(x,',')"
   ]
  },
  {
   "cell_type": "code",
   "execution_count": 23,
   "id": "e1c0beb3",
   "metadata": {},
   "outputs": [
    {
     "data": {
      "text/plain": [
       "'2,344,546,767'"
      ]
     },
     "execution_count": 23,
     "metadata": {},
     "output_type": "execute_result"
    }
   ],
   "source": [
    "insertComma( 2344546767)"
   ]
  },
  {
   "cell_type": "code",
   "execution_count": 24,
   "id": "0cb02f39",
   "metadata": {},
   "outputs": [
    {
     "name": "stdout",
     "output_type": "stream",
     "text": [
      "\n",
      "Please wait a moment while I gather a list of all available modules...\n",
      "\n"
     ]
    },
    {
     "name": "stderr",
     "output_type": "stream",
     "text": [
      "C:\\Program Files\\WindowsApps\\PythonSoftwareFoundation.Python.3.10_3.10.2032.0_x64__qbz5n2kfra8p0\\lib\\pkgutil.py:92: UserWarning: The numpy.array_api submodule is still experimental. See NEP 47.\n",
      "  __import__(info.name)\n",
      "C:\\Program Files\\WindowsApps\\PythonSoftwareFoundation.Python.3.10_3.10.2032.0_x64__qbz5n2kfra8p0\\lib\\pkgutil.py:107: VisibleDeprecationWarning: zmq.eventloop.minitornado is deprecated in pyzmq 14.0 and will be removed.\n",
      "    Install tornado itself to use zmq with the tornado IOLoop.\n",
      "    \n",
      "  yield from walk_packages(path, info.name+'.', onerror)\n",
      "C:\\Program Files\\WindowsApps\\PythonSoftwareFoundation.Python.3.10_3.10.2032.0_x64__qbz5n2kfra8p0\\lib\\site-packages\\_distutils_hack\\__init__.py:33: UserWarning: Setuptools is replacing distutils.\n",
      "  warnings.warn(\"Setuptools is replacing distutils.\")\n"
     ]
    },
    {
     "name": "stdout",
     "output_type": "stream",
     "text": [
      "IPython             cgitb               mmapfile            sspi\n",
      "PIL                 charset_normalizer  mmsystem            sspicon\n",
      "__future__          chunk               modulefinder        stack_data\n",
      "_abc                cmath               mpl_finance         stat\n",
      "_aix_support        cmd                 msilib              statistics\n",
      "_argon2_cffi_bindings code                msvcrt              string\n",
      "_ast                codecs              multiprocessing     stringprep\n",
      "_asyncio            codeop              multitasking        struct\n",
      "_bisect             collections         nbclient            subprocess\n",
      "_blake2             colorama            nbconvert           sunau\n",
      "_bootsubprocess     colorsys            nbformat            symtable\n",
      "_bz2                commctrl            nest_asyncio        sys\n",
      "_cffi_backend       compileall          netbios             sysconfig\n",
      "_codecs             concurrent          netrc               tabnanny\n",
      "_codecs_cn          configparser        nntplib             tarfile\n",
      "_codecs_hk          contextlib          notebook            telnetlib\n",
      "_codecs_iso2022     contextvars         nt                  tempfile\n",
      "_codecs_jp          copy                ntpath              terminado\n",
      "_codecs_kr          copyreg             ntsecuritycon       textwrap\n",
      "_codecs_tw          crypt               nturl2path          this\n",
      "_collections        cryptography        numbers             threading\n",
      "_collections_abc    csv                 numpy               time\n",
      "_compat_pickle      ctypes              odbc                timeit\n",
      "_compression        curses              opcode              timer\n",
      "_contextvars        cv2                 openpyxl            tinycss2\n",
      "_csv                cycler              operator            tkinter\n",
      "_ctypes             dataclasses         optparse            token\n",
      "_datetime           datetime            os                  tokenize\n",
      "_decimal            dateutil            outcome             tornado\n",
      "_distutils_hack     dbi                 packaging           trace\n",
      "_elementtree        dbm                 pandas              traceback\n",
      "_functools          dde                 pandas_datareader   tracemalloc\n",
      "_hashlib            debugpy             pandocfilters       traitlets\n",
      "_heapq              decimal             parso               trio\n",
      "_imp                decorator           past                trio_websocket\n",
      "_io                 defusedxml          pathlib             tty\n",
      "_json               difflib             pdb                 turtle\n",
      "_locale             dis                 perfmon             turtledemo\n",
      "_lsprof             distutils           pickle              types\n",
      "_lzma               doctest             pickleshare         typing\n",
      "_markupbase         email               pickletools         unicodedata\n",
      "_md5                encodings           pip                 unittest\n",
      "_msi                ensurepip           pipes               urllib\n",
      "_multibytecodec     entrypoints         pkg_resources       urllib3\n",
      "_multiprocessing    enum                pkgutil             uu\n",
      "_opcode             errno               platform            uuid\n",
      "_operator           et_xmlfile          plistlib            venv\n",
      "_osx_support        executing           poplib              warnings\n",
      "_overlapped         fastjsonschema      posixpath           wave\n",
      "_pickle             faulthandler        pprint              wcwidth\n",
      "_py_abc             filecmp             profile             weakref\n",
      "_pydecimal          fileinput           prometheus_client   webbrowser\n",
      "_pyio               fnmatch             prompt_toolkit      webencodings\n",
      "_pyrsistent_version fontTools           pstats              widgetsnbextension\n",
      "_queue              fractions           psutil              win2kras\n",
      "_random             ftplib              pty                 win32api\n",
      "_sha1               functools           pure_eval           win32clipboard\n",
      "_sha256             future              pvectorc            win32com\n",
      "_sha3               gc                  py_compile          win32con\n",
      "_sha512             genericpath         pyclbr              win32console\n",
      "_signal             getopt              pycparser           win32cred\n",
      "_sitebuiltins       getpass             pydoc               win32crypt\n",
      "_socket             gettext             pydoc_data          win32cryptcon\n",
      "_sqlite3            glob                pyexpat             win32event\n",
      "_sre                graphlib            pygments            win32evtlog\n",
      "_ssl                gzip                pylab               win32evtlogutil\n",
      "_stat               h11                 pymysql             win32file\n",
      "_statistics         hashlib             pyparsing           win32gui\n",
      "_string             heapq               pyrsistent          win32gui_struct\n",
      "_strptime           hmac                pythoncom           win32help\n",
      "_struct             html                pytz                win32inet\n",
      "_symtable           html5lib            pywin               win32inetcon\n",
      "_thread             http                pywin32_bootstrap   win32job\n",
      "_threading_local    idlelib             pywin32_testutil    win32lz\n",
      "_tkinter            idna                pywintypes          win32net\n",
      "_tracemalloc        imaplib             qtconsole           win32netcon\n",
      "_uuid               imghdr              qtpy                win32pdh\n",
      "_warnings           imp                 queue               win32pdhquery\n",
      "_weakref            importlib           quopri              win32pdhutil\n",
      "_weakrefset         inspect             random              win32pipe\n",
      "_win32sysloader     io                  rasutil             win32print\n",
      "_winapi             ipaddress           re                  win32process\n",
      "_winxptheme         ipykernel           regcheck            win32profile\n",
      "_xxsubinterpreters  ipykernel_launcher  regutil             win32ras\n",
      "_zoneinfo           ipython_genutils    reprlib             win32rcparser\n",
      "abc                 ipywidgets          requests            win32security\n",
      "adodbapi            isapi               rlcompleter         win32service\n",
      "afxres              itertools           runpy               win32serviceutil\n",
      "aifc                jedi                sched               win32timezone\n",
      "antigravity         jinja2              scipy               win32trace\n",
      "argon2              json                secrets             win32traceutil\n",
      "argparse            jsonschema          select              win32transaction\n",
      "array               jupyter             selectors           win32ts\n",
      "ast                 jupyter_client      selenium            win32ui\n",
      "asttokens           jupyter_console     send2trash          win32uiole\n",
      "async_generator     jupyter_core        serial              win32verstamp\n",
      "asynchat            jupyterlab_pygments servicemanager      win32wnet\n",
      "asyncio             jupyterlab_widgets  setuptools          winerror\n",
      "asyncore            keyboard            shelve              winioctlcon\n",
      "atexit              keyword             shlex               winnt\n",
      "attr                kiwisolver          shutil              winperf\n",
      "attrs               lib2to3             signal              winpty\n",
      "audioop             libfuturize         site                winreg\n",
      "backcall            libpasteurize       six                 winsound\n",
      "base64              linecache           smtpd               winxpgui\n",
      "bdb                 locale              smtplib             winxptheme\n",
      "binascii            logging             sndhdr              wsgiref\n",
      "binhex              lxml                sniffio             wsproto\n",
      "bisect              lzma                socket              xdrlib\n",
      "bleach              mailbox             socketserver        xml\n",
      "blockchain          mailcap             socks               xmlrpc\n",
      "bs4                 markupsafe          sockshandler        xxsubtype\n",
      "builtins            marshal             sortedcontainers    yfinance\n",
      "bz2                 math                soupsieve           zipapp\n",
      "cProfile            matplotlib          sqlite3             zipfile\n",
      "calendar            matplotlib_inline   sre_compile         zipimport\n",
      "certifi             mimetypes           sre_constants       zlib\n",
      "cffi                mistune             sre_parse           zmq\n",
      "cgi                 mmap                ssl                 zoneinfo\n",
      "\n",
      "Enter any module name to get more help.  Or, type \"modules spam\" to search\n",
      "for modules whose name or summary contain the string \"spam\".\n",
      "\n"
     ]
    }
   ],
   "source": [
    "help('modules')"
   ]
  },
  {
   "cell_type": "code",
   "execution_count": 25,
   "id": "5fd9340e",
   "metadata": {},
   "outputs": [
    {
     "name": "stdout",
     "output_type": "stream",
     "text": [
      "\n",
      "Here is a list of modules whose name or summary contains 'time'.\n",
      "If there are any, enter a module name to get more help.\n",
      "\n",
      "_datetime - Fast implementation of the datetime type.\n",
      "time - This module provides various functions to manipulate time values.\n",
      "_strptime - Strptime-related classes and functions.\n",
      "asyncio.staggered - Support for running coroutines in parallel with staggered start times.\n",
      "datetime - Concrete date/time and related types.\n",
      "timeit - Tool for measuring execution time of small code snippets.\n",
      "IPython.terminal.pt_inputhooks.tk - Wrapper around the eventloop that gives some time to the Tkinter GUI to process\n",
      "IPython.utils.tz - Timezone utilities\n",
      "cryptography.hazmat.primitives.constant_time \n",
      "dateutil.parser._parser - This module offers a generic date/time string parser which is able to parse\n",
      "dateutil.tz.tz - This module offers timezone implementations subclassing the abstract\n",
      "dateutil.tz.win - This module provides an interface to the native time zone data on Windows,\n",
      "debugpy.common.timestamp - Provides monotonic timestamps with a resetable zero.\n",
      "fontTools.misc.timeTools - fontTools.misc.timeTools.py -- tools for working with OpenType timestamps.\n",
      "fontTools.varLib - Module for dealing with 'gvar'-style font variations, also known as run-time\n",
      "future.backports.datetime - Concrete date/time and related types.\n",
      "ipywidgets.widgets.tests.test_datetime_serializers \n",
      "ipywidgets.widgets.tests.test_widget_datetime \n",
      "ipywidgets.widgets.tests.test_widget_naive_datetime \n",
      "ipywidgets.widgets.tests.test_widget_time \n",
      "ipywidgets.widgets.widget_datetime - Time and datetime picker widgets\n",
      "ipywidgets.widgets.widget_time - Time picker widget\n",
      "jinja2.environment - Classes for managing templates and their runtime and compile time\n",
      "jinja2.runtime - The runtime functions and state used by compiled templates.\n",
      "notebook._tz - Timezone utilities\n",
      "numpy.core.tests.test_arraymethod - This file tests the generic aspects of ArrayMethod.  At the time of writing\n",
      "numpy.core.tests.test_datetime \n",
      "numpy.ma.timer_comparison \n",
      "numpy.typing.tests.test_runtime - Test the runtime usage of `numpy.typing`.\n",
      "openpyxl.utils.datetime - Manage Excel date weirdness.\n",
      "pandas._config.dates - config for datetime formatting\n",
      "pandas._libs.tslibs.np_datetime \n",
      "pandas._libs.tslibs.strptime \n",
      "pandas._libs.tslibs.timedeltas \n",
      "pandas._libs.tslibs.timestamps \n",
      "pandas._libs.tslibs.timezones \n",
      "pandas.core.arrays._ranges - Helper functions to generate range-like data for DatetimeArray\n",
      "pandas.core.arrays.datetimelike \n",
      "pandas.core.arrays.datetimes \n",
      "pandas.core.arrays.timedeltas \n",
      "pandas.core.indexes.accessors - datetimelike delegation\n",
      "pandas.core.indexes.datetimelike - Base and utility classes for tseries type pandas objects.\n",
      "pandas.core.indexes.datetimes \n",
      "pandas.core.indexes.timedeltas - implement the TimedeltaIndex\n",
      "pandas.core.series - Data structure for 1-dimensional cross-sectional and time series data\n",
      "pandas.core.tools.datetimes \n",
      "pandas.core.tools.timedeltas - timedelta support tools\n",
      "pandas.core.tools.times \n",
      "pandas.plotting._matplotlib.timeseries \n",
      "pandas.tests.arithmetic.test_datetime64 \n",
      "pandas.tests.arithmetic.test_timedelta64 \n",
      "pandas.tests.arrays.datetimes \n",
      "pandas.tests.arrays.datetimes.test_constructors \n",
      "pandas.tests.arrays.datetimes.test_reductions \n",
      "pandas.tests.arrays.test_datetimelike \n",
      "pandas.tests.arrays.test_datetimes - Tests for DatetimeArray\n",
      "pandas.tests.arrays.test_timedeltas \n",
      "pandas.tests.arrays.timedeltas \n",
      "pandas.tests.arrays.timedeltas.test_constructors \n",
      "pandas.tests.arrays.timedeltas.test_reductions \n",
      "pandas.tests.dtypes.cast.test_infer_datetimelike \n",
      "pandas.tests.extension.arrow.test_timestamp \n",
      "pandas.tests.extension.test_datetime - This file contains a minimal set of tests for compliance with the extension\n",
      "pandas.tests.frame.methods.test_at_time \n",
      "pandas.tests.frame.methods.test_between_time \n",
      "pandas.tests.frame.methods.test_to_timestamp \n",
      "pandas.tests.groupby.test_timegrouper - test with the TimeGrouper / grouping with datetimes\n",
      "pandas.tests.indexes.datetimelike - generic datetimelike tests\n",
      "pandas.tests.indexes.datetimelike_ \n",
      "pandas.tests.indexes.datetimelike_.test_drop_duplicates \n",
      "pandas.tests.indexes.datetimelike_.test_equals - Tests shared for DatetimeIndex/TimedeltaIndex/PeriodIndex\n",
      "pandas.tests.indexes.datetimelike_.test_indexing \n",
      "pandas.tests.indexes.datetimelike_.test_is_monotonic \n",
      "pandas.tests.indexes.datetimelike_.test_nat \n",
      "pandas.tests.indexes.datetimelike_.test_sort_values \n",
      "pandas.tests.indexes.datetimelike_.test_value_counts \n",
      "pandas.tests.indexes.datetimes \n",
      "pandas.tests.indexes.datetimes.methods \n",
      "pandas.tests.indexes.datetimes.methods.test_astype \n",
      "pandas.tests.indexes.datetimes.methods.test_factorize \n",
      "pandas.tests.indexes.datetimes.methods.test_fillna \n",
      "pandas.tests.indexes.datetimes.methods.test_insert \n",
      "pandas.tests.indexes.datetimes.methods.test_isocalendar \n",
      "pandas.tests.indexes.datetimes.methods.test_repeat \n",
      "pandas.tests.indexes.datetimes.methods.test_shift \n",
      "pandas.tests.indexes.datetimes.methods.test_snap \n",
      "pandas.tests.indexes.datetimes.methods.test_to_frame \n",
      "pandas.tests.indexes.datetimes.methods.test_to_period \n",
      "pandas.tests.indexes.datetimes.methods.test_to_series \n",
      "pandas.tests.indexes.datetimes.test_asof \n",
      "pandas.tests.indexes.datetimes.test_constructors \n",
      "pandas.tests.indexes.datetimes.test_date_range - test date_range, bdate_range construction from the convenience range functions\n",
      "pandas.tests.indexes.datetimes.test_datetime \n",
      "pandas.tests.indexes.datetimes.test_datetimelike - generic tests from the Datetimelike class\n",
      "pandas.tests.indexes.datetimes.test_delete \n",
      "pandas.tests.indexes.datetimes.test_formats \n",
      "pandas.tests.indexes.datetimes.test_freq_attr \n",
      "pandas.tests.indexes.datetimes.test_indexing \n",
      "pandas.tests.indexes.datetimes.test_join \n",
      "pandas.tests.indexes.datetimes.test_map \n",
      "pandas.tests.indexes.datetimes.test_misc \n",
      "pandas.tests.indexes.datetimes.test_npfuncs \n",
      "pandas.tests.indexes.datetimes.test_ops \n",
      "pandas.tests.indexes.datetimes.test_partial_slicing - test partial slicing on Series/Frame\n",
      "pandas.tests.indexes.datetimes.test_pickle \n",
      "pandas.tests.indexes.datetimes.test_reindex \n",
      "pandas.tests.indexes.datetimes.test_scalar_compat - Tests for DatetimeIndex methods behaving like their Timestamp counterparts\n",
      "pandas.tests.indexes.datetimes.test_setops \n",
      "pandas.tests.indexes.datetimes.test_timezones - Tests for DatetimeIndex timezone-related methods\n",
      "pandas.tests.indexes.datetimes.test_unique \n",
      "pandas.tests.indexes.period.methods.test_to_timestamp \n",
      "pandas.tests.indexes.timedeltas \n",
      "pandas.tests.indexes.timedeltas.methods \n",
      "pandas.tests.indexes.timedeltas.methods.test_astype \n",
      "pandas.tests.indexes.timedeltas.methods.test_factorize \n",
      "pandas.tests.indexes.timedeltas.methods.test_fillna \n",
      "pandas.tests.indexes.timedeltas.methods.test_insert \n",
      "pandas.tests.indexes.timedeltas.methods.test_repeat \n",
      "pandas.tests.indexes.timedeltas.methods.test_shift \n",
      "pandas.tests.indexes.timedeltas.test_constructors \n",
      "pandas.tests.indexes.timedeltas.test_delete \n",
      "pandas.tests.indexes.timedeltas.test_formats \n",
      "pandas.tests.indexes.timedeltas.test_freq_attr \n",
      "pandas.tests.indexes.timedeltas.test_indexing \n",
      "pandas.tests.indexes.timedeltas.test_join \n",
      "pandas.tests.indexes.timedeltas.test_ops \n",
      "pandas.tests.indexes.timedeltas.test_pickle \n",
      "pandas.tests.indexes.timedeltas.test_scalar_compat - Tests for TimedeltaIndex methods behaving like their Timedelta counterparts\n",
      "pandas.tests.indexes.timedeltas.test_searchsorted \n",
      "pandas.tests.indexes.timedeltas.test_setops \n",
      "pandas.tests.indexes.timedeltas.test_timedelta \n",
      "pandas.tests.indexes.timedeltas.test_timedelta_range \n",
      "pandas.tests.indexing.multiindex.test_datetime \n",
      "pandas.tests.indexing.test_datetime \n",
      "pandas.tests.plotting.test_datetimelike - Test cases for time series specific (freq conversion, etc)\n",
      "pandas.tests.resample.test_datetime_index \n",
      "pandas.tests.resample.test_time_grouper \n",
      "pandas.tests.resample.test_timedelta \n",
      "pandas.tests.reshape.concat.test_datetimes \n",
      "pandas.tests.scalar.timedelta \n",
      "pandas.tests.scalar.timedelta.test_arithmetic - Tests for scalar Timedelta arithmetic ops\n",
      "pandas.tests.scalar.timedelta.test_constructors \n",
      "pandas.tests.scalar.timedelta.test_formats \n",
      "pandas.tests.scalar.timedelta.test_timedelta - test the scalar Timedelta\n",
      "pandas.tests.scalar.timestamp \n",
      "pandas.tests.scalar.timestamp.test_arithmetic \n",
      "pandas.tests.scalar.timestamp.test_comparisons \n",
      "pandas.tests.scalar.timestamp.test_constructors \n",
      "pandas.tests.scalar.timestamp.test_formats \n",
      "pandas.tests.scalar.timestamp.test_rendering \n",
      "pandas.tests.scalar.timestamp.test_timestamp - test the scalar Timestamp\n",
      "pandas.tests.scalar.timestamp.test_timezones - Tests for Timestamp timezone-related methods\n",
      "pandas.tests.scalar.timestamp.test_unary_ops \n",
      "pandas.tests.series.indexing.test_datetime - Also test support for datetime64[ns] in Series / DataFrame\n"
     ]
    },
    {
     "name": "stdout",
     "output_type": "stream",
     "text": [
      "pandas.tests.tools.test_to_datetime - test to_datetime\n",
      "pandas.tests.tools.test_to_time \n",
      "pandas.tests.tools.test_to_timedelta \n",
      "pandas.tests.tseries.offsets.test_dst - Tests for DateOffset additions over Daylight Savings Time\n",
      "pandas.tests.tslibs.test_array_to_datetime \n",
      "pandas.tests.tslibs.test_parsing - Tests for Timestamp parsing, aimed at pandas/_libs/tslibs/parsing.pyx\n",
      "pandas.tests.tslibs.test_timedeltas \n",
      "pandas.tests.tslibs.test_timezones \n",
      "pandas.tseries.api - Timeseries API\n",
      "pandas_datareader.av.time_series \n",
      "pandas_datareader.tests.av.test_av_time_series \n",
      "pymysql.times \n",
      "qtpy.QtMultimedia - Provides low-level multimedia functionality.\n",
      "qtpy.QtMultimediaWidgets - Provides QtMultimediaWidgets classes and functions.\n",
      "qtpy.tests.test_qtmultimedia \n",
      "qtpy.tests.test_qtmultimediawidgets - Test QtMultimediaWidgets.\n",
      "scipy._lib.uarray - `uarray` provides functions for generating multimethods that dispatch to\n",
      "scipy.fft._fftlog_multimethods \n",
      "scipy.signal._lti_conversion - ltisys -- a collection of functions to convert linear time invariant systems\n",
      "selenium.webdriver.common.timeouts \n",
      "trio._timeouts \n",
      "trio.tests.test_timeouts \n",
      "urllib3.util.timeout \n",
      "timer \n",
      "win32timezone - win32timezone:\n",
      "pip._internal.utils.datetime - For when pip wants to check the date or time.\n",
      "pip._vendor.rich._timer - Timer context manager, only used in debug.\n",
      "pip._vendor.urllib3.util.timeout \n",
      "\n"
     ]
    }
   ],
   "source": [
    "help('modules time')"
   ]
  },
  {
   "cell_type": "code",
   "execution_count": 26,
   "id": "41c53d44",
   "metadata": {},
   "outputs": [
    {
     "name": "stdout",
     "output_type": "stream",
     "text": [
      "Help on module datetime:\n",
      "\n",
      "NAME\n",
      "    datetime - Fast implementation of the datetime type.\n",
      "\n",
      "MODULE REFERENCE\n",
      "    https://docs.python.org/3.10/library/datetime.html\n",
      "    \n",
      "    The following documentation is automatically generated from the Python\n",
      "    source files.  It may be incomplete, incorrect or include features that\n",
      "    are considered implementation detail and may vary between Python\n",
      "    implementations.  When in doubt, consult the module reference at the\n",
      "    location listed above.\n",
      "\n",
      "CLASSES\n",
      "    builtins.object\n",
      "        date\n",
      "            datetime\n",
      "        time\n",
      "        timedelta\n",
      "        tzinfo\n",
      "            timezone\n",
      "    \n",
      "    class date(builtins.object)\n",
      "     |  date(year, month, day) --> date object\n",
      "     |  \n",
      "     |  Methods defined here:\n",
      "     |  \n",
      "     |  __add__(self, value, /)\n",
      "     |      Return self+value.\n",
      "     |  \n",
      "     |  __eq__(self, value, /)\n",
      "     |      Return self==value.\n",
      "     |  \n",
      "     |  __format__(...)\n",
      "     |      Formats self with strftime.\n",
      "     |  \n",
      "     |  __ge__(self, value, /)\n",
      "     |      Return self>=value.\n",
      "     |  \n",
      "     |  __getattribute__(self, name, /)\n",
      "     |      Return getattr(self, name).\n",
      "     |  \n",
      "     |  __gt__(self, value, /)\n",
      "     |      Return self>value.\n",
      "     |  \n",
      "     |  __hash__(self, /)\n",
      "     |      Return hash(self).\n",
      "     |  \n",
      "     |  __le__(self, value, /)\n",
      "     |      Return self<=value.\n",
      "     |  \n",
      "     |  __lt__(self, value, /)\n",
      "     |      Return self<value.\n",
      "     |  \n",
      "     |  __ne__(self, value, /)\n",
      "     |      Return self!=value.\n",
      "     |  \n",
      "     |  __radd__(self, value, /)\n",
      "     |      Return value+self.\n",
      "     |  \n",
      "     |  __reduce__(...)\n",
      "     |      __reduce__() -> (cls, state)\n",
      "     |  \n",
      "     |  __repr__(self, /)\n",
      "     |      Return repr(self).\n",
      "     |  \n",
      "     |  __rsub__(self, value, /)\n",
      "     |      Return value-self.\n",
      "     |  \n",
      "     |  __str__(self, /)\n",
      "     |      Return str(self).\n",
      "     |  \n",
      "     |  __sub__(self, value, /)\n",
      "     |      Return self-value.\n",
      "     |  \n",
      "     |  ctime(...)\n",
      "     |      Return ctime() style string.\n",
      "     |  \n",
      "     |  isocalendar(...)\n",
      "     |      Return a named tuple containing ISO year, week number, and weekday.\n",
      "     |  \n",
      "     |  isoformat(...)\n",
      "     |      Return string in ISO 8601 format, YYYY-MM-DD.\n",
      "     |  \n",
      "     |  isoweekday(...)\n",
      "     |      Return the day of the week represented by the date.\n",
      "     |      Monday == 1 ... Sunday == 7\n",
      "     |  \n",
      "     |  replace(...)\n",
      "     |      Return date with new specified fields.\n",
      "     |  \n",
      "     |  strftime(...)\n",
      "     |      format -> strftime() style string.\n",
      "     |  \n",
      "     |  timetuple(...)\n",
      "     |      Return time tuple, compatible with time.localtime().\n",
      "     |  \n",
      "     |  toordinal(...)\n",
      "     |      Return proleptic Gregorian ordinal.  January 1 of year 1 is day 1.\n",
      "     |  \n",
      "     |  weekday(...)\n",
      "     |      Return the day of the week represented by the date.\n",
      "     |      Monday == 0 ... Sunday == 6\n",
      "     |  \n",
      "     |  ----------------------------------------------------------------------\n",
      "     |  Class methods defined here:\n",
      "     |  \n",
      "     |  fromisocalendar(...) from builtins.type\n",
      "     |      int, int, int -> Construct a date from the ISO year, week number and weekday.\n",
      "     |      \n",
      "     |      This is the inverse of the date.isocalendar() function\n",
      "     |  \n",
      "     |  fromisoformat(...) from builtins.type\n",
      "     |      str -> Construct a date from the output of date.isoformat()\n",
      "     |  \n",
      "     |  fromordinal(...) from builtins.type\n",
      "     |      int -> date corresponding to a proleptic Gregorian ordinal.\n",
      "     |  \n",
      "     |  fromtimestamp(timestamp, /) from builtins.type\n",
      "     |      Create a date from a POSIX timestamp.\n",
      "     |      \n",
      "     |      The timestamp is a number, e.g. created via time.time(), that is interpreted\n",
      "     |      as local time.\n",
      "     |  \n",
      "     |  today(...) from builtins.type\n",
      "     |      Current date or datetime:  same as self.__class__.fromtimestamp(time.time()).\n",
      "     |  \n",
      "     |  ----------------------------------------------------------------------\n",
      "     |  Static methods defined here:\n",
      "     |  \n",
      "     |  __new__(*args, **kwargs) from builtins.type\n",
      "     |      Create and return a new object.  See help(type) for accurate signature.\n",
      "     |  \n",
      "     |  ----------------------------------------------------------------------\n",
      "     |  Data descriptors defined here:\n",
      "     |  \n",
      "     |  day\n",
      "     |  \n",
      "     |  month\n",
      "     |  \n",
      "     |  year\n",
      "     |  \n",
      "     |  ----------------------------------------------------------------------\n",
      "     |  Data and other attributes defined here:\n",
      "     |  \n",
      "     |  max = datetime.date(9999, 12, 31)\n",
      "     |  \n",
      "     |  min = datetime.date(1, 1, 1)\n",
      "     |  \n",
      "     |  resolution = datetime.timedelta(days=1)\n",
      "    \n",
      "    class datetime(date)\n",
      "     |  datetime(year, month, day[, hour[, minute[, second[, microsecond[,tzinfo]]]]])\n",
      "     |  \n",
      "     |  The year, month and day arguments are required. tzinfo may be None, or an\n",
      "     |  instance of a tzinfo subclass. The remaining arguments may be ints.\n",
      "     |  \n",
      "     |  Method resolution order:\n",
      "     |      datetime\n",
      "     |      date\n",
      "     |      builtins.object\n",
      "     |  \n",
      "     |  Methods defined here:\n",
      "     |  \n",
      "     |  __add__(self, value, /)\n",
      "     |      Return self+value.\n",
      "     |  \n",
      "     |  __eq__(self, value, /)\n",
      "     |      Return self==value.\n",
      "     |  \n",
      "     |  __ge__(self, value, /)\n",
      "     |      Return self>=value.\n",
      "     |  \n",
      "     |  __getattribute__(self, name, /)\n",
      "     |      Return getattr(self, name).\n",
      "     |  \n",
      "     |  __gt__(self, value, /)\n",
      "     |      Return self>value.\n",
      "     |  \n",
      "     |  __hash__(self, /)\n",
      "     |      Return hash(self).\n",
      "     |  \n",
      "     |  __le__(self, value, /)\n",
      "     |      Return self<=value.\n",
      "     |  \n",
      "     |  __lt__(self, value, /)\n",
      "     |      Return self<value.\n",
      "     |  \n",
      "     |  __ne__(self, value, /)\n",
      "     |      Return self!=value.\n",
      "     |  \n",
      "     |  __radd__(self, value, /)\n",
      "     |      Return value+self.\n",
      "     |  \n",
      "     |  __reduce__(...)\n",
      "     |      __reduce__() -> (cls, state)\n",
      "     |  \n",
      "     |  __reduce_ex__(...)\n",
      "     |      __reduce_ex__(proto) -> (cls, state)\n",
      "     |  \n",
      "     |  __repr__(self, /)\n",
      "     |      Return repr(self).\n",
      "     |  \n",
      "     |  __rsub__(self, value, /)\n",
      "     |      Return value-self.\n",
      "     |  \n",
      "     |  __str__(self, /)\n",
      "     |      Return str(self).\n",
      "     |  \n",
      "     |  __sub__(self, value, /)\n",
      "     |      Return self-value.\n",
      "     |  \n",
      "     |  astimezone(...)\n",
      "     |      tz -> convert to local time in new timezone tz\n",
      "     |  \n",
      "     |  ctime(...)\n",
      "     |      Return ctime() style string.\n",
      "     |  \n",
      "     |  date(...)\n",
      "     |      Return date object with same year, month and day.\n",
      "     |  \n",
      "     |  dst(...)\n",
      "     |      Return self.tzinfo.dst(self).\n",
      "     |  \n",
      "     |  isoformat(...)\n",
      "     |      [sep] -> string in ISO 8601 format, YYYY-MM-DDT[HH[:MM[:SS[.mmm[uuu]]]]][+HH:MM].\n",
      "     |      sep is used to separate the year from the time, and defaults to 'T'.\n",
      "     |      The optional argument timespec specifies the number of additional terms\n",
      "     |      of the time to include. Valid options are 'auto', 'hours', 'minutes',\n",
      "     |      'seconds', 'milliseconds' and 'microseconds'.\n",
      "     |  \n",
      "     |  replace(...)\n",
      "     |      Return datetime with new specified fields.\n",
      "     |  \n",
      "     |  time(...)\n",
      "     |      Return time object with same time but with tzinfo=None.\n",
      "     |  \n",
      "     |  timestamp(...)\n",
      "     |      Return POSIX timestamp as float.\n",
      "     |  \n",
      "     |  timetuple(...)\n",
      "     |      Return time tuple, compatible with time.localtime().\n",
      "     |  \n",
      "     |  timetz(...)\n",
      "     |      Return time object with same time and tzinfo.\n",
      "     |  \n",
      "     |  tzname(...)\n",
      "     |      Return self.tzinfo.tzname(self).\n",
      "     |  \n",
      "     |  utcoffset(...)\n",
      "     |      Return self.tzinfo.utcoffset(self).\n",
      "     |  \n",
      "     |  utctimetuple(...)\n",
      "     |      Return UTC time tuple, compatible with time.localtime().\n",
      "     |  \n",
      "     |  ----------------------------------------------------------------------\n",
      "     |  Class methods defined here:\n",
      "     |  \n",
      "     |  combine(...) from builtins.type\n",
      "     |      date, time -> datetime with same date and time fields\n",
      "     |  \n",
      "     |  fromisoformat(...) from builtins.type\n",
      "     |      string -> datetime from datetime.isoformat() output\n",
      "     |  \n",
      "     |  fromtimestamp(...) from builtins.type\n",
      "     |      timestamp[, tz] -> tz's local time from POSIX timestamp.\n",
      "     |  \n",
      "     |  now(tz=None) from builtins.type\n",
      "     |      Returns new datetime object representing current time local to tz.\n",
      "     |      \n",
      "     |        tz\n",
      "     |          Timezone object.\n",
      "     |      \n",
      "     |      If no tz is specified, uses local timezone.\n",
      "     |  \n",
      "     |  strptime(...) from builtins.type\n",
      "     |      string, format -> new datetime parsed from a string (like time.strptime()).\n",
      "     |  \n",
      "     |  utcfromtimestamp(...) from builtins.type\n",
      "     |      Construct a naive UTC datetime from a POSIX timestamp.\n",
      "     |  \n",
      "     |  utcnow(...) from builtins.type\n",
      "     |      Return a new datetime representing UTC day and time.\n",
      "     |  \n",
      "     |  ----------------------------------------------------------------------\n",
      "     |  Static methods defined here:\n",
      "     |  \n",
      "     |  __new__(*args, **kwargs) from builtins.type\n",
      "     |      Create and return a new object.  See help(type) for accurate signature.\n",
      "     |  \n",
      "     |  ----------------------------------------------------------------------\n",
      "     |  Data descriptors defined here:\n",
      "     |  \n",
      "     |  fold\n",
      "     |  \n",
      "     |  hour\n",
      "     |  \n",
      "     |  microsecond\n",
      "     |  \n",
      "     |  minute\n",
      "     |  \n",
      "     |  second\n",
      "     |  \n",
      "     |  tzinfo\n",
      "     |  \n",
      "     |  ----------------------------------------------------------------------\n",
      "     |  Data and other attributes defined here:\n",
      "     |  \n",
      "     |  max = datetime.datetime(9999, 12, 31, 23, 59, 59, 999999)\n",
      "     |  \n",
      "     |  min = datetime.datetime(1, 1, 1, 0, 0)\n",
      "     |  \n",
      "     |  resolution = datetime.timedelta(microseconds=1)\n",
      "     |  \n",
      "     |  ----------------------------------------------------------------------\n",
      "     |  Methods inherited from date:\n",
      "     |  \n",
      "     |  __format__(...)\n",
      "     |      Formats self with strftime.\n",
      "     |  \n",
      "     |  isocalendar(...)\n",
      "     |      Return a named tuple containing ISO year, week number, and weekday.\n",
      "     |  \n",
      "     |  isoweekday(...)\n",
      "     |      Return the day of the week represented by the date.\n",
      "     |      Monday == 1 ... Sunday == 7\n",
      "     |  \n",
      "     |  strftime(...)\n",
      "     |      format -> strftime() style string.\n",
      "     |  \n",
      "     |  toordinal(...)\n",
      "     |      Return proleptic Gregorian ordinal.  January 1 of year 1 is day 1.\n",
      "     |  \n",
      "     |  weekday(...)\n",
      "     |      Return the day of the week represented by the date.\n",
      "     |      Monday == 0 ... Sunday == 6\n",
      "     |  \n",
      "     |  ----------------------------------------------------------------------\n",
      "     |  Class methods inherited from date:\n",
      "     |  \n",
      "     |  fromisocalendar(...) from builtins.type\n",
      "     |      int, int, int -> Construct a date from the ISO year, week number and weekday.\n",
      "     |      \n",
      "     |      This is the inverse of the date.isocalendar() function\n",
      "     |  \n",
      "     |  fromordinal(...) from builtins.type\n",
      "     |      int -> date corresponding to a proleptic Gregorian ordinal.\n",
      "     |  \n",
      "     |  today(...) from builtins.type\n",
      "     |      Current date or datetime:  same as self.__class__.fromtimestamp(time.time()).\n",
      "     |  \n",
      "     |  ----------------------------------------------------------------------\n",
      "     |  Data descriptors inherited from date:\n",
      "     |  \n",
      "     |  day\n",
      "     |  \n",
      "     |  month\n",
      "     |  \n",
      "     |  year\n",
      "    \n",
      "    class time(builtins.object)\n",
      "     |  time([hour[, minute[, second[, microsecond[, tzinfo]]]]]) --> a time object\n",
      "     |  \n",
      "     |  All arguments are optional. tzinfo may be None, or an instance of\n",
      "     |  a tzinfo subclass. The remaining arguments may be ints.\n",
      "     |  \n",
      "     |  Methods defined here:\n",
      "     |  \n",
      "     |  __eq__(self, value, /)\n",
      "     |      Return self==value.\n",
      "     |  \n",
      "     |  __format__(...)\n",
      "     |      Formats self with strftime.\n",
      "     |  \n",
      "     |  __ge__(self, value, /)\n",
      "     |      Return self>=value.\n",
      "     |  \n",
      "     |  __getattribute__(self, name, /)\n",
      "     |      Return getattr(self, name).\n",
      "     |  \n",
      "     |  __gt__(self, value, /)\n",
      "     |      Return self>value.\n",
      "     |  \n",
      "     |  __hash__(self, /)\n",
      "     |      Return hash(self).\n",
      "     |  \n",
      "     |  __le__(self, value, /)\n",
      "     |      Return self<=value.\n",
      "     |  \n",
      "     |  __lt__(self, value, /)\n",
      "     |      Return self<value.\n",
      "     |  \n",
      "     |  __ne__(self, value, /)\n",
      "     |      Return self!=value.\n",
      "     |  \n",
      "     |  __reduce__(...)\n",
      "     |      __reduce__() -> (cls, state)\n",
      "     |  \n",
      "     |  __reduce_ex__(...)\n",
      "     |      __reduce_ex__(proto) -> (cls, state)\n",
      "     |  \n",
      "     |  __repr__(self, /)\n",
      "     |      Return repr(self).\n",
      "     |  \n",
      "     |  __str__(self, /)\n",
      "     |      Return str(self).\n",
      "     |  \n",
      "     |  dst(...)\n",
      "     |      Return self.tzinfo.dst(self).\n",
      "     |  \n",
      "     |  isoformat(...)\n",
      "     |      Return string in ISO 8601 format, [HH[:MM[:SS[.mmm[uuu]]]]][+HH:MM].\n",
      "     |      \n",
      "     |      The optional argument timespec specifies the number of additional terms\n",
      "     |      of the time to include. Valid options are 'auto', 'hours', 'minutes',\n",
      "     |      'seconds', 'milliseconds' and 'microseconds'.\n",
      "     |  \n",
      "     |  replace(...)\n",
      "     |      Return time with new specified fields.\n",
      "     |  \n",
      "     |  strftime(...)\n",
      "     |      format -> strftime() style string.\n",
      "     |  \n",
      "     |  tzname(...)\n",
      "     |      Return self.tzinfo.tzname(self).\n",
      "     |  \n",
      "     |  utcoffset(...)\n",
      "     |      Return self.tzinfo.utcoffset(self).\n",
      "     |  \n",
      "     |  ----------------------------------------------------------------------\n",
      "     |  Class methods defined here:\n",
      "     |  \n",
      "     |  fromisoformat(...) from builtins.type\n",
      "     |      string -> time from time.isoformat() output\n",
      "     |  \n",
      "     |  ----------------------------------------------------------------------\n",
      "     |  Static methods defined here:\n",
      "     |  \n",
      "     |  __new__(*args, **kwargs) from builtins.type\n",
      "     |      Create and return a new object.  See help(type) for accurate signature.\n",
      "     |  \n",
      "     |  ----------------------------------------------------------------------\n",
      "     |  Data descriptors defined here:\n",
      "     |  \n",
      "     |  fold\n",
      "     |  \n",
      "     |  hour\n",
      "     |  \n",
      "     |  microsecond\n",
      "     |  \n",
      "     |  minute\n",
      "     |  \n",
      "     |  second\n",
      "     |  \n",
      "     |  tzinfo\n",
      "     |  \n",
      "     |  ----------------------------------------------------------------------\n",
      "     |  Data and other attributes defined here:\n",
      "     |  \n",
      "     |  max = datetime.time(23, 59, 59, 999999)\n",
      "     |  \n",
      "     |  min = datetime.time(0, 0)\n",
      "     |  \n",
      "     |  resolution = datetime.timedelta(microseconds=1)\n",
      "    \n",
      "    class timedelta(builtins.object)\n",
      "     |  Difference between two datetime values.\n",
      "     |  \n",
      "     |  timedelta(days=0, seconds=0, microseconds=0, milliseconds=0, minutes=0, hours=0, weeks=0)\n",
      "     |  \n",
      "     |  All arguments are optional and default to 0.\n",
      "     |  Arguments may be integers or floats, and may be positive or negative.\n",
      "     |  \n",
      "     |  Methods defined here:\n",
      "     |  \n",
      "     |  __abs__(self, /)\n",
      "     |      abs(self)\n",
      "     |  \n",
      "     |  __add__(self, value, /)\n",
      "     |      Return self+value.\n",
      "     |  \n",
      "     |  __bool__(self, /)\n",
      "     |      True if self else False\n",
      "     |  \n",
      "     |  __divmod__(self, value, /)\n",
      "     |      Return divmod(self, value).\n",
      "     |  \n",
      "     |  __eq__(self, value, /)\n",
      "     |      Return self==value.\n",
      "     |  \n",
      "     |  __floordiv__(self, value, /)\n",
      "     |      Return self//value.\n",
      "     |  \n",
      "     |  __ge__(self, value, /)\n",
      "     |      Return self>=value.\n",
      "     |  \n",
      "     |  __getattribute__(self, name, /)\n",
      "     |      Return getattr(self, name).\n",
      "     |  \n",
      "     |  __gt__(self, value, /)\n",
      "     |      Return self>value.\n",
      "     |  \n",
      "     |  __hash__(self, /)\n",
      "     |      Return hash(self).\n",
      "     |  \n",
      "     |  __le__(self, value, /)\n",
      "     |      Return self<=value.\n",
      "     |  \n",
      "     |  __lt__(self, value, /)\n",
      "     |      Return self<value.\n",
      "     |  \n",
      "     |  __mod__(self, value, /)\n",
      "     |      Return self%value.\n",
      "     |  \n",
      "     |  __mul__(self, value, /)\n",
      "     |      Return self*value.\n",
      "     |  \n",
      "     |  __ne__(self, value, /)\n",
      "     |      Return self!=value.\n",
      "     |  \n",
      "     |  __neg__(self, /)\n",
      "     |      -self\n",
      "     |  \n",
      "     |  __pos__(self, /)\n",
      "     |      +self\n",
      "     |  \n",
      "     |  __radd__(self, value, /)\n",
      "     |      Return value+self.\n",
      "     |  \n",
      "     |  __rdivmod__(self, value, /)\n",
      "     |      Return divmod(value, self).\n",
      "     |  \n",
      "     |  __reduce__(...)\n",
      "     |      __reduce__() -> (cls, state)\n",
      "     |  \n",
      "     |  __repr__(self, /)\n",
      "     |      Return repr(self).\n",
      "     |  \n",
      "     |  __rfloordiv__(self, value, /)\n",
      "     |      Return value//self.\n",
      "     |  \n",
      "     |  __rmod__(self, value, /)\n",
      "     |      Return value%self.\n",
      "     |  \n",
      "     |  __rmul__(self, value, /)\n",
      "     |      Return value*self.\n",
      "     |  \n",
      "     |  __rsub__(self, value, /)\n",
      "     |      Return value-self.\n",
      "     |  \n",
      "     |  __rtruediv__(self, value, /)\n",
      "     |      Return value/self.\n",
      "     |  \n",
      "     |  __str__(self, /)\n",
      "     |      Return str(self).\n",
      "     |  \n",
      "     |  __sub__(self, value, /)\n",
      "     |      Return self-value.\n",
      "     |  \n",
      "     |  __truediv__(self, value, /)\n",
      "     |      Return self/value.\n",
      "     |  \n",
      "     |  total_seconds(...)\n",
      "     |      Total seconds in the duration.\n",
      "     |  \n",
      "     |  ----------------------------------------------------------------------\n",
      "     |  Static methods defined here:\n",
      "     |  \n",
      "     |  __new__(*args, **kwargs) from builtins.type\n",
      "     |      Create and return a new object.  See help(type) for accurate signature.\n",
      "     |  \n",
      "     |  ----------------------------------------------------------------------\n",
      "     |  Data descriptors defined here:\n",
      "     |  \n",
      "     |  days\n",
      "     |      Number of days.\n",
      "     |  \n",
      "     |  microseconds\n",
      "     |      Number of microseconds (>= 0 and less than 1 second).\n",
      "     |  \n",
      "     |  seconds\n",
      "     |      Number of seconds (>= 0 and less than 1 day).\n",
      "     |  \n",
      "     |  ----------------------------------------------------------------------\n",
      "     |  Data and other attributes defined here:\n",
      "     |  \n",
      "     |  max = datetime.timedelta(days=999999999, seconds=86399, microseconds=9...\n",
      "     |  \n",
      "     |  min = datetime.timedelta(days=-999999999)\n",
      "     |  \n",
      "     |  resolution = datetime.timedelta(microseconds=1)\n",
      "    \n",
      "    class timezone(tzinfo)\n",
      "     |  Fixed offset from UTC implementation of tzinfo.\n",
      "     |  \n",
      "     |  Method resolution order:\n",
      "     |      timezone\n",
      "     |      tzinfo\n",
      "     |      builtins.object\n",
      "     |  \n",
      "     |  Methods defined here:\n",
      "     |  \n",
      "     |  __eq__(self, value, /)\n",
      "     |      Return self==value.\n",
      "     |  \n",
      "     |  __ge__(self, value, /)\n",
      "     |      Return self>=value.\n",
      "     |  \n",
      "     |  __getinitargs__(...)\n",
      "     |      pickle support\n",
      "     |  \n",
      "     |  __gt__(self, value, /)\n",
      "     |      Return self>value.\n",
      "     |  \n",
      "     |  __hash__(self, /)\n",
      "     |      Return hash(self).\n",
      "     |  \n",
      "     |  __le__(self, value, /)\n",
      "     |      Return self<=value.\n",
      "     |  \n",
      "     |  __lt__(self, value, /)\n",
      "     |      Return self<value.\n",
      "     |  \n",
      "     |  __ne__(self, value, /)\n",
      "     |      Return self!=value.\n",
      "     |  \n",
      "     |  __repr__(self, /)\n",
      "     |      Return repr(self).\n",
      "     |  \n",
      "     |  __str__(self, /)\n",
      "     |      Return str(self).\n",
      "     |  \n",
      "     |  dst(...)\n",
      "     |      Return None.\n",
      "     |  \n",
      "     |  fromutc(...)\n",
      "     |      datetime in UTC -> datetime in local time.\n",
      "     |  \n",
      "     |  tzname(...)\n",
      "     |      If name is specified when timezone is created, returns the name.  Otherwise returns offset as 'UTC(+|-)HH:MM'.\n",
      "     |  \n",
      "     |  utcoffset(...)\n",
      "     |      Return fixed offset.\n",
      "     |  \n",
      "     |  ----------------------------------------------------------------------\n",
      "     |  Static methods defined here:\n",
      "     |  \n",
      "     |  __new__(*args, **kwargs) from builtins.type\n",
      "     |      Create and return a new object.  See help(type) for accurate signature.\n",
      "     |  \n",
      "     |  ----------------------------------------------------------------------\n",
      "     |  Data and other attributes defined here:\n",
      "     |  \n",
      "     |  max = datetime.timezone(datetime.timedelta(seconds=86340))\n",
      "     |  \n",
      "     |  min = datetime.timezone(datetime.timedelta(days=-1, seconds=60))\n",
      "     |  \n",
      "     |  utc = datetime.timezone.utc\n",
      "     |  \n",
      "     |  ----------------------------------------------------------------------\n",
      "     |  Methods inherited from tzinfo:\n",
      "     |  \n",
      "     |  __getattribute__(self, name, /)\n",
      "     |      Return getattr(self, name).\n",
      "     |  \n",
      "     |  __reduce__(...)\n",
      "     |      -> (cls, state)\n",
      "    \n",
      "    class tzinfo(builtins.object)\n",
      "     |  Abstract base class for time zone info objects.\n",
      "     |  \n",
      "     |  Methods defined here:\n",
      "     |  \n",
      "     |  __getattribute__(self, name, /)\n",
      "     |      Return getattr(self, name).\n",
      "     |  \n",
      "     |  __reduce__(...)\n",
      "     |      -> (cls, state)\n",
      "     |  \n",
      "     |  dst(...)\n",
      "     |      datetime -> DST offset as timedelta positive east of UTC.\n",
      "     |  \n",
      "     |  fromutc(...)\n",
      "     |      datetime in UTC -> datetime in local time.\n",
      "     |  \n",
      "     |  tzname(...)\n",
      "     |      datetime -> string name of time zone.\n",
      "     |  \n",
      "     |  utcoffset(...)\n",
      "     |      datetime -> timedelta showing offset from UTC, negative values indicating West of UTC\n",
      "     |  \n",
      "     |  ----------------------------------------------------------------------\n",
      "     |  Static methods defined here:\n",
      "     |  \n",
      "     |  __new__(*args, **kwargs) from builtins.type\n",
      "     |      Create and return a new object.  See help(type) for accurate signature.\n",
      "\n",
      "DATA\n",
      "    MAXYEAR = 9999\n",
      "    MINYEAR = 1\n",
      "    __all__ = ('date', 'datetime', 'time', 'timedelta', 'timezone', 'tzinf...\n",
      "\n",
      "FILE\n",
      "    c:\\program files\\windowsapps\\pythonsoftwarefoundation.python.3.10_3.10.2032.0_x64__qbz5n2kfra8p0\\lib\\datetime.py\n",
      "\n",
      "\n"
     ]
    }
   ],
   "source": [
    "help('datetime')"
   ]
  },
  {
   "cell_type": "code",
   "execution_count": 27,
   "id": "65838fce",
   "metadata": {},
   "outputs": [],
   "source": [
    "import keyword"
   ]
  },
  {
   "cell_type": "code",
   "execution_count": 28,
   "id": "9d45bbf6",
   "metadata": {},
   "outputs": [
    {
     "data": {
      "text/plain": [
       "['False',\n",
       " 'None',\n",
       " 'True',\n",
       " 'and',\n",
       " 'as',\n",
       " 'assert',\n",
       " 'async',\n",
       " 'await',\n",
       " 'break',\n",
       " 'class',\n",
       " 'continue',\n",
       " 'def',\n",
       " 'del',\n",
       " 'elif',\n",
       " 'else',\n",
       " 'except',\n",
       " 'finally',\n",
       " 'for',\n",
       " 'from',\n",
       " 'global',\n",
       " 'if',\n",
       " 'import',\n",
       " 'in',\n",
       " 'is',\n",
       " 'lambda',\n",
       " 'nonlocal',\n",
       " 'not',\n",
       " 'or',\n",
       " 'pass',\n",
       " 'raise',\n",
       " 'return',\n",
       " 'try',\n",
       " 'while',\n",
       " 'with',\n",
       " 'yield']"
      ]
     },
     "execution_count": 28,
     "metadata": {},
     "output_type": "execute_result"
    }
   ],
   "source": [
    "keyword.kwlist"
   ]
  },
  {
   "cell_type": "code",
   "execution_count": 29,
   "id": "31184d9a",
   "metadata": {},
   "outputs": [
    {
     "data": {
      "text/plain": [
       "'C:\\\\Program Files\\\\WindowsApps\\\\PythonSoftwareFoundation.Python.3.10_3.10.2032.0_x64__qbz5n2kfra8p0\\\\lib\\\\keyword.py'"
      ]
     },
     "execution_count": 29,
     "metadata": {},
     "output_type": "execute_result"
    }
   ],
   "source": [
    "keyword.__file__"
   ]
  },
  {
   "cell_type": "code",
   "execution_count": 32,
   "id": "79c368f1",
   "metadata": {},
   "outputs": [
    {
     "name": "stdout",
     "output_type": "stream",
     "text": [
      "   September 2022\n",
      "Mo Tu We Th Fr Sa Su\n",
      "          1  2  3  4\n",
      " 5  6  7  8  9 10 11\n",
      "12 13 14 15 16 17 18\n",
      "19 20 21 22 23 24 25\n",
      "26 27 28 29 30\n",
      "\n"
     ]
    }
   ],
   "source": [
    "from calendar import month\n",
    "print( month( 2022,9 ))"
   ]
  },
  {
   "cell_type": "code",
   "execution_count": 33,
   "id": "87174662",
   "metadata": {},
   "outputs": [
    {
     "data": {
      "text/plain": [
       "module"
      ]
     },
     "execution_count": 33,
     "metadata": {},
     "output_type": "execute_result"
    }
   ],
   "source": [
    "import urllib.request\n",
    "type( urllib.request)"
   ]
  },
  {
   "cell_type": "code",
   "execution_count": 34,
   "id": "3750e482",
   "metadata": {},
   "outputs": [
    {
     "data": {
      "text/plain": [
       "['C:\\\\Program Files\\\\WindowsApps\\\\PythonSoftwareFoundation.Python.3.10_3.10.2032.0_x64__qbz5n2kfra8p0\\\\lib\\\\urllib']"
      ]
     },
     "execution_count": 34,
     "metadata": {},
     "output_type": "execute_result"
    }
   ],
   "source": [
    "urllib.__path__"
   ]
  },
  {
   "cell_type": "code",
   "execution_count": 35,
   "id": "e6cf1230",
   "metadata": {},
   "outputs": [
    {
     "data": {
      "text/plain": [
       "'urllib'"
      ]
     },
     "execution_count": 35,
     "metadata": {},
     "output_type": "execute_result"
    }
   ],
   "source": [
    "urllib.__package__"
   ]
  },
  {
   "cell_type": "markdown",
   "id": "0297d958",
   "metadata": {},
   "source": [
    "### 객체지향 프로그래밍"
   ]
  },
  {
   "cell_type": "markdown",
   "id": "f231d41c",
   "metadata": {},
   "source": [
    "#### 상속"
   ]
  },
  {
   "cell_type": "code",
   "execution_count": 42,
   "id": "5dd6ca2a",
   "metadata": {},
   "outputs": [],
   "source": [
    "class A:\n",
    "    def methodA( self ):\n",
    "        print('call A method A')\n",
    "    def method( self ):\n",
    "        print('call A method')\n",
    "\n",
    "class B:\n",
    "    def methodB( self ):\n",
    "        print('call B method B')\n",
    "\n",
    "class C(A,B):\n",
    "    def methodC( self ):\n",
    "        print('call C method C')\n",
    "    def method( self):\n",
    "        print('call Cs override method')\n",
    "        super().method()"
   ]
  },
  {
   "cell_type": "code",
   "execution_count": 45,
   "id": "38f35bda",
   "metadata": {},
   "outputs": [
    {
     "name": "stdout",
     "output_type": "stream",
     "text": [
      "call Cs override method\n",
      "call A method\n"
     ]
    }
   ],
   "source": [
    "a_inst = C()\n",
    "a_inst.method()"
   ]
  },
  {
   "cell_type": "markdown",
   "id": "320fea65",
   "metadata": {},
   "source": [
    "#### Class method __init__ __del__ "
   ]
  },
  {
   "cell_type": "code",
   "execution_count": 52,
   "id": "3130616d",
   "metadata": {},
   "outputs": [],
   "source": [
    "class NasdaqStock:\n",
    "    \"\"\"class for NasdaqStock\"\"\"\n",
    "    count = 0\n",
    "    def __init__(self, symbol, price):\n",
    "        \"\"\"Constructor for NasdaqStock\"\"\" \n",
    "        self.price = price\n",
    "        self.symbol = symbol\n",
    "        NasdaqStock.count += 1\n",
    "        print('calling ___init__( {},{:.2f}) > count: {}'.format( self.symbol, self.price, NasdaqStock.count))\n",
    "    def __del__(self):\n",
    "        \"\"\"Destructor for NasdaqStock\"\"\"\n",
    "        print('calling __del__({})'.format(self))"
   ]
  },
  {
   "cell_type": "code",
   "execution_count": 53,
   "id": "753533e5",
   "metadata": {},
   "outputs": [
    {
     "name": "stdout",
     "output_type": "stream",
     "text": [
      "calling ___init__( GOOG,1154.05) > count: 1\n"
     ]
    }
   ],
   "source": [
    "gg = NasdaqStock('GOOG',1154.05)"
   ]
  },
  {
   "cell_type": "code",
   "execution_count": 54,
   "id": "8e6ae7ef",
   "metadata": {},
   "outputs": [
    {
     "name": "stdout",
     "output_type": "stream",
     "text": [
      "calling __del__(<__main__.NasdaqStock object at 0x000002264DF912A0>)\n"
     ]
    }
   ],
   "source": [
    "del(gg)"
   ]
  },
  {
   "cell_type": "markdown",
   "id": "2ffdf9e9",
   "metadata": {},
   "source": [
    "### numpy"
   ]
  },
  {
   "cell_type": "code",
   "execution_count": 55,
   "id": "b6f2bbcd",
   "metadata": {},
   "outputs": [],
   "source": [
    "import numpy as np \n",
    "\n",
    "a = np.random.randint( 2,12,(2,2))"
   ]
  },
  {
   "cell_type": "code",
   "execution_count": 56,
   "id": "6cbb766d",
   "metadata": {},
   "outputs": [
    {
     "data": {
      "text/plain": [
       "array([[ 4, 11],\n",
       "       [ 4, 10]])"
      ]
     },
     "execution_count": 56,
     "metadata": {},
     "output_type": "execute_result"
    }
   ],
   "source": [
    "a"
   ]
  },
  {
   "cell_type": "code",
   "execution_count": 58,
   "id": "e0ccf354",
   "metadata": {},
   "outputs": [
    {
     "data": {
      "text/plain": [
       "array([[ 4,  4],\n",
       "       [11, 10]])"
      ]
     },
     "execution_count": 58,
     "metadata": {},
     "output_type": "execute_result"
    }
   ],
   "source": [
    "c = a.T\n",
    "c"
   ]
  },
  {
   "cell_type": "code",
   "execution_count": 60,
   "id": "4409b133",
   "metadata": {},
   "outputs": [
    {
     "data": {
      "text/plain": [
       "array([ 4, 11,  4, 10])"
      ]
     },
     "execution_count": 60,
     "metadata": {},
     "output_type": "execute_result"
    }
   ],
   "source": [
    "c1 = a.flatten()\n",
    "c1"
   ]
  },
  {
   "cell_type": "code",
   "execution_count": 68,
   "id": "21d4d37d",
   "metadata": {},
   "outputs": [
    {
     "data": {
      "text/plain": [
       "array([[ 4, 11],\n",
       "       [ 4, 10]])"
      ]
     },
     "execution_count": 68,
     "metadata": {},
     "output_type": "execute_result"
    }
   ],
   "source": [
    "a1 = a[0]\n",
    "b1 = a[1]\n",
    "c = np.vstack([a1, b1])\n",
    "c"
   ]
  },
  {
   "cell_type": "code",
   "execution_count": 69,
   "id": "217dbba5",
   "metadata": {},
   "outputs": [
    {
     "data": {
      "text/plain": [
       "array([ 4, 11,  4, 10])"
      ]
     },
     "execution_count": 69,
     "metadata": {},
     "output_type": "execute_result"
    }
   ],
   "source": [
    "c2 = np.hstack( [a[0], a[1]])\n",
    "c2"
   ]
  },
  {
   "cell_type": "code",
   "execution_count": 72,
   "id": "55c44cf6",
   "metadata": {},
   "outputs": [
    {
     "data": {
      "text/plain": [
       "0     4\n",
       "1    11\n",
       "2     4\n",
       "3    10\n",
       "dtype: int32"
      ]
     },
     "execution_count": 72,
     "metadata": {},
     "output_type": "execute_result"
    }
   ],
   "source": [
    "from pandas import Series \n",
    "s = Series(c2)\n",
    "s"
   ]
  },
  {
   "cell_type": "code",
   "execution_count": 73,
   "id": "7cee07b2",
   "metadata": {},
   "outputs": [
    {
     "data": {
      "text/plain": [
       "10"
      ]
     },
     "execution_count": 73,
     "metadata": {},
     "output_type": "execute_result"
    }
   ],
   "source": [
    "s.iloc[-1]"
   ]
  },
  {
   "cell_type": "code",
   "execution_count": 74,
   "id": "1cf77308",
   "metadata": {},
   "outputs": [
    {
     "data": {
      "text/plain": [
       "array([ 4, 11,  4, 10])"
      ]
     },
     "execution_count": 74,
     "metadata": {},
     "output_type": "execute_result"
    }
   ],
   "source": [
    "s.values[:]"
   ]
  },
  {
   "cell_type": "code",
   "execution_count": 75,
   "id": "e525b1f3",
   "metadata": {},
   "outputs": [
    {
     "data": {
      "text/plain": [
       "count     4.000000\n",
       "mean      7.250000\n",
       "std       3.774917\n",
       "min       4.000000\n",
       "25%       4.000000\n",
       "50%       7.000000\n",
       "75%      10.250000\n",
       "max      11.000000\n",
       "dtype: float64"
      ]
     },
     "execution_count": 75,
     "metadata": {},
     "output_type": "execute_result"
    }
   ],
   "source": [
    "s.describe()"
   ]
  },
  {
   "cell_type": "code",
   "execution_count": 79,
   "id": "4cbe6fe2",
   "metadata": {},
   "outputs": [
    {
     "data": {
      "text/html": [
       "<div>\n",
       "<style scoped>\n",
       "    .dataframe tbody tr th:only-of-type {\n",
       "        vertical-align: middle;\n",
       "    }\n",
       "\n",
       "    .dataframe tbody tr th {\n",
       "        vertical-align: top;\n",
       "    }\n",
       "\n",
       "    .dataframe thead th {\n",
       "        text-align: right;\n",
       "    }\n",
       "</style>\n",
       "<table border=\"1\" class=\"dataframe\">\n",
       "  <thead>\n",
       "    <tr style=\"text-align: right;\">\n",
       "      <th></th>\n",
       "      <th>count</th>\n",
       "    </tr>\n",
       "  </thead>\n",
       "  <tbody>\n",
       "    <tr>\n",
       "      <th>0</th>\n",
       "      <td>4</td>\n",
       "    </tr>\n",
       "    <tr>\n",
       "      <th>1</th>\n",
       "      <td>11</td>\n",
       "    </tr>\n",
       "    <tr>\n",
       "      <th>2</th>\n",
       "      <td>4</td>\n",
       "    </tr>\n",
       "    <tr>\n",
       "      <th>3</th>\n",
       "      <td>10</td>\n",
       "    </tr>\n",
       "  </tbody>\n",
       "</table>\n",
       "</div>"
      ],
      "text/plain": [
       "   count\n",
       "0      4\n",
       "1     11\n",
       "2      4\n",
       "3     10"
      ]
     },
     "execution_count": 79,
     "metadata": {},
     "output_type": "execute_result"
    }
   ],
   "source": [
    "import pandas as pd\n",
    "df = pd.DataFrame()\n",
    "df['count'] = s\n",
    "df"
   ]
  },
  {
   "cell_type": "code",
   "execution_count": 81,
   "id": "0bf706fe",
   "metadata": {},
   "outputs": [
    {
     "data": {
      "text/html": [
       "<div>\n",
       "<style scoped>\n",
       "    .dataframe tbody tr th:only-of-type {\n",
       "        vertical-align: middle;\n",
       "    }\n",
       "\n",
       "    .dataframe tbody tr th {\n",
       "        vertical-align: top;\n",
       "    }\n",
       "\n",
       "    .dataframe thead th {\n",
       "        text-align: right;\n",
       "    }\n",
       "</style>\n",
       "<table border=\"1\" class=\"dataframe\">\n",
       "  <thead>\n",
       "    <tr style=\"text-align: right;\">\n",
       "      <th></th>\n",
       "      <th>count</th>\n",
       "      <th>종목명</th>\n",
       "    </tr>\n",
       "  </thead>\n",
       "  <tbody>\n",
       "    <tr>\n",
       "      <th>0</th>\n",
       "      <td>4</td>\n",
       "      <td>삼성전자</td>\n",
       "    </tr>\n",
       "    <tr>\n",
       "      <th>1</th>\n",
       "      <td>11</td>\n",
       "      <td>POSCO</td>\n",
       "    </tr>\n",
       "    <tr>\n",
       "      <th>2</th>\n",
       "      <td>4</td>\n",
       "      <td>케이티</td>\n",
       "    </tr>\n",
       "    <tr>\n",
       "      <th>3</th>\n",
       "      <td>10</td>\n",
       "      <td>LG전자</td>\n",
       "    </tr>\n",
       "  </tbody>\n",
       "</table>\n",
       "</div>"
      ],
      "text/plain": [
       "   count    종목명\n",
       "0      4   삼성전자\n",
       "1     11  POSCO\n",
       "2      4    케이티\n",
       "3     10   LG전자"
      ]
     },
     "execution_count": 81,
     "metadata": {},
     "output_type": "execute_result"
    }
   ],
   "source": [
    "df['종목명'] =['삼성전자','POSCO','케이티','LG전자']\n",
    "df"
   ]
  },
  {
   "cell_type": "code",
   "execution_count": 83,
   "id": "5ce23419",
   "metadata": {},
   "outputs": [
    {
     "data": {
      "text/html": [
       "<div>\n",
       "<style scoped>\n",
       "    .dataframe tbody tr th:only-of-type {\n",
       "        vertical-align: middle;\n",
       "    }\n",
       "\n",
       "    .dataframe tbody tr th {\n",
       "        vertical-align: top;\n",
       "    }\n",
       "\n",
       "    .dataframe thead th {\n",
       "        text-align: right;\n",
       "    }\n",
       "</style>\n",
       "<table border=\"1\" class=\"dataframe\">\n",
       "  <thead>\n",
       "    <tr style=\"text-align: right;\">\n",
       "      <th></th>\n",
       "      <th>count</th>\n",
       "      <th>종목명</th>\n",
       "      <th>주가</th>\n",
       "    </tr>\n",
       "  </thead>\n",
       "  <tbody>\n",
       "    <tr>\n",
       "      <th>0</th>\n",
       "      <td>4</td>\n",
       "      <td>삼성전자</td>\n",
       "      <td>56000</td>\n",
       "    </tr>\n",
       "    <tr>\n",
       "      <th>1</th>\n",
       "      <td>11</td>\n",
       "      <td>POSCO</td>\n",
       "      <td>240000</td>\n",
       "    </tr>\n",
       "    <tr>\n",
       "      <th>2</th>\n",
       "      <td>4</td>\n",
       "      <td>케이티</td>\n",
       "      <td>60000</td>\n",
       "    </tr>\n",
       "    <tr>\n",
       "      <th>3</th>\n",
       "      <td>10</td>\n",
       "      <td>LG전자</td>\n",
       "      <td>50000</td>\n",
       "    </tr>\n",
       "  </tbody>\n",
       "</table>\n",
       "</div>"
      ],
      "text/plain": [
       "   count    종목명      주가\n",
       "0      4   삼성전자   56000\n",
       "1     11  POSCO  240000\n",
       "2      4    케이티   60000\n",
       "3     10   LG전자   50000"
      ]
     },
     "execution_count": 83,
     "metadata": {},
     "output_type": "execute_result"
    }
   ],
   "source": [
    "df['주가'] =[56000,240000,60000,50000]\n",
    "df"
   ]
  },
  {
   "cell_type": "code",
   "execution_count": 84,
   "id": "c3ff408d",
   "metadata": {},
   "outputs": [
    {
     "data": {
      "text/plain": [
       "Index(['count', '종목명', '주가'], dtype='object')"
      ]
     },
     "execution_count": 84,
     "metadata": {},
     "output_type": "execute_result"
    }
   ],
   "source": [
    "df.columns"
   ]
  },
  {
   "cell_type": "code",
   "execution_count": 87,
   "id": "05e0d298",
   "metadata": {},
   "outputs": [
    {
     "data": {
      "text/plain": [
       "count        3\n",
       "종목명       강원랜드\n",
       "주가       38000\n",
       "dtype: object"
      ]
     },
     "execution_count": 87,
     "metadata": {},
     "output_type": "execute_result"
    }
   ],
   "source": [
    "s2 = Series( data =[ 3, '강원랜드', 38000], index = df.columns )\n",
    "s2"
   ]
  },
  {
   "cell_type": "code",
   "execution_count": 89,
   "id": "a70d8193",
   "metadata": {},
   "outputs": [
    {
     "data": {
      "text/html": [
       "<div>\n",
       "<style scoped>\n",
       "    .dataframe tbody tr th:only-of-type {\n",
       "        vertical-align: middle;\n",
       "    }\n",
       "\n",
       "    .dataframe tbody tr th {\n",
       "        vertical-align: top;\n",
       "    }\n",
       "\n",
       "    .dataframe thead th {\n",
       "        text-align: right;\n",
       "    }\n",
       "</style>\n",
       "<table border=\"1\" class=\"dataframe\">\n",
       "  <thead>\n",
       "    <tr style=\"text-align: right;\">\n",
       "      <th></th>\n",
       "      <th>count</th>\n",
       "      <th>종목명</th>\n",
       "      <th>주가</th>\n",
       "    </tr>\n",
       "  </thead>\n",
       "  <tbody>\n",
       "    <tr>\n",
       "      <th>0</th>\n",
       "      <td>4</td>\n",
       "      <td>삼성전자</td>\n",
       "      <td>56000</td>\n",
       "    </tr>\n",
       "    <tr>\n",
       "      <th>1</th>\n",
       "      <td>11</td>\n",
       "      <td>POSCO</td>\n",
       "      <td>240000</td>\n",
       "    </tr>\n",
       "    <tr>\n",
       "      <th>2</th>\n",
       "      <td>4</td>\n",
       "      <td>케이티</td>\n",
       "      <td>60000</td>\n",
       "    </tr>\n",
       "    <tr>\n",
       "      <th>3</th>\n",
       "      <td>10</td>\n",
       "      <td>LG전자</td>\n",
       "      <td>50000</td>\n",
       "    </tr>\n",
       "    <tr>\n",
       "      <th>4</th>\n",
       "      <td>3</td>\n",
       "      <td>강원랜드</td>\n",
       "      <td>38000</td>\n",
       "    </tr>\n",
       "  </tbody>\n",
       "</table>\n",
       "</div>"
      ],
      "text/plain": [
       "   count    종목명      주가\n",
       "0      4   삼성전자   56000\n",
       "1     11  POSCO  240000\n",
       "2      4    케이티   60000\n",
       "3     10   LG전자   50000\n",
       "4      3   강원랜드   38000"
      ]
     },
     "execution_count": 89,
     "metadata": {},
     "output_type": "execute_result"
    }
   ],
   "source": [
    "df.loc[4] = s2\n",
    "df"
   ]
  },
  {
   "cell_type": "code",
   "execution_count": 90,
   "id": "69b43a43",
   "metadata": {},
   "outputs": [
    {
     "data": {
      "text/html": [
       "<div>\n",
       "<style scoped>\n",
       "    .dataframe tbody tr th:only-of-type {\n",
       "        vertical-align: middle;\n",
       "    }\n",
       "\n",
       "    .dataframe tbody tr th {\n",
       "        vertical-align: top;\n",
       "    }\n",
       "\n",
       "    .dataframe thead th {\n",
       "        text-align: right;\n",
       "    }\n",
       "</style>\n",
       "<table border=\"1\" class=\"dataframe\">\n",
       "  <thead>\n",
       "    <tr style=\"text-align: right;\">\n",
       "      <th></th>\n",
       "      <th>count</th>\n",
       "      <th>주가</th>\n",
       "    </tr>\n",
       "    <tr>\n",
       "      <th>종목명</th>\n",
       "      <th></th>\n",
       "      <th></th>\n",
       "    </tr>\n",
       "  </thead>\n",
       "  <tbody>\n",
       "    <tr>\n",
       "      <th>삼성전자</th>\n",
       "      <td>4</td>\n",
       "      <td>56000</td>\n",
       "    </tr>\n",
       "    <tr>\n",
       "      <th>POSCO</th>\n",
       "      <td>11</td>\n",
       "      <td>240000</td>\n",
       "    </tr>\n",
       "    <tr>\n",
       "      <th>케이티</th>\n",
       "      <td>4</td>\n",
       "      <td>60000</td>\n",
       "    </tr>\n",
       "    <tr>\n",
       "      <th>LG전자</th>\n",
       "      <td>10</td>\n",
       "      <td>50000</td>\n",
       "    </tr>\n",
       "    <tr>\n",
       "      <th>강원랜드</th>\n",
       "      <td>3</td>\n",
       "      <td>38000</td>\n",
       "    </tr>\n",
       "  </tbody>\n",
       "</table>\n",
       "</div>"
      ],
      "text/plain": [
       "       count      주가\n",
       "종목명                 \n",
       "삼성전자       4   56000\n",
       "POSCO     11  240000\n",
       "케이티        4   60000\n",
       "LG전자      10   50000\n",
       "강원랜드       3   38000"
      ]
     },
     "execution_count": 90,
     "metadata": {},
     "output_type": "execute_result"
    }
   ],
   "source": [
    "df.set_index('종목명')"
   ]
  },
  {
   "cell_type": "code",
   "execution_count": 92,
   "id": "161b9e72",
   "metadata": {},
   "outputs": [
    {
     "name": "stdout",
     "output_type": "stream",
     "text": [
      "count        4\n",
      "종목명       삼성전자\n",
      "주가       56000\n",
      "Name: 0, dtype: object\n",
      "count        11\n",
      "종목명       POSCO\n",
      "주가       240000\n",
      "Name: 1, dtype: object\n",
      "count        4\n",
      "종목명        케이티\n",
      "주가       60000\n",
      "Name: 2, dtype: object\n",
      "count       10\n",
      "종목명       LG전자\n",
      "주가       50000\n",
      "Name: 3, dtype: object\n",
      "count        3\n",
      "종목명       강원랜드\n",
      "주가       38000\n",
      "Name: 4, dtype: object\n"
     ]
    }
   ],
   "source": [
    "for i in df.index:\n",
    "    print(df.iloc[i])"
   ]
  },
  {
   "cell_type": "code",
   "execution_count": 94,
   "id": "63eb6298",
   "metadata": {},
   "outputs": [
    {
     "name": "stdout",
     "output_type": "stream",
     "text": [
      "Pandas(Index=0, count=4, 종목명='삼성전자', 주가=56000)\n",
      "Pandas(Index=1, count=11, 종목명='POSCO', 주가=240000)\n",
      "Pandas(Index=2, count=4, 종목명='케이티', 주가=60000)\n",
      "Pandas(Index=3, count=10, 종목명='LG전자', 주가=50000)\n",
      "Pandas(Index=4, count=3, 종목명='강원랜드', 주가=38000)\n"
     ]
    }
   ],
   "source": [
    "for row in df.itertuples('종목명'):\n",
    "    print(row)"
   ]
  },
  {
   "cell_type": "code",
   "execution_count": 95,
   "id": "e7b959bb",
   "metadata": {},
   "outputs": [
    {
     "name": "stdout",
     "output_type": "stream",
     "text": [
      "(0, count        4\n",
      "종목명       삼성전자\n",
      "주가       56000\n",
      "Name: 0, dtype: object)\n",
      "(1, count        11\n",
      "종목명       POSCO\n",
      "주가       240000\n",
      "Name: 1, dtype: object)\n",
      "(2, count        4\n",
      "종목명        케이티\n",
      "주가       60000\n",
      "Name: 2, dtype: object)\n",
      "(3, count       10\n",
      "종목명       LG전자\n",
      "주가       50000\n",
      "Name: 3, dtype: object)\n",
      "(4, count        3\n",
      "종목명       강원랜드\n",
      "주가       38000\n",
      "Name: 4, dtype: object)\n"
     ]
    }
   ],
   "source": [
    "for row in df.iterrows():\n",
    "    print(row)"
   ]
  },
  {
   "cell_type": "code",
   "execution_count": null,
   "id": "78544589",
   "metadata": {},
   "outputs": [],
   "source": []
  },
  {
   "cell_type": "code",
   "execution_count": null,
   "id": "a44ae839",
   "metadata": {},
   "outputs": [],
   "source": []
  }
 ],
 "metadata": {
  "kernelspec": {
   "display_name": "Python 3 (ipykernel)",
   "language": "python",
   "name": "python3"
  },
  "language_info": {
   "codemirror_mode": {
    "name": "ipython",
    "version": 3
   },
   "file_extension": ".py",
   "mimetype": "text/x-python",
   "name": "python",
   "nbconvert_exporter": "python",
   "pygments_lexer": "ipython3",
   "version": "3.10.7"
  }
 },
 "nbformat": 4,
 "nbformat_minor": 5
}
