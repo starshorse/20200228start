{
 "cells": [
  {
   "cell_type": "markdown",
   "id": "50a62c08",
   "metadata": {},
   "source": [
    "# K-Fold Cross Validation : K-폴드 교차검증"
   ]
  },
  {
   "cell_type": "code",
   "execution_count": 3,
   "id": "2154a8d3",
   "metadata": {},
   "outputs": [],
   "source": [
    "import pandas as pd\n",
    "from sklearn import svm, metrics, model_selection\n",
    "import random, re"
   ]
  },
  {
   "cell_type": "code",
   "execution_count": 7,
   "id": "e9be4a89",
   "metadata": {},
   "outputs": [],
   "source": [
    "csv = pd.read_csv('iris.csv')"
   ]
  },
  {
   "cell_type": "code",
   "execution_count": 9,
   "id": "dbed79e8",
   "metadata": {},
   "outputs": [],
   "source": [
    "data = csv[['SepalLength','SepalWidth',\n",
    "            'PetalLength','PetalWidth']]\n",
    "\n",
    "label = csv['Name']"
   ]
  },
  {
   "cell_type": "code",
   "execution_count": 10,
   "id": "31fed289",
   "metadata": {},
   "outputs": [
    {
     "name": "stdout",
     "output_type": "stream",
     "text": [
      "정답률 :  [0.96666667 0.96666667 0.96666667 0.93333333 1.        ]\n",
      "\n",
      "평균정답률:  0.9666666666666666\n"
     ]
    }
   ],
   "source": [
    "# 크로스밸리데이션\n",
    "clf = svm.SVC()\n",
    "\n",
    "scores = model_selection.cross_val_score(clf, data, label, cv=5)\n",
    "\n",
    "print(\"정답률 : \", scores)\n",
    "print()\n",
    "print(\"평균정답률: \", scores.mean())"
   ]
  },
  {
   "cell_type": "code",
   "execution_count": null,
   "id": "b3f7497d",
   "metadata": {},
   "outputs": [],
   "source": []
  },
  {
   "cell_type": "markdown",
   "id": "d793d69f",
   "metadata": {},
   "source": [
    "# 실습 : KNN"
   ]
  },
  {
   "cell_type": "markdown",
   "id": "9f2eaccb",
   "metadata": {},
   "source": [
    "### 도미와 빙어를 구분"
   ]
  },
  {
   "cell_type": "code",
   "execution_count": 6,
   "id": "72a0a066",
   "metadata": {},
   "outputs": [],
   "source": [
    "# 도미 35마리 데이터\n",
    "\n",
    "bream_length = [25.4, 26.3, 26.5, 29.0, 29.0, 29.7, 29.7, 30.0, 30.0, 30.7, 31.0, 31.0, \n",
    "                31.5, 32.0, 32.0, 32.0, 33.0, 33.0, 33.5, 33.5, 34.0, 34.0, 34.5, 35.0, \n",
    "                35.0, 35.0, 35.0, 36.0, 36.0, 37.0, 38.5, 38.5, 39.5, 41.0, 41.0]\n",
    "bream_weight = [242.0, 290.0, 340.0, 363.0, 430.0, 450.0, 500.0, 390.0, 450.0, 500.0, 475.0, 500.0, \n",
    "                500.0, 340.0, 600.0, 600.0, 700.0, 700.0, 610.0, 650.0, 575.0, 685.0, 620.0, 680.0, \n",
    "                700.0, 725.0, 720.0, 714.0, 850.0, 1000.0, 920.0, 955.0, 925.0, 975.0, 950.0]\n"
   ]
  },
  {
   "cell_type": "code",
   "execution_count": 7,
   "id": "1d6e9e01",
   "metadata": {},
   "outputs": [],
   "source": [
    "# 빙어 14마리 데이터\n",
    "\n",
    "smelt_length = [9.8, 10.5, 10.6, 11.0, 11.2, 11.3, \n",
    "                11.8, 11.8, 12.0, 12.2, 12.4, 13.0, 14.3, 15.0]\n",
    "\n",
    "smelt_weight = [6.7, 7.5, 7.0, 9.7, 9.8, 8.7, 10.0, \n",
    "                9.9, 9.8, 12.2, 13.4, 12.2, 19.7, 19.9]"
   ]
  },
  {
   "cell_type": "markdown",
   "id": "00d5a8c3",
   "metadata": {},
   "source": [
    "### zip()"
   ]
  },
  {
   "cell_type": "code",
   "execution_count": 2,
   "id": "288f6719",
   "metadata": {},
   "outputs": [],
   "source": [
    "a = [1, 2, 3, 4, 5]\n",
    "b = ['a', 'b', 'c', 'd', 'e']"
   ]
  },
  {
   "cell_type": "code",
   "execution_count": 3,
   "id": "51fe0ce1",
   "metadata": {},
   "outputs": [
    {
     "data": {
      "text/plain": [
       "<zip at 0x1648049cd80>"
      ]
     },
     "execution_count": 3,
     "metadata": {},
     "output_type": "execute_result"
    }
   ],
   "source": [
    "zip(a, b)"
   ]
  },
  {
   "cell_type": "code",
   "execution_count": 4,
   "id": "3443469a",
   "metadata": {},
   "outputs": [
    {
     "data": {
      "text/plain": [
       "[(1, 'a'), (2, 'b'), (3, 'c'), (4, 'd'), (5, 'e')]"
      ]
     },
     "execution_count": 4,
     "metadata": {},
     "output_type": "execute_result"
    }
   ],
   "source": [
    "list(zip(a, b))"
   ]
  },
  {
   "cell_type": "code",
   "execution_count": null,
   "id": "1ef83d46",
   "metadata": {},
   "outputs": [],
   "source": []
  },
  {
   "cell_type": "code",
   "execution_count": 8,
   "id": "897b585a",
   "metadata": {},
   "outputs": [
    {
     "data": {
      "text/plain": [
       "[(25.4, 242.0),\n",
       " (26.3, 290.0),\n",
       " (26.5, 340.0),\n",
       " (29.0, 363.0),\n",
       " (29.0, 430.0),\n",
       " (29.7, 450.0),\n",
       " (29.7, 500.0),\n",
       " (30.0, 390.0),\n",
       " (30.0, 450.0),\n",
       " (30.7, 500.0),\n",
       " (31.0, 475.0),\n",
       " (31.0, 500.0),\n",
       " (31.5, 500.0),\n",
       " (32.0, 340.0),\n",
       " (32.0, 600.0),\n",
       " (32.0, 600.0),\n",
       " (33.0, 700.0),\n",
       " (33.0, 700.0),\n",
       " (33.5, 610.0),\n",
       " (33.5, 650.0),\n",
       " (34.0, 575.0),\n",
       " (34.0, 685.0),\n",
       " (34.5, 620.0),\n",
       " (35.0, 680.0),\n",
       " (35.0, 700.0),\n",
       " (35.0, 725.0),\n",
       " (35.0, 720.0),\n",
       " (36.0, 714.0),\n",
       " (36.0, 850.0),\n",
       " (37.0, 1000.0),\n",
       " (38.5, 920.0),\n",
       " (38.5, 955.0),\n",
       " (39.5, 925.0),\n",
       " (41.0, 975.0),\n",
       " (41.0, 950.0)]"
      ]
     },
     "execution_count": 8,
     "metadata": {},
     "output_type": "execute_result"
    }
   ],
   "source": [
    "# 도미와 빙어의 데이터를 하나로 묶는다\n",
    "\n",
    "list(zip(bream_length, bream_weight))"
   ]
  },
  {
   "cell_type": "code",
   "execution_count": null,
   "id": "0d473fb9",
   "metadata": {},
   "outputs": [],
   "source": []
  },
  {
   "cell_type": "markdown",
   "id": "c3de9133",
   "metadata": {},
   "source": [
    "## 도미 데이터 시각화"
   ]
  },
  {
   "cell_type": "markdown",
   "id": "697d572b",
   "metadata": {},
   "source": [
    "### 시각화 모듈\n",
    "\n",
    "1. matplotlib\n",
    "2. seaborn"
   ]
  },
  {
   "cell_type": "code",
   "execution_count": null,
   "id": "913283ee",
   "metadata": {},
   "outputs": [],
   "source": [
    "!pip install matplotlib"
   ]
  },
  {
   "cell_type": "code",
   "execution_count": null,
   "id": "7d227bad",
   "metadata": {},
   "outputs": [],
   "source": [
    "!pip install seaborn"
   ]
  },
  {
   "cell_type": "code",
   "execution_count": null,
   "id": "4cc40cf9",
   "metadata": {},
   "outputs": [],
   "source": []
  },
  {
   "cell_type": "markdown",
   "id": "5f2d2566",
   "metadata": {},
   "source": [
    "# 1 \n",
    "## 2\n",
    "### 3\n",
    "#### 4\n",
    "##### 5\n",
    "\n",
    "- 1\n",
    "- 2\n",
    "- 3\n",
    "\n",
    "1. 1\n",
    "2. 2\n",
    "3. 3"
   ]
  },
  {
   "cell_type": "code",
   "execution_count": null,
   "id": "2c14a4d5",
   "metadata": {},
   "outputs": [],
   "source": []
  },
  {
   "cell_type": "code",
   "execution_count": null,
   "id": "c324d38b",
   "metadata": {},
   "outputs": [],
   "source": []
  },
  {
   "cell_type": "code",
   "execution_count": 11,
   "id": "9ef8b32d",
   "metadata": {},
   "outputs": [
    {
     "data": {
      "image/png": "[encoded data removed]",
      "text/plain": [
       "<Figure size 432x288 with 1 Axes>"
      ]
     },
     "metadata": {
      "needs_background": "light"
     },
     "output_type": "display_data"
    }
   ],
   "source": [
    "import matplotlib.pyplot as plt\n",
    "\n",
    "plt.scatter(bream_length, bream_weight)  # 축지정\n",
    "plt.xlabel('length')   # x축 이름\n",
    "plt.ylabel('weight')   # y축 이름\n",
    "plt.show()"
   ]
  },
  {
   "cell_type": "code",
   "execution_count": null,
   "id": "03e6344c",
   "metadata": {},
   "outputs": [],
   "source": []
  },
  {
   "cell_type": "markdown",
   "id": "ca019294",
   "metadata": {},
   "source": [
    "### 도미와 빙어의 데이터를 시각화"
   ]
  },
  {
   "cell_type": "code",
   "execution_count": 12,
   "id": "7fdda97d",
   "metadata": {},
   "outputs": [
    {
     "data": {
      "image/png": "[encoded data removed]",
      "text/plain": [
       "<Figure size 432x288 with 1 Axes>"
      ]
     },
     "metadata": {
      "needs_background": "light"
     },
     "output_type": "display_data"
    }
   ],
   "source": [
    "import matplotlib.pyplot as plt\n",
    "\n",
    "plt.scatter(bream_length, bream_weight)  # 축지정\n",
    "plt.scatter(smelt_length, smelt_weight)  # 축지정\n",
    "plt.xlabel('length')   # x축 이름\n",
    "plt.ylabel('weight')   # y축 이름\n",
    "plt.show()"
   ]
  },
  {
   "cell_type": "code",
   "execution_count": null,
   "id": "ff1ece1b",
   "metadata": {},
   "outputs": [],
   "source": []
  },
  {
   "cell_type": "code",
   "execution_count": 13,
   "id": "4ecf4b96",
   "metadata": {},
   "outputs": [],
   "source": [
    "length = bream_length + smelt_length\n",
    "weight = bream_weight + smelt_weight"
   ]
  },
  {
   "cell_type": "code",
   "execution_count": 15,
   "id": "cc0e26a1",
   "metadata": {},
   "outputs": [],
   "source": [
    "fish_data =[[l, w] for l, w in zip(length, weight)]"
   ]
  },
  {
   "cell_type": "code",
   "execution_count": 16,
   "id": "8823098a",
   "metadata": {},
   "outputs": [
    {
     "data": {
      "text/plain": [
       "[[25.4, 242.0],\n",
       " [26.3, 290.0],\n",
       " [26.5, 340.0],\n",
       " [29.0, 363.0],\n",
       " [29.0, 430.0],\n",
       " [29.7, 450.0],\n",
       " [29.7, 500.0],\n",
       " [30.0, 390.0],\n",
       " [30.0, 450.0],\n",
       " [30.7, 500.0],\n",
       " [31.0, 475.0],\n",
       " [31.0, 500.0],\n",
       " [31.5, 500.0],\n",
       " [32.0, 340.0],\n",
       " [32.0, 600.0],\n",
       " [32.0, 600.0],\n",
       " [33.0, 700.0],\n",
       " [33.0, 700.0],\n",
       " [33.5, 610.0],\n",
       " [33.5, 650.0],\n",
       " [34.0, 575.0],\n",
       " [34.0, 685.0],\n",
       " [34.5, 620.0],\n",
       " [35.0, 680.0],\n",
       " [35.0, 700.0],\n",
       " [35.0, 725.0],\n",
       " [35.0, 720.0],\n",
       " [36.0, 714.0],\n",
       " [36.0, 850.0],\n",
       " [37.0, 1000.0],\n",
       " [38.5, 920.0],\n",
       " [38.5, 955.0],\n",
       " [39.5, 925.0],\n",
       " [41.0, 975.0],\n",
       " [41.0, 950.0],\n",
       " [9.8, 6.7],\n",
       " [10.5, 7.5],\n",
       " [10.6, 7.0],\n",
       " [11.0, 9.7],\n",
       " [11.2, 9.8],\n",
       " [11.3, 8.7],\n",
       " [11.8, 10.0],\n",
       " [11.8, 9.9],\n",
       " [12.0, 9.8],\n",
       " [12.2, 12.2],\n",
       " [12.4, 13.4],\n",
       " [13.0, 12.2],\n",
       " [14.3, 19.7],\n",
       " [15.0, 19.9]]"
      ]
     },
     "execution_count": 16,
     "metadata": {},
     "output_type": "execute_result"
    }
   ],
   "source": [
    "# 도미 35마리, 빙어 14마리\n",
    "fish_data"
   ]
  },
  {
   "cell_type": "markdown",
   "id": "59a5f355",
   "metadata": {},
   "source": [
    "- 위의 데이터를 정규식으로 작성할 경우 아래와 같다"
   ]
  },
  {
   "cell_type": "code",
   "execution_count": 14,
   "id": "c6aaa5eb",
   "metadata": {},
   "outputs": [
    {
     "name": "stdout",
     "output_type": "stream",
     "text": [
      "25.4 242.0\n",
      "26.3 290.0\n",
      "26.5 340.0\n",
      "29.0 363.0\n",
      "29.0 430.0\n",
      "29.7 450.0\n",
      "29.7 500.0\n",
      "30.0 390.0\n",
      "30.0 450.0\n",
      "30.7 500.0\n",
      "31.0 475.0\n",
      "31.0 500.0\n",
      "31.5 500.0\n",
      "32.0 340.0\n",
      "32.0 600.0\n",
      "32.0 600.0\n",
      "33.0 700.0\n",
      "33.0 700.0\n",
      "33.5 610.0\n",
      "33.5 650.0\n",
      "34.0 575.0\n",
      "34.0 685.0\n",
      "34.5 620.0\n",
      "35.0 680.0\n",
      "35.0 700.0\n",
      "35.0 725.0\n",
      "35.0 720.0\n",
      "36.0 714.0\n",
      "36.0 850.0\n",
      "37.0 1000.0\n",
      "38.5 920.0\n",
      "38.5 955.0\n",
      "39.5 925.0\n",
      "41.0 975.0\n",
      "41.0 950.0\n",
      "9.8 6.7\n",
      "10.5 7.5\n",
      "10.6 7.0\n",
      "11.0 9.7\n",
      "11.2 9.8\n",
      "11.3 8.7\n",
      "11.8 10.0\n",
      "11.8 9.9\n",
      "12.0 9.8\n",
      "12.2 12.2\n",
      "12.4 13.4\n",
      "13.0 12.2\n",
      "14.3 19.7\n",
      "15.0 19.9\n"
     ]
    }
   ],
   "source": [
    "for l, w in zip(length, weight) :\n",
    "    print(l, w)"
   ]
  },
  {
   "cell_type": "code",
   "execution_count": null,
   "id": "6a5b55cf",
   "metadata": {},
   "outputs": [],
   "source": []
  },
  {
   "cell_type": "markdown",
   "id": "60e8d13a",
   "metadata": {},
   "source": [
    "## fish_data 의 정답 레이블을 생성한다.\n",
    "\n",
    "- 위에서 순서대로 35개의 데이터는 도미를 의미하고, ( 도미 = 1)\n",
    "- 나머지 14개의 데이터는 빙어를 의미한다. (빙어 = 0)"
   ]
  },
  {
   "cell_type": "code",
   "execution_count": 19,
   "id": "24e0252d",
   "metadata": {},
   "outputs": [
    {
     "name": "stdout",
     "output_type": "stream",
     "text": [
      "[1, 1, 1, 1, 1, 1, 1, 1, 1, 1, 1, 1, 1, 1, 1, 1, 1, 1, 1, 1, 1, 1, 1, 1, 1, 1, 1, 1, 1, 1, 1, 1, 1, 1, 1, 0, 0, 0, 0, 0, 0, 0, 0, 0, 0, 0, 0, 0, 0]\n"
     ]
    }
   ],
   "source": [
    "fish_target = [1] * 35 + [0] * 14\n",
    "print(fish_target)"
   ]
  },
  {
   "cell_type": "code",
   "execution_count": null,
   "id": "28aae116",
   "metadata": {},
   "outputs": [],
   "source": []
  },
  {
   "cell_type": "markdown",
   "id": "bcdaee8a",
   "metadata": {},
   "source": [
    "# K-NN 알고리즘 사용"
   ]
  },
  {
   "cell_type": "code",
   "execution_count": 17,
   "id": "39cf2b55",
   "metadata": {},
   "outputs": [],
   "source": [
    "# 알고리즘 모듈 호출\n",
    "\n",
    "from sklearn.neighbors import KNeighborsClassifier"
   ]
  },
  {
   "cell_type": "code",
   "execution_count": 18,
   "id": "d861d002",
   "metadata": {},
   "outputs": [],
   "source": [
    "# 알고리즘 객체 생성\n",
    "\n",
    "kn = KNeighborsClassifier()"
   ]
  },
  {
   "cell_type": "code",
   "execution_count": 20,
   "id": "9adf8f4d",
   "metadata": {},
   "outputs": [
    {
     "data": {
      "text/plain": [
       "KNeighborsClassifier()"
      ]
     },
     "execution_count": 20,
     "metadata": {},
     "output_type": "execute_result"
    }
   ],
   "source": [
    "# 학습모델링 : fit(학습용데이터, 학습용데이터의정답)\n",
    "kn.fit(fish_data, fish_target)"
   ]
  },
  {
   "cell_type": "code",
   "execution_count": 21,
   "id": "80830a64",
   "metadata": {},
   "outputs": [
    {
     "data": {
      "text/plain": [
       "1.0"
      ]
     },
     "execution_count": 21,
     "metadata": {},
     "output_type": "execute_result"
    }
   ],
   "source": [
    "# 데이터검증 : accuracy 정확도\n",
    "kn.score(fish_data, fish_target)"
   ]
  },
  {
   "cell_type": "code",
   "execution_count": null,
   "id": "89fbd0e6",
   "metadata": {},
   "outputs": [],
   "source": []
  },
  {
   "cell_type": "markdown",
   "id": "96ddcd80",
   "metadata": {},
   "source": [
    "# 데이터 시각화"
   ]
  },
  {
   "cell_type": "code",
   "execution_count": 22,
   "id": "f4bb6edf",
   "metadata": {},
   "outputs": [
    {
     "data": {
      "image/png": "[encoded data removed]",
      "text/plain": [
       "<Figure size 432x288 with 1 Axes>"
      ]
     },
     "metadata": {
      "needs_background": "light"
     },
     "output_type": "display_data"
    }
   ],
   "source": [
    "plt.scatter(bream_length, bream_weight)\n",
    "plt.scatter(smelt_length, smelt_weight)\n",
    "plt.scatter(30, 600, marker = '^')\n",
    "plt.xlabel('length')\n",
    "plt.ylabel('weight')\n",
    "plt.show()"
   ]
  },
  {
   "cell_type": "code",
   "execution_count": 23,
   "id": "7157b7ed",
   "metadata": {},
   "outputs": [
    {
     "data": {
      "image/png": "[encoded data removed]",
      "text/plain": [
       "<Figure size 432x288 with 1 Axes>"
      ]
     },
     "metadata": {
      "needs_background": "light"
     },
     "output_type": "display_data"
    }
   ],
   "source": [
    "plt.scatter(bream_length, bream_weight)\n",
    "plt.scatter(smelt_length, smelt_weight)\n",
    "plt.scatter(10, 15, marker = '^')\n",
    "plt.xlabel('length')\n",
    "plt.ylabel('weight')\n",
    "plt.show()"
   ]
  },
  {
   "cell_type": "code",
   "execution_count": null,
   "id": "ffe575b9",
   "metadata": {},
   "outputs": [],
   "source": []
  },
  {
   "cell_type": "code",
   "execution_count": null,
   "id": "0cb534c5",
   "metadata": {},
   "outputs": [],
   "source": []
  },
  {
   "cell_type": "code",
   "execution_count": null,
   "id": "2b77634f",
   "metadata": {},
   "outputs": [],
   "source": []
  },
  {
   "cell_type": "code",
   "execution_count": null,
   "id": "8a91da6d",
   "metadata": {},
   "outputs": [],
   "source": []
  },
  {
   "cell_type": "code",
   "execution_count": null,
   "id": "8c5eee68",
   "metadata": {},
   "outputs": [],
   "source": []
  },
  {
   "cell_type": "code",
   "execution_count": null,
   "id": "5ad39022",
   "metadata": {},
   "outputs": [],
   "source": []
  },
  {
   "cell_type": "code",
   "execution_count": null,
   "id": "b8b4b477",
   "metadata": {},
   "outputs": [],
   "source": []
  }
 ],
 "metadata": {
  "kernelspec": {
   "display_name": "Python 3 (ipykernel)",
   "language": "python",
   "name": "python3"
  },
  "language_info": {
   "codemirror_mode": {
    "name": "ipython",
    "version": 3
   },
   "file_extension": ".py",
   "mimetype": "text/x-python",
   "name": "python",
   "nbconvert_exporter": "python",
   "pygments_lexer": "ipython3",
   "version": "3.8.7"
  }
 },
 "nbformat": 4,
 "nbformat_minor": 5
}
