{
 "cells": [
  {
   "cell_type": "markdown",
   "metadata": {},
   "source": [
    "#  RAG 성능평가 개요\n",
    "\n",
    "### **학습 목표:** RAGAS를 사용한 RAG 성능 평가 프로세스를 이해한다\n",
    "\n",
    "---"
   ]
  },
  {
   "cell_type": "markdown",
   "metadata": {},
   "source": [
    "## 환경 설정 및 준비"
   ]
  },
  {
   "cell_type": "markdown",
   "metadata": {},
   "source": [
    "`(1) Env 환경변수`"
   ]
  },
  {
   "cell_type": "code",
   "execution_count": 1,
   "metadata": {},
   "outputs": [
    {
     "data": {
      "text/plain": [
       "True"
      ]
     },
     "execution_count": 1,
     "metadata": {},
     "output_type": "execute_result"
    }
   ],
   "source": [
    "from dotenv import load_dotenv\n",
    "load_dotenv()"
   ]
  },
  {
   "cell_type": "markdown",
   "metadata": {},
   "source": [
    "`(2) 기본 라이브러리`"
   ]
  },
  {
   "cell_type": "code",
   "execution_count": 2,
   "metadata": {},
   "outputs": [],
   "source": [
    "import os\n",
    "from glob import glob\n",
    "\n",
    "from pprint import pprint\n",
    "import json\n",
    "\n",
    "import uuid\n",
    "\n",
    "import pandas as pd\n",
    "import numpy as np\n",
    "\n",
    "import warnings\n",
    "warnings.filterwarnings(\"ignore\")"
   ]
  },
  {
   "cell_type": "markdown",
   "metadata": {},
   "source": [
    "`(3) langfuse handler 설정`"
   ]
  },
  {
   "cell_type": "code",
   "execution_count": null,
   "metadata": {},
   "outputs": [],
   "source": [
    "from langfuse.callback import CallbackHandler\n",
    "\n",
    "# LangChain 콜백 핸들러 생성\n",
    "langfuse_handler = CallbackHandler()\n",
    "\n",
    "# 정상 작동 확인\n",
    "langfuse_handler.auth_check() "
   ]
  },
  {
   "cell_type": "markdown",
   "metadata": {},
   "source": [
    "---\n",
    "\n",
    "## RAG 시스템 성능 평가\n",
    "\n",
    "- **RAG 기술의 핵심**: 외부 지식 검색과 LLM 결합으로 응답 품질 향상\n",
    "\n",
    "- **평가 기준**: LLM-as-judge 방식으로 사실성, 관련성, 충실도, 유용성 평가\n",
    "\n",
    "- **체계적인 A/B 테스트**: 각 컴포넌트별 성능 비교 및 영향도 분석으로 최적 구성 도출\n",
    "\n",
    "- **평가 방법론**: 오프라인(참조답변 기반), 온라인(실시간), 페어와이즈(비교) 평가 구분\n",
    "\n",
    "---\n",
    "\n",
    "### **평가 대상(Evaluation Target)**\n",
    "\n",
    "- **검색(Retrieval)** 단계: \n",
    "    1. 관련 문서와 쿼리 간의 연관성(Relevance)을 통해 검색된 문서가 쿼리의 정보 요구를 얼마나 잘 충족하는지 평가\n",
    "    1. 관련 문서와 후보 문서 간의 정확성(Accuracy)을 통해 시스템이 적절한 문서를 식별하는 능력을 측정\n",
    "\n",
    "- **생성(Generation)** 단계:\n",
    "    1. 응답과 쿼리의 연관성(Relavance)\n",
    "    1. 응답과 관련 문서 간의 충실도(Faithfulness)\n",
    "    1. 응답과 샘플 응답 간의 정확성(Correctness)\n",
    "\n",
    "- 추가 고려사항:\n",
    "    - **핵심 성능 지표**: Latency(응답 속도), Diversity(검색 다양성), Noise Robustness(잡음 내구성)\n",
    "    - **안전성 평가**: Negative Rejection(불충분 정보 거부), Counterfactual Robustness(오정보 식별)\n",
    "    - **사용자 경험**: Readability(가독성), Toxicity(유해성), Perplexity(복잡성) 등 추가 고려\n",
    "\n",
    "\n",
    "[출처] https://arxiv.org/abs/2405.07437"
   ]
  },
  {
   "cell_type": "markdown",
   "metadata": {},
   "source": [
    "---\n",
    "\n",
    "### **평가 데이터셋 구축(Evaluation Dataset)**\n",
    "\n",
    "- **데이터셋 구성 방식**: LLM 기반 새로운 데이터셋 생성 (Synthetic Data)\n",
    "\n",
    "- **맞춤형 데이터셋** 구축으로 RAG 시스템의 실용성 평가 강화\n",
    "\n",
    "\n",
    "- [실습] : **Ragas** (https://docs.ragas.io/en/stable/) 활용\n",
    "\n",
    "    - **RAG 시스템 평가**를 위한 오픈소스 프레임워크\n",
    "    - **실용성**: 자동화된 평가 파이프라인 구축 가능\n",
    "    - **주요 지표**: \n",
    "\n",
    "        1. **충실도(Faithfulness)**: \n",
    "            - 생성된 답변이 주어진 컨텍스트와 얼마나 일치하는지 평가\n",
    "        \n",
    "        2. **답변 관련성(Answer Relevancy)**:\n",
    "            - 생성된 답변이 주어진 질문과 얼마나 관련이 있는지 평가\n",
    "        \n",
    "        3. **컨텍스트 정확도(Context Precision)**:\n",
    "            - 검색된 컨텍스트들이 얼마나 적절하게 순위가 매겨졌는지 평가\n",
    "            - 0~1 사이의 값으로, 높을수록 좋음\n"
   ]
  },
  {
   "cell_type": "markdown",
   "metadata": {},
   "source": [
    "`(1) LangChain 문서 준비`"
   ]
  },
  {
   "cell_type": "code",
   "execution_count": 3,
   "metadata": {},
   "outputs": [
    {
     "name": "stdout",
     "output_type": "stream",
     "text": [
      "Korean data:\n",
      "[Document(metadata={'source': 'data\\\\리비안_KR.md'}, page_content='Rivian Automotive, Inc.는 2009년에 설립된 미국의 전기 자동차 제조업체, 자동차 기술 및 야외 레크리에이션 회사입니다.\\n\\n**주요 정보:**\\n\\n- **회사 유형:** 상장\\n- **거래소:** NASDAQ: RIVN\\n- **설립:** 2009년 6월, 플로리다 주 록ledge\\n- **설립자:** R. J. 스캐린지\\n- **본사:** 미국 캘리포니아 주 어바인\\n- **서비스 지역:** 북미\\n- **주요 인물:** R. J. 스캐린지 (CEO)\\n- **제품:** 전기 자동차, 배터리\\n- **생산량 (2023):** 57,232대\\n- **서비스:** 전기 자동차 충전, 자동차 보험\\n- **수익 (2023):** 44억 3천만 미국 달러\\n- **순이익 (2023):** -54억 미국 달러\\n- **총 자산 (2023):** 168억 미국 달러\\n- **총 자본 (2023):** 91억 4천만 미국 달러\\n- **직원 수 (2023년 12월):** 16,790명\\n- **웹사이트:** rivian.com\\n\\n**개요**\\n\\nRivian은 \"스케이트보드\" 플랫폼(R1T 및 R1S 모델)을 기반으로 한 전기 스포츠 유틸리티 차량(SUV), 픽업 트럭 및 전기 배달 밴(Rivian EDV)을 생산합니다. R1T 배송은 2021년 말에 시작되었습니다. 회사는 2022년에 미국에서 충전 네트워크를 시작하여 2024년에 다른 차량에도 개방했습니다. 생산 공장은 일리노이 주 노멀에 있으며, 다른 시설은 미국, 캐나다, 영국 및 세르비아의 여러 주에 있습니다.\\n\\n**역사**\\n\\n**초창기 (2009–15):**\\n\\n- 2009년 R. J. 스캐린지가 Mainstream Motors로 설립.\\n- 2011년 Rivian Automotive로 사명 변경.\\n- 처음에는 스포츠카 프로토타입(R1)에 집중했지만 전기 및 자율 주행 차량으로 전환.\\n\\n**생산 준비 (2016–20):**\\n\\n- 2017년 일리노이 주 노멀에 있는 이전 Mitsubishi Motors 제조 공장을 1,600만 달러에 인수.\\n- 2017년 12월, 첫 두 제품인 R1T (픽업 트럭)와 R1S (SUV)를 공개.\\n- 생산은 2020년에 시작될 예정.\\n\\n**첫 모델 배송; IPO; 감원 및 확장 (2021–24):**\\n\\n- R1T 배송은 2021년 9월에 시작되어 Rivian은 완전 전기 픽업을 소비자 시장에 출시한 최초의 자동차 제조업체가 됨.\\n- 2021년 11월, Rivian은 IPO를 통해 135억 달러를 조달하여 상장 회사가 됨.\\n- Ford와 Rivian은 전기 자동차 공동 개발 계획을 취소.\\n- 2022년 3월, Rivian은 부품 비용으로 인해 R1T 및 R1S의 가격 인상을 발표했으며, 이후 소급 적용에 대해 사과.\\n- 2022년 7월, Rivian은 6%의 인력 감축을 발표.\\n- 2022년 9월, 유럽에서 전기 밴을 생산하기 위해 Mercedes-Benz Group과 합작 투자를 발표했지만 나중에 취소됨.\\n- 2022년 10월, 느슨한 토크 볼트로 인해 13,000대의 차량을 자발적으로 리콜.\\n- 2023년 6월, Tesla의 북미 충전 시스템(NACS) 채택을 발표.\\n- 2023년 6월, \"A Better Route Planner\"(ABRP) EV 경로 계획 앱을 개발한 Iternio 인수.\\n- 2023년 10월, Amazon과의 독점 계약을 종료하여 Rivian이 다른 상업 고객에게 공급할 수 있도록 허용.\\n- 2024년 2월, 급여 직원 10% 감축 발표.\\n- 2024년 3월, 더 작은 가격대의 R2 SUV 및 R3 공개.\\n\\n**Volkswagen과의 파트너십 (2024)**\\n\\n- 2024년 6월, Volkswagen Group은 전기 아키텍처 및 소프트웨어 기술 개발을 목표로 Rivian에 최대 50억 달러를 투자할 의향을 발표.\\n\\n**차량**\\n\\n- **R1T:** 4개의 전기 모터가 장착된 픽업 트럭. 배터리 크기는 105 kWh에서 180 kWh까지 다양함.\\n- **R1S:** 첫 번째 Rivian 플랫폼의 스포츠 유틸리티 차량(SUV) 버전.\\n- **Electric Delivery Van (EDV):** 상업용 전기 밴으로, 주로 Amazon용으로 설계되어 사용됨.\\n- **R2:** 더 작고 저렴한 SUV로, 새로운 플랫폼에서 2026년 초에 출시될 예정.\\n- **R3:** 출시 예정인 전기 소형 SUV.\\n\\n**EV 충전**\\n\\nRivian은 미국과 캐나다 전역에 공공 충전소 네트워크를 개발하고 있습니다. Rivian은 2021년에 Waypoint 충전기 설치를 시작했지만 2023년 4월에 Rivian Adventure Network가 Rivian 이외의 차량에도 개방될 것이라고 발표되었습니다. Rivian은 또한 2025년 모델 연도부터 북미에서 차량에 북미 충전 시스템(NACS)을 채택할 예정입니다.\\n\\n**시설**\\n\\n- **Irvine, California:** 차량 엔지니어링 및 설계에 중점을 둔 본사.\\n- **Normal, Illinois:** 차량 부품을 생산하고 조립을 수행하는 제조 공장.\\n- **Plymouth, Michigan:** 차량 엔지니어링, 프로토타입 제작, 공급망 및 회계에 중점을 둡니다.\\n- **Palo Alto, California:** 소프트웨어 개발 및 엔지니어링에 중점을 둡니다.\\n- Carson, California 및 Woking, England에 추가 사무실이 있습니다.\\n- 애틀랜타 동쪽에 있는 새로운 50억 달러 규모의 배터리 및 조립 공장은 보류 중입니다.\\n\\n**재정**\\n\\nRivian의 재무 성과는 상당한 수익 성장과 상당한 순손실로 특징지어집니다.\\n\\n| 연도 | 수익 (백만 USD) | 순이익 (백만 USD) | 총 자산 (백만 USD) |\\n| ---- | --------------- | ----------------- | ------------------ |\\n| 2020 | 0               | -1,018            | 4,602              |\\n| 2021 | 55              | -4,688            | 22,294             |\\n| 2022 | 1,658           | -6,752            | 17,876             |\\n| 2023 | 4,434           | -5,432            | 16,778             |\\n\\n**최대 주주**\\n\\n2023년 12월 현재 최대 주주는 Amazon, T. Rowe Price International, The Vanguard Group, BlackRock 및 Fidelity Investments였습니다.\\n\\n**협력**\\n\\nRivian은 Alex Honnold, the Honnold Foundation, Casa Pueblo, Ewan McGregor, Charley Boorman, Yakima 및 MAXTRAX와 파트너십을 맺었습니다.\\n\\n**소송**\\n\\n- 2020년 7월, Tesla는 Rivian이 독점 정보를 훔치고 직원을 빼갔다고 주장하며 소송을 제기했습니다.\\n- 2021년 3월, Illinois Automobile Dealers Association은 Rivian과 Lucid Motors가 소비자에게 직접 판매했다는 이유로 소송을 제기했습니다.\\n- 2021년 11월, 전 VP Laura Schwab은 차별 혐의로 소송을 제기하고 차량 가격 책정 및 안전 표준에 대한 우려를 제기했습니다.\\n'),\n",
      " Document(metadata={'source': 'data\\\\테슬라_KR.md'}, page_content='Tesla, Inc.는 미국의 다국적 자동차 및 청정 에너지 회사입니다. 이 회사는 전기 자동차(BEV), 고정형 배터리 에너지 저장 장치, 태양 전지판, 태양광 지붕널 및 관련 제품/서비스를 설계, 제조 및 판매합니다. 2003년 7월 Martin Eberhard와 Marc Tarpenning이 Tesla Motors로 설립했으며, Nikola Tesla를 기리기 위해 명명되었습니다. Elon Musk는 2004년 Tesla의 초기 자금 조달을 주도하여 2008년에 회장 겸 CEO가 되었습니다.\\n\\nTesla의 차량 생산은 2008년 Roadster로 시작하여 Model S (2012), Model X (2015), Model 3 (2017), Model Y (2020), Semi (2022) 및 Cybertruck (2023)으로 이어졌습니다. 이 회사는 세계에서 가장 가치 있는 회사 중 하나이며 2020년 7월 이후 가장 가치 있는 자동차 제조업체입니다. Tesla는 2021~2022년, 그리고 2024년에 다시 한 번 한때 1조 달러의 가치를 달성했습니다. 2023년에는 배터리 전기 자동차 시장에서 가장 큰 점유율(19.9%)을 차지했으며 Forbes Global 2000에서 69위에 랭크되었습니다.\\n\\nTesla는 내부 고발자 보복, 근로자 권리 침해, 안전 결함, 홍보 부족, Musk의 논란의 여지가 있는 발언과 관련된 소송, 정부 조사 및 비판에 직면했습니다.\\n\\n## 역사\\n\\n### 창립 (2003–2004)\\n\\nTesla Motors, Inc.는 2003년 7월 1일에 Martin Eberhard와 Marc Tarpenning에 의해 설립되었으며, 각각 CEO와 CFO를 역임했습니다. Ian Wright는 얼마 지나지 않아 합류했습니다. 2004년 2월, Elon Musk는 750만 달러의 시리즈 A 자금 조달을 주도하여 회장 겸 최대 주주가 되었습니다. J. B. Straubel은 2004년 5월 CTO로 합류했습니다. 다섯 명 모두 공동 설립자로 인정받고 있습니다.\\n\\n### Roadster (2005–2009)\\n\\nElon Musk는 주류 차량으로 확장하기 전에 프리미엄 스포츠카로 시작하는 전략에 초점을 맞춰 적극적인 역할을 수행했습니다. 후속 자금 조달에는 Valor Equity Partners (2006)와 Sergey Brin, Larry Page, Jeff Skoll과 같은 기업가의 투자가 포함되었습니다.\\n\\n2007년 8월, Eberhard는 CEO에서 물러나라는 요청을 받았고, Tarpenning은 2008년 1월에 이어졌습니다. Michael Marks는 Ze\\'ev Drori가 인수하기 전에 임시 CEO를 역임했으며, Musk는 2008년 10월에 인수했습니다. Eberhard는 2009년 6월 Musk를 상대로 소송을 제기했지만 나중에 기각되었습니다.\\n\\nRoadster 생산은 2008년에 시작되었습니다. 2009년 1월까지 Tesla는 1억 8,700만 달러를 모금하고 147대의 자동차를 인도했습니다. 2009년 6월, Tesla는 미국 에너지부로부터 4억 6,500만 달러의 대출을 받았으며, 2013년 5월에 이자와 함께 상환했습니다.\\n\\n### IPO, Model S 및 Model X (2010–2015)\\n\\n2010년 5월, Tesla는 캘리포니아 주 프리몬트의 NUMMI 공장을 Toyota로부터 인수했습니다. 이 회사는 2010년 6월 NASDAQ에 상장하여 2억 2,600만 달러를 조달했습니다.\\n\\nTesla는 2012년 6월 Model S 고급 세단을 출시했습니다. Model S는 여러 자동차 상을 받았으며 노르웨이(2013년 9월)와 전 세계(2015년 및 2016년)에서 가장 많이 팔린 전기 자동차가 되었습니다. Tesla는 2013년 7월 NASDAQ-100에 합류했습니다.\\n\\n2014년, Tesla는 운전자 지원 시스템인 Autopilot을 발표했습니다. Tesla는 2015년 4월 Powerwall 및 Powerpack과 함께 에너지 저장 시장에 진출하여 일주일 만에 8억 달러의 주문을 받았습니다. Model X SUV는 2015년 9월에 출시되었습니다.\\n\\n### SolarCity 및 Model 3 (2016–2018)\\n\\nTesla는 2016년 11월 SolarCity를 26억 달러에 인수하여 Tesla Energy를 설립했습니다. 2017년 2월, Tesla Motors는 사명을 Tesla, Inc.로 변경했습니다.\\n\\nModel 3 세단은 2016년 4월에 공개되어 일주일 만에 325,000건 이상의 예약이 접수되었습니다. \"생산 지옥\"으로 묘사된 생산 문제로 인해 지연이 발생했습니다. 2018년 말까지 Model 3는 세계에서 가장 많이 팔린 전기 자동차(2018-2021)가 되었습니다. 2018년 8월, Musk는 Tesla를 비상장으로 전환할 계획을 발표했지만 실현되지 않았고 논란과 SEC의 증권 사기 혐의로 이어졌습니다.\\n\\n### 글로벌 확장 및 Model Y (2019–현재)\\n\\n2019년 7월부터 2020년 6월까지 Tesla는 4분기 연속 흑자를 보고했으며 S&P 500에 추가되었습니다. 2020년에는 주가가 크게 상승했으며 시가 총액은 다음 9개의 대형 자동차 제조업체를 합친 것보다 많았습니다.\\n\\nModel Y 중형 크로스오버 SUV는 2019년 3월에 소개되었으며 배송은 2020년 3월에 시작되었습니다. Tesla는 Gigafactory Shanghai (2019), Gigafactory Berlin (2020) 및 Gigafactory Texas (2020)로 생산 능력을 확장했습니다.\\n\\n2023년 3월, Tesla는 잠재적인 관세 영향으로 인해 지연된 Gigafactory Mexico에 대한 계획을 발표했습니다. COVID-19 팬데믹 초기에 Tesla는 2020년 3월에 프리몬트 공장을 폐쇄하고 지방 당국과의 분쟁 후 2020년 5월 11일에 재개장했습니다. Tesla는 2021년 12월에 법적 본사를 Gigafactory Texas로 이전했지만 Megafactory (2022)와 Palo Alto의 글로벌 엔지니어링 본사(2023)로 캘리포니아에서의 입지를 확장했습니다.\\n\\n2021년 초, Tesla는 Bitcoin에 15억 달러를 투자하고 환경 문제로 인해 중단하기 전에 잠시 결제 수단으로 허용했습니다. 2022년 7월까지 Tesla는 Bitcoin 보유량의 약 75%를 매각했습니다. 2023년 5월과 2024년 2월 사이에 북미 EV 제조업체는 Tesla의 북미 충전 표준으로 전환할 계획을 발표했습니다.\\n\\n2023년 11월, Tesla는 Cybertruck 배송을 시작했습니다. 2024년 4월, 회사는 직원 10% 감축을 발표하고 6월에 법인 설립지를 델라웨어에서 텍사스로 이전했습니다. 2024년 10월, Tesla는 미래의 차량 호출 서비스인 Tesla Network를 위해 Cybercab 및 Robovan의 컨셉 버전을 공개했습니다.\\n\\n2024년 12월, 델라웨어 법원은 부적절한 이사회 승인을 이유로 Elon Musk의 560억 달러 급여 패키지를 거부했습니다.\\n\\n## 자동차 제품 및 서비스\\n\\n2024년 11월 현재 Tesla는 Model S, Model X, Model 3, Model Y, Semi 및 Cybertruck의 6가지 차량 모델을 제공합니다. 다음은 Tesla 모델 목록입니다.\\n\\n| Tesla 모델 |          |       |                  |\\n| :--------- | :------- | :---- | :--------------- |\\n| 이름       | 제조년도 | 좌석  | 참고             |\\n| Roadster   | 2008     | 2     | 2012년에 단종    |\\n| Model S    | 2012     | 5/7   |                  |\\n| Model X    | 2015     | 5/6/7 |                  |\\n| Model 3    | 2017     | 5     |                  |\\n| Model Y    | 2020     | 5/7   |                  |\\n| Semi       | 2022     | 2     |                  |\\n| Cybertruck | 2023     | 5     |                  |\\n| Roadster 2 |          | 2/4   | 2025년 출시 예정 |\\n| Cybercab   |          | 2     | 2026년 출시 예정 |\\n| Robovan    |          | 20    | 명시된 기간 없음 |\\n\\n### 사용 가능한 제품\\n\\n- **Model S:** 리프트백 차체 스타일과 듀얼 모터, 전륜 구동 레이아웃을 갖춘 풀사이즈 고급차. Model S 개발은 2007년 이전에 시작되었으며 배송은 2012년 6월에 시작되었습니다.\\n- **Model X:** 듀얼 모터 또는 트리 모터, 전륜 구동 레이아웃을 갖춘 5인승, 6인승 및 7인승 구성으로 제공되는 중형 고급 크로스오버 SUV. 뒷좌석 승객 문은 관절형 \"팔콘 윙\" 디자인으로 수직으로 열립니다. Model X 프로토타입은 2012년 2월에 처음 공개되었으며 배송은 2015년 9월에 시작되었습니다.\\n- **Model 3:** 패스트백 차체 스타일과 듀얼 모터, 전륜 구동 레이아웃 또는 후륜 모터, 후륜 구동 레이아웃을 갖춘 중형차. 이 차량은 고급 Model S 세단보다 저렴하도록 설계되었습니다. Model 3 프로토타입은 2016년에 처음 공개되었으며 일주일 만에 325,000건 이상의 유료 예약이 접수되었습니다.\\n- **Model Y:** 싱글 모터, 후륜 구동 또는 듀얼 모터, 전륜 구동 레이아웃을 갖춘 5인승 및 7인승 구성으로 제공되는 중형 크로스오버 SUV. 이 차량은 고급 Model X SUV보다 저렴하도록 설계되었습니다. Model Y 프로토타입은 2019년 3월에 처음 공개되었으며 배송은 2020년 3월에 시작되었습니다.\\n- **Tesla Semi:** Tesla Semi는 Tesla, Inc.의 클래스 8 세미 트럭으로, 트리 모터, 후륜 구동 레이아웃을 갖추고 있습니다. Tesla는 Semi가 일반적인 디젤 세미 트럭보다 약 3배 더 강력하고 주행 거리가 500마일(800km)이라고 주장합니다. 초기 배송은 2022년 12월 1일에 PepsiCo에 이루어졌습니다.\\n- **Cybertruck:** 2019년 11월에 처음 발표된 풀사이즈 픽업 트럭. 후륜 구동, 듀얼 모터 전륜 구동, 트리 모터 전륜 구동의 세 가지 모델이 제공됩니다.\\n\\n### 발표된 제품\\n\\n- **Roadster (2세대):** 2017년에 공개되었으며 620마일(1,000km)의 주행 거리와 고성능 사양을 갖춘 것으로 알려져 있습니다. 2025년에 생산 예정입니다.\\n- **Tesla 차세대 차량:** 2025년 상반기에 배송될 것으로 예상되는 발표된 배터리 전기 플랫폼.\\n- **Cybercab:** 출시 예정인 2인승 배터리 전기 자율 주행차.\\n- **Robovan:** 미래 개발을 위해 계획된 전기 자율 밴.\\n\\n### 단종\\n\\n- **Tesla Roadster:** 2008년부터 2012년까지 생산된 2인승 스포츠카.\\n\\n### 연결 서비스\\n\\nTesla 자동차에는 내비게이션을 위한 \"표준 연결\"이 함께 제공됩니다. \"프리미엄 연결\"은 구독료로 실시간 교통 정보, 위성 지도, 인터넷 검색 및 미디어 스트리밍을 추가합니다.\\n\\n### 차량 서비스\\n\\nTesla는 원격 진단 및 수리를 우선시하여 모바일 기술자를 파견하거나 필요한 경우 고객을 서비스 센터로 안내합니다. 이 회사는 전 세계에 소매점, 갤러리, 서비스, 배송 및 차체 수리점을 운영하고 있습니다. Tesla는 차량 서비스에서 이익을 얻지 않는 것을 목표로 합니다. 2019년 초에 연간 유지 보수 요구 사항이 제거되었고 대신 브레이크액, 에어컨, 타이어 및 에어 필터를 주기적으로 서비스할 것을 권장합니다.\\n\\n### 충전 서비스\\n\\n- **Supercharger 네트워크:** Tesla의 고전압 DC 급속 충전 네트워크로, 2012년에 도입되었습니다.\\n- **Destination 충전 위치 네트워크:** 호텔, 레스토랑 및 쇼핑 센터에 있는 더 느린 충전기.\\n\\n### 보험 서비스\\n\\nTesla는 Tesla Insurance Services, Inc.를 통해 미국에서 차량 보험을 제공하고 차량 데이터를 사용하여 개인 맞춤 가격을 제공합니다.\\n\\n## 에너지 제품\\n\\nTesla Energy는 태양 에너지 생성 시스템과 배터리 에너지 저장 제품을 개발, 구축, 판매 및 설치합니다. 제품에는 태양 전지판, Solar Roof, Solar Inverter, Powerwall 및 Megapack이 포함됩니다. 이 회사는 대규모 고객을 위한 자동화된 전력 거래, 수요 예측 및 제품 제어를 위한 온라인 플랫폼을 운영하고 있습니다.\\n\\n## 비즈니스 전략\\n\\nTesla의 전략은 배터리 비용을 줄이기 위해 고가, 소량 차량으로 시작한 다음 더 저렴하고 대량 차량을 제공하는 것입니다. Tesla는 자동차의 하드웨어를 지속적으로 업데이트하고 웹사이트와 회사 소유 매장을 통해 직접 차량을 판매합니다. Tesla는 수직적으로 통합되어 많은 구성 요소를 자체 개발합니다. Tesla는 일반적으로 지속 가능한 에너지 채택을 촉진하기 위해 경쟁 업체가 자사 기술을 라이선스하도록 허용합니다.\\n\\n## 기술\\n\\n### 배터리\\n\\nTesla는 CATL, LG Energy Solution 및 Panasonic에서 공급받은 원통형 및 각형 배터리 셀을 사용하고 있으며 자체 배터리를 생산할 수 있는 능력을 구축하고 있습니다.\\n\\n### 소프트웨어\\n\\nTesla는 무선 업데이트를 사용하여 강력한 온보드 컴퓨터를 통해 기능을 추가하거나 문제를 해결합니다.\\n\\n### 모터\\n\\nTesla는 유도 모터와 동기 릴럭턴스 모터(SynRM) 특성을 가진 내부 영구 자석(IPM) 모터를 만듭니다.\\n\\n### 북미 충전 표준\\n\\n북미 충전 표준(NACS)은 Tesla에서 개발한 전기 자동차 충전 커넥터 시스템입니다.\\n\\n### Autopilot 및 완전 자율 주행\\n\\nTesla Autopilot은 Tesla에서 개발한 고급 운전자 지원 시스템(ADAS)으로, 부분적인 차량 자동화를 의미합니다.\\n\\n### 로봇 공학\\n\\nTesla는 대형 주조 기계(Giga Press)를 사용하여 대형 단일 피스 하체를 만듭니다. 이 회사는 2022년부터 Optimus라는 휴머노이드 로봇을 개발해 왔습니다.\\n\\n## 시설\\n\\nTesla는 소매점, 갤러리 및 서비스 센터를 포함하여 전 세계에 대규모 공장과 소규모 시설을 운영하고 있습니다.\\n\\n**Tesla에서 운영하는 주요 시설**\\n\\n| 개장 | 이름                | 도시                    | 국가 | 직원 수 | 제품                               |\\n| :--- | :------------------ | :---------------------- | :--- | :------ | :--------------------------------- |\\n| 2010 | Tesla 프리몬트 공장 | 캘리포니아 주 프리몬트  | 미국 | 22,000  | Model S, Model X, Model 3, Model Y |\\n| 2016 | Gigafactory 네바다  | 네바다 주 스토리 카운티 | 미국 | 7,000   | 배터리, Powerwall, Semi            |\\n| 2017 | Gigafactory 뉴욕    | 뉴욕 주 버팔로          | 미국 | 1,500   | Solar Roof, Supercharger           |\\n| 2019 | Gigafactory 상하이  | 상하이                  | 중국 | 20,000  | Model 3, Model Y, Supercharger     |\\n| 2022 | Gigafactory 베를린  | 그륀하이데              | 독일 | 10,000  | Model Y                            |\\n| 2022 | Gigafactory 텍사스  | 텍사스 주 오스틴        | 미국 | 12,000  | Model Y, Cybertruck                |\\n\\n## 파트너\\n\\nTesla는 Panasonic과 파트너십을 맺고 있으며 리튬 공급에 대한 장기 계약을 맺고 있습니다. 이전 파트너로는 Daimler와 Toyota가 있습니다.\\n\\n## 소송 및 논란\\n\\nTesla는 성희롱, 노동 분쟁, 사기 혐의, 대리점 분쟁, 지적 재산권, 환경 위반, 재산 피해, 인종 차별, COVID-19 팬데믹 대응 및 수리 권리와 관련된 소송 및 논란에 직면했습니다.\\n\\n## 비판\\n\\nTesla는 데이터 개인 정보 보호, 공매도자, 지연, 차량 제품 문제, 화재, Autopilot 충돌, 소프트웨어 해킹, 가상 제동 및 주행 거리 성능과 관련된 비판에 직면했습니다.\\n')]\n"
     ]
    }
   ],
   "source": [
    "from langchain_community.document_loaders import TextLoader\n",
    "\n",
    "# 데이터 로드\n",
    "def load_text_files(txt_files):\n",
    "    data = []\n",
    "\n",
    "    for text_file in txt_files:\n",
    "        loader = TextLoader(text_file, encoding='utf-8')\n",
    "        data += loader.load()\n",
    "\n",
    "    return data\n",
    "\n",
    "korean_txt_files = glob(os.path.join('data', '*_KR.md')) \n",
    "korean_data = load_text_files(korean_txt_files)\n",
    "\n",
    "print('Korean data:')\n",
    "pprint(korean_data)"
   ]
  },
  {
   "cell_type": "code",
   "execution_count": 4,
   "metadata": {},
   "outputs": [
    {
     "name": "stdout",
     "output_type": "stream",
     "text": [
      "한국어 문서 수: 22\n",
      "----------------------------------------------------------------------------------------------------\n",
      "{'source': 'data\\\\리비안_KR.md'}\n",
      "('Rivian Automotive, Inc.는 2009년에 설립된 미국의 전기 자동차 제조업체, 자동차 기술 및 야외 레크리에이션 '\n",
      " '회사입니다.\\n'\n",
      " '\\n'\n",
      " '**주요 정보:**\\n'\n",
      " '\\n'\n",
      " '- **회사 유형:** 상장\\n'\n",
      " '- **거래소:** NASDAQ: RIVN\\n'\n",
      " '- **설립:** 2009년 6월, 플로리다 주 록ledge\\n'\n",
      " '- **설립자:** R. J. 스캐린지\\n'\n",
      " '- **본사:** 미국 캘리포니아 주 어바인\\n'\n",
      " '- **서비스 지역:** 북미\\n'\n",
      " '- **주요 인물:** R. J. 스캐린지 (CEO)\\n'\n",
      " '- **제품:** 전기 자동차, 배터리\\n'\n",
      " '- **생산량 (2023):** 57,232대\\n'\n",
      " '- **서비스:** 전기 자동차 충전, 자동차 보험\\n'\n",
      " '- **수익 (2023):** 44억 3천만 미국 달러\\n'\n",
      " '- **순이익 (2023):** -54억 미국 달러\\n'\n",
      " '- **총 자산 (2023):** 168억 미국 달러\\n'\n",
      " '- **총 자본 (2023):** 91억 4천만 미국 달러\\n'\n",
      " '- **직원 수 (2023년 12월):** 16,790명\\n'\n",
      " '- **웹사이트:** rivian.com\\n'\n",
      " '\\n'\n",
      " '**개요**')\n",
      "----------------------------------------------------------------------------------------------------\n",
      "{'source': 'data\\\\리비안_KR.md'}\n",
      "('**개요**\\n'\n",
      " '\\n'\n",
      " 'Rivian은 \"스케이트보드\" 플랫폼(R1T 및 R1S 모델)을 기반으로 한 전기 스포츠 유틸리티 차량(SUV), 픽업 트럭 및 전기 '\n",
      " '배달 밴(Rivian EDV)을 생산합니다. R1T 배송은 2021년 말에 시작되었습니다. 회사는 2022년에 미국에서 충전 네트워크를 '\n",
      " '시작하여 2024년에 다른 차량에도 개방했습니다. 생산 공장은 일리노이 주 노멀에 있으며, 다른 시설은 미국, 캐나다, 영국 및 '\n",
      " '세르비아의 여러 주에 있습니다.\\n'\n",
      " '\\n'\n",
      " '**역사**\\n'\n",
      " '\\n'\n",
      " '**초창기 (2009–15):**\\n'\n",
      " '\\n'\n",
      " '- 2009년 R. J. 스캐린지가 Mainstream Motors로 설립.\\n'\n",
      " '- 2011년 Rivian Automotive로 사명 변경.\\n'\n",
      " '- 처음에는 스포츠카 프로토타입(R1)에 집중했지만 전기 및 자율 주행 차량으로 전환.\\n'\n",
      " '\\n'\n",
      " '**생산 준비 (2016–20):**\\n'\n",
      " '\\n'\n",
      " '- 2017년 일리노이 주 노멀에 있는 이전 Mitsubishi Motors 제조 공장을 1,600만 달러에 인수.\\n'\n",
      " '- 2017년 12월, 첫 두 제품인 R1T (픽업 트럭)와 R1S (SUV)를 공개.\\n'\n",
      " '- 생산은 2020년에 시작될 예정.\\n'\n",
      " '\\n'\n",
      " '**첫 모델 배송; IPO; 감원 및 확장 (2021–24):**')\n"
     ]
    }
   ],
   "source": [
    "from langchain_text_splitters import RecursiveCharacterTextSplitter\n",
    "\n",
    "# 문장을 구분하여 분할 - 정규표현식 사용 (문장 구분자: 마침표, 느낌표, 물음표 다음에 공백이 오는 경우)\n",
    "text_splitter = RecursiveCharacterTextSplitter.from_tiktoken_encoder(\n",
    "    encoding_name=\"cl100k_base\",    # TikToken 인코더 이름\n",
    "    separators=['\\n\\n', '\\n', r'(?<=[.!?])\\s+'],   # 구분자\n",
    "    chunk_size=500,\n",
    "    chunk_overlap=30,\n",
    "    is_separator_regex=True,      # 구분자가 정규식인지 여부\n",
    "    keep_separator=True,          # 구분자 유지 여부\n",
    ")\n",
    "\n",
    "korean_docs = text_splitter.split_documents(korean_data)\n",
    "\n",
    "print(\"한국어 문서 수:\", len(korean_docs))\n",
    "print(\"-\"*100)\n",
    "print(korean_docs[0].metadata)\n",
    "pprint(korean_docs[0].page_content)\n",
    "print(\"-\"*100)\n",
    "print(korean_docs[1].metadata)\n",
    "pprint(korean_docs[1].page_content)"
   ]
  },
  {
   "cell_type": "code",
   "execution_count": 5,
   "metadata": {},
   "outputs": [
    {
     "name": "stdout",
     "output_type": "stream",
     "text": [
      "저장된 Document 개수: 65\n"
     ]
    }
   ],
   "source": [
    "from langchain_chroma import Chroma\n",
    "from langchain_openai import OpenAIEmbeddings\n",
    "\n",
    "# OpenAI Embeddings 모델을 로드\n",
    "embedding_model = OpenAIEmbeddings(model=\"text-embedding-3-small\")\n",
    "\n",
    "# Chroma 벡터 저장소 생성하기\n",
    "vector_store = Chroma.from_documents(\n",
    "    documents=korean_docs,\n",
    "    embedding=embedding_model,    \n",
    "    collection_name=\"db_korean_cosine\", \n",
    "    persist_directory=\"./chroma_db\",\n",
    "    collection_metadata = {'hnsw:space': 'cosine'}, # l2, ip, cosine 중에서 선택 \n",
    ")\n",
    "\n",
    "# 결과 확인\n",
    "print(f\"저장된 Document 개수: {len(vector_store.get()['ids'])}\")"
   ]
  },
  {
   "cell_type": "code",
   "execution_count": 6,
   "metadata": {},
   "outputs": [
    {
     "name": "stdout",
     "output_type": "stream",
     "text": [
      "저장된 Document 개수: 65\n"
     ]
    }
   ],
   "source": [
    "from langchain_chroma import Chroma\n",
    "from langchain_openai import OpenAIEmbeddings\n",
    "\n",
    "# OpenAI Embeddings 모델을 로드\n",
    "embedding_model = OpenAIEmbeddings(model=\"text-embedding-3-small\")\n",
    "\n",
    "# Chroma 벡터 저장소 로드\n",
    "vector_store = Chroma(\n",
    "    embedding_function=embedding_model,    \n",
    "    collection_name=\"db_korean_cosine\", \n",
    "    persist_directory=\"./chroma_db\",\n",
    ")\n",
    "\n",
    "# 결과 확인\n",
    "print(f\"저장된 Document 개수: {len(vector_store.get()['ids'])}\")"
   ]
  },
  {
   "cell_type": "markdown",
   "metadata": {},
   "source": [
    "`(2) LLM 설정`"
   ]
  },
  {
   "cell_type": "code",
   "execution_count": 7,
   "metadata": {},
   "outputs": [],
   "source": [
    "from ragas.llms import LangchainLLMWrapper\n",
    "from ragas.embeddings import LangchainEmbeddingsWrapper\n",
    "from langchain_openai import ChatOpenAI\n",
    "from langchain_openai import OpenAIEmbeddings\n",
    "\n",
    "# LLM과 임베딩 모델 초기화\n",
    "generator_llm = LangchainLLMWrapper(ChatOpenAI(model=\"gpt-4.1-mini\"))\n",
    "generator_embeddings = LangchainEmbeddingsWrapper(OpenAIEmbeddings(model=\"text-embedding-3-small\"))"
   ]
  },
  {
   "cell_type": "markdown",
   "metadata": {},
   "source": [
    "`(3) Test Data 생성`"
   ]
  },
  {
   "cell_type": "code",
   "execution_count": 8,
   "metadata": {},
   "outputs": [],
   "source": [
    "from ragas.testset.persona import Persona\n",
    "\n",
    "# 페르소나 정의 (다양한 관점에서 질문 생성)\n",
    "personas = [\n",
    "    Persona(\n",
    "        name=\"graduate_researcher\",  # 박사과정 연구원: 심도 있는 분석적 질문\n",
    "        role_description=\"미국 전기차 시장을 연구하는 한국인 박사과정 연구원으로, 전기차 정책과 시장 동향에 대해 깊이 있는 분석을 하고 있습니다. 한국어만을 사용합니다.\",\n",
    "    ),\n",
    "    Persona(\n",
    "        name=\"masters_student\",    # 석사과정 학생: 개념 이해를 위한 질문\n",
    "        role_description=\"전기차 산업을 공부하는 한국인 석사과정 학생으로, 미국 전기차 시장의 기초적인 개념과 트렌드를 이해하려 노력하고 있습니다. 한국어만을 사용합니다.\",\n",
    "    ),\n",
    "    Persona(\n",
    "        name=\"industry_analyst\",   # 산업 분석가: 실무 중심적 질문\n",
    "        role_description=\"한국 자동차 회사에서 미국 전기차 시장을 분석하는 주니어 연구원으로, 실무적인 시장 데이터와 경쟁사 동향에 관심이 많습니다. 한국어만을 사용합니다.\",\n",
    "    ),\n",
    "    Persona(\n",
    "        name=\"undergraduate_student\",  # 학부생: 기초적인 학습 질문\n",
    "        role_description=\"자동차 공학을 전공하는 한국인 학부생으로, 미국 전기차 기술과 시장에 대해 기본적인 지식을 습득하고자 합니다. 한국어만을 사용합니다.\",\n",
    "    )\n",
    "]"
   ]
  },
  {
   "cell_type": "code",
   "execution_count": 9,
   "metadata": {},
   "outputs": [
    {
     "name": "stderr",
     "output_type": "stream",
     "text": [
      "Applying CustomNodeFilter:   0%|          | 0/22 [00:00<?, ?it/s]         Node a300fc28-a2f3-4a6b-bff5-3cf3d31d6e52 does not have a summary. Skipping filtering.\n",
      "Generating Scenarios: 100%|██████████| 3/3 [00:15<00:00,  5.01s/it]                                          \n",
      "Generating Samples: 100%|██████████| 21/21 [00:06<00:00,  3.33it/s]\n"
     ]
    }
   ],
   "source": [
    "from ragas.testset import TestsetGenerator\n",
    "\n",
    "# TestsetGenerator 생성\n",
    "generator = TestsetGenerator(llm=generator_llm, embedding_model=generator_embeddings, persona_list=personas)\n",
    "\n",
    "# 합성 데이터 생성\n",
    "dataset = generator.generate_with_langchain_docs(korean_docs, testset_size=20)"
   ]
  },
  {
   "cell_type": "code",
   "execution_count": 11,
   "metadata": {},
   "outputs": [
    {
     "ename": "TypeError",
     "evalue": "Cannot convert numpy.ndarray to numpy.ndarray",
     "output_type": "error",
     "traceback": [
      "\u001b[31m---------------------------------------------------------------------------\u001b[39m",
      "\u001b[31mTypeError\u001b[39m                                 Traceback (most recent call last)",
      "\u001b[36mCell\u001b[39m\u001b[36m \u001b[39m\u001b[32mIn[11]\u001b[39m\u001b[32m, line 1\u001b[39m\n\u001b[32m----> \u001b[39m\u001b[32m1\u001b[39m test_data = \u001b[43mdataset\u001b[49m\u001b[43m.\u001b[49m\u001b[43mto_pandas\u001b[49m\u001b[43m(\u001b[49m\u001b[43m)\u001b[49m\n\u001b[32m      2\u001b[39m test_data\n",
      "\u001b[36mFile \u001b[39m\u001b[32mc:\\Users\\KEA\\llm\\.venv\\Lib\\site-packages\\ragas\\dataset_schema.py:230\u001b[39m, in \u001b[36mRagasDataset.to_pandas\u001b[39m\u001b[34m(self)\u001b[39m\n\u001b[32m    225\u001b[39m     \u001b[38;5;28;01mraise\u001b[39;00m \u001b[38;5;167;01mImportError\u001b[39;00m(\n\u001b[32m    226\u001b[39m         \u001b[33m\"\u001b[39m\u001b[33mpandas is not installed. Please install it to use this function.\u001b[39m\u001b[33m\"\u001b[39m\n\u001b[32m    227\u001b[39m     )\n\u001b[32m    229\u001b[39m data = \u001b[38;5;28mself\u001b[39m.to_list()\n\u001b[32m--> \u001b[39m\u001b[32m230\u001b[39m \u001b[38;5;28;01mreturn\u001b[39;00m \u001b[43mpd\u001b[49m\u001b[43m.\u001b[49m\u001b[43mDataFrame\u001b[49m\u001b[43m(\u001b[49m\u001b[43mdata\u001b[49m\u001b[43m)\u001b[49m\n",
      "\u001b[36mFile \u001b[39m\u001b[32mc:\\Users\\KEA\\llm\\.venv\\Lib\\site-packages\\pandas\\core\\frame.py:851\u001b[39m, in \u001b[36mDataFrame.__init__\u001b[39m\u001b[34m(self, data, index, columns, dtype, copy)\u001b[39m\n\u001b[32m    849\u001b[39m     \u001b[38;5;28;01mif\u001b[39;00m columns \u001b[38;5;129;01mis\u001b[39;00m \u001b[38;5;129;01mnot\u001b[39;00m \u001b[38;5;28;01mNone\u001b[39;00m:\n\u001b[32m    850\u001b[39m         columns = ensure_index(columns)\n\u001b[32m--> \u001b[39m\u001b[32m851\u001b[39m     arrays, columns, index = \u001b[43mnested_data_to_arrays\u001b[49m\u001b[43m(\u001b[49m\n\u001b[32m    852\u001b[39m \u001b[43m        \u001b[49m\u001b[38;5;66;43;03m# error: Argument 3 to \"nested_data_to_arrays\" has incompatible\u001b[39;49;00m\n\u001b[32m    853\u001b[39m \u001b[43m        \u001b[49m\u001b[38;5;66;43;03m# type \"Optional[Collection[Any]]\"; expected \"Optional[Index]\"\u001b[39;49;00m\n\u001b[32m    854\u001b[39m \u001b[43m        \u001b[49m\u001b[43mdata\u001b[49m\u001b[43m,\u001b[49m\n\u001b[32m    855\u001b[39m \u001b[43m        \u001b[49m\u001b[43mcolumns\u001b[49m\u001b[43m,\u001b[49m\n\u001b[32m    856\u001b[39m \u001b[43m        \u001b[49m\u001b[43mindex\u001b[49m\u001b[43m,\u001b[49m\u001b[43m  \u001b[49m\u001b[38;5;66;43;03m# type: ignore[arg-type]\u001b[39;49;00m\n\u001b[32m    857\u001b[39m \u001b[43m        \u001b[49m\u001b[43mdtype\u001b[49m\u001b[43m,\u001b[49m\n\u001b[32m    858\u001b[39m \u001b[43m    \u001b[49m\u001b[43m)\u001b[49m\n\u001b[32m    859\u001b[39m     mgr = arrays_to_mgr(\n\u001b[32m    860\u001b[39m         arrays,\n\u001b[32m    861\u001b[39m         columns,\n\u001b[32m   (...)\u001b[39m\u001b[32m    864\u001b[39m         typ=manager,\n\u001b[32m    865\u001b[39m     )\n\u001b[32m    866\u001b[39m \u001b[38;5;28;01melse\u001b[39;00m:\n",
      "\u001b[36mFile \u001b[39m\u001b[32mc:\\Users\\KEA\\llm\\.venv\\Lib\\site-packages\\pandas\\core\\internals\\construction.py:520\u001b[39m, in \u001b[36mnested_data_to_arrays\u001b[39m\u001b[34m(data, columns, index, dtype)\u001b[39m\n\u001b[32m    517\u001b[39m \u001b[38;5;28;01mif\u001b[39;00m is_named_tuple(data[\u001b[32m0\u001b[39m]) \u001b[38;5;129;01mand\u001b[39;00m columns \u001b[38;5;129;01mis\u001b[39;00m \u001b[38;5;28;01mNone\u001b[39;00m:\n\u001b[32m    518\u001b[39m     columns = ensure_index(data[\u001b[32m0\u001b[39m]._fields)\n\u001b[32m--> \u001b[39m\u001b[32m520\u001b[39m arrays, columns = \u001b[43mto_arrays\u001b[49m\u001b[43m(\u001b[49m\u001b[43mdata\u001b[49m\u001b[43m,\u001b[49m\u001b[43m \u001b[49m\u001b[43mcolumns\u001b[49m\u001b[43m,\u001b[49m\u001b[43m \u001b[49m\u001b[43mdtype\u001b[49m\u001b[43m=\u001b[49m\u001b[43mdtype\u001b[49m\u001b[43m)\u001b[49m\n\u001b[32m    521\u001b[39m columns = ensure_index(columns)\n\u001b[32m    523\u001b[39m \u001b[38;5;28;01mif\u001b[39;00m index \u001b[38;5;129;01mis\u001b[39;00m \u001b[38;5;28;01mNone\u001b[39;00m:\n",
      "\u001b[36mFile \u001b[39m\u001b[32mc:\\Users\\KEA\\llm\\.venv\\Lib\\site-packages\\pandas\\core\\internals\\construction.py:837\u001b[39m, in \u001b[36mto_arrays\u001b[39m\u001b[34m(data, columns, dtype)\u001b[39m\n\u001b[32m    835\u001b[39m     arr = _list_to_arrays(data)\n\u001b[32m    836\u001b[39m \u001b[38;5;28;01melif\u001b[39;00m \u001b[38;5;28misinstance\u001b[39m(data[\u001b[32m0\u001b[39m], abc.Mapping):\n\u001b[32m--> \u001b[39m\u001b[32m837\u001b[39m     arr, columns = \u001b[43m_list_of_dict_to_arrays\u001b[49m\u001b[43m(\u001b[49m\u001b[43mdata\u001b[49m\u001b[43m,\u001b[49m\u001b[43m \u001b[49m\u001b[43mcolumns\u001b[49m\u001b[43m)\u001b[49m\n\u001b[32m    838\u001b[39m \u001b[38;5;28;01melif\u001b[39;00m \u001b[38;5;28misinstance\u001b[39m(data[\u001b[32m0\u001b[39m], ABCSeries):\n\u001b[32m    839\u001b[39m     arr, columns = _list_of_series_to_arrays(data, columns)\n",
      "\u001b[36mFile \u001b[39m\u001b[32mc:\\Users\\KEA\\llm\\.venv\\Lib\\site-packages\\pandas\\core\\internals\\construction.py:918\u001b[39m, in \u001b[36m_list_of_dict_to_arrays\u001b[39m\u001b[34m(data, columns)\u001b[39m\n\u001b[32m    916\u001b[39m     sort = \u001b[38;5;129;01mnot\u001b[39;00m \u001b[38;5;28many\u001b[39m(\u001b[38;5;28misinstance\u001b[39m(d, \u001b[38;5;28mdict\u001b[39m) \u001b[38;5;28;01mfor\u001b[39;00m d \u001b[38;5;129;01min\u001b[39;00m data)\n\u001b[32m    917\u001b[39m     pre_cols = lib.fast_unique_multiple_list_gen(gen, sort=sort)\n\u001b[32m--> \u001b[39m\u001b[32m918\u001b[39m     columns = \u001b[43mensure_index\u001b[49m\u001b[43m(\u001b[49m\u001b[43mpre_cols\u001b[49m\u001b[43m)\u001b[49m\n\u001b[32m    920\u001b[39m \u001b[38;5;66;03m# assure that they are of the base dict class and not of derived\u001b[39;00m\n\u001b[32m    921\u001b[39m \u001b[38;5;66;03m# classes\u001b[39;00m\n\u001b[32m    922\u001b[39m data = [d \u001b[38;5;28;01mif\u001b[39;00m \u001b[38;5;28mtype\u001b[39m(d) \u001b[38;5;129;01mis\u001b[39;00m \u001b[38;5;28mdict\u001b[39m \u001b[38;5;28;01melse\u001b[39;00m \u001b[38;5;28mdict\u001b[39m(d) \u001b[38;5;28;01mfor\u001b[39;00m d \u001b[38;5;129;01min\u001b[39;00m data]  \u001b[38;5;66;03m# noqa: E721\u001b[39;00m\n",
      "\u001b[36mFile \u001b[39m\u001b[32mc:\\Users\\KEA\\llm\\.venv\\Lib\\site-packages\\pandas\\core\\indexes\\base.py:7647\u001b[39m, in \u001b[36mensure_index\u001b[39m\u001b[34m(index_like, copy)\u001b[39m\n\u001b[32m   7645\u001b[39m         \u001b[38;5;28;01mreturn\u001b[39;00m MultiIndex.from_arrays(index_like)\n\u001b[32m   7646\u001b[39m     \u001b[38;5;28;01melse\u001b[39;00m:\n\u001b[32m-> \u001b[39m\u001b[32m7647\u001b[39m         \u001b[38;5;28;01mreturn\u001b[39;00m \u001b[43mIndex\u001b[49m\u001b[43m(\u001b[49m\u001b[43mindex_like\u001b[49m\u001b[43m,\u001b[49m\u001b[43m \u001b[49m\u001b[43mcopy\u001b[49m\u001b[43m=\u001b[49m\u001b[43mcopy\u001b[49m\u001b[43m,\u001b[49m\u001b[43m \u001b[49m\u001b[43mtupleize_cols\u001b[49m\u001b[43m=\u001b[49m\u001b[38;5;28;43;01mFalse\u001b[39;49;00m\u001b[43m)\u001b[49m\n\u001b[32m   7648\u001b[39m \u001b[38;5;28;01melse\u001b[39;00m:\n\u001b[32m   7649\u001b[39m     \u001b[38;5;28;01mreturn\u001b[39;00m Index(index_like, copy=copy)\n",
      "\u001b[36mFile \u001b[39m\u001b[32mc:\\Users\\KEA\\llm\\.venv\\Lib\\site-packages\\pandas\\core\\indexes\\base.py:565\u001b[39m, in \u001b[36mIndex.__new__\u001b[39m\u001b[34m(cls, data, dtype, copy, name, tupleize_cols)\u001b[39m\n\u001b[32m    562\u001b[39m         data = com.asarray_tuplesafe(data, dtype=_dtype_obj)\n\u001b[32m    564\u001b[39m \u001b[38;5;28;01mtry\u001b[39;00m:\n\u001b[32m--> \u001b[39m\u001b[32m565\u001b[39m     arr = \u001b[43msanitize_array\u001b[49m\u001b[43m(\u001b[49m\u001b[43mdata\u001b[49m\u001b[43m,\u001b[49m\u001b[43m \u001b[49m\u001b[38;5;28;43;01mNone\u001b[39;49;00m\u001b[43m,\u001b[49m\u001b[43m \u001b[49m\u001b[43mdtype\u001b[49m\u001b[43m=\u001b[49m\u001b[43mdtype\u001b[49m\u001b[43m,\u001b[49m\u001b[43m \u001b[49m\u001b[43mcopy\u001b[49m\u001b[43m=\u001b[49m\u001b[43mcopy\u001b[49m\u001b[43m)\u001b[49m\n\u001b[32m    566\u001b[39m \u001b[38;5;28;01mexcept\u001b[39;00m \u001b[38;5;167;01mValueError\u001b[39;00m \u001b[38;5;28;01mas\u001b[39;00m err:\n\u001b[32m    567\u001b[39m     \u001b[38;5;28;01mif\u001b[39;00m \u001b[33m\"\u001b[39m\u001b[33mindex must be specified when data is not list-like\u001b[39m\u001b[33m\"\u001b[39m \u001b[38;5;129;01min\u001b[39;00m \u001b[38;5;28mstr\u001b[39m(err):\n",
      "\u001b[36mFile \u001b[39m\u001b[32mc:\\Users\\KEA\\llm\\.venv\\Lib\\site-packages\\pandas\\core\\construction.py:654\u001b[39m, in \u001b[36msanitize_array\u001b[39m\u001b[34m(data, index, dtype, copy, allow_2d)\u001b[39m\n\u001b[32m    651\u001b[39m     subarr = _try_cast(data, dtype, copy)\n\u001b[32m    653\u001b[39m \u001b[38;5;28;01melse\u001b[39;00m:\n\u001b[32m--> \u001b[39m\u001b[32m654\u001b[39m     subarr = \u001b[43mmaybe_convert_platform\u001b[49m\u001b[43m(\u001b[49m\u001b[43mdata\u001b[49m\u001b[43m)\u001b[49m\n\u001b[32m    655\u001b[39m     \u001b[38;5;28;01mif\u001b[39;00m subarr.dtype == \u001b[38;5;28mobject\u001b[39m:\n\u001b[32m    656\u001b[39m         subarr = cast(np.ndarray, subarr)\n",
      "\u001b[36mFile \u001b[39m\u001b[32mc:\\Users\\KEA\\llm\\.venv\\Lib\\site-packages\\pandas\\core\\dtypes\\cast.py:138\u001b[39m, in \u001b[36mmaybe_convert_platform\u001b[39m\u001b[34m(values)\u001b[39m\n\u001b[32m    136\u001b[39m \u001b[38;5;28;01mif\u001b[39;00m arr.dtype == _dtype_obj:\n\u001b[32m    137\u001b[39m     arr = cast(np.ndarray, arr)\n\u001b[32m--> \u001b[39m\u001b[32m138\u001b[39m     arr = \u001b[43mlib\u001b[49m\u001b[43m.\u001b[49m\u001b[43mmaybe_convert_objects\u001b[49m\u001b[43m(\u001b[49m\u001b[43marr\u001b[49m\u001b[43m)\u001b[49m\n\u001b[32m    140\u001b[39m \u001b[38;5;28;01mreturn\u001b[39;00m arr\n",
      "\u001b[36mFile \u001b[39m\u001b[32mlib.pyx:2538\u001b[39m, in \u001b[36mpandas._libs.lib.maybe_convert_objects\u001b[39m\u001b[34m()\u001b[39m\n",
      "\u001b[31mTypeError\u001b[39m: Cannot convert numpy.ndarray to numpy.ndarray"
     ]
    }
   ],
   "source": [
    "test_data = dataset.to_pandas()\n",
    "test_data"
   ]
  },
  {
   "cell_type": "code",
   "execution_count": 24,
   "metadata": {},
   "outputs": [
    {
     "ename": "NameError",
     "evalue": "name 'test_data' is not defined",
     "output_type": "error",
     "traceback": [
      "\u001b[31m---------------------------------------------------------------------------\u001b[39m",
      "\u001b[31mNameError\u001b[39m                                 Traceback (most recent call last)",
      "\u001b[36mCell\u001b[39m\u001b[36m \u001b[39m\u001b[32mIn[24]\u001b[39m\u001b[32m, line 2\u001b[39m\n\u001b[32m      1\u001b[39m \u001b[38;5;66;03m# CSV 저장\u001b[39;00m\n\u001b[32m----> \u001b[39m\u001b[32m2\u001b[39m \u001b[43mtest_data\u001b[49m.to_csv(\u001b[33m'\u001b[39m\u001b[33m./data/ragas_testset.csv\u001b[39m\u001b[33m'\u001b[39m, index=\u001b[38;5;28;01mFalse\u001b[39;00m)\n",
      "\u001b[31mNameError\u001b[39m: name 'test_data' is not defined"
     ]
    }
   ],
   "source": [
    "# CSV 저장\n",
    "test_data.to_csv('./data/ragas_testset.csv', index=False)"
   ]
  },
  {
   "cell_type": "markdown",
   "metadata": {},
   "source": [
    "### **[실습] 평가 데이터셋 합성**\n",
    "\n",
    "- \"data/*_EN.md\" 파일들을 문서로 가져와서 청크 길이를 300 토큰 단위로 분할\n",
    "- ragas 활용 테스트 데이터셋 5개 생성"
   ]
  },
  {
   "cell_type": "code",
   "execution_count": null,
   "metadata": {},
   "outputs": [],
   "source": [
    "from langchain_community.document_loaders import TextLoader\n",
    "\n",
    "# \"data/*_EN.md\" 파일 로드\n",
    "def load_text_files(txt_files):\n",
    "    data = []\n",
    "\n",
    "    for text_file in txt_files:\n",
    "        loader = TextLoader(text_file, encoding='utf-8')\n",
    "        data += loader.load()\n",
    "\n",
    "    return data\n",
    "\n",
    "english_txt_files = glob(os.path.join('data', '*_EN.md'))\n",
    "english_data = load_text_files(english_txt_files)\n",
    "\n",
    "print('English data:')\n",
    "pprint(english_data)"
   ]
  },
  {
   "cell_type": "code",
   "execution_count": null,
   "metadata": {},
   "outputs": [],
   "source": [
    "# 여기에 코드를 작성하세요."
   ]
  },
  {
   "cell_type": "markdown",
   "metadata": {},
   "source": [
    "---\n",
    "\n",
    "### **평가 지표(Evaluation Metric)**\n",
    "\n",
    "#### 1) **검색(Retrieval) 평가**  \n",
    "\n",
    "- **Non-Rank Based Metrics**: Accuracy, Precision, Recall@k 등을 통해 관련성의 이진적 평가를 수행\n",
    "\n",
    "- **Rank-Based Metrics**: MRR(Mean Reciprocal Rank), MAP(Mean Average Precision)를 통해 검색 결과의 순위를 고려한 평가를 수행\n",
    "\n",
    "- **RAG 특화 지표**: 기존 검색 평가 방식의 한계를 보완하는 LLM-as-judge 방식 도입\n",
    "\n",
    "- **포괄적 평가**: 정확도, 관련성, 다양성, 강건성을 통합적으로 측정\n",
    "\n",
    "#### 2) **생성(Generation) 평가**\n",
    "\n",
    "- **전통적 평가**: ROUGE(요약), BLEU(번역), BertScore(의미 유사도) 지표 활용\n",
    "\n",
    "- **LLM 기반 평가**: 응집성, 관련성, 유창성을 종합적으로 판단하는 새로운 접근법 도입 (전통적인 참조 비교가 어려운 상황에서 유용)\n",
    "\n",
    "- **다차원 평가**: 품질, 일관성, 사실성, 가독성, 사용자 만족도를 포괄적 측정\n",
    "\n",
    "- **상세 프롬프트**와 **사용자 선호도** 기준으로 생성 텍스트 품질 평가"
   ]
  },
  {
   "cell_type": "markdown",
   "metadata": {},
   "source": [
    "`(1) RAG 체인 - 평가 대상`"
   ]
  },
  {
   "cell_type": "code",
   "execution_count": null,
   "metadata": {},
   "outputs": [],
   "source": [
    "from langchain_openai import ChatOpenAI\n",
    "from langchain_core.prompts import ChatPromptTemplate\n",
    "from langchain_core.output_parsers import StrOutputParser\n",
    "\n",
    "# 벡터 저장소 검색기 생성\n",
    "retriever = vector_store.as_retriever(search_kwargs={\"k\": 3})\n",
    "\n",
    "# RAG 체인 \n",
    "llm = ChatOpenAI(model=\"gpt-4.1-mini\", temperature=0)\n",
    "\n",
    "# 템플릿 생성\n",
    "template = \"\"\"Answer the question based only on the following context:\n",
    "\n",
    "[Context]\n",
    "{context}\n",
    "\n",
    "[Question]\n",
    "{query}\n",
    "\n",
    "[Answer]\n",
    "\"\"\"\n",
    "prompt = ChatPromptTemplate.from_template(template)\n",
    "\n",
    "qa_chain = prompt | llm | StrOutputParser()\n",
    "\n",
    "def format_docs(relevant_docs):\n",
    "    return \"\\n\".join(doc.page_content for doc in relevant_docs)\n",
    "\n",
    "\n",
    "query = \"Tesla는 언제 누가 만들었나?\"\n",
    "\n",
    "relevant_docs = retriever.invoke(query)\n",
    "qa_chain.invoke({\"context\": format_docs(relevant_docs), \"query\": query})"
   ]
  },
  {
   "cell_type": "markdown",
   "metadata": {},
   "source": [
    "`(2) 평가 수행을 위한 데이터셋 전처리`"
   ]
  },
  {
   "cell_type": "code",
   "execution_count": null,
   "metadata": {},
   "outputs": [],
   "source": [
    "# 데이터 로드\n",
    "import pandas as pd\n",
    "testset = pd.read_excel('data/testset.xlsx')\n",
    "\n",
    "# 데이터 확인\n",
    "testset.head()"
   ]
  },
  {
   "cell_type": "code",
   "execution_count": null,
   "metadata": {},
   "outputs": [],
   "source": [
    "from ragas import EvaluationDataset\n",
    "\n",
    "# 데이터셋 생성\n",
    "dataset = []\n",
    "\n",
    "# 각 행에 대해 RAG 체인을 호출하여 결과를 저장\n",
    "for row in testset.itertuples():\n",
    "    query = row.user_input   # 사용자 입력\n",
    "    reference = row.reference  # 참조 답변\n",
    "    relevant_docs = retriever.invoke(query)  # 검색된 문서\n",
    "    response = qa_chain.invoke(      # RAG 체인 생성 답변 생성\n",
    "        {\n",
    "            \"context\": format_docs(relevant_docs),\n",
    "            \"query\": query,\n",
    "        })\n",
    "        #,config={\"callbacks\": [langfuse_handler]})  \n",
    "    \n",
    "    dataset.append(\n",
    "        {\n",
    "            \"user_input\": query,\n",
    "            \"retrieved_contexts\": [rdoc.page_content for rdoc in relevant_docs],\n",
    "            \"response\": response,\n",
    "            \"reference\": reference,\n",
    "        }\n",
    "    )\n",
    "\n",
    "evaluation_dataset = EvaluationDataset.from_list(dataset)"
   ]
  },
  {
   "cell_type": "code",
   "execution_count": null,
   "metadata": {},
   "outputs": [],
   "source": [
    "# 데이터프레임 변환하여 확인 \n",
    "evaluation_dataset.to_pandas().head()"
   ]
  },
  {
   "cell_type": "code",
   "execution_count": null,
   "metadata": {},
   "outputs": [],
   "source": [
    "# 데이터 저장\n",
    "evaluation_dataset.to_pandas().to_csv('data/evaluation_dataset.csv', index=False)"
   ]
  },
  {
   "cell_type": "markdown",
   "metadata": {},
   "source": [
    "### **[실습] RAG 체인 구성 및 추론 실행**\n",
    "\n",
    "- \"data/*_EN.md\" 문서에 대한 RAG 체인을 구성\n",
    "- 이전에 구축한 테스트 데이터셋 5개에 대한 RAG 체인의 출력값을 생성"
   ]
  },
  {
   "cell_type": "code",
   "execution_count": null,
   "metadata": {},
   "outputs": [],
   "source": [
    "# 데이터 로드\n",
    "testset = pd.read_csv('data/testset_en.csv')\n",
    "testset.head(2)"
   ]
  },
  {
   "cell_type": "code",
   "execution_count": null,
   "metadata": {},
   "outputs": [],
   "source": [
    "# 여기에 코드를 작성하세요."
   ]
  },
  {
   "cell_type": "markdown",
   "metadata": {},
   "source": [
    "`(3) 평가 수행 (상위 모델로 하는 것이 좋음 / Ragas 들어가면 평가 지표가 다양하게 있음)`    \n",
    "\n",
    "- **LLMContextRecall**\n",
    "    - 검색 기반 응답 생성 시스템의 **컨텍스트 검색 성능**을 평가 => 검색된 문서와 \n",
    "\n",
    "- **Faithfulness** \n",
    "    - 검색된 컨텍스트에 대한 응답의 **충실도**를 측정하는 메트릭  => hallucination 평가\n",
    "\n",
    "- **FactualCorrectness**\n",
    "    - 생성된 응답의 **사실 정확성**을 평가 => hallucination 평가"
   ]
  },
  {
   "cell_type": "code",
   "execution_count": null,
   "metadata": {},
   "outputs": [],
   "source": [
    "from ragas import evaluate\n",
    "from ragas.llms import LangchainLLMWrapper\n",
    "from ragas.metrics import LLMContextRecall, Faithfulness, FactualCorrectness\n",
    "\n",
    "# LLM 래퍼 생성\n",
    "evaluator_llm = LangchainLLMWrapper(llm)\n",
    "\n",
    "# 평가\n",
    "result = evaluate(\n",
    "    dataset=evaluation_dataset,   # 평가 데이터셋\n",
    "    metrics=[LLMContextRecall(), Faithfulness(), FactualCorrectness()],   # 평가 메트릭 (하고 싶은 것들 리스트 형태로 넣어주면 됨)\n",
    "    llm=evaluator_llm,   # LLM 래퍼\n",
    "    #callbacks=[langfuse_handler],   # 콜백\n",
    ")\n",
    "\n",
    "result"
   ]
  },
  {
   "cell_type": "code",
   "execution_count": null,
   "metadata": {},
   "outputs": [],
   "source": [
    "# 결과를 데이터프레임으로 변환 \n",
    "result.to_pandas()"
   ]
  },
  {
   "cell_type": "code",
   "execution_count": null,
   "metadata": {},
   "outputs": [],
   "source": [
    "# 데이터프레임 저장\n",
    "result.to_pandas().to_csv('data/evaluation_result.csv', index=False)"
   ]
  },
  {
   "cell_type": "markdown",
   "metadata": {},
   "source": [
    "### **[실습] RAGAS 평가 수행**\n",
    "\n",
    "- \"data/*_EN.md\" 문서에 대한 RAG 생성 답변을 평가 \n",
    "- RAGAS 평가 메트릭 적용 (LLMContextRecall, Faithfulness, FactualCorrectness)"
   ]
  },
  {
   "cell_type": "code",
   "execution_count": null,
   "metadata": {},
   "outputs": [],
   "source": [
    "# 여기에 코드를 작성하세요."
   ]
  }
 ],
 "metadata": {
  "kernelspec": {
   "display_name": ".venv",
   "language": "python",
   "name": "python3"
  },
  "language_info": {
   "codemirror_mode": {
    "name": "ipython",
    "version": 3
   },
   "file_extension": ".py",
   "mimetype": "text/x-python",
   "name": "python",
   "nbconvert_exporter": "python",
   "pygments_lexer": "ipython3",
   "version": "3.12.9"
  }
 },
 "nbformat": 4,
 "nbformat_minor": 2
}
