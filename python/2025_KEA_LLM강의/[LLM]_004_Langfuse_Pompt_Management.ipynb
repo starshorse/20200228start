{
 "cells": [
  {
   "cell_type": "markdown",
   "metadata": {},
   "source": [
    "# Langfuse 프롬프트 관리 \n",
    "\n",
    "---\n",
    "\n",
    "## 환경 설정 및 준비\n",
    "\n",
    "### (1) Env 환경변수\n",
    "\n",
    "- .env 파일\n",
    "    ```markdown\n",
    "    LANGFUSE_SECRET_KEY=sk-\n",
    "    LANGFUSE_PUBLIC_KEY=pk-\n",
    "    # 🇪🇺 EU region\n",
    "    LANGFUSE_HOST=https://cloud.langfuse.com\n",
    "    ```\n"
   ]
  },
  {
   "cell_type": "code",
   "execution_count": null,
   "metadata": {},
   "outputs": [],
   "source": [
    "from dotenv import load_dotenv\n",
    "load_dotenv()"
   ]
  },
  {
   "cell_type": "markdown",
   "metadata": {},
   "source": [
    "### (2) 기본 라이브러리"
   ]
  },
  {
   "cell_type": "code",
   "execution_count": null,
   "metadata": {},
   "outputs": [],
   "source": [
    "import os\n",
    "from glob import glob\n",
    "from pprint import pprint\n",
    "import json\n",
    "import warnings\n",
    "warnings.filterwarnings(\"ignore\")"
   ]
  },
  {
   "cell_type": "markdown",
   "metadata": {},
   "source": [
    "### (3) Langfuse 콜백 핸들러 설정"
   ]
  },
  {
   "cell_type": "code",
   "execution_count": null,
   "metadata": {},
   "outputs": [],
   "source": [
    "from langfuse.langchain import CallbackHandler \n",
    "\n",
    "# LangChain 콜백 핸들러 생성\n",
    "langfuse_handler = CallbackHandler()"
   ]
  },
  {
   "cell_type": "markdown",
   "metadata": {},
   "source": [
    "### (4) Langfuse 클라이언트 설정"
   ]
  },
  {
   "cell_type": "code",
   "execution_count": null,
   "metadata": {},
   "outputs": [],
   "source": [
    "from langfuse import get_client\n",
    "\n",
    "# Langfuse 클라이언트 초기화\n",
    "langfuse = get_client()\n",
    "\n",
    "# 연결 테스트\n",
    "assert langfuse.auth_check()"
   ]
  },
  {
   "cell_type": "markdown",
   "metadata": {},
   "source": [
    "---\n",
    "\n",
    "## 프롬프트 관리 개요\n",
    "\n",
    "Langfuse는 **프롬프트 CMS(Content Management System)** 기능을 제공\n",
    "\n",
    "- **버전 관리**: 프롬프트의 모든 변경사항을 추적하고 롤백 가능\n",
    "- **협업**: 팀원들과 함께 프롬프트를 편집하고 관리\n",
    "- **배포 관리**: 라벨을 통해 코드 변경 없이 환경별 배포\n",
    "- **성능 모니터링**: 프롬프트 버전별 성능 메트릭 비교\n",
    "- **실시간 테스트**: 플레이그라운드에서 즉시 테스트 가능\n",
    "\n",
    "---\n",
    "\n",
    "## 1. 프롬프트 생성\n",
    "\n",
    "### 1.1 텍스트 프롬프트 생성"
   ]
  },
  {
   "cell_type": "code",
   "execution_count": null,
   "metadata": {},
   "outputs": [],
   "source": [
    "# 텍스트 프롬프트 생성\n",
    "langfuse.create_prompt(\n",
    "    name=\"movie-critic\",  # 프롬프트 이름\n",
    "    type=\"text\",          \n",
    "    prompt=\"{{criticLevel}} 영화 평론가로서, {{movie}}를 어떻게 생각하시나요?\",\n",
    "    labels=[\"production\"],           # 프로덕션 레이블\n",
    "    tags=[\"movie\", \"qa\", \"text\"],    # 태그\n",
    "    config={\n",
    "        \"model\": \"gpt-4.1-mini\",\n",
    "        \"temperature\": 0.7,\n",
    "        \"max_tokens\": 500\n",
    "    }\n",
    ")"
   ]
  },
  {
   "cell_type": "markdown",
   "metadata": {},
   "source": [
    "### 1.2 챗 프롬프트 생성"
   ]
  },
  {
   "cell_type": "code",
   "execution_count": null,
   "metadata": {},
   "outputs": [],
   "source": [
    "# 챗 프롬프트 생성\n",
    "langfuse.create_prompt(\n",
    "    name=\"movie-critic-chat\",  # 프롬프트 이름\n",
    "    type=\"chat\",          \n",
    "    prompt=[\n",
    "        {\n",
    "            \"role\": \"system\",\n",
    "            \"content\": \"당신은 {{criticLevel}} 영화 평론가입니다.\"\n",
    "        },\n",
    "        {\n",
    "            \"role\": \"user\",\n",
    "            \"content\": \"영화 {{movie}}를 어떻게 생각하시나요?\"\n",
    "        }\n",
    "    ],\n",
    "    labels=[\"production\"],       # 프로덕션 레이블\n",
    "    tags=[\"movie\", \"qa\", \"chat\"],    # 태그\n",
    "    config={\n",
    "        \"model\": \"gpt-4.1-mini\",\n",
    "        \"temperature\": 0.7,\n",
    "        \"max_tokens\": 500\n",
    "    }\n",
    ")"
   ]
  },
  {
   "cell_type": "markdown",
   "metadata": {},
   "source": [
    "### 1.3 메시지 플레이스홀더가 있는 챗 프롬프트"
   ]
  },
  {
   "cell_type": "code",
   "execution_count": null,
   "metadata": {},
   "outputs": [],
   "source": [
    "# 메시지 플레이스홀더를 포함한 챗 프롬프트\n",
    "langfuse.create_prompt(\n",
    "    name=\"movie-critic-with-history\",\n",
    "    type=\"chat\",\n",
    "    prompt=[\n",
    "        {\n",
    "            \"role\": \"system\",\n",
    "            \"content\": \"당신은 {{criticLevel}} 영화 평론가입니다.\"\n",
    "        },\n",
    "        {\n",
    "            \"type\": \"placeholder\",\n",
    "            \"name\": \"chat_history\"  # 대화 히스토리 삽입 지점\n",
    "        },\n",
    "        {\n",
    "            \"role\": \"user\",\n",
    "            \"content\": \"영화 {{movie}}에 대해 어떻게 생각하시나요?\"\n",
    "        }\n",
    "    ],\n",
    "    labels=[\"production\"],\n",
    "    tags=[\"movie\", \"qa\", \"chat\", \"history\"]\n",
    ")"
   ]
  },
  {
   "cell_type": "markdown",
   "metadata": {},
   "source": [
    "### **[실습 1]**\n",
    "텍스트 기반 프롬프트와 chat 기반 프롬프트를 각각 구현하고, Langfuse UI에서 확인하세요."
   ]
  },
  {
   "cell_type": "code",
   "execution_count": null,
   "metadata": {},
   "outputs": [],
   "source": [
    "# 텍스트 프롬프트 생성\n",
    "# 여기에 코드를 작성하세요"
   ]
  },
  {
   "cell_type": "markdown",
   "metadata": {},
   "source": [
    "<details>\n",
    "<summary>💡 정답 보기</summary>\n",
    "\n",
    "```python\n",
    "# 간단한 문서 요약용 텍스트 프롬프트 생성\n",
    "langfuse.create_prompt(\n",
    "    name=\"document-summarizer\",\n",
    "    type=\"text\",\n",
    "    prompt=\"\"\"다음 {{document_type}}를 {{summary_length}} 단어 이내로 요약해주세요:\n",
    "\n",
    "제목: {{document_title}}\n",
    "\n",
    "내용:\n",
    "{{document_content}}\n",
    "\n",
    "{{summary_style}} 형태로 요약해주세요.\"\"\",\n",
    "    labels=[\"production\"],\n",
    "    tags=[\"document\", \"summary\", \"simple\", \"text\"],\n",
    "    config={\n",
    "        \"model\": \"gpt-4.1-mini\",\n",
    "        \"temperature\": 0.2,\n",
    "        \"max_tokens\": 800\n",
    "    }\n",
    ")\n",
    "```\n",
    "</details>\n"
   ]
  },
  {
   "cell_type": "code",
   "execution_count": null,
   "metadata": {},
   "outputs": [],
   "source": [
    "# 챗 프롬프트 생성\n",
    "# 여기에 코드를 작성하세요"
   ]
  },
  {
   "cell_type": "markdown",
   "metadata": {},
   "source": [
    "<details>\n",
    "<summary>💡 정답 보기</summary>\n",
    "\n",
    "```python\n",
    "# 간단한 문서 요약용 챗 프롬프트 생성\n",
    "langfuse.create_prompt(\n",
    "    name=\"document-summarizer-chat\",\n",
    "    type=\"chat\",\n",
    "    prompt=[\n",
    "        {\n",
    "            \"role\": \"system\",\n",
    "            \"content\": \"당신은 문서 요약 전문가입니다. {{summary_style}} 형태로 {{summary_length}} 단어 이내로 요약해주세요.\"\n",
    "        },\n",
    "        {\n",
    "            \"role\": \"user\",\n",
    "            \"content\": \"\"\"다음 {{document_type}}를 요약해주세요:\n",
    "\n",
    "제목: {{document_title}}\n",
    "\n",
    "내용:\n",
    "{{document_content}}\"\"\"\n",
    "        }\n",
    "    ],\n",
    "    labels=[\"production\"],\n",
    "    tags=[\"document\", \"summary\", \"chat\", \"simple\"],\n",
    "    config={\n",
    "        \"model\": \"gpt-4.1-mini\",\n",
    "        \"temperature\": 0.2,\n",
    "        \"max_tokens\": 800\n",
    "    }\n",
    ")\n",
    "```\n",
    "</details>\n"
   ]
  },
  {
   "cell_type": "markdown",
   "metadata": {},
   "source": [
    "---\n",
    "\n",
    "## 2. 프롬프트 활용\n",
    "\n",
    "### 2.1 기본 프롬프트 가져오기"
   ]
  },
  {
   "cell_type": "code",
   "execution_count": null,
   "metadata": {},
   "outputs": [],
   "source": [
    "# 프로덕션 버전 가져오기\n",
    "prompt = langfuse.get_prompt(\"movie-critic\")\n",
    "\n",
    "# 프롬프트 정보 출력\n",
    "print(f\"모델: {prompt.config['model']}\")\n",
    "print(f\"온도: {prompt.config['temperature']}\")\n",
    "print(f\"라벨: {prompt.labels}\")\n",
    "print(f\"태그: {prompt.tags}\")\n",
    "print(f\"프롬프트: {prompt.prompt}\")\n",
    "print(\"-\" * 100)\n",
    "\n",
    "# 랭체인 호환 프롬프트 출력\n",
    "print(prompt.get_langchain_prompt())"
   ]
  },
  {
   "cell_type": "markdown",
   "metadata": {},
   "source": [
    "### 2.2 compile 메서드 사용\n",
    "\n",
    "- compile 메서드로 변수 삽입"
   ]
  },
  {
   "cell_type": "code",
   "execution_count": null,
   "metadata": {},
   "outputs": [],
   "source": [
    "# compile 메서드로 변수 삽입\n",
    "compiled_prompt = prompt.compile(criticLevel=\"전문가\", movie=\"인셉션\")\n",
    "print(compiled_prompt)"
   ]
  },
  {
   "cell_type": "markdown",
   "metadata": {},
   "source": [
    "### 2.3 챗 프롬프트 가져오기 및 컴파일"
   ]
  },
  {
   "cell_type": "code",
   "execution_count": null,
   "metadata": {},
   "outputs": [],
   "source": [
    "# 챗 프롬프트 가져오기\n",
    "chat_prompt = langfuse.get_prompt(\"movie-critic-chat\", type=\"chat\")\n",
    "\n",
    "# 챗 프롬프트 정보 출력\n",
    "print(f\"모델: {chat_prompt.config['model']}\")\n",
    "print(f\"온도: {chat_prompt.config['temperature']}\")\n",
    "print(f\"라벨: {chat_prompt.labels}\")\n",
    "print(f\"태그: {chat_prompt.tags}\")\n",
    "print(f\"프롬프트: {chat_prompt.prompt}\")\n",
    "print(\"-\" * 100)\n",
    "\n",
    "# 랭체인 호환 프롬프트 출력\n",
    "print(chat_prompt.get_langchain_prompt())"
   ]
  },
  {
   "cell_type": "code",
   "execution_count": null,
   "metadata": {},
   "outputs": [],
   "source": [
    "# 챗 프롬프트 컴파일\n",
    "compiled_chat_prompt = chat_prompt.compile(criticLevel=\"전문가\", movie=\"인셉션\")\n",
    "print(compiled_chat_prompt)"
   ]
  },
  {
   "cell_type": "markdown",
   "metadata": {},
   "source": [
    "### **[실습 2]**\n",
    "\"movie-critic-chat\" 프롬프트를 Langfuse에서 가져와서 내용을 출력하고, compile 메서드를 사용해 변수에 적절한 값을 추가해보세요."
   ]
  },
  {
   "cell_type": "code",
   "execution_count": null,
   "metadata": {},
   "outputs": [],
   "source": [
    "# chat 프롬프트 가져오기 및 컴파일\n",
    "# 여기에 코드를 작성하세요"
   ]
  },
  {
   "cell_type": "markdown",
   "metadata": {},
   "source": [
    "<details>\n",
    "<summary>💡 정답 보기</summary>\n",
    "\n",
    "```python\n",
    "# chat 프롬프트 가져오기 및 컴파일\n",
    "chat_prompt = langfuse.get_prompt(\"movie-critic-chat\", type=\"chat\")\n",
    "\n",
    "# 대화 히스토리 정의\n",
    "chat_history = [\n",
    "    {\"role\": \"user\", \"content\": \"안녕하세요!\"},\n",
    "    {\"role\": \"assistant\", \"content\": \"안녕하세요! 영화에 대해 이야기해볼까요?\"}\n",
    "]\n",
    "\n",
    "# 변수와 플레이스홀더를 모두 컴파일\n",
    "compiled_chat_prompt = chat_prompt.compile(\n",
    "    criticLevel=\"전문가\", \n",
    "    movie=\"인셉션\"\n",
    ")\n",
    "\n",
    "for message in compiled_chat_prompt:\n",
    "    print(message)\n",
    "    print(\"-\" * 20)\n",
    "```\n",
    "</details>\n"
   ]
  },
  {
   "cell_type": "markdown",
   "metadata": {},
   "source": [
    "---\n",
    "\n",
    "## 3. 프롬프트 버전 관리\n",
    "\n",
    "### 3.1 새로운 버전 생성"
   ]
  },
  {
   "cell_type": "code",
   "execution_count": null,
   "metadata": {},
   "outputs": [],
   "source": [
    "# 새로운 버전 생성 (같은 이름 사용)\n",
    "langfuse.create_prompt(\n",
    "    name=\"movie-critic\",  # 같은 이름 사용\n",
    "    type=\"text\",          \n",
    "    prompt=\"당신은 {{criticLevel}} 영화 평론가입니다.\\n\\n영화 {{movie}}에 대한 상세한 분석을 제공해주세요. 연출, 연기, 스토리, 시각적 효과를 포함하여 평가해주세요.\",\n",
    "    labels=[\"production\"],       # 프로덕션 레이블\n",
    "    tags=[\"movie\", \"qa\", \"text\", \"detailed\"],    # 태그 업데이트\n",
    "    config={\n",
    "        \"model\": \"gpt-4.1\",  # 모델 업그레이드\n",
    "        \"temperature\": 0.7,\n",
    "        \"max_tokens\": 1000  # 토큰 수 증가\n",
    "    }\n",
    ")"
   ]
  },
  {
   "cell_type": "markdown",
   "metadata": {},
   "source": [
    "### 3.2 특정 버전 가져오기"
   ]
  },
  {
   "cell_type": "code",
   "execution_count": null,
   "metadata": {},
   "outputs": [],
   "source": [
    "# 특정 버전 가져오기\n",
    "prompt_v1 = langfuse.get_prompt(\"movie-critic\", version=1)\n",
    "prompt_v2 = langfuse.get_prompt(\"movie-critic\", version=2)\n",
    "\n",
    "# 버전별 비교\n",
    "print(f\"V1 프롬프트: {prompt_v1.prompt}\")\n",
    "print(f\"V2 프롬프트: {prompt_v2.prompt}\")\n",
    "print(f\"V1 모델: {prompt_v1.config['model']}\")\n",
    "print(f\"V2 모델: {prompt_v2.config['model']}\")"
   ]
  },
  {
   "cell_type": "markdown",
   "metadata": {},
   "source": [
    "### 3.3 라벨 관리"
   ]
  },
  {
   "cell_type": "code",
   "execution_count": null,
   "metadata": {},
   "outputs": [],
   "source": [
    "# 특정 라벨로 프롬프트 생성 (같은 이름을 사용하면 새로운 버전으로 생성됨)\n",
    "langfuse.create_prompt(\n",
    "    name=\"movie-critic-chat\",\n",
    "    type=\"chat\",\n",
    "    prompt=[\n",
    "        {\n",
    "            \"role\": \"system\",\n",
    "            \"content\": \"당신은 {{criticLevel}} 영화 평론가입니다. 상세하고 전문적인 분석을 제공해주세요.\"\n",
    "        },\n",
    "        {\n",
    "            \"role\": \"user\",\n",
    "            \"content\": \"영화 {{movie}}에 대한 평론을 작성해주세요.\"\n",
    "        }\n",
    "    ],\n",
    "    labels=[\"staging\"],  # staging 환경용\n",
    "    tags=[\"movie\", \"qa\", \"chat\", \"detailed\"]\n",
    ")\n",
    "\n",
    "# 라벨별 프롬프트 가져오기\n",
    "prompt_production = langfuse.get_prompt(\"movie-critic-chat\", label=\"production\")\n",
    "prompt_staging = langfuse.get_prompt(\"movie-critic-chat\", label=\"staging\")\n",
    "prompt_latest = langfuse.get_prompt(\"movie-critic-chat\", label=\"latest\")"
   ]
  },
  {
   "cell_type": "code",
   "execution_count": null,
   "metadata": {},
   "outputs": [],
   "source": [
    "# 라벨별 프롬프트 출력\n",
    "print(f\"Production 프롬프트: {prompt_production.prompt}\")\n",
    "print(\"-\" * 100)\n",
    "print(f\"Staging 프롬프트: {prompt_staging.prompt}\")\n",
    "print(\"-\" * 100)\n",
    "print(f\"Latest 프롬프트: {prompt_latest.prompt}\")"
   ]
  },
  {
   "cell_type": "markdown",
   "metadata": {},
   "source": [
    "### **[실습 3]**\n",
    "\"movie-critic-chat\" 프롬프트를 수정하고, labels 속성은 \"staging\"으로 지정한 후, staging 버전을 가져와서 내용을 출력하세요."
   ]
  },
  {
   "cell_type": "code",
   "execution_count": null,
   "metadata": {},
   "outputs": [],
   "source": [
    "# staging 라벨 생성\n",
    "# 여기에 코드를 작성하세요\n",
    "\n",
    "# staging 라벨 가져오기\n",
    "# 여기에 코드를 작성하세요"
   ]
  },
  {
   "cell_type": "markdown",
   "metadata": {},
   "source": [
    "<details>\n",
    "<summary>💡 정답 보기</summary>\n",
    "\n",
    "```python\n",
    "# staging 라벨 생성\n",
    "langfuse.create_prompt(\n",
    "    name=\"movie-critic-chat\",\n",
    "    type=\"chat\",\n",
    "    prompt=[\n",
    "        {\n",
    "            \"role\": \"system\",\n",
    "            \"content\": \"당신은 {{criticLevel}} 영화 평론가입니다. 일반적이고 상세하며 전문적인 분석을 제공해주세요.\"\n",
    "        },\n",
    "        {\n",
    "            \"role\": \"user\",\n",
    "            \"content\": \"영화 {{movie}}에 대한 평론을 작성해주세요.\"\n",
    "        }\n",
    "    ],\n",
    "    labels=[\"staging\"],  # staging 환경용\n",
    "    tags=[\"movie\", \"qa\", \"chat\", \"detailed\"]\n",
    ")\n",
    "\n",
    "# staging 라벨 가져오기\n",
    "prompt_staging = langfuse.get_prompt(\n",
    "    name=\"movie-critic-chat\",\n",
    "    label=\"staging\"\n",
    ")\n",
    "\n",
    "# 라벨별 프롬프트 출력\n",
    "print(f\"Staging 프롬프트: {prompt_staging.prompt}\")\n",
    "```\n",
    "</details>\n"
   ]
  },
  {
   "cell_type": "markdown",
   "metadata": {},
   "source": [
    "---\n",
    "\n",
    "## 4. LangChain과의 통합\n",
    "\n",
    "### 4.1 텍스트 프롬프트와 LangChain 통합"
   ]
  },
  {
   "cell_type": "code",
   "execution_count": null,
   "metadata": {},
   "outputs": [],
   "source": [
    "from langchain_core.prompts import PromptTemplate\n",
    "from langchain_openai import ChatOpenAI\n",
    "\n",
    "# Langfuse 프롬프트를 LangChain과 통합\n",
    "prompt = langfuse.get_prompt(\"movie-critic\", label=\"production\")\n",
    "\n",
    "langchain_prompt = PromptTemplate.from_template(\n",
    "    prompt.get_langchain_prompt()\n",
    ")\n",
    "langchain_prompt.metadata = {\"langfuse_prompt\": prompt}   # Langfuse 자동 링크를 위한 메타데이터\n",
    "\n",
    "# 모델 초기화 (프롬프트 설정 사용)\n",
    "model = ChatOpenAI(\n",
    "    model=prompt.config.get(\"model\", \"gpt-4.1-mini\"),\n",
    "    temperature=prompt.config.get(\"temperature\", 0.7),\n",
    "    max_completion_tokens=prompt.config.get(\"max_tokens\", 500)\n",
    ")\n",
    "\n",
    "# 체인 생성 및 실행\n",
    "chain = langchain_prompt | model\n",
    "response = chain.invoke(\n",
    "    input={\"criticLevel\": \"전문가\", \"movie\": \"인셉션\"},\n",
    "    config={\"callbacks\": [langfuse_handler]}  # Langfuse 트레이싱을 위한 콜백\n",
    ")\n",
    "\n",
    "print(response.content)"
   ]
  },
  {
   "cell_type": "markdown",
   "metadata": {},
   "source": [
    "### 4.2 챗 프롬프트와 LangChain 통합"
   ]
  },
  {
   "cell_type": "code",
   "execution_count": null,
   "metadata": {},
   "outputs": [],
   "source": [
    "from langchain_core.prompts import ChatPromptTemplate\n",
    "\n",
    "# 챗 프롬프트 통합\n",
    "chat_prompt = langfuse.get_prompt(\"movie-critic-chat\", label=\"production\", type=\"chat\")\n",
    "\n",
    "langchain_chat_prompt = ChatPromptTemplate.from_messages(\n",
    "    chat_prompt.get_langchain_prompt()\n",
    ")\n",
    "langchain_chat_prompt.metadata = {\"langfuse_prompt\": chat_prompt}\n",
    "\n",
    "# 체인 실행\n",
    "chain = langchain_chat_prompt | model\n",
    "response = chain.invoke(\n",
    "    input={\"criticLevel\": \"전문가\", \"movie\": \"인셉션\"},\n",
    "    config={\"callbacks\": [langfuse_handler]}\n",
    ")\n",
    "\n",
    "print(response.content)"
   ]
  }
 ],
 "metadata": {
  "kernelspec": {
   "display_name": ".venv",
   "language": "python",
   "name": "python3"
  },
  "language_info": {
   "codemirror_mode": {
    "name": "ipython",
    "version": 3
   },
   "file_extension": ".py",
   "mimetype": "text/x-python",
   "name": "python",
   "nbconvert_exporter": "python",
   "pygments_lexer": "ipython3",
   "version": "3.12.11"
  }
 },
 "nbformat": 4,
 "nbformat_minor": 2
}
