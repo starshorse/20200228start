{
  "cells": [
    {
      "cell_type": "markdown",
      "id": "e79ac25d",
      "metadata": {},
      "source": [
        "#  LangChain의 RAG 콤포넌트 \n",
        "- 벡터저장소 (Vector Stores)\n",
        "\n",
        "### **학습 목표:**  임베딩 모델과 벡터 데이터베이스를 효과적으로 연동할 수 있다\n",
        "\n",
        "---"
      ]
    },
    {
      "cell_type": "markdown",
      "id": "34bacc4a",
      "metadata": {},
      "source": [
        "# 환경 설정 및 준비"
      ]
    },
    {
      "cell_type": "markdown",
      "id": "6b8776e0",
      "metadata": {},
      "source": [
        "`(1) Env 환경변수`"
      ]
    },
    {
      "cell_type": "code",
      "execution_count": 1,
      "id": "0bf192c1",
      "metadata": {},
      "outputs": [
        {
          "data": {
            "text/plain": [
              "True"
            ]
          },
          "execution_count": 1,
          "metadata": {},
          "output_type": "execute_result"
        }
      ],
      "source": [
        "from dotenv import load_dotenv\n",
        "load_dotenv()"
      ]
    },
    {
      "cell_type": "markdown",
      "id": "03ffe991",
      "metadata": {},
      "source": [
        "`(2) 기본 라이브러리`"
      ]
    },
    {
      "cell_type": "code",
      "execution_count": 2,
      "id": "368e1eb1",
      "metadata": {},
      "outputs": [],
      "source": [
        "import os\n",
        "from glob import glob\n",
        "\n",
        "from pprint import pprint\n",
        "import json"
      ]
    },
    {
      "cell_type": "markdown",
      "id": "3873707b",
      "metadata": {},
      "source": [
        "# 벡터 저장소 (Vector Store)\n",
        "\n",
        "- 개념:\n",
        "    - 벡터화된 데이터를 효율적으로 저장하고 검색하기 위한 특수 데이터베이스 시스템\n",
        "    - 텍스트나 이미지 등의 비정형 데이터를 고차원 벡터 공간에 매핑하여 저장\n",
        "    - 유사도 기반 검색을 통해 의미적으로 가까운 데이터를 빠르게 검색 가능 \n",
        "\n",
        "- LangChain의 벡터 저장소 종류:\n",
        "    - Chroma: 경량화된 임베딩 데이터베이스로 로컬 개발에 적합\n",
        "    - FAISS: Facebook AI가 개발한 고성능 유사도 검색 라이브러리\n",
        "    - Pinecone: 완전 관리형 벡터 데이터베이스 서비스\n",
        "    - Milvus: 분산 벡터 데이터베이스로 대규모 데이터 처리에 적합\n",
        "    - PostgreSQL: pgvector 확장을 통해 벡터 저장 및 검색 기능을 제공\n",
        "\n",
        "- 주요 기능:\n",
        "    - 벡터 색인화: 효율적인 검색을 위한 데이터 구조화를 수행\n",
        "    - 근접 이웃 검색: 주어진 쿼리와 가장 유사한 벡터들을 검색 \n",
        "    - 메타데이터 관리: 벡터와 관련된 부가 정보를 함께 저장하고 검색\n",
        "\n",
        "- 사용 사례:\n",
        "    - 시맨틱 문서 검색: 문서의 의미를 이해하여 검색\n",
        "    - 추천 시스템: 유사한 아이템을 추천\n",
        "    - 중복 데이터 감지: 유사한 콘텐츠를 검색 \n",
        "    - 질의응답 시스템: 관련 문서에서 답변을 생성하는데 필요한 근거를 검색 "
      ]
    },
    {
      "cell_type": "markdown",
      "id": "90a4cc54",
      "metadata": {},
      "source": [
        "### 1. **Chroma**\n",
        "\n",
        "- 사용자 편의성이 우수한 오픈소스 벡터 저장소\n",
        "- `langchain-chroma` 패키지 설치"
      ]
    },
    {
      "cell_type": "markdown",
      "id": "28eee632",
      "metadata": {},
      "source": [
        "`(1) 벡터 저장소 초기화`"
      ]
    },
    {
      "cell_type": "code",
      "execution_count": 55,
      "id": "ef5c3344",
      "metadata": {},
      "outputs": [],
      "source": [
        "# 벡터 저장소에 문서를 저장할 때 적용할 임베딩 모델\n",
        "from langchain_huggingface import HuggingFaceEmbeddings\n",
        "embeddings_model = HuggingFaceEmbeddings(model_name=\"BAAI/bge-m3\")"
      ]
    },
    {
      "cell_type": "code",
      "execution_count": 56,
      "id": "1937577a",
      "metadata": {},
      "outputs": [],
      "source": [
        "# 벡터 저장소 생성\n",
        "from langchain_chroma import Chroma\n",
        "\n",
        "chroma_db = Chroma(\n",
        "    collection_name=\"ai_smaple_collection\",\n",
        "    embedding_function=embeddings_model,\n",
        "    persist_directory=\"./chroma_db\",\n",
        ")"
      ]
    },
    {
      "cell_type": "code",
      "execution_count": 57,
      "id": "0c20099d",
      "metadata": {},
      "outputs": [
        {
          "data": {
            "text/plain": [
              "{'ids': ['DOC_1', 'DOC_2', 'DOC_3', 'DOC_4', 'DOC_5'],\n",
              " 'embeddings': None,\n",
              " 'documents': ['인공지능은 컴퓨터 과학의 한 분야입니다.',\n",
              "  '머신러닝은 인공지능의 하위 분야입니다.',\n",
              "  '딥러닝은 머신러닝의 한 종류입니다.',\n",
              "  '자연어 처리는 컴퓨터가 인간의 언어를 이해하고 생성하는 기술입니다.',\n",
              "  '컴퓨터 비전은 컴퓨터가 디지털 이미지나 비디오를 이해하는 방법을 연구합니다.'],\n",
              " 'uris': None,\n",
              " 'data': None,\n",
              " 'metadatas': [{'source': 'AI 개론'},\n",
              "  {'source': 'AI 개론'},\n",
              "  {'source': '딥러닝 입문'},\n",
              "  {'source': 'AI 개론'},\n",
              "  {'source': '딥러닝 입문'}],\n",
              " 'included': [<IncludeEnum.documents: 'documents'>,\n",
              "  <IncludeEnum.metadatas: 'metadatas'>]}"
            ]
          },
          "execution_count": 57,
          "metadata": {},
          "output_type": "execute_result"
        }
      ],
      "source": [
        "# 현재 저장된 컬렉션 데이터 확인\n",
        "chroma_db.get()"
      ]
    },
    {
      "cell_type": "markdown",
      "id": "56c362a0",
      "metadata": {},
      "source": [
        "`(2) 벡터 저장소 관리`  "
      ]
    },
    {
      "cell_type": "markdown",
      "id": "5b8c8fe3",
      "metadata": {},
      "source": [
        "- 문서 추가: `vector_store.add_documents(documents, ids)`"
      ]
    },
    {
      "cell_type": "code",
      "execution_count": 58,
      "id": "2c4567fc",
      "metadata": {},
      "outputs": [
        {
          "name": "stdout",
          "output_type": "stream",
          "text": [
            "5개의 문서가 성공적으로 벡터 저장소에 추가되었습니다.\n",
            "['DOC_1', 'DOC_2', 'DOC_3', 'DOC_4', 'DOC_5']\n"
          ]
        }
      ],
      "source": [
        "from langchain_core.documents import Document\n",
        "\n",
        "# 문서 데이터 - (텍스트, 소스)\n",
        "documents = [\n",
        "    (\"인공지능은 컴퓨터 과학의 한 분야입니다.\", \"AI 개론\"),\n",
        "    (\"머신러닝은 인공지능의 하위 분야입니다.\", \"AI 개론\"),\n",
        "    (\"딥러닝은 머신러닝의 한 종류입니다.\", \"딥러닝 입문\"),\n",
        "    (\"자연어 처리는 컴퓨터가 인간의 언어를 이해하고 생성하는 기술입니다.\", \"AI 개론\"),\n",
        "    (\"컴퓨터 비전은 컴퓨터가 디지털 이미지나 비디오를 이해하는 방법을 연구합니다.\", \"딥러닝 입문\")\n",
        "]\n",
        "\n",
        "# Document 객체 생성\n",
        "doc_objects = []\n",
        "for content, source in documents:\n",
        "    doc = Document(\n",
        "        page_content=content,\n",
        "        metadata={\"source\": source},\n",
        "    )\n",
        "    doc_objects.append(doc)\n",
        "\n",
        "\n",
        "# 순차적 ID 리스트 생성\n",
        "doc_ids = [f\"DOC_{i}\" for i in range(1, len(doc_objects) + 1)]\n",
        "\n",
        "# 문서를 벡터 저장소에 저장\n",
        "added_doc_ids = chroma_db.add_documents(documents=doc_objects, ids=doc_ids)\n",
        "\n",
        "# 벡터 저장소에 저장된 문서를 확인\n",
        "print(f\"{len(added_doc_ids)}개의 문서가 성공적으로 벡터 저장소에 추가되었습니다.\")\n",
        "print(added_doc_ids)"
      ]
    },
    {
      "cell_type": "code",
      "execution_count": 59,
      "id": "8d28387c",
      "metadata": {},
      "outputs": [
        {
          "name": "stdout",
          "output_type": "stream",
          "text": [
            "\n",
            "쿼리: 인공지능과 머신러닝의 관계는?\n",
            "가장 유사한 문서:\n",
            "- 머신러닝은 인공지능의 하위 분야입니다. [출처: AI 개론]\n",
            "- 딥러닝은 머신러닝의 한 종류입니다. [출처: 딥러닝 입문]\n"
          ]
        }
      ],
      "source": [
        "# 저장된 문서 검색\n",
        "query = \"인공지능과 머신러닝의 관계는?\"\n",
        "results = chroma_db.similarity_search(query, k=2)\n",
        "\n",
        "print(f\"\\n쿼리: {query}\")\n",
        "print(\"가장 유사한 문서:\")\n",
        "for doc in results:\n",
        "    print(f\"- {doc.page_content} [출처: {doc.metadata['source']}]\")"
      ]
    },
    {
      "cell_type": "code",
      "execution_count": 60,
      "id": "c1671f31",
      "metadata": {},
      "outputs": [
        {
          "data": {
            "text/plain": [
              "{'ids': ['DOC_1', 'DOC_2', 'DOC_3', 'DOC_4', 'DOC_5'],\n",
              " 'embeddings': None,\n",
              " 'documents': ['인공지능은 컴퓨터 과학의 한 분야입니다.',\n",
              "  '머신러닝은 인공지능의 하위 분야입니다.',\n",
              "  '딥러닝은 머신러닝의 한 종류입니다.',\n",
              "  '자연어 처리는 컴퓨터가 인간의 언어를 이해하고 생성하는 기술입니다.',\n",
              "  '컴퓨터 비전은 컴퓨터가 디지털 이미지나 비디오를 이해하는 방법을 연구합니다.'],\n",
              " 'uris': None,\n",
              " 'data': None,\n",
              " 'metadatas': [{'source': 'AI 개론'},\n",
              "  {'source': 'AI 개론'},\n",
              "  {'source': '딥러닝 입문'},\n",
              "  {'source': 'AI 개론'},\n",
              "  {'source': '딥러닝 입문'}],\n",
              " 'included': [<IncludeEnum.documents: 'documents'>,\n",
              "  <IncludeEnum.metadatas: 'metadatas'>]}"
            ]
          },
          "execution_count": 60,
          "metadata": {},
          "output_type": "execute_result"
        }
      ],
      "source": [
        "# 현재 저장된 컬렉션 데이터 확인\n",
        "chroma_db.get()"
      ]
    },
    {
      "cell_type": "markdown",
      "id": "b7afc913",
      "metadata": {},
      "source": [
        "- 문서 수정: `vector_store.update_document(document_id, document)`"
      ]
    },
    {
      "cell_type": "code",
      "execution_count": 11,
      "id": "6690acc8",
      "metadata": {},
      "outputs": [
        {
          "name": "stdout",
          "output_type": "stream",
          "text": [
            "문서 업데이트 완료\n"
          ]
        }
      ],
      "source": [
        "# 업데이트할 문서 생성\n",
        "updated_document_1 = Document(\n",
        "    page_content=\"인공지능은 컴퓨터 과학의 핵심 분야 중 하나로, 기계학습과 딥러닝을 포함합니다.\",\n",
        "    metadata={\"source\": \"AI 개론\"},\n",
        ")\n",
        "\n",
        "updated_document_2 = Document(\n",
        "    page_content=\"머신러닝은 데이터로부터 학습하여 예측과 결정을 내리는 인공지능의 하위 분야입니다.\",\n",
        "    metadata={\"source\": \"AI 개론\"},\n",
        ")\n",
        "\n",
        "updated_document_3 = Document(\n",
        "    page_content=\"딥러닝은 머신러닝의 한 종류로, 심층 신경망을 사용하여 학습합니다.\",\n",
        "    metadata={\"source\": \"딥러닝 입문\"},\n",
        ")\n",
        "\n",
        "\n",
        "# 단일 문서 업데이트\n",
        "chroma_db.update_document(document_id=\"DOC_1\", document=updated_document_1)\n",
        "\n",
        "# 여러 문서 한 번에 업데이트\n",
        "chroma_db.update_documents(\n",
        "    ids=[\"DOC_2\", \"DOC_3\"],\n",
        "    documents=[updated_document_2, updated_document_3]\n",
        ")\n",
        "\n",
        "print(\"문서 업데이트 완료\")"
      ]
    },
    {
      "cell_type": "code",
      "execution_count": 12,
      "id": "783c5317",
      "metadata": {},
      "outputs": [
        {
          "name": "stdout",
          "output_type": "stream",
          "text": [
            "\n",
            "쿼리: 인공지능과 머신러닝의 관계는?\n",
            "가장 유사한 문서:\n",
            "- 머신러닝은 데이터로부터 학습하여 예측과 결정을 내리는 인공지능의 하위 분야입니다. [출처: AI 개론]\n",
            "- 인공지능은 컴퓨터 과학의 핵심 분야 중 하나로, 기계학습과 딥러닝을 포함합니다. [출처: AI 개론]\n"
          ]
        }
      ],
      "source": [
        "# 저장된 문서 검색 예시\n",
        "query = \"인공지능과 머신러닝의 관계는?\"\n",
        "results = chroma_db.similarity_search(query, k=2)\n",
        "\n",
        "print(f\"\\n쿼리: {query}\")\n",
        "print(\"가장 유사한 문서:\")\n",
        "for doc in results:\n",
        "    print(f\"- {doc.page_content} [출처: {doc.metadata['source']}]\")"
      ]
    },
    {
      "cell_type": "markdown",
      "id": "36e86775",
      "metadata": {},
      "source": [
        "- 문서 삭제: `vector_store.delete(ids)`"
      ]
    },
    {
      "cell_type": "code",
      "execution_count": 13,
      "id": "e7f006dc",
      "metadata": {},
      "outputs": [],
      "source": [
        "# 문서 id를 지정하여 삭제\n",
        "chroma_db.delete(ids=[\"DOC_5\"])"
      ]
    },
    {
      "cell_type": "code",
      "execution_count": 14,
      "id": "532fa81d",
      "metadata": {},
      "outputs": [
        {
          "data": {
            "text/plain": [
              "{'ids': ['DOC_1', 'DOC_2', 'DOC_3', 'DOC_4'],\n",
              " 'embeddings': None,\n",
              " 'documents': ['인공지능은 컴퓨터 과학의 핵심 분야 중 하나로, 기계학습과 딥러닝을 포함합니다.',\n",
              "  '머신러닝은 데이터로부터 학습하여 예측과 결정을 내리는 인공지능의 하위 분야입니다.',\n",
              "  '딥러닝은 머신러닝의 한 종류로, 심층 신경망을 사용하여 학습합니다.',\n",
              "  '자연어 처리는 컴퓨터가 인간의 언어를 이해하고 생성하는 기술입니다.'],\n",
              " 'uris': None,\n",
              " 'data': None,\n",
              " 'metadatas': [{'source': 'AI 개론'},\n",
              "  {'source': 'AI 개론'},\n",
              "  {'source': '딥러닝 입문'},\n",
              "  {'source': 'AI 개론'}],\n",
              " 'included': [<IncludeEnum.documents: 'documents'>,\n",
              "  <IncludeEnum.metadatas: 'metadatas'>]}"
            ]
          },
          "execution_count": 14,
          "metadata": {},
          "output_type": "execute_result"
        }
      ],
      "source": [
        "# 컬렉션 확인\n",
        "chroma_db.get()"
      ]
    },
    {
      "cell_type": "markdown",
      "id": "32c52c55",
      "metadata": {},
      "source": [
        "`(3) 문서 검색`  "
      ]
    },
    {
      "cell_type": "markdown",
      "id": "f057e97b",
      "metadata": {},
      "source": [
        "- 유사도 검색\n",
        "    - 주어진 쿼리와 가장 유사한 문서를 반환\n",
        "    -  k=2는 상위 2개의 결과를 반환하도록 지정\n",
        "    - filter를 사용하여 특정 출처의 문서만 검색 가능"
      ]
    },
    {
      "cell_type": "code",
      "execution_count": 61,
      "id": "f1705538",
      "metadata": {},
      "outputs": [
        {
          "name": "stdout",
          "output_type": "stream",
          "text": [
            "유사도 검색 결과:\n",
            "- 머신러닝은 인공지능의 하위 분야입니다. [출처: AI 개론]\n",
            "- 인공지능은 컴퓨터 과학의 한 분야입니다. [출처: AI 개론]\n"
          ]
        }
      ],
      "source": [
        "query = \"인공지능과 머신러닝의 차이점은 무엇인가요?\"\n",
        "results = chroma_db.similarity_search(\n",
        "    query,\n",
        "    k=2,\n",
        "    filter={\"source\": \"AI 개론\"}\n",
        ")\n",
        "\n",
        "print(\"유사도 검색 결과:\")\n",
        "for doc in results:\n",
        "    print(f\"- {doc.page_content} [출처: {doc.metadata['source']}]\")"
      ]
    },
    {
      "cell_type": "markdown",
      "id": "aadac15f",
      "metadata": {},
      "source": [
        "- 유사도 점수가 포함된 검색\n",
        "    - 유사도 점수를 함께 반환\n",
        "    - 점수가 낮을수록 더 유사한 것을 의미 (거리 기준으로 점수가 산정되기 때문)"
      ]
    },
    {
      "cell_type": "code",
      "execution_count": 62,
      "id": "f5862d62",
      "metadata": {},
      "outputs": [
        {
          "name": "stdout",
          "output_type": "stream",
          "text": [
            "점수가 포함된 유사도 검색 결과:\n",
            "\n",
            "- 점수: 0.8442\n",
            "  내용: 머신러닝은 인공지능의 하위 분야입니다.\n",
            "  [출처: AI 개론]\n",
            "\n",
            "- 점수: 0.9845\n",
            "  내용: 인공지능은 컴퓨터 과학의 한 분야입니다.\n",
            "  [출처: AI 개론]\n",
            "\n"
          ]
        }
      ],
      "source": [
        "query = \"딥러닝은 어떤 분야에서 사용되나요?\"\n",
        "results = chroma_db.similarity_search_with_score(\n",
        "    query,\n",
        "    k=2,\n",
        "    filter={\"source\": \"AI 개론\"}\n",
        ")\n",
        "\n",
        "print(\"점수가 포함된 유사도 검색 결과:\\n\")\n",
        "for doc, score in results:\n",
        "    print(f\"- 점수: {score:.4f}\")\n",
        "    print(f\"  내용: {doc.page_content}\")\n",
        "    print(f\"  [출처: {doc.metadata['source']}]\")\n",
        "    print()"
      ]
    },
    {
      "cell_type": "markdown",
      "id": "5564e3cb",
      "metadata": {},
      "source": [
        "- 관련성 점수가 포함된 검색\n",
        "    - 문서와 함께 0에서 1 사이의 관련성 점수를 반환\n",
        "    - 0은 가장 관련성이 낮고, 1은 가장 관련성이 높음을 의미"
      ]
    },
    {
      "cell_type": "code",
      "execution_count": 34,
      "id": "85309681",
      "metadata": {},
      "outputs": [
        {
          "name": "stdout",
          "output_type": "stream",
          "text": [
            "쿼리: 딥러닝은 어떤 분야에서 사용되나요?\n",
            "\n",
            "검색 결과 (관련성 점수 포함):\n",
            "- 관련성 점수: 0.4031\n",
            "  내용: 머신러닝은 인공지능의 하위 분야입니다.\n",
            "  [출처: AI 개론]\n",
            "\n",
            "- 관련성 점수: 0.3038\n",
            "  내용: 인공지능은 컴퓨터 과학의 한 분야입니다.\n",
            "  [출처: AI 개론]\n",
            "\n"
          ]
        }
      ],
      "source": [
        "query = \"딥러닝은 어떤 분야에서 사용되나요?\"\n",
        "results = chroma_db.similarity_search_with_relevance_scores(\n",
        "    query,\n",
        "    k=2,\n",
        "    filter={\"source\": \"AI 개론\"}\n",
        ")\n",
        "\n",
        "print(f\"쿼리: {query}\")\n",
        "print(\"\\n검색 결과 (관련성 점수 포함):\")\n",
        "for doc, score in results:\n",
        "    print(f\"- 관련성 점수: {score:.4f}\")\n",
        "    print(f\"  내용: {doc.page_content}\")\n",
        "    print(f\"  [출처: {doc.metadata['source']}]\")\n",
        "    print()"
      ]
    },
    {
      "cell_type": "markdown",
      "id": "f21c61a6",
      "metadata": {},
      "source": [
        "`(4) 벡터 저장소 로드`  "
      ]
    },
    {
      "cell_type": "code",
      "execution_count": 20,
      "id": "2d89ec8c",
      "metadata": {},
      "outputs": [],
      "source": [
        "chroma_db2 = Chroma(\n",
        "    collection_name=\"ai_smaple_collection\",\n",
        "    embedding_function=embeddings_model,\n",
        "    persist_directory=\"./chroma_db\",\n",
        ")"
      ]
    },
    {
      "cell_type": "code",
      "execution_count": 21,
      "id": "fba19e70",
      "metadata": {},
      "outputs": [
        {
          "name": "stdout",
          "output_type": "stream",
          "text": [
            "쿼리: 딥러닝은 어떤 분야에서 사용되나요?\n",
            "\n",
            "검색 결과 (관련성 점수 포함):\n",
            "- 관련성 점수: 0.5919\n",
            "  내용: 딥러닝은 머신러닝의 한 종류로, 심층 신경망을 사용하여 학습합니다.\n",
            "  [출처: 딥러닝 입문]\n",
            "\n"
          ]
        }
      ],
      "source": [
        "# 미리 임베딩된 쿼리 벡터를 사용하여 검색\n",
        "query = \"딥러닝은 어떤 분야에서 사용되나요?\"\n",
        "results = chroma_db2.similarity_search_with_relevance_scores(\n",
        "    query,\n",
        "    k=2,\n",
        "    filter={\"source\": \"딥러닝 입문\"}\n",
        ")\n",
        "\n",
        "print(f\"쿼리: {query}\")\n",
        "print(\"\\n검색 결과 (관련성 점수 포함):\")\n",
        "for doc, score in results:\n",
        "    print(f\"- 관련성 점수: {score:.4f}\")\n",
        "    print(f\"  내용: {doc.page_content}\")\n",
        "    print(f\"  [출처: {doc.metadata['source']}]\")\n",
        "    print()"
      ]
    },
    {
      "cell_type": "markdown",
      "id": "80551893",
      "metadata": {},
      "source": [
        "### **2 FAISS(Facebook AI Similarity Search)**\n",
        "\n",
        "- 효율적인 벡터 유사도 검색 및 클러스터링을 위한 오픈소스 벡터 저장소 \n",
        "- `faiss-cpu` 패키지 설치"
      ]
    },
    {
      "cell_type": "markdown",
      "id": "f35ecb88",
      "metadata": {},
      "source": [
        "`(1) 벡터 저장소 초기화`"
      ]
    },
    {
      "cell_type": "code",
      "execution_count": 4,
      "id": "392cd940",
      "metadata": {},
      "outputs": [
        {
          "name": "stdout",
          "output_type": "stream",
          "text": [
            "FAISS 인덱스 초기화 완료\n"
          ]
        }
      ],
      "source": [
        "# 벡터 저장소 생성\n",
        "import faiss \n",
        "from langchain_community.docstore.in_memory import InMemoryDocstore\n",
        "from langchain_community.vectorstores import FAISS\n",
        "\n",
        "# FAISS 인덱스 초기화 (유클리드 거리 사용)\n",
        "faiss_index = faiss.IndexFlatL2(len(embeddings_model.embed_query(\"hello world\")))\n",
        "print(\"FAISS 인덱스 초기화 완료\")"
      ]
    },
    {
      "cell_type": "code",
      "execution_count": 5,
      "id": "cc3e9a30",
      "metadata": {},
      "outputs": [
        {
          "data": {
            "text/plain": [
              "1024"
            ]
          },
          "execution_count": 5,
          "metadata": {},
          "output_type": "execute_result"
        }
      ],
      "source": [
        "# FAISS 벡터 저장소의 벡터 차원 수 (임베딩 차원 수)\n",
        "faiss_index.d"
      ]
    },
    {
      "cell_type": "code",
      "execution_count": 6,
      "id": "2ed65547",
      "metadata": {},
      "outputs": [
        {
          "data": {
            "text/plain": [
              "0"
            ]
          },
          "execution_count": 6,
          "metadata": {},
          "output_type": "execute_result"
        }
      ],
      "source": [
        "# FAISS 벡터 저장소 생성\n",
        "faiss_db = FAISS(\n",
        "    embedding_function=embeddings_model,\n",
        "    index=faiss_index,           # 벡터 검색을 위한 데이터 구조를 정의\n",
        "    docstore=InMemoryDocstore(), # 문서 저장소 객체를 지정 - 문서의 원본 내용과 메타데이터를 보관\n",
        "    index_to_docstore_id={},     # 인덱스와 문서 간의 연결을 관리 (매핑 딕셔너리)\n",
        ")\n",
        "# 저장된 문서의 갯수 확인\n",
        "faiss_db.index.ntotal"
      ]
    },
    {
      "cell_type": "markdown",
      "id": "fc1690c0",
      "metadata": {},
      "source": [
        "`(2) 벡터 저장소 관리`  "
      ]
    },
    {
      "cell_type": "markdown",
      "id": "0bf59cf4",
      "metadata": {},
      "source": [
        "- 문서 추가: `vector_store.add_documents(documents, ids)`"
      ]
    },
    {
      "cell_type": "code",
      "execution_count": 8,
      "id": "3ce50ab8",
      "metadata": {},
      "outputs": [
        {
          "name": "stdout",
          "output_type": "stream",
          "text": [
            "5개의 문서가 성공적으로 벡터 저장소에 추가되었습니다.\n",
            "['DOC_1', 'DOC_2', 'DOC_3', 'DOC_4', 'DOC_5']\n"
          ]
        }
      ],
      "source": [
        "from langchain_core.documents import Document\n",
        "\n",
        "# 문서 데이터 - (텍스트, 소스)\n",
        "documents = [\n",
        "    (\"인공지능은 컴퓨터 과학의 한 분야입니다.\", \"AI 개론\"),\n",
        "    (\"머신러닝은 인공지능의 하위 분야입니다.\", \"AI 개론\"),\n",
        "    (\"딥러닝은 머신러닝의 한 종류입니다.\", \"딥러닝 입문\"),\n",
        "    (\"자연어 처리는 컴퓨터가 인간의 언어를 이해하고 생성하는 기술입니다.\", \"AI 개론\"),\n",
        "    (\"컴퓨터 비전은 컴퓨터가 디지털 이미지나 비디오를 이해하는 방법을 연구합니다.\", \"딥러닝 입문\")\n",
        "]\n",
        "\n",
        "# Document 객체 생성\n",
        "doc_objects = []\n",
        "for content, source in documents:\n",
        "    doc = Document(\n",
        "        page_content=content,\n",
        "        metadata={\"source\": source},\n",
        "    )\n",
        "    doc_objects.append(doc)\n",
        "\n",
        "\n",
        "# 순차적 ID 리스트 생성\n",
        "doc_ids = [f\"DOC_{i}\" for i in range(1, len(doc_objects) + 1)]\n",
        "\n",
        "# 문서를 벡터 저장소에 저장\n",
        "added_doc_ids = faiss_db.add_documents(documents=doc_objects, ids=doc_ids)\n",
        "\n",
        "# 벡터 저장소에 저장된 문서를 확인\n",
        "print(f\"{len(added_doc_ids)}개의 문서가 성공적으로 벡터 저장소에 추가되었습니다.\")\n",
        "print(added_doc_ids)"
      ]
    },
    {
      "cell_type": "code",
      "execution_count": 9,
      "id": "c16ef7aa",
      "metadata": {},
      "outputs": [
        {
          "data": {
            "text/plain": [
              "5"
            ]
          },
          "execution_count": 9,
          "metadata": {},
          "output_type": "execute_result"
        }
      ],
      "source": [
        "# 저장된 문서의 갯수 확인\n",
        "faiss_db.index.ntotal"
      ]
    },
    {
      "cell_type": "code",
      "execution_count": 10,
      "id": "181960bf",
      "metadata": {},
      "outputs": [
        {
          "data": {
            "text/plain": [
              "{0: 'DOC_1', 1: 'DOC_2', 2: 'DOC_3', 3: 'DOC_4', 4: 'DOC_5'}"
            ]
          },
          "execution_count": 10,
          "metadata": {},
          "output_type": "execute_result"
        }
      ],
      "source": [
        "# 저장된 인덱스 확인\n",
        "faiss_db.index_to_docstore_id"
      ]
    },
    {
      "cell_type": "code",
      "execution_count": 12,
      "id": "6419d87b",
      "metadata": {},
      "outputs": [
        {
          "data": {
            "text/plain": [
              "Document(id='DOC_1', metadata={'source': 'AI 개론'}, page_content='인공지능은 컴퓨터 과학의 한 분야입니다.')"
            ]
          },
          "execution_count": 12,
          "metadata": {},
          "output_type": "execute_result"
        }
      ],
      "source": [
        "# 저장된 문서 검색\n",
        "faiss_db.docstore.search('DOC_1')"
      ]
    },
    {
      "cell_type": "markdown",
      "id": "a5f41f02",
      "metadata": {},
      "source": [
        "- 문서 삭제: `vector_store.delete(ids)`"
      ]
    },
    {
      "cell_type": "code",
      "execution_count": 29,
      "id": "572dd45b",
      "metadata": {},
      "outputs": [
        {
          "data": {
            "text/plain": [
              "True"
            ]
          },
          "execution_count": 29,
          "metadata": {},
          "output_type": "execute_result"
        }
      ],
      "source": [
        "# 문서 id를 지정하여 삭제\n",
        "faiss_db.delete(ids=[\"DOC_5\"])"
      ]
    },
    {
      "cell_type": "code",
      "execution_count": 30,
      "id": "de547f29",
      "metadata": {},
      "outputs": [
        {
          "data": {
            "text/plain": [
              "4"
            ]
          },
          "execution_count": 30,
          "metadata": {},
          "output_type": "execute_result"
        }
      ],
      "source": [
        "# 컬렉션 확인\n",
        "faiss_db.index.ntotal"
      ]
    },
    {
      "cell_type": "code",
      "execution_count": 31,
      "id": "cbde36e3",
      "metadata": {},
      "outputs": [
        {
          "data": {
            "text/plain": [
              "{0: 'DOC_1', 1: 'DOC_2', 2: 'DOC_3', 3: 'DOC_4'}"
            ]
          },
          "execution_count": 31,
          "metadata": {},
          "output_type": "execute_result"
        }
      ],
      "source": [
        "# 저장된 인덱스 확인\n",
        "faiss_db.index_to_docstore_id"
      ]
    },
    {
      "cell_type": "code",
      "execution_count": 32,
      "id": "9fbc42b4",
      "metadata": {},
      "outputs": [
        {
          "data": {
            "text/plain": [
              "{'DOC_1': Document(id='DOC_1', metadata={'source': 'AI 개론'}, page_content='인공지능은 컴퓨터 과학의 한 분야입니다.'),\n",
              " 'DOC_2': Document(id='DOC_2', metadata={'source': 'AI 개론'}, page_content='머신러닝은 인공지능의 하위 분야입니다.'),\n",
              " 'DOC_3': Document(id='DOC_3', metadata={'source': '딥러닝 입문'}, page_content='딥러닝은 머신러닝의 한 종류입니다.'),\n",
              " 'DOC_4': Document(id='DOC_4', metadata={'source': 'AI 개론'}, page_content='자연어 처리는 컴퓨터가 인간의 언어를 이해하고 생성하는 기술입니다.')}"
            ]
          },
          "execution_count": 32,
          "metadata": {},
          "output_type": "execute_result"
        }
      ],
      "source": [
        "# 저장된 문서 객체를 확인\n",
        "faiss_db.docstore._dict"
      ]
    },
    {
      "cell_type": "markdown",
      "id": "6187ee82",
      "metadata": {},
      "source": [
        "`(3) 문서 검색`  "
      ]
    },
    {
      "cell_type": "markdown",
      "id": "fb24f7fb",
      "metadata": {},
      "source": [
        "- 유사도 검색\n",
        "    - 주어진 쿼리와 가장 유사한 문서를 반환\n",
        "    - k=2는 상위 2개의 결과를 반환하도록 지정\n",
        "    - filter를 사용하여 특정 출처의 문서만 검색 가능"
      ]
    },
    {
      "cell_type": "code",
      "execution_count": 14,
      "id": "b3c30909",
      "metadata": {},
      "outputs": [
        {
          "name": "stdout",
          "output_type": "stream",
          "text": [
            "유사도 검색 결과:\n",
            "- 머신러닝은 인공지능의 하위 분야입니다. [출처: AI 개론]\n",
            "- 인공지능은 컴퓨터 과학의 한 분야입니다. [출처: AI 개론]\n"
          ]
        }
      ],
      "source": [
        "query = \"인공지능과 머신러닝의 차이점은 무엇인가요?\"\n",
        "results = faiss_db.similarity_search(\n",
        "    query,\n",
        "    k=2,\n",
        "    filter={\"source\": \"AI 개론\"}\n",
        ")\n",
        "\n",
        "print(\"유사도 검색 결과:\")\n",
        "for doc in results:\n",
        "    print(f\"- {doc.page_content} [출처: {doc.metadata['source']}]\")"
      ]
    },
    {
      "cell_type": "markdown",
      "id": "ab435b13",
      "metadata": {},
      "source": [
        "- 유사도 점수가 포함된 검색\n",
        "    - 유사도 점수를 함께 반환\n",
        "    - 점수가 낮을수록 더 유사한 것을 의미"
      ]
    },
    {
      "cell_type": "code",
      "execution_count": 15,
      "id": "6d4f9a64",
      "metadata": {},
      "outputs": [
        {
          "name": "stdout",
          "output_type": "stream",
          "text": [
            "점수가 포함된 유사도 검색 결과:\n",
            "\n",
            "- 점수: 0.8442\n",
            "  내용: 머신러닝은 인공지능의 하위 분야입니다.\n",
            "  [출처: AI 개론]\n",
            "\n",
            "- 점수: 0.9845\n",
            "  내용: 인공지능은 컴퓨터 과학의 한 분야입니다.\n",
            "  [출처: AI 개론]\n",
            "\n"
          ]
        }
      ],
      "source": [
        "query = \"딥러닝은 어떤 분야에서 사용되나요?\"\n",
        "results = faiss_db.similarity_search_with_score(\n",
        "    query,\n",
        "    k=2,\n",
        "    filter={\"source\": \"AI 개론\"}\n",
        ")\n",
        "\n",
        "print(\"점수가 포함된 유사도 검색 결과:\\n\")\n",
        "for doc, score in results:\n",
        "    print(f\"- 점수: {score:.4f}\")\n",
        "    print(f\"  내용: {doc.page_content}\")\n",
        "    print(f\"  [출처: {doc.metadata['source']}]\")\n",
        "    print()"
      ]
    },
    {
      "cell_type": "markdown",
      "id": "90dc4a46",
      "metadata": {},
      "source": [
        "- 관련성 점수가 포함된 검색\n",
        "    - 문서와 함께 0에서 1 사이의 관련성 점수를 반환\n",
        "    - 0은 가장 관련성이 낮고, 1은 가장 관련성이 높음을 의미"
      ]
    },
    {
      "cell_type": "code",
      "execution_count": 16,
      "id": "3e35b303",
      "metadata": {},
      "outputs": [
        {
          "name": "stdout",
          "output_type": "stream",
          "text": [
            "쿼리: 딥러닝은 어떤 분야에서 사용되나요?\n",
            "\n",
            "검색 결과 (관련성 점수 포함):\n",
            "- 관련성 점수: 0.4031\n",
            "  내용: 머신러닝은 인공지능의 하위 분야입니다.\n",
            "  [출처: AI 개론]\n",
            "\n",
            "- 관련성 점수: 0.3038\n",
            "  내용: 인공지능은 컴퓨터 과학의 한 분야입니다.\n",
            "  [출처: AI 개론]\n",
            "\n"
          ]
        }
      ],
      "source": [
        "query = \"딥러닝은 어떤 분야에서 사용되나요?\"\n",
        "results = faiss_db.similarity_search_with_relevance_scores(\n",
        "    query,\n",
        "    k=2,\n",
        "    filter={\"source\": \"AI 개론\"}\n",
        ")\n",
        "\n",
        "print(f\"쿼리: {query}\")\n",
        "print(\"\\n검색 결과 (관련성 점수 포함):\")\n",
        "for doc, score in results:\n",
        "    print(f\"- 관련성 점수: {score:.4f}\")\n",
        "    print(f\"  내용: {doc.page_content}\")\n",
        "    print(f\"  [출처: {doc.metadata['source']}]\")\n",
        "    print()"
      ]
    },
    {
      "cell_type": "markdown",
      "id": "8f13e6f6",
      "metadata": {},
      "source": [
        "`(4) 로컬에 저장 및 로드`  "
      ]
    },
    {
      "cell_type": "code",
      "execution_count": 17,
      "id": "a781dfe0",
      "metadata": {},
      "outputs": [],
      "source": [
        "# 로컬에 저장\n",
        "faiss_db.save_local(\"faiss_ai_smaple_index\")"
      ]
    },
    {
      "cell_type": "code",
      "execution_count": 18,
      "id": "785ef1da",
      "metadata": {},
      "outputs": [],
      "source": [
        "# 로컬에 저장된 FAISS 벡터 저장소 불러오기\n",
        "faiss_db2 = FAISS.load_local(\n",
        "    \"faiss_ai_smaple_index\", embeddings_model, allow_dangerous_deserialization=True\n",
        ")"
      ]
    },
    {
      "cell_type": "code",
      "execution_count": 19,
      "id": "985146b9",
      "metadata": {},
      "outputs": [
        {
          "name": "stdout",
          "output_type": "stream",
          "text": [
            "쿼리: 딥러닝은 어떤 분야에서 사용되나요?\n",
            "\n",
            "검색 결과 (관련성 점수 포함):\n",
            "- 관련성 점수: 0.5392\n",
            "  내용: 딥러닝은 머신러닝의 한 종류입니다.\n",
            "  [출처: 딥러닝 입문]\n",
            "\n",
            "- 관련성 점수: 0.1752\n",
            "  내용: 컴퓨터 비전은 컴퓨터가 디지털 이미지나 비디오를 이해하는 방법을 연구합니다.\n",
            "  [출처: 딥러닝 입문]\n",
            "\n"
          ]
        }
      ],
      "source": [
        "query = \"딥러닝은 어떤 분야에서 사용되나요?\"\n",
        "results = faiss_db2.similarity_search_with_relevance_scores(\n",
        "    query,\n",
        "    k=2,\n",
        "    filter={\"source\": \"딥러닝 입문\"}\n",
        ")\n",
        "\n",
        "print(f\"쿼리: {query}\")\n",
        "print(\"\\n검색 결과 (관련성 점수 포함):\")\n",
        "for doc, score in results:\n",
        "    print(f\"- 관련성 점수: {score:.4f}\")\n",
        "    print(f\"  내용: {doc.page_content}\")\n",
        "    print(f\"  [출처: {doc.metadata['source']}]\")\n",
        "    print()"
      ]
    },
    {
      "cell_type": "markdown",
      "id": "c9191420",
      "metadata": {},
      "source": [
        "### 3. **Pinecone**\n",
        "\n",
        "- 상용 클라우드 기반의 벡터 데이터베이스 서비스 (SaaS)\n",
        "- 실시간 고성능 벡터 검색 제공\n",
        "- 회원가입 및 API 인증키 발급 (.env 파일에 `PINECONE_API_KEY` 등록)\n",
        "- `langchain-pinecone pinecone-notebooks` 패키지 설치"
      ]
    },
    {
      "cell_type": "markdown",
      "id": "43b0bafe",
      "metadata": {},
      "source": [
        "`(1) 환경 설정`"
      ]
    },
    {
      "cell_type": "code",
      "execution_count": 39,
      "id": "bf678797",
      "metadata": {},
      "outputs": [
        {
          "data": {
            "text/plain": [
              "True"
            ]
          },
          "execution_count": 39,
          "metadata": {},
          "output_type": "execute_result"
        }
      ],
      "source": [
        "# PINECONE_API_KEY 환경 변수 설정 후에 실행\n",
        "from dotenv import load_dotenv\n",
        "load_dotenv()"
      ]
    },
    {
      "cell_type": "code",
      "execution_count": 40,
      "id": "7dc7d0de",
      "metadata": {},
      "outputs": [],
      "source": [
        "# 인증 설정\n",
        "import os\n",
        "from pinecone import Pinecone, ServerlessSpec \n",
        "pinecone_api_key = os.environ.get(\"PINECONE_API_KEY\")\n",
        "pc = Pinecone(api_key=pinecone_api_key)"
      ]
    },
    {
      "cell_type": "code",
      "execution_count": 56,
      "id": "6babbe93",
      "metadata": {},
      "outputs": [
        {
          "name": "stdout",
          "output_type": "stream",
          "text": [
            "기존 인덱스: ['pandas-studio']\n"
          ]
        }
      ],
      "source": [
        "# 기존 인덱스 리스트 확인\n",
        "existing_indexes = [index_info[\"name\"] for index_info in pc.list_indexes()]\n",
        "print(f\"기존 인덱스: {existing_indexes}\")"
      ]
    },
    {
      "cell_type": "markdown",
      "id": "6da5c49b",
      "metadata": {},
      "source": [
        "`(2) 벡터 저장소 초기화`"
      ]
    },
    {
      "cell_type": "code",
      "execution_count": 57,
      "id": "f13a3ce6",
      "metadata": {},
      "outputs": [],
      "source": [
        "import time \n",
        "\n",
        "# 인데스 이름 설정\n",
        "index_name = \"ai-smaple-index\"\n",
        "\n",
        "# 인덱스가 없으면 생성\n",
        "if index_name not in existing_indexes:\n",
        "    pc.create_index(\n",
        "        name=index_name,\n",
        "        dimension=1024,\n",
        "        metric=\"euclidean\",  # 유사도 측정 방법 - euclidean, cosine, dotproduct\n",
        "        spec=ServerlessSpec(cloud=\"aws\", region=\"us-east-1\"),\n",
        "    )\n",
        "    while not pc.describe_index(index_name).status[\"ready\"]:\n",
        "        time.sleep(1)\n",
        "\n",
        "# 인덱스 이름을 사용하여 인덱스 객체 생성\n",
        "index = pc.Index(index_name)"
      ]
    },
    {
      "cell_type": "code",
      "execution_count": 58,
      "id": "05a44165",
      "metadata": {},
      "outputs": [
        {
          "data": {
            "text/plain": [
              "{'deletion_protection': 'disabled',\n",
              " 'dimension': 1024,\n",
              " 'host': 'ai-smaple-index-dvix98h.svc.aped-4627-b74a.pinecone.io',\n",
              " 'metric': 'euclidean',\n",
              " 'name': 'ai-smaple-index',\n",
              " 'spec': {'serverless': {'cloud': 'aws', 'region': 'us-east-1'}},\n",
              " 'status': {'ready': True, 'state': 'Ready'}}"
            ]
          },
          "execution_count": 58,
          "metadata": {},
          "output_type": "execute_result"
        }
      ],
      "source": [
        "# 인덱스 정보 확인\n",
        "index_name = \"ai-smaple-index\"\n",
        "\n",
        "index_info = pc.describe_index(index_name)\n",
        "index_info"
      ]
    },
    {
      "cell_type": "code",
      "execution_count": 59,
      "id": "85119da9",
      "metadata": {},
      "outputs": [
        {
          "data": {
            "text/plain": [
              "<langchain_pinecone.vectorstores.PineconeVectorStore at 0x341aa3500>"
            ]
          },
          "execution_count": 59,
          "metadata": {},
          "output_type": "execute_result"
        }
      ],
      "source": [
        "from langchain_pinecone import PineconeVectorStore  \n",
        "\n",
        "# PINECONE 벡터 저장소 생성\n",
        "pinecone_db = PineconeVectorStore(index=index, embedding=embeddings_model)\n",
        "\n",
        "# 벡터 저장소 객체 확인 \n",
        "pinecone_db"
      ]
    },
    {
      "cell_type": "code",
      "execution_count": 60,
      "id": "02d710b4",
      "metadata": {},
      "outputs": [
        {
          "data": {
            "text/plain": [
              "{'dimension': 1024,\n",
              " 'index_fullness': 0.0,\n",
              " 'namespaces': {},\n",
              " 'total_vector_count': 0}"
            ]
          },
          "execution_count": 60,
          "metadata": {},
          "output_type": "execute_result"
        }
      ],
      "source": [
        "# 저장된 문서의 갯수 확인\n",
        "pinecone_db._index.describe_index_stats()"
      ]
    },
    {
      "cell_type": "markdown",
      "id": "bdf704f6",
      "metadata": {},
      "source": [
        "`(2) 벡터 저장소 관리`  "
      ]
    },
    {
      "cell_type": "markdown",
      "id": "3ddebe23",
      "metadata": {},
      "source": [
        "- 문서 추가: `vector_store.add_documents(documents, ids)`"
      ]
    },
    {
      "cell_type": "code",
      "execution_count": 61,
      "id": "645e325f",
      "metadata": {},
      "outputs": [
        {
          "name": "stdout",
          "output_type": "stream",
          "text": [
            "5개의 문서가 성공적으로 벡터 저장소에 추가되었습니다.\n",
            "['DOC_1', 'DOC_2', 'DOC_3', 'DOC_4', 'DOC_5']\n"
          ]
        }
      ],
      "source": [
        "from langchain_core.documents import Document\n",
        "\n",
        "# 문서 데이터 - (텍스트, 소스)\n",
        "documents = [\n",
        "    (\"인공지능은 컴퓨터 과학의 한 분야입니다.\", \"AI 개론\"),\n",
        "    (\"머신러닝은 인공지능의 하위 분야입니다.\", \"AI 개론\"),\n",
        "    (\"딥러닝은 머신러닝의 한 종류입니다.\", \"딥러닝 입문\"),\n",
        "    (\"자연어 처리는 컴퓨터가 인간의 언어를 이해하고 생성하는 기술입니다.\", \"AI 개론\"),\n",
        "    (\"컴퓨터 비전은 컴퓨터가 디지털 이미지나 비디오를 이해하는 방법을 연구합니다.\", \"딥러닝 입문\")\n",
        "]\n",
        "\n",
        "# Document 객체 생성\n",
        "doc_objects = []\n",
        "for content, source in documents:\n",
        "    doc = Document(\n",
        "        page_content=content,\n",
        "        metadata={\"source\": source},\n",
        "    )\n",
        "    doc_objects.append(doc)\n",
        "\n",
        "\n",
        "# 순차적 ID 리스트 생성\n",
        "doc_ids = [f\"DOC_{i}\" for i in range(1, len(doc_objects) + 1)]\n",
        "\n",
        "# 문서를 벡터 저장소에 저장\n",
        "added_doc_ids = pinecone_db.add_documents(documents=doc_objects, ids=doc_ids)\n",
        "\n",
        "# 벡터 저장소에 저장된 문서를 확인\n",
        "print(f\"{len(added_doc_ids)}개의 문서가 성공적으로 벡터 저장소에 추가되었습니다.\")\n",
        "print(added_doc_ids)"
      ]
    },
    {
      "cell_type": "code",
      "execution_count": 64,
      "id": "cce4653e",
      "metadata": {},
      "outputs": [
        {
          "data": {
            "text/plain": [
              "{'dimension': 1024,\n",
              " 'index_fullness': 0.0,\n",
              " 'namespaces': {'': {'vector_count': 5}},\n",
              " 'total_vector_count': 5}"
            ]
          },
          "execution_count": 64,
          "metadata": {},
          "output_type": "execute_result"
        }
      ],
      "source": [
        "# 저장된 문서의 갯수 확인 - 동기화에 시간이 걸릴 수 있음\n",
        "pinecone_db._index.describe_index_stats()"
      ]
    },
    {
      "cell_type": "code",
      "execution_count": 65,
      "id": "cdab0379",
      "metadata": {},
      "outputs": [
        {
          "name": "stdout",
          "output_type": "stream",
          "text": [
            "\n",
            "쿼리: 인공지능과 머신러닝의 관계는?\n",
            "가장 유사한 문서:\n",
            "- 머신러닝은 인공지능의 하위 분야입니다. [출처: AI 개론]\n",
            "- 딥러닝은 머신러닝의 한 종류입니다. [출처: 딥러닝 입문]\n"
          ]
        }
      ],
      "source": [
        "# 저장된 문서 검색\n",
        "query = \"인공지능과 머신러닝의 관계는?\"\n",
        "results = pinecone_db.similarity_search(query, k=2)\n",
        "\n",
        "print(f\"\\n쿼리: {query}\")\n",
        "print(\"가장 유사한 문서:\")\n",
        "for doc in results:\n",
        "    print(f\"- {doc.page_content} [출처: {doc.metadata['source']}]\")"
      ]
    },
    {
      "cell_type": "markdown",
      "id": "8e9bc3f4",
      "metadata": {},
      "source": [
        "- 문서 삭제: `vector_store.delete(ids)`"
      ]
    },
    {
      "cell_type": "code",
      "execution_count": 66,
      "id": "5256dc41",
      "metadata": {},
      "outputs": [],
      "source": [
        "# 문서 id를 지정하여 삭제\n",
        "pinecone_db.delete(ids=[\"DOC_5\"])"
      ]
    },
    {
      "cell_type": "code",
      "execution_count": 67,
      "id": "f6456331",
      "metadata": {},
      "outputs": [
        {
          "data": {
            "text/plain": [
              "{'dimension': 1024,\n",
              " 'index_fullness': 0.0,\n",
              " 'namespaces': {'': {'vector_count': 4}},\n",
              " 'total_vector_count': 4}"
            ]
          },
          "execution_count": 67,
          "metadata": {},
          "output_type": "execute_result"
        }
      ],
      "source": [
        "# 컬렉션 확인\n",
        "pinecone_db._index.describe_index_stats()"
      ]
    },
    {
      "cell_type": "markdown",
      "id": "a38629b4",
      "metadata": {},
      "source": [
        "`(3) 문서 검색`  "
      ]
    },
    {
      "cell_type": "markdown",
      "id": "bb19a304",
      "metadata": {},
      "source": [
        "- 유사도 검색\n",
        "    - 주어진 쿼리와 가장 유사한 문서를 반환\n",
        "    -  k=2는 상위 2개의 결과를 반환하도록 지정\n",
        "    - filter를 사용하여 특정 출처의 문서만 검색 가능"
      ]
    },
    {
      "cell_type": "code",
      "execution_count": 68,
      "id": "31588f4d",
      "metadata": {},
      "outputs": [
        {
          "name": "stdout",
          "output_type": "stream",
          "text": [
            "유사도 검색 결과:\n",
            "- 머신러닝은 인공지능의 하위 분야입니다. [출처: AI 개론]\n",
            "- 인공지능은 컴퓨터 과학의 한 분야입니다. [출처: AI 개론]\n"
          ]
        }
      ],
      "source": [
        "query = \"인공지능과 머신러닝의 차이점은 무엇인가요?\"\n",
        "results = pinecone_db.similarity_search(\n",
        "    query,\n",
        "    k=2,\n",
        "    filter={\"source\": \"AI 개론\"}\n",
        ")\n",
        "\n",
        "print(\"유사도 검색 결과:\")\n",
        "for doc in results:\n",
        "    print(f\"- {doc.page_content} [출처: {doc.metadata['source']}]\")"
      ]
    },
    {
      "cell_type": "markdown",
      "id": "4294e943",
      "metadata": {},
      "source": [
        "- 유사도 점수가 포함된 검색\n",
        "    - 유사도 점수를 함께 반환\n",
        "    - 점수가 낮을수록 더 유사한 것을 의미 (거리 기준으로 점수가 산정되기 때문)"
      ]
    },
    {
      "cell_type": "code",
      "execution_count": 69,
      "id": "d69d06fc",
      "metadata": {},
      "outputs": [
        {
          "name": "stdout",
          "output_type": "stream",
          "text": [
            "점수가 포함된 유사도 검색 결과:\n",
            "\n",
            "- 점수: 0.8442\n",
            "  내용: 머신러닝은 인공지능의 하위 분야입니다.\n",
            "  [출처: AI 개론]\n",
            "\n",
            "- 점수: 0.9845\n",
            "  내용: 인공지능은 컴퓨터 과학의 한 분야입니다.\n",
            "  [출처: AI 개론]\n",
            "\n"
          ]
        }
      ],
      "source": [
        "query = \"딥러닝은 어떤 분야에서 사용되나요?\"\n",
        "results = pinecone_db.similarity_search_with_score(\n",
        "    query,\n",
        "    k=2,\n",
        "    filter={\"source\": \"AI 개론\"}\n",
        ")\n",
        "\n",
        "print(\"점수가 포함된 유사도 검색 결과:\\n\")\n",
        "for doc, score in results:\n",
        "    print(f\"- 점수: {score:.4f}\")\n",
        "    print(f\"  내용: {doc.page_content}\")\n",
        "    print(f\"  [출처: {doc.metadata['source']}]\")\n",
        "    print()"
      ]
    },
    {
      "cell_type": "markdown",
      "id": "2df5af70",
      "metadata": {},
      "source": [
        "- 관련성 점수가 포함된 검색\n",
        "    - 문서와 함께 0에서 1 사이의 관련성 점수를 반환\n",
        "    - 0은 가장 관련성이 낮고, 1은 가장 관련성이 높음을 의미"
      ]
    },
    {
      "cell_type": "code",
      "execution_count": 72,
      "id": "67e74a1b",
      "metadata": {},
      "outputs": [
        {
          "name": "stdout",
          "output_type": "stream",
          "text": [
            "쿼리: 딥러닝은 어떤 분야에서 사용되나요?\n",
            "\n",
            "검색 결과 (관련성 점수 포함):\n",
            "- 관련성 점수: 0.9221\n",
            "  내용: 머신러닝은 인공지능의 하위 분야입니다.\n",
            "  [출처: AI 개론]\n",
            "\n",
            "- 관련성 점수: 0.9923\n",
            "  내용: 인공지능은 컴퓨터 과학의 한 분야입니다.\n",
            "  [출처: AI 개론]\n",
            "\n"
          ]
        }
      ],
      "source": [
        "query = \"딥러닝은 어떤 분야에서 사용되나요?\"\n",
        "results = pinecone_db.similarity_search_with_relevance_scores(\n",
        "    query,\n",
        "    k=2,\n",
        "    filter={\"source\": \"AI 개론\"}\n",
        ")\n",
        "\n",
        "print(f\"쿼리: {query}\")\n",
        "print(\"\\n검색 결과 (관련성 점수 포함):\")\n",
        "for doc, score in results:\n",
        "    print(f\"- 관련성 점수: {score:.4f}\")\n",
        "    print(f\"  내용: {doc.page_content}\")\n",
        "    print(f\"  [출처: {doc.metadata['source']}]\")\n",
        "    print()"
      ]
    },
    {
      "cell_type": "markdown",
      "id": "1a43ad4b",
      "metadata": {},
      "source": [
        "`(4) 벡터 저장소 로드`  "
      ]
    },
    {
      "cell_type": "code",
      "execution_count": 73,
      "id": "5e47f34f",
      "metadata": {},
      "outputs": [
        {
          "data": {
            "text/plain": [
              "{'dimension': 1024,\n",
              " 'index_fullness': 0.0,\n",
              " 'namespaces': {'': {'vector_count': 4}},\n",
              " 'total_vector_count': 4}"
            ]
          },
          "execution_count": 73,
          "metadata": {},
          "output_type": "execute_result"
        }
      ],
      "source": [
        "# 저장된 인덱스 확인해서 초기화 \n",
        "index_name = \"ai-smaple-index\"\n",
        "index = pc.Index(index_name)\n",
        "pinecone_db2 = PineconeVectorStore(index=index, embedding=embeddings_model)\n",
        "\n",
        "# 저장된 문서 정보를 확인\n",
        "pinecone_db2._index.describe_index_stats()"
      ]
    },
    {
      "cell_type": "code",
      "execution_count": 74,
      "id": "21c7155e",
      "metadata": {},
      "outputs": [
        {
          "name": "stdout",
          "output_type": "stream",
          "text": [
            "쿼리: 딥러닝은 어떤 분야에서 사용되나요?\n",
            "\n",
            "검색 결과 (관련성 점수 포함):\n",
            "- 관련성 점수: 0.9221\n",
            "  내용: 머신러닝은 인공지능의 하위 분야입니다.\n",
            "  [출처: AI 개론]\n",
            "\n",
            "- 관련성 점수: 0.9923\n",
            "  내용: 인공지능은 컴퓨터 과학의 한 분야입니다.\n",
            "  [출처: AI 개론]\n",
            "\n"
          ]
        }
      ],
      "source": [
        "# 미리 임베딩된 쿼리 벡터를 사용하여 검색\n",
        "query = \"딥러닝은 어떤 분야에서 사용되나요?\"\n",
        "results = pinecone_db2.similarity_search_with_relevance_scores(\n",
        "    query,\n",
        "    k=2,\n",
        "    filter={\"source\": \"AI 개론\"}\n",
        ")\n",
        "\n",
        "print(f\"쿼리: {query}\")\n",
        "print(\"\\n검색 결과 (관련성 점수 포함):\")\n",
        "for doc, score in results:\n",
        "    print(f\"- 관련성 점수: {score:.4f}\")\n",
        "    print(f\"  내용: {doc.page_content}\")\n",
        "    print(f\"  [출처: {doc.metadata['source']}]\")\n",
        "    print()"
      ]
    },
    {
      "cell_type": "markdown",
      "id": "e7b5c4c5",
      "metadata": {},
      "source": [
        "# [실습 프로젝트]\n",
        "\n",
        "1. 아래 샘플 문서들을 벡터 저장소에 저장하는 코드를 작성합니다. \n",
        "   - 적절한 벡터 저장소 선택 (Pinecone 등)\n",
        "   - 임베딩 모델 설정\n",
        "   - 문서 구조 설계 (metadata 정의)\n",
        "\n",
        "2. 벡터 저장소를 사용하여 다음 기능을 구현합니다. \n",
        "   - 새로운 문서 추가\n",
        "   - 문서 삭제\n",
        "   - 문서 검색: 유사도 점수 계산, 메타데이터 기반 필터링 등 "
      ]
    },
    {
      "cell_type": "code",
      "execution_count": 66,
      "id": "1d11e893",
      "metadata": {},
      "outputs": [],
      "source": [
        "# 샘플 문서 데이터 \n",
        "documents = [\n",
        "    {\"content\": \"인공지능 기술의 발전과 미래\", \"type\": \"article\", \"author\": \"김철수\"},\n",
        "    {\"content\": \"데이터 분석 입문 가이드\", \"type\": \"tutorial\", \"author\": \"이영희\"},\n",
        "    {\"content\": \"머신러닝 모델 성능 개선 방법\", \"type\": \"research\", \"author\": \"박지성\"},\n",
        "    {\"content\": \"블록체인 기술과 금융 혁신\", \"type\": \"article\", \"author\": \"정민우\"},\n",
        "    {\"content\": \"클라우드 컴퓨팅 아키텍처 설계\", \"type\": \"tutorial\", \"author\": \"강다은\"},\n",
        "    {\"content\": \"사이버 보안 위협 대응 전략\", \"type\": \"research\", \"author\": \"홍길동\"},\n",
        "    {\"content\": \"빅데이터 처리 시스템 구축 사례\", \"type\": \"article\", \"author\": \"송지원\"},\n",
        "    {\"content\": \"웹 개발자를 위한 REST API 가이드\", \"type\": \"tutorial\", \"author\": \"임성준\"},\n",
        "    {\"content\": \"자연어 처리 알고리즘 비교 연구\", \"type\": \"research\", \"author\": \"최유진\"},\n",
        "    {\"content\": \"디지털 트랜스포메이션 성공 전략\", \"type\": \"article\", \"author\": \"백승호\"},\n",
        "    {\"content\": \"파이썬으로 시작하는 데이터 시각화\", \"type\": \"tutorial\", \"author\": \"유미란\"},\n",
        "    {\"content\": \"강화학습을 활용한 게임 AI 개발\", \"type\": \"research\", \"author\": \"조현우\"},\n",
        "    {\"content\": \"5G 네트워크 기술 동향\", \"type\": \"article\", \"author\": \"윤서연\"},\n",
        "    {\"content\": \"도커 컨테이너 실전 가이드\", \"type\": \"tutorial\", \"author\": \"장민석\"},\n",
        "    {\"content\": \"추천 시스템 최적화 연구\", \"type\": \"research\", \"author\": \"신영수\"},\n",
        "    {\"content\": \"스마트 시티 구현 기술\", \"type\": \"article\", \"author\": \"권태영\"},\n",
        "    {\"content\": \"깃허브 활용 협업 가이드\", \"type\": \"tutorial\", \"author\": \"오지훈\"},\n",
        "    {\"content\": \"컴퓨터 비전 응용 사례 연구\", \"type\": \"research\", \"author\": \"남궁민\"},\n",
        "    {\"content\": \"양자 컴퓨팅의 현재와 미래\", \"type\": \"article\", \"author\": \"하은주\"},\n",
        "    {\"content\": \"리액트 네이티브 앱 개발 입문\", \"type\": \"tutorial\", \"author\": \"문동현\"},\n",
        "    {\"content\": \"음성인식 시스템 성능 평가\", \"type\": \"research\", \"author\": \"심준호\"},\n",
        "    {\"content\": \"메타버스 플랫폼 개발 동향\", \"type\": \"article\", \"author\": \"류아린\"},\n",
        "    {\"content\": \"NoSQL 데이터베이스 설계 패턴\", \"type\": \"tutorial\", \"author\": \"반승현\"},\n",
        "    {\"content\": \"엣지 컴퓨팅 적용 사례 연구\", \"type\": \"research\", \"author\": \"주민정\"},\n",
        "    {\"content\": \"디지털 헬스케어 기술 혁신\", \"type\": \"article\", \"author\": \"구본우\"},\n",
        "    {\"content\": \"마이크로서비스 아키텍처 구현\", \"type\": \"tutorial\", \"author\": \"염지현\"},\n",
        "    {\"content\": \"강화학습 기반 로봇 제어 연구\", \"type\": \"research\", \"author\": \"탁현우\"},\n",
        "    {\"content\": \"친환경 IT 인프라 구축 방안\", \"type\": \"article\", \"author\": \"방승미\"},\n",
        "    {\"content\": \"프론트엔드 성능 최적화 기법\", \"type\": \"tutorial\", \"author\": \"곽준영\"},\n",
        "    {\"content\": \"시계열 데이터 예측 모델 연구\", \"type\": \"research\", \"author\": \"추민서\"}\n",
        "]"
      ]
    },
    {
      "cell_type": "code",
      "execution_count": null,
      "id": "0f9c76ba",
      "metadata": {},
      "outputs": [],
      "source": [
        "# 풀이를 여기에 작성합니다. \n",
        "\n",
        "\n"
      ]
    },
    {
      "cell_type": "code",
      "execution_count": null,
      "id": "aa32f9fb",
      "metadata": {},
      "outputs": [],
      "source": [
        "# Chroma \n",
        "\n",
        "## 벡터 저장소 초기화 ##"
      ]
    },
    {
      "cell_type": "code",
      "execution_count": 67,
      "id": "ba0c317b",
      "metadata": {},
      "outputs": [],
      "source": [
        "# 벡터 저장소에 문서를 저장할 때 적용할 임베딩 모델\n",
        "from langchain_huggingface import HuggingFaceEmbeddings\n",
        "embeddings_model = HuggingFaceEmbeddings(model_name=\"BAAI/bge-m3\")"
      ]
    },
    {
      "cell_type": "code",
      "execution_count": null,
      "id": "a84c8dd2",
      "metadata": {},
      "outputs": [],
      "source": [
        "# 벡터 저장소에 문서를 저장할 때 적용할 임베딩 모델 (변경)\n",
        "from langchain_openai import OpenAIEmbeddings \n",
        "embeddings_model_2 = OpenAIEmbeddings(model=\"text-embedding-3-small\")"
      ]
    },
    {
      "cell_type": "code",
      "execution_count": 68,
      "id": "1a138b09",
      "metadata": {},
      "outputs": [
        {
          "data": {
            "text/plain": [
              "{'ids': [],\n",
              " 'embeddings': None,\n",
              " 'documents': [],\n",
              " 'uris': None,\n",
              " 'data': None,\n",
              " 'metadatas': [],\n",
              " 'included': [<IncludeEnum.documents: 'documents'>,\n",
              "  <IncludeEnum.metadatas: 'metadatas'>]}"
            ]
          },
          "execution_count": 68,
          "metadata": {},
          "output_type": "execute_result"
        }
      ],
      "source": [
        "# 벡터 저장소 생성\n",
        "from langchain_chroma import Chroma\n",
        "\n",
        "chroma_db_3 = Chroma(\n",
        "    collection_name=\"ai_paper_collection\",\n",
        "    embedding_function=embeddings_model,\n",
        "    persist_directory=\"./chroma_db_3\",\n",
        ")\n",
        "\n",
        "\n",
        "# 현재 저장된 컬렉션 데이터 확인\n",
        "chroma_db_3.get()"
      ]
    },
    {
      "cell_type": "code",
      "execution_count": null,
      "id": "c5c341d1",
      "metadata": {},
      "outputs": [],
      "source": [
        "# Chroma \n",
        "\n",
        "## 벡터 저장소 관리 ##"
      ]
    },
    {
      "cell_type": "code",
      "execution_count": 70,
      "id": "0d7eb912",
      "metadata": {},
      "outputs": [
        {
          "name": "stdout",
          "output_type": "stream",
          "text": [
            "30개의 문서가 성공적으로 벡터 저장소에 추가되었습니다.\n",
            "['DOC_1', 'DOC_2', 'DOC_3', 'DOC_4', 'DOC_5', 'DOC_6', 'DOC_7', 'DOC_8', 'DOC_9', 'DOC_10', 'DOC_11', 'DOC_12', 'DOC_13', 'DOC_14', 'DOC_15', 'DOC_16', 'DOC_17', 'DOC_18', 'DOC_19', 'DOC_20', 'DOC_21', 'DOC_22', 'DOC_23', 'DOC_24', 'DOC_25', 'DOC_26', 'DOC_27', 'DOC_28', 'DOC_29', 'DOC_30']\n"
          ]
        }
      ],
      "source": [
        "from langchain_core.documents import Document\n",
        "\n",
        "# Document 객체 생성\n",
        "doc_objects = []\n",
        "for content, type, author in documents:\n",
        "    doc = Document(\n",
        "        page_content=content,\n",
        "        metadata={\"type\": type, \n",
        "                  \"author\": author},\n",
        "        \n",
        "    )\n",
        "    doc_objects.append(doc)\n",
        "\n",
        "\n",
        "# 순차적 ID 리스트 생성\n",
        "doc_ids = [f\"DOC_{i}\" for i in range(1, len(doc_objects) + 1)]\n",
        "\n",
        "# 문서를 벡터 저장소에 저장\n",
        "added_doc_ids = chroma_db_3.add_documents(documents=doc_objects, ids=doc_ids)\n",
        "\n",
        "# 벡터 저장소에 저장된 문서를 확인\n",
        "print(f\"{len(added_doc_ids)}개의 문서가 성공적으로 벡터 저장소에 추가되었습니다.\")\n",
        "print(added_doc_ids)"
      ]
    },
    {
      "cell_type": "code",
      "execution_count": 71,
      "id": "28c54675",
      "metadata": {},
      "outputs": [
        {
          "name": "stdout",
          "output_type": "stream",
          "text": [
            "\n",
            "쿼리: 인공지능과 로봇과의 관계는?\n",
            "가장 유사한 문서:\n",
            "- content [종류: type]\n",
            "- content [저자: author]\n",
            "- content [종류: type]\n",
            "- content [저자: author]\n"
          ]
        },
        {
          "data": {
            "text/plain": [
              "{'ids': ['DOC_1',\n",
              "  'DOC_2',\n",
              "  'DOC_3',\n",
              "  'DOC_4',\n",
              "  'DOC_5',\n",
              "  'DOC_6',\n",
              "  'DOC_7',\n",
              "  'DOC_8',\n",
              "  'DOC_9',\n",
              "  'DOC_10',\n",
              "  'DOC_11',\n",
              "  'DOC_12',\n",
              "  'DOC_13',\n",
              "  'DOC_14',\n",
              "  'DOC_15',\n",
              "  'DOC_16',\n",
              "  'DOC_17',\n",
              "  'DOC_18',\n",
              "  'DOC_19',\n",
              "  'DOC_20',\n",
              "  'DOC_21',\n",
              "  'DOC_22',\n",
              "  'DOC_23',\n",
              "  'DOC_24',\n",
              "  'DOC_25',\n",
              "  'DOC_26',\n",
              "  'DOC_27',\n",
              "  'DOC_28',\n",
              "  'DOC_29',\n",
              "  'DOC_30'],\n",
              " 'embeddings': None,\n",
              " 'documents': ['content',\n",
              "  'content',\n",
              "  'content',\n",
              "  'content',\n",
              "  'content',\n",
              "  'content',\n",
              "  'content',\n",
              "  'content',\n",
              "  'content',\n",
              "  'content',\n",
              "  'content',\n",
              "  'content',\n",
              "  'content',\n",
              "  'content',\n",
              "  'content',\n",
              "  'content',\n",
              "  'content',\n",
              "  'content',\n",
              "  'content',\n",
              "  'content',\n",
              "  'content',\n",
              "  'content',\n",
              "  'content',\n",
              "  'content',\n",
              "  'content',\n",
              "  'content',\n",
              "  'content',\n",
              "  'content',\n",
              "  'content',\n",
              "  'content'],\n",
              " 'uris': None,\n",
              " 'data': None,\n",
              " 'metadatas': [{'author': 'author', 'type': 'type'},\n",
              "  {'author': 'author', 'type': 'type'},\n",
              "  {'author': 'author', 'type': 'type'},\n",
              "  {'author': 'author', 'type': 'type'},\n",
              "  {'author': 'author', 'type': 'type'},\n",
              "  {'author': 'author', 'type': 'type'},\n",
              "  {'author': 'author', 'type': 'type'},\n",
              "  {'author': 'author', 'type': 'type'},\n",
              "  {'author': 'author', 'type': 'type'},\n",
              "  {'author': 'author', 'type': 'type'},\n",
              "  {'author': 'author', 'type': 'type'},\n",
              "  {'author': 'author', 'type': 'type'},\n",
              "  {'author': 'author', 'type': 'type'},\n",
              "  {'author': 'author', 'type': 'type'},\n",
              "  {'author': 'author', 'type': 'type'},\n",
              "  {'author': 'author', 'type': 'type'},\n",
              "  {'author': 'author', 'type': 'type'},\n",
              "  {'author': 'author', 'type': 'type'},\n",
              "  {'author': 'author', 'type': 'type'},\n",
              "  {'author': 'author', 'type': 'type'},\n",
              "  {'author': 'author', 'type': 'type'},\n",
              "  {'author': 'author', 'type': 'type'},\n",
              "  {'author': 'author', 'type': 'type'},\n",
              "  {'author': 'author', 'type': 'type'},\n",
              "  {'author': 'author', 'type': 'type'},\n",
              "  {'author': 'author', 'type': 'type'},\n",
              "  {'author': 'author', 'type': 'type'},\n",
              "  {'author': 'author', 'type': 'type'},\n",
              "  {'author': 'author', 'type': 'type'},\n",
              "  {'author': 'author', 'type': 'type'}],\n",
              " 'included': [<IncludeEnum.documents: 'documents'>,\n",
              "  <IncludeEnum.metadatas: 'metadatas'>]}"
            ]
          },
          "execution_count": 71,
          "metadata": {},
          "output_type": "execute_result"
        }
      ],
      "source": [
        "# 저장된 문서 검색\n",
        "query = \"인공지능과 로봇과의 관계는?\"\n",
        "results = chroma_db_3.similarity_search(query, k=2)\n",
        "\n",
        "print(f\"\\n쿼리: {query}\")\n",
        "print(\"가장 유사한 문서:\")\n",
        "for doc in results:\n",
        "    print(f\"- {doc.page_content} [종류: {doc.metadata['type']}]\")\n",
        "    print(f\"- {doc.page_content} [저자: {doc.metadata['author']}]\")\n",
        "\n",
        "# 현재 저장된 컬렉션 데이터 확인\n",
        "chroma_db_3.get()"
      ]
    },
    {
      "cell_type": "code",
      "execution_count": null,
      "id": "9c31b119",
      "metadata": {},
      "outputs": [],
      "source": [
        "# Chroma \n",
        "\n",
        "## 벡터 저장소 로드 및 검색 ##"
      ]
    },
    {
      "cell_type": "code",
      "execution_count": 72,
      "id": "d272cdd2",
      "metadata": {},
      "outputs": [],
      "source": [
        "chroma_db_load = Chroma(\n",
        "    collection_name=\"ai_paper_collection\",\n",
        "    embedding_function=embeddings_model,\n",
        "    persist_directory=\"./chroma_db_3\",\n",
        ")"
      ]
    },
    {
      "cell_type": "code",
      "execution_count": 73,
      "id": "4c9fde17",
      "metadata": {},
      "outputs": [
        {
          "name": "stdout",
          "output_type": "stream",
          "text": [
            "쿼리: 인공지능은 로봇 분야에서 어떻게 활용되나요?\n",
            "\n",
            "검색 결과 (관련성 점수 포함):\n"
          ]
        }
      ],
      "source": [
        "# 미리 임베딩된 쿼리 벡터를 사용하여 검색\n",
        "query = \"인공지능은 로봇 분야에서 어떻게 활용되나요?\"\n",
        "results = chroma_db_load.similarity_search_with_relevance_scores(\n",
        "    query,\n",
        "    k=2,\n",
        "    filter={\"type\": \"research\"}\n",
        ")\n",
        "\n",
        "print(f\"쿼리: {query}\")\n",
        "print(\"\\n검색 결과 (관련성 점수 포함):\")\n",
        "for doc, score in results:\n",
        "    print(f\"- 관련성 점수: {score:.4f}\")\n",
        "    print(f\"  내용: {doc.page_content}\")\n",
        "    print(f\"  [종류: {doc.metadata['type']}]\")\n",
        "    print(f\"  [저지지: {doc.metadata['author']}]\")\n",
        "    print()"
      ]
    }
  ],
  "metadata": {
    "kernelspec": {
      "display_name": ".venv",
      "language": "python",
      "name": "python3"
    },
    "language_info": {
      "codemirror_mode": {
        "name": "ipython",
        "version": 3
      },
      "file_extension": ".py",
      "mimetype": "text/x-python",
      "name": "python",
      "nbconvert_exporter": "python",
      "pygments_lexer": "ipython3",
      "version": "3.12.9"
    }
  },
  "nbformat": 4,
  "nbformat_minor": 5
}
