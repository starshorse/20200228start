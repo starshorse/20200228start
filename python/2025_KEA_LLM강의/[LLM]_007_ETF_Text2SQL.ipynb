{
 "cells": [
  {
   "cell_type": "markdown",
   "metadata": {},
   "source": [
    "#  추천 시스템 - 데이터베이스 저장 및 Text2SQL 실행\n",
    "\n",
    "---"
   ]
  },
  {
   "cell_type": "markdown",
   "metadata": {},
   "source": [
    "## 환경 설정 및 준비"
   ]
  },
  {
   "cell_type": "markdown",
   "metadata": {},
   "source": [
    "`(1) Env 환경변수`"
   ]
  },
  {
   "cell_type": "code",
   "execution_count": null,
   "metadata": {},
   "outputs": [],
   "source": [
    "from dotenv import load_dotenv\n",
    "load_dotenv()"
   ]
  },
  {
   "cell_type": "markdown",
   "metadata": {},
   "source": [
    "`(2) 기본 라이브러리`"
   ]
  },
  {
   "cell_type": "code",
   "execution_count": null,
   "metadata": {},
   "outputs": [],
   "source": [
    "import os\n",
    "from glob import glob\n",
    "\n",
    "from pprint import pprint\n",
    "import json"
   ]
  },
  {
   "cell_type": "markdown",
   "metadata": {},
   "source": [
    "## ETF 데이터 로드\n",
    "\n",
    "- ETF 목록: CSV 다운로드 ( http://data.krx.co.kr/contents/MDC/MDI/mdiLoader/index.cmd?menuId=MDC020103010901 )\n"
   ]
  },
  {
   "cell_type": "code",
   "execution_count": null,
   "metadata": {},
   "outputs": [],
   "source": [
    "import pandas as pd\n",
    "import numpy as np\n",
    "\n",
    "# ETF 목록\n",
    "etf_data = pd.read_csv('data/etf_list.csv', encoding='cp949')\n",
    "etf_data.head()"
   ]
  },
  {
   "cell_type": "markdown",
   "metadata": {},
   "source": [
    "## **Text2SQL** \n",
    "\n",
    "- 자연어로 된 질문을 **SQL 쿼리**로 자동 변환\n",
    "\n",
    "- 데이터베이스 스키마 기반으로 **정확한 쿼리** 생성\n",
    "\n",
    "- 개발자가 아닌 사용자도 **데이터베이스 검색** 가능\n",
    "\n",
    "- 데이터베이스 접근성을 높이는 자연어 인터페이스 기술\n",
    "\n",
    "- 실습 데이터: ETF 목록 데이터 ('`data/etf_list.csv`')\n"
   ]
  },
  {
   "cell_type": "markdown",
   "metadata": {},
   "source": [
    "### 1) **SQLite Database**에 저장\n",
    "\n",
    "- ETF 데이터를 CSV에서 읽어 SQLite **데이터베이스 테이블** 생성\n",
    "\n",
    "- **데이터 타입** 최적화: 종목코드(INTEGER PRIMARY KEY), 수익률/총보수(FLOAT), 문자열(TEXT)\n",
    "\n",
    "- 기본 **통계 분석**: 전체 ETF 수, 운용사 수, 평균 수익률/총보수 등 산출"
   ]
  },
  {
   "cell_type": "code",
   "execution_count": null,
   "metadata": {},
   "outputs": [],
   "source": [
    "# ETF 목록\n",
    "etf_data.head(2)"
   ]
  },
  {
   "cell_type": "code",
   "execution_count": null,
   "metadata": {},
   "outputs": [],
   "source": [
    "# 열 이름 변경\n",
    "etf_data.columns = ['종목코드', '종목명', '상장일', '분류체계', '운용사', '수익률_최근1년', '기초지수', '추적오차',\n",
    "       '순자산총액', '괴리율', '변동성', '복제방법', '총보수', '과세유형']"
   ]
  },
  {
   "cell_type": "code",
   "execution_count": null,
   "metadata": {},
   "outputs": [],
   "source": [
    "import pandas as pd\n",
    "\n",
    "# 데이터 타입 변환\n",
    "def convert_to_numeric_safely(value):\n",
    "    try:\n",
    "        return pd.to_numeric(value)\n",
    "    except:\n",
    "        return None\n",
    "\n",
    "# 각 컬럼의 데이터 타입 변환\n",
    "etf_data['종목코드'] = etf_data['종목코드'].apply(lambda x: str(x).strip())\n",
    "etf_data['수익률_최근1년'] = etf_data['수익률_최근1년'].apply(convert_to_numeric_safely)\n",
    "etf_data['추적오차'] = etf_data['추적오차'].apply(convert_to_numeric_safely)\n",
    "etf_data['순자산총액'] = etf_data['순자산총액'].apply(convert_to_numeric_safely)\n",
    "etf_data['괴리율'] = etf_data['괴리율'].apply(convert_to_numeric_safely)\n",
    "etf_data['총보수'] = etf_data['총보수'].apply(convert_to_numeric_safely)\n",
    "\n",
    "# 문자열 데이터 정리\n",
    "string_columns = ['종목명', '상장일', '분류체계', '운용사', '기초지수', '변동성', '복제방법', '과세유형']\n",
    "for col in string_columns:\n",
    "    etf_data[col] = etf_data[col].astype(str).apply(lambda x: x.strip())\n",
    "\n",
    "\n",
    "# 데이터 타입 확인\n",
    "etf_data.info()"
   ]
  },
  {
   "cell_type": "code",
   "execution_count": null,
   "metadata": {},
   "outputs": [],
   "source": [
    "import pandas as pd\n",
    "import sqlite3\n",
    "\n",
    "# SQLite 데이터베이스 생성\n",
    "conn = sqlite3.connect('etf_database.db')\n",
    "cursor = conn.cursor()\n",
    "\n",
    "# 테이블 삭제 (if exists)\n",
    "cursor.execute(\"DROP TABLE IF EXISTS ETFs\")\n",
    "\n",
    "# 테이블 생성\n",
    "cursor.execute(\"\"\"\n",
    "CREATE TABLE ETFs (\n",
    "    종목코드 TEXT PRIMARY KEY,\n",
    "    종목명 TEXT,\n",
    "    상장일 TEXT,\n",
    "    분류체계 TEXT,\n",
    "    운용사 TEXT,\n",
    "    수익률_최근1년 REAL,\n",
    "    기초지수 TEXT,\n",
    "    추적오차 REAL,\n",
    "    순자산총액 REAL,\n",
    "    괴리율 REAL,\n",
    "    변동성 TEXT,\n",
    "    복제방법 TEXT,\n",
    "    총보수 REAL,\n",
    "    과세유형 TEXT\n",
    ")\n",
    "\"\"\")\n",
    "\n",
    "# 데이터 삽입\n",
    "for _, row in etf_data.iterrows():\n",
    "    try:\n",
    "        cursor.execute(\"\"\"\n",
    "        INSERT INTO ETFs VALUES (?, ?, ?, ?, ?, ?, ?, ?, ?, ?, ?, ?, ?, ?)\n",
    "        \"\"\", (\n",
    "            str(row['종목코드']),\n",
    "            str(row['종목명']),\n",
    "            str(row['상장일']),\n",
    "            str(row['분류체계']),\n",
    "            str(row['운용사']),\n",
    "            float(row['수익률_최근1년']) if pd.notna(row['수익률_최근1년']) else None,\n",
    "            str(row['기초지수']),\n",
    "            float(row['추적오차']) if pd.notna(row['추적오차']) else None,\n",
    "            float(row['순자산총액']) if pd.notna(row['순자산총액']) else None,\n",
    "            float(row['괴리율']) if pd.notna(row['괴리율']) else None,\n",
    "            str(row['변동성']),\n",
    "            str(row['복제방법']),\n",
    "            float(row['총보수']) if pd.notna(row['총보수']) else None,\n",
    "            str(row['과세유형'])\n",
    "        ))\n",
    "    except Exception as e:\n",
    "        print(f\"Error inserting row: {row}\")\n",
    "        print(f\"Error message: {str(e)}\")\n",
    "        continue\n",
    "\n",
    "# 변경사항 저장\n",
    "conn.commit()\n",
    "\n",
    "# 데이터베이스 상태 확인\n",
    "cursor.execute(\"SELECT COUNT(*) FROM ETFs\")\n",
    "etf_count = cursor.fetchone()[0]\n",
    "print(f\"\\n=== 데이터베이스 생성 완료 ===\")\n",
    "print(f\"ETF 개수: {etf_count}\")"
   ]
  },
  {
   "cell_type": "code",
   "execution_count": null,
   "metadata": {},
   "outputs": [],
   "source": [
    "# 데이터 확인\n",
    "print(\"\\n=== 데이터 샘플 ===\")\n",
    "cursor.execute(\"SELECT * FROM ETFs LIMIT 1\")\n",
    "columns = [description[0] for description in cursor.description]\n",
    "row = cursor.fetchone()\n",
    "if row:\n",
    "    for col, val in zip(columns, row):\n",
    "        print(f\"{col}: {val}\")"
   ]
  },
  {
   "cell_type": "code",
   "execution_count": null,
   "metadata": {},
   "outputs": [],
   "source": [
    "# 데이터베이스 종료\n",
    "conn.close()"
   ]
  },
  {
   "cell_type": "markdown",
   "metadata": {},
   "source": [
    "### 2) **LangChain**에 연동\n",
    "\n",
    "- **LangChain**과 ETF DB 연동으로 자연어 쿼리 처리 가능\n",
    "\n",
    "- **GPT**와 **Gemini** 모델을 활용한 SQL 쿼리 자동 생성\n",
    "\n",
    "- 한국어 응답을 위한 **QA Chain** 구성 및 쿼리 실행 도구 설정"
   ]
  },
  {
   "cell_type": "markdown",
   "metadata": {},
   "source": [
    "`(1) DB 스키마 확인`\n",
    "   - 작업의 첫 단계로 테이블 목록 확인 필요\n",
    "   - 각 테이블의 **구조와 관계** 파악을 위한 스키마 정보 검토"
   ]
  },
  {
   "cell_type": "code",
   "execution_count": null,
   "metadata": {},
   "outputs": [],
   "source": [
    "from langchain_community.utilities import SQLDatabase\n",
    "\n",
    "# SQLite 데이터베이스 연결\n",
    "db = SQLDatabase.from_uri(\"sqlite:///etf_database.db\")\n",
    "\n",
    "# 사용 가능한 테이블 목록 출력\n",
    "tables = db.get_usable_table_names()\n",
    "print(tables)"
   ]
  },
  {
   "cell_type": "code",
   "execution_count": null,
   "metadata": {},
   "outputs": [],
   "source": [
    "# 테이블 스키마 정보 출력\n",
    "print(db.get_table_info())"
   ]
  },
  {
   "cell_type": "code",
   "execution_count": null,
   "metadata": {},
   "outputs": [],
   "source": [
    "# 기본 쿼리 실행\n",
    "query = \"SELECT * FROM ETFs LIMIT 5\"\n",
    "result = db.run(query)\n",
    "print(result)"
   ]
  },
  {
   "cell_type": "markdown",
   "metadata": {},
   "source": [
    "`(2) SQL Chain 설정`\n",
    "- **SQL Chain** 구성을 위한 **GPT**와 **Gemini** 모델 통합 설정\n",
    "- 정규식을 활용한 **SQL 쿼리 자동 추출** 기능 구현\n",
    "- 모델 간 **연계 프로세스** 최적화로 쿼리 생성 효율 향상\n",
    "- AI 모델 기반 SQL 쿼리 자동화 가능"
   ]
  },
  {
   "cell_type": "code",
   "execution_count": null,
   "metadata": {},
   "outputs": [],
   "source": [
    "from langchain_openai import ChatOpenAI\n",
    "from langchain_classic.chains import create_sql_query_chain\n",
    "\n",
    "# SQL Chain 설정\n",
    "gpt_llm = ChatOpenAI(model=\"gpt-4.1-mini\")\n",
    "gpt_sql = create_sql_query_chain(llm=gpt_llm, db=db)\n",
    "\n",
    "# 쿼리 실행\n",
    "test_question = \"상위 5개 운용사별 ETF 개수는 몇 개인가요?\"\n",
    "gpt_generated_sql = gpt_sql.invoke({'question':test_question})\n",
    "\n",
    "print(f\"Answer (GPT):\\n{gpt_generated_sql}\")\n",
    "print(\"-\"*100)"
   ]
  },
  {
   "cell_type": "code",
   "execution_count": null,
   "metadata": {},
   "outputs": [],
   "source": [
    "# from langchain_google_genai import ChatGoogleGenerativeAI\n",
    "# gemini_llm = ChatGoogleGenerativeAI(model=\"gemini-2.0-flash\")\n",
    "# gemini_sql = create_sql_query_chain(llm=gemini_llm, db=db)\n",
    "# gemini_generated_sql = gemini_sql.invoke({'question':test_question}, max_retries=3 )\n",
    "# print(f\"Answer (Gemini):\\n{gemini_generated_sql}\")\n",
    "# print(\"-\"*100)"
   ]
  },
  {
   "cell_type": "markdown",
   "metadata": {},
   "source": [
    "## **SQL QA** \n",
    "\n",
    "- **SQL 기반 Q&A 시스템**은 구조화된 데이터를 LLM으로 처리하는 특수 사례\n",
    "    - **자연어 처리**를 통한 SQL 쿼리 자동 변환 구현\n",
    "    - 데이터베이스에서 **쿼리 실행 및 결과 추출** \n",
    "    - 추출된 데이터를 활용한 **자연어 답변 생성**\n",
    "\n",
    "- **Chain**과 **Agent** 두 가지 구현 방식으로 자연어 질문에 대한 답변 제공\n",
    "\n",
    "- **LangGraph**를 활용한 반복적 데이터베이스 쿼리 실행 가능\n",
    "\n",
    "-참조: https://python.langchain.com/docs/tutorials/sql_qa/"
   ]
  },
  {
   "cell_type": "markdown",
   "metadata": {},
   "source": [
    "### 1) **Chain** 방식\n",
    "\n",
    "- **단순 실행 흐름**으로 예측 가능한 결과 도출\n",
    "\n",
    "- **단일 쿼리** 실행만으로 해결 가능한 단순 질의에 최적화\n",
    "\n",
    "- 명확한 **입력-출력 구조**로 안정적 동작 보장"
   ]
  },
  {
   "cell_type": "markdown",
   "metadata": {},
   "source": [
    "`(1) State 상태 정의`\n",
    "\n",
    "- **LangGraph 상태 관리**를 위한 TypedDict 구조 정의\n",
    "\n",
    "- 입력 **질문**, **쿼리**, **결과**, **답변**의 4가지 핵심 상태 추적\n",
    "\n",
    "- 상태 데이터의 단계별 전달로 실행 흐름 제어"
   ]
  },
  {
   "cell_type": "code",
   "execution_count": null,
   "metadata": {},
   "outputs": [],
   "source": [
    "from typing import TypedDict\n",
    "\n",
    "# 상태 정보를 저장하는 State 클래스\n",
    "class State(TypedDict):\n",
    "    question: str  # 입력 질문\n",
    "    query: str     # 생성된 쿼리\n",
    "    result: str    # 쿼리 결과\n",
    "    answer: str    # 생성된 답변"
   ]
  },
  {
   "cell_type": "markdown",
   "metadata": {},
   "source": [
    "`(2) 프롬프트 템플릿`"
   ]
  },
  {
   "cell_type": "code",
   "execution_count": null,
   "metadata": {},
   "outputs": [],
   "source": [
    "from langchain_core.prompts import ChatPromptTemplate\n",
    "from typing import TypedDict, Annotated\n",
    "\n",
    "# 프롬프트 템플릿 생성\n",
    "query_prompt_template = ChatPromptTemplate.from_messages([\n",
    "    (\"system\", \"\"\"\n",
    "    Given an input question, create a syntactically correct {dialect} query to run to help find the answer. \n",
    "    Unless the user specifies in his question a specific number of examples they wish to obtain, \n",
    "    always limit your query to at most {top_k} results.\n",
    "      \n",
    "    You can order the results by a relevant column to return the most interesting examples in the database.\n",
    "    Never query for all the columns from a specific table, only ask for a the few relevant columns given the question.\n",
    "    Pay attention to use only the column names that you can see in the schema description. \n",
    "    Be careful to not query for columns that do not exist.\n",
    "      \n",
    "    Also, pay attention to which column is in which table.\n",
    "    Only use the following tables:\n",
    "    {table_info}\n",
    "    \"\"\"),\n",
    "    (\"user\", \"\"\"\n",
    "    Question:\n",
    "    {input}\n",
    "    \"\"\")\n",
    "])\n",
    "\n",
    "# 프롬프트 템플릿 출력\n",
    "for m in query_prompt_template.messages:\n",
    "   m.pretty_print()"
   ]
  },
  {
   "cell_type": "code",
   "execution_count": null,
   "metadata": {},
   "outputs": [],
   "source": [
    "# required 입력 필드 확인 (dialect, input, table_info, top_k)\n",
    "query_prompt_template.input_schema.model_json_schema()"
   ]
  },
  {
   "cell_type": "markdown",
   "metadata": {},
   "source": [
    "`(3) SQL 쿼리 생성`"
   ]
  },
  {
   "cell_type": "code",
   "execution_count": null,
   "metadata": {},
   "outputs": [],
   "source": [
    "from langchain_openai import ChatOpenAI\n",
    "\n",
    "# llm 모델 생성\n",
    "llm = ChatOpenAI(model=\"gpt-4.1-mini\")"
   ]
  },
  {
   "cell_type": "code",
   "execution_count": null,
   "metadata": {},
   "outputs": [],
   "source": [
    "from typing import Annotated, TypedDict\n",
    "\n",
    "class QueryOutput(TypedDict):\n",
    "    \"\"\"Generated SQL query.\"\"\"\n",
    "    query: Annotated[str, ..., \"Syntactically valid SQL query.\"]\n",
    "\n",
    "\n",
    "def write_query(state: State):\n",
    "    \"\"\"Generate SQL query to fetch information.\"\"\"\n",
    "    prompt = query_prompt_template.invoke(\n",
    "        {\n",
    "            \"dialect\": db.dialect,\n",
    "            \"top_k\": 10,\n",
    "            \"table_info\": db.get_table_info(),\n",
    "            \"input\": state[\"question\"],\n",
    "        }\n",
    "    )\n",
    "    structured_llm = llm.with_structured_output(QueryOutput)\n",
    "    result = structured_llm.invoke(prompt)\n",
    "    return {\"query\": result[\"query\"]}"
   ]
  },
  {
   "cell_type": "code",
   "execution_count": null,
   "metadata": {},
   "outputs": [],
   "source": [
    "# 쿼리 실행\n",
    "response = write_query({\"question\": \"총보수가 0.1% 이하인 ETF는 무엇인가요?\"}) \n",
    "\n",
    "response"
   ]
  },
  {
   "cell_type": "markdown",
   "metadata": {},
   "source": [
    "`(4) SQL 쿼리 실행`"
   ]
  },
  {
   "cell_type": "code",
   "execution_count": null,
   "metadata": {},
   "outputs": [],
   "source": [
    "from langchain_community.tools import QuerySQLDatabaseTool\n",
    "\n",
    "def execute_query(state: State):\n",
    "    \"\"\"Execute SQL query.\"\"\"\n",
    "    execute_query_tool = QuerySQLDatabaseTool(db=db)\n",
    "    return {\"result\": execute_query_tool.invoke(state[\"query\"])}"
   ]
  },
  {
   "cell_type": "code",
   "execution_count": null,
   "metadata": {},
   "outputs": [],
   "source": [
    "execute_query({\"query\": response[\"query\"]})"
   ]
  },
  {
   "cell_type": "markdown",
   "metadata": {},
   "source": [
    "`(5) RAG 답변 생성`"
   ]
  },
  {
   "cell_type": "code",
   "execution_count": null,
   "metadata": {},
   "outputs": [],
   "source": [
    "def generate_answer(state: State):\n",
    "    \"\"\"Answer question using retrieved information as context.\"\"\"\n",
    "    prompt = (\n",
    "        \"Given the following user question, corresponding SQL query, \"\n",
    "        \"and SQL result, answer the user question.\\n\\n\"\n",
    "        f'Question: {state[\"question\"]}\\n'\n",
    "        f'SQL Query: {state[\"query\"]}\\n'\n",
    "        f'SQL Result: {state[\"result\"]}'\n",
    "    )\n",
    "    response = llm.invoke(prompt)\n",
    "    return {\"answer\": response.content}"
   ]
  },
  {
   "cell_type": "code",
   "execution_count": null,
   "metadata": {},
   "outputs": [],
   "source": [
    "question = \"총보수가 0.1% 이하인 ETF는 무엇인가요?\"\n",
    "\n",
    "query = write_query({\"question\": question})[\"query\"]  #type: ignore\n",
    "result = execute_query({\"query\": query})[\"result\"]    #type: ignore\n",
    "\n",
    "response = generate_answer({\n",
    "    \"question\": question,\n",
    "    \"query\": query,\n",
    "    \"result\": result,\n",
    "})   #type: ignore\n",
    "\n",
    "print(response[\"answer\"])"
   ]
  },
  {
   "cell_type": "markdown",
   "metadata": {},
   "source": [
    "`(6) LangGraph 통합`\n",
    "\n",
    "- langgraph 설치 (pip 또는 uv)"
   ]
  },
  {
   "cell_type": "code",
   "execution_count": null,
   "metadata": {},
   "outputs": [],
   "source": [
    "from langgraph.graph import START, StateGraph \n",
    "\n",
    "graph_builder = StateGraph(State)\n",
    "\n",
    "graph_builder.add_node(\"write_query\", write_query)\n",
    "graph_builder.add_node(\"execute_query\", execute_query)\n",
    "graph_builder.add_node(\"generate_answer\", generate_answer)\n",
    "\n",
    "graph_builder.add_edge(START, \"write_query\")\n",
    "graph_builder.add_edge(\"write_query\", \"execute_query\")\n",
    "graph_builder.add_edge(\"execute_query\", \"generate_answer\")  \n",
    "graph = graph_builder.compile()"
   ]
  },
  {
   "cell_type": "code",
   "execution_count": null,
   "metadata": {},
   "outputs": [],
   "source": [
    "from IPython.display import Image, display\n",
    "\n",
    "display(Image(graph.get_graph().draw_mermaid_png()))"
   ]
  },
  {
   "cell_type": "code",
   "execution_count": null,
   "metadata": {},
   "outputs": [],
   "source": [
    "for step in graph.stream(\n",
    "    {\"question\": \"총보수가 0.1% 이하인 ETF는 모두 몇 개인가요?\"}, stream_mode=\"updates\"\n",
    "):\n",
    "    print(step)"
   ]
  },
  {
   "cell_type": "markdown",
   "metadata": {},
   "source": [
    "### 2) **Agent** 방식\n",
    "\n",
    "- **반복 쿼리 실행**으로 복잡한 데이터 분석 가능\n",
    "\n",
    "- 오류 발생 시 **자동 복구 메커니즘** 작동\n",
    "\n",
    "- **DB 스키마 기반**의 정확한 답변 생성\n",
    "\n",
    "- 다단계 추론이 필요한 **복잡한 질의** 처리 가능"
   ]
  },
  {
   "cell_type": "markdown",
   "metadata": {},
   "source": [
    "`(1) 필요한 도구 준비`\n",
    "\n",
    "- **ReAct 에이전트**와 **SQLDatabaseToolkit** 통합으로 고급 쿼리 처리\n",
    "- 다중 쿼리 실행, **오류 복구**, 스키마 기반 응답 기능 제공\n",
    "- 쿼리 생성, 구문 검사, 테이블 정보 조회 등 **다양한 도구** 활용"
   ]
  },
  {
   "cell_type": "code",
   "execution_count": null,
   "metadata": {},
   "outputs": [],
   "source": [
    "from langchain_community.agent_toolkits import SQLDatabaseToolkit\n",
    "\n",
    "toolkit = SQLDatabaseToolkit(db=db, llm=llm)\n",
    "\n",
    "tools = toolkit.get_tools()\n",
    "\n",
    "tools"
   ]
  },
  {
   "cell_type": "markdown",
   "metadata": {},
   "source": [
    "`(2) 프롬프트 템플릿`"
   ]
  },
  {
   "cell_type": "code",
   "execution_count": null,
   "metadata": {},
   "outputs": [],
   "source": [
    "system_message = \"\"\"\n",
    "You are an agent designed to interact with a SQL database.\n",
    "Given an input question, create a syntactically correct {dialect} query to run, \n",
    "then look at the results of the query and return the answer.\n",
    "Unless the user specifies a specific number of examples they wish to obtain, \n",
    "always limit your query to at most {top_k} results.\n",
    "You can order the results by a relevant column to return the most interesting examples in the database.\n",
    "Never query for all the columns from a specific table, only ask for the relevant columns given the question.\n",
    "You have access to tools for interacting with the database.\n",
    "Only use the below tools. Only use the information returned by the below tools to construct your final answer.\n",
    "You MUST double check your query before executing it. If you get an error while executing a query, rewrite the query and try again.\n",
    "\n",
    "DO NOT make any DML statements (INSERT, UPDATE, DELETE, DROP etc.) to the database.\n",
    "\n",
    "To start you should ALWAYS look at the tables in the database to see what you can query.\n",
    "Do NOT skip this step.\n",
    "Then you should query the schema of the most relevant tables.\n",
    "\"\"\".format(dialect=db.dialect, top_k=5)\n",
    "\n",
    "print(system_message)"
   ]
  },
  {
   "cell_type": "markdown",
   "metadata": {},
   "source": [
    "`(3) ReAct 에이전트 초기화`"
   ]
  },
  {
   "cell_type": "code",
   "execution_count": null,
   "metadata": {},
   "outputs": [],
   "source": [
    "from langchain.agents import create_agent\n",
    "\n",
    "# SQL 에이전트 생성 \n",
    "agent = create_agent(\n",
    "    model=llm,\n",
    "    tools=toolkit.get_tools(),\n",
    "    system_prompt=system_message\n",
    ")\n",
    "\n",
    "# 입력 스키마 출력 (선택사항)\n",
    "agent.get_input_jsonschema()"
   ]
  },
  {
   "cell_type": "markdown",
   "metadata": {},
   "source": [
    "`(4) ReAct 에이전트 실행`"
   ]
  },
  {
   "cell_type": "code",
   "execution_count": null,
   "metadata": {},
   "outputs": [],
   "source": [
    "question = \"총보수가 0.1% 이하인 ETF는 모두 몇 개인가요?\"\n",
    "\n",
    "# 에이전트 실행\n",
    "for step in agent.stream(\n",
    "    {\"messages\": [{\"role\": \"user\", \"content\": question}]},\n",
    "    stream_mode=\"values\",\n",
    "):\n",
    "    step[\"messages\"][-1].pretty_print()"
   ]
  }
 ],
 "metadata": {
  "kernelspec": {
   "display_name": ".venv",
   "language": "python",
   "name": "python3"
  },
  "language_info": {
   "codemirror_mode": {
    "name": "ipython",
    "version": 3
   },
   "file_extension": ".py",
   "mimetype": "text/x-python",
   "name": "python",
   "nbconvert_exporter": "python",
   "pygments_lexer": "ipython3",
   "version": "3.12.11"
  }
 },
 "nbformat": 4,
 "nbformat_minor": 2
}
