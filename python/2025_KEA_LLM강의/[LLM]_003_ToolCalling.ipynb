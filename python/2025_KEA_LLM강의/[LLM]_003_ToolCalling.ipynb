{
 "cells": [
  {
   "cell_type": "markdown",
   "id": "49a4d481",
   "metadata": {},
   "source": [
    "#   Tool Calling (Function Calling)\n",
    "\n",
    "---"
   ]
  },
  {
   "cell_type": "markdown",
   "id": "6eb2476b",
   "metadata": {},
   "source": [
    "## 환경 설정 및 준비"
   ]
  },
  {
   "cell_type": "markdown",
   "id": "363dfcd6",
   "metadata": {},
   "source": [
    "`(1) Env 환경변수`"
   ]
  },
  {
   "cell_type": "code",
   "execution_count": null,
   "id": "27bfdacd",
   "metadata": {},
   "outputs": [],
   "source": [
    "from dotenv import load_dotenv\n",
    "load_dotenv()"
   ]
  },
  {
   "cell_type": "markdown",
   "id": "28e76942",
   "metadata": {},
   "source": [
    "`(2) 기본 라이브러리`"
   ]
  },
  {
   "cell_type": "code",
   "execution_count": null,
   "id": "2192c8d2",
   "metadata": {},
   "outputs": [],
   "source": [
    "import os\n",
    "from glob import glob\n",
    "\n",
    "import re\n",
    "import json\n",
    "\n",
    "from textwrap import dedent\n",
    "from pprint import pprint\n",
    "\n",
    "import warnings\n",
    "warnings.filterwarnings(\"ignore\")\n"
   ]
  },
  {
   "cell_type": "markdown",
   "id": "caf95809",
   "metadata": {},
   "source": [
    "---\n",
    "\n",
    "## **Tool Calling**\n",
    "\n",
    "- **Tool Calling**은 LLM이 외부 시스템과 상호작용하기 위한 **함수 호출 메커니즘**\n",
    "\n",
    "- LLM은 정의된 도구나 함수를 통해 **외부 시스템과 통신**하고 작업을 수행\n",
    "\n",
    "- **Tool calling**은 모델이 시스템과 직접 상호작용할 수 있게 하는 기능\n",
    "\n",
    "- **구조화된 출력**을 통해 API나 데이터베이스와 같은 시스템 요구사항 충족\n",
    "\n",
    "- **스키마 기반 응답**으로 시스템 간 효율적 통신 가능\n",
    "\n",
    "\n",
    "![Tool Calling Concept](https://python.langchain.com/assets/images/tool_calling_concept-552a73031228ff9144c7d59f26dedbbf.png)\n",
    "\n",
    "\n",
    "[참조] https://python.langchain.com/docs/concepts/tool_calling/"
   ]
  },
  {
   "cell_type": "markdown",
   "id": "d7bbec7b",
   "metadata": {},
   "source": [
    "**Tool Calling의 필요성**\n",
    "\n",
    "| 상황 | 해결 방법 |\n",
    "|------|-----------|\n",
    "| **최신 정보 필요** | 웹 검색 도구로 실시간 정보 수집 |\n",
    "| **계산 필요** | 계산기 도구로 정확한 연산 수행 |\n",
    "| **데이터베이스 접근** | DB 도구로 정보 조회/저장 |\n",
    "| **외부 API 호출** | API 도구로 서비스 연동 |\n",
    "| **파일 조작** | 파일 시스템 도구로 읽기/쓰기 |\n",
    "\n",
    "**💡 핵심**: LLM의 지식 한계를 극복하고 실제 작업을 수행할 수 있게 함"
   ]
  },
  {
   "cell_type": "markdown",
   "id": "54ff6219",
   "metadata": {},
   "source": [
    "---\n",
    "\n",
    "### 1. **랭체인 내장 도구**\n",
    "\n",
    "- 랭체인은 다양한 기능을 수행할 수 있는 작업 도구를 지원\n",
    "\n",
    "- Tavily 웹 검색 도구 (예시)"
   ]
  },
  {
   "cell_type": "markdown",
   "id": "a6f7e257",
   "metadata": {},
   "source": [
    "`(1) 도구(tool) 정의하기`"
   ]
  },
  {
   "cell_type": "code",
   "execution_count": null,
   "id": "7c85ed38",
   "metadata": {},
   "outputs": [],
   "source": [
    "from langchain_community.tools import TavilySearchResults\n",
    "\n",
    "# 검색할 쿼리 설정\n",
    "query = \"스테이크와 어울리는 와인을 추천해주세요.\"\n",
    "\n",
    "# Tavily 검색 도구 초기화 (최대 2개의 결과 반환)\n",
    "web_search = TavilySearchResults(max_results=2)\n",
    "\n",
    "# 웹 검색 실행\n",
    "search_results = web_search.invoke(query)\n",
    "\n",
    "# 검색 결과 출력\n",
    "for result in search_results:\n",
    "    print(result)  \n",
    "    print(\"-\" * 100)  "
   ]
  },
  {
   "cell_type": "code",
   "execution_count": null,
   "id": "b6791575",
   "metadata": {},
   "outputs": [],
   "source": [
    "# 도구 속성\n",
    "print(\"자료형: \")\n",
    "print(type(web_search))\n",
    "print(\"-\"*100)\n",
    "\n",
    "print(\"name: \")\n",
    "print(web_search.name)\n",
    "print(\"-\"*100)\n",
    "\n",
    "print(\"description: \")\n",
    "pprint(web_search.description)\n",
    "print(\"-\"*100)\n",
    "\n",
    "print(\"schema: \")\n",
    "pprint(web_search.args_schema.schema())\n",
    "print(\"-\"*100)"
   ]
  },
  {
   "cell_type": "markdown",
   "id": "88b600d9",
   "metadata": {},
   "source": [
    "`(2) 도구(tool) 호출하기`"
   ]
  },
  {
   "cell_type": "code",
   "execution_count": null,
   "id": "51a3633c",
   "metadata": {},
   "outputs": [],
   "source": [
    "from langchain_openai import ChatOpenAI\n",
    "\n",
    "# ChatOpenAI 모델 초기화\n",
    "llm = ChatOpenAI(model=\"gpt-4.1-mini\")\n",
    "\n",
    "# 웹 검색 도구를 직접 LLM에 바인딩 가능\n",
    "llm_with_tools = llm.bind_tools(tools=[web_search])"
   ]
  },
  {
   "cell_type": "code",
   "execution_count": null,
   "id": "17d2468d",
   "metadata": {},
   "outputs": [],
   "source": [
    "# 도구 호출이 필요 없는 LLM 호출을 수행\n",
    "query = \"안녕하세요.\"\n",
    "ai_msg = llm_with_tools.invoke(query)\n",
    "\n",
    "# LLM의 전체 출력 결과 출력\n",
    "pprint(ai_msg)\n",
    "print(\"-\" * 100)\n",
    "\n",
    "# 메시지 content 속성 (텍스트 출력)\n",
    "pprint(ai_msg.content)\n",
    "print(\"-\" * 100)\n",
    "\n",
    "# LLM이 호출한 도구 정보 출력\n",
    "pprint(ai_msg.tool_calls)\n",
    "print(\"-\" * 100)"
   ]
  },
  {
   "cell_type": "code",
   "execution_count": null,
   "id": "dd8df009",
   "metadata": {},
   "outputs": [],
   "source": [
    "# 도구 호출이 필요한 LLM 호출을 수행\n",
    "query = \"한국시장에서 거래되는 ETF 종목의 수는 몇 개인가요?\"\n",
    "ai_msg = llm_with_tools.invoke(query)\n",
    "\n",
    "# LLM의 전체 출력 결과 출력\n",
    "pprint(ai_msg)\n",
    "print(\"-\" * 100)\n",
    "\n",
    "# 메시지 content 속성 (텍스트 출력)\n",
    "pprint(ai_msg.content)\n",
    "print(\"-\" * 100)\n",
    "\n",
    "# LLM이 호출한 도구 정보 출력\n",
    "pprint(ai_msg.tool_calls)\n",
    "print(\"-\" * 100)"
   ]
  },
  {
   "cell_type": "code",
   "execution_count": null,
   "id": "84d0d45d",
   "metadata": {},
   "outputs": [],
   "source": [
    "tool_call = ai_msg.tool_calls[0]\n",
    "tool_call"
   ]
  },
  {
   "cell_type": "markdown",
   "id": "86835305",
   "metadata": {},
   "source": [
    "`(3) 도구(tool) 실행하기`"
   ]
  },
  {
   "cell_type": "code",
   "execution_count": null,
   "id": "a3eb0c7e",
   "metadata": {},
   "outputs": [],
   "source": [
    "### 방법 1: 직접 도구 호출 처리\n",
    "\n",
    "# 이 방법은 AI 메시지에서 첫 번째 도구 호출을 가져와 직접 처리한다.\n",
    "# 'args'를 사용하여 도구를 호출하고 결과를 얻는다.\n",
    "\n",
    "tool_output = web_search.invoke(tool_call[\"args\"])\n",
    "print(f\"{tool_call['name']} 호출 결과:\")\n",
    "print(\"-\" * 100)\n",
    "print(tool_output)"
   ]
  },
  {
   "cell_type": "code",
   "execution_count": null,
   "id": "0f39f32b",
   "metadata": {},
   "outputs": [],
   "source": [
    "### 방법 2: 도구 호출을 직접 사용하여 바로 ToolMessage 객체 생성\n",
    "\n",
    "# 이 방법은 도구를 직접 호출하여 ToolMessage 객체를 생성한다.\n",
    "# 가장 간단하고 직관적인 방법으로, LangChain의 추상화를 활용한다.\n",
    "\n",
    "tool_message = web_search.invoke(tool_call)\n",
    "\n",
    "print(type(tool_message))\n",
    "print(\"-\" * 100)\n",
    "print(tool_message)"
   ]
  },
  {
   "cell_type": "code",
   "execution_count": null,
   "id": "aeeb5890",
   "metadata": {},
   "outputs": [],
   "source": [
    "pprint(tool_message.tool_call_id)"
   ]
  },
  {
   "cell_type": "code",
   "execution_count": null,
   "id": "01309400",
   "metadata": {},
   "outputs": [],
   "source": [
    "pprint(tool_message.name)"
   ]
  },
  {
   "cell_type": "code",
   "execution_count": null,
   "id": "82d9a51c",
   "metadata": {},
   "outputs": [],
   "source": [
    "pprint(tool_message.content)"
   ]
  },
  {
   "cell_type": "code",
   "execution_count": null,
   "id": "f3e71c37",
   "metadata": {},
   "outputs": [],
   "source": [
    "ai_msg.tool_calls"
   ]
  },
  {
   "cell_type": "code",
   "execution_count": null,
   "id": "35a3ad18",
   "metadata": {},
   "outputs": [],
   "source": [
    "# batch 실행 - 도구 호출이 여러 개인 경우\n",
    "\n",
    "# tool_messages = web_search.batch([tool_call])\n",
    "\n",
    "tool_messages = web_search.batch(ai_msg.tool_calls)\n",
    "\n",
    "print(tool_messages)\n",
    "print(\"-\" * 100)\n",
    "pprint(tool_messages[0].content)"
   ]
  },
  {
   "cell_type": "markdown",
   "id": "a20257ba",
   "metadata": {},
   "source": [
    "`(4) ToolMessage를 LLM에 전달하여 답변을 생성하기`"
   ]
  },
  {
   "cell_type": "markdown",
   "id": "f6636168",
   "metadata": {},
   "source": [
    "- **Agent**\n",
    "\n",
    "    - **LLM(대규모 언어 모델)** 을 의사결정 엔진으로 사용하여 작업을 수행하는 시스템\n",
    "\n",
    "    - 모델은 입력된 데이터를 분석하여 **맥락에 맞는 의사결정**을 수행\n",
    "\n",
    "    - 시스템은 사용자의 요청을 이해하고 **적절한 해결책**을 제시\n",
    "\n",
    "    - 복잡한 작업을 자동화하여 **업무 효율성**을 높일 수 있음 \n",
    "\n",
    "- **create_agent** \n",
    "\n",
    "    - **create_agent**는 LangChain v1.0의 표준 에이전트 생성 함수\n",
    "\n",
    "    - LangGraph를 기반으로 구축되어 **영속성, 스트리밍, Human-in-the-loop** 등의 기능을 자동 지원\n",
    "\n",
    "    - **미들웨어**를 통한 유연한 커스터마이징 가능"
   ]
  },
  {
   "cell_type": "code",
   "execution_count": null,
   "id": "231eaf45",
   "metadata": {},
   "outputs": [],
   "source": [
    "from langchain.agents import create_agent\n",
    "from langchain_openai import ChatOpenAI\n",
    "\n",
    "# 모델 초기화\n",
    "llm = ChatOpenAI(model=\"gpt-4.1-nano\", temperature=0)\n",
    "\n",
    "# 도구 목록\n",
    "tools = [web_search]\n",
    "\n",
    "# 에이전트 생성\n",
    "agent = create_agent(\n",
    "    model=llm,\n",
    "    tools=tools,\n",
    "    system_prompt=\"당신은 사용자의 요청을 처리하는 AI Assistant입니다.\"\n",
    ")"
   ]
  },
  {
   "cell_type": "code",
   "execution_count": null,
   "id": "ddc2e3a4",
   "metadata": {},
   "outputs": [],
   "source": [
    "# 에이전트 실행\n",
    "response = agent.invoke(\n",
    "    {\"messages\": [{\"role\": \"user\", \"content\": \"한국시장에서 거래되는 ETF 종목의 수는 몇 개인가요?\"}]},\n",
    ")\n",
    "\n",
    "# 에이전트 실행 결과 출력\n",
    "pprint(response)"
   ]
  },
  {
   "cell_type": "code",
   "execution_count": null,
   "id": "f2e5cbb0",
   "metadata": {},
   "outputs": [],
   "source": [
    "for msg in response['messages']:\n",
    "    msg.pretty_print()"
   ]
  },
  {
   "cell_type": "markdown",
   "id": "9853c8d1",
   "metadata": {},
   "source": [
    "---\n",
    "\n",
    "### 2. **사용자 정의 도구** \n",
    "\n",
    "- **`@tool` 데코레이터**를 를 통해 사용자 정의 도구를 정의할 수 있음\n",
    "\n",
    "- **함수와 스키마** 간 자동 연결로 도구 생성\n",
    "\n",
    "- (예시) **네이버 개발자 API**를 사용하여 국내 뉴스 검색 도구를 정의\n",
    "\n",
    "\n",
    "    - 네이버 개발자 API(https://developers.naver.com/)에서 인증 권한 취득 (회원 가입 및 애플리케이션 등록 필요)\n",
    "    - 환경변수(.env)를 등록합니다. (**NAVER_CLIENT_ID**, **NAVER_CLIENT_SECRET**)"
   ]
  },
  {
   "cell_type": "code",
   "execution_count": null,
   "id": "894513e9",
   "metadata": {},
   "outputs": [],
   "source": [
    "# 환경 변수 로드\n",
    "from dotenv import load_dotenv\n",
    "load_dotenv()"
   ]
  },
  {
   "cell_type": "markdown",
   "id": "5c058ff5",
   "metadata": {},
   "source": [
    "`(1) 도구(tool) 정의하기`"
   ]
  },
  {
   "cell_type": "code",
   "execution_count": null,
   "id": "2a0f6b40",
   "metadata": {},
   "outputs": [],
   "source": [
    "import requests, os\n",
    "from langchain_core.tools import tool\n",
    "from typing import Dict\n",
    "\n",
    "@tool\n",
    "def naver_news_search(\n",
    "    query: str,\n",
    "    ) -> Dict[Dict, int]:\n",
    "    \"\"\"네이버 검색 API를 사용하여 뉴스 검색 결과를 조회합니다.\n",
    "\n",
    "    Args:\n",
    "        query (str): 검색어\n",
    "\n",
    "    Returns:\n",
    "        Dict[Dict, int]: 검색 결과와 상태 코드  \n",
    "    \"\"\"\n",
    "\n",
    "\n",
    "    url = \"https://openapi.naver.com/v1/search/news.json\"\n",
    "    headers = {\n",
    "        \"X-Naver-Client-Id\": os.getenv(\"NAVER_CLIENT_ID\"),\n",
    "        \"X-Naver-Client-Secret\": os.getenv(\"NAVER_CLIENT_SECRET\")\n",
    "    }\n",
    "    params = {\n",
    "        \"query\": query,\n",
    "        \"display\": 100,\n",
    "        }\n",
    "\n",
    "    response = requests.get(url, headers=headers, params=params)\n",
    "\n",
    "    return {\n",
    "        \"data\": response.json(),\n",
    "        \"status_code\": int(response.status_code)\n",
    "    }  #type: ignore"
   ]
  },
  {
   "cell_type": "code",
   "execution_count": null,
   "id": "e289602d",
   "metadata": {},
   "outputs": [],
   "source": [
    "# 도구 속성\n",
    "print(\"자료형: \")\n",
    "print(type(naver_news_search))\n",
    "print(\"-\"*100)\n",
    "\n",
    "print(\"name: \")\n",
    "print(naver_news_search.name)\n",
    "print(\"-\"*100)\n",
    "\n",
    "print(\"description: \")\n",
    "pprint(naver_news_search.description)\n",
    "print(\"-\"*100)\n",
    "\n",
    "print(\"schema: \")\n",
    "pprint(naver_news_search.args_schema.schema())\n",
    "print(\"-\"*100)"
   ]
  },
  {
   "cell_type": "code",
   "execution_count": null,
   "id": "37117ba5",
   "metadata": {},
   "outputs": [],
   "source": [
    "query = \"딥시크 한국 진출\"\n",
    "search_result = naver_news_search.invoke(query)\n",
    "\n",
    "print(search_result)"
   ]
  },
  {
   "cell_type": "code",
   "execution_count": null,
   "id": "e92be9f9",
   "metadata": {},
   "outputs": [],
   "source": [
    "search_result['data']['display'] # 검색 결과 개수"
   ]
  },
  {
   "cell_type": "code",
   "execution_count": null,
   "id": "6e33b831",
   "metadata": {},
   "outputs": [],
   "source": [
    "search_result['data']['items'][:5]  # 검색 결과 목록"
   ]
  },
  {
   "cell_type": "code",
   "execution_count": null,
   "id": "fa69fd1b",
   "metadata": {},
   "outputs": [],
   "source": [
    "# 검색 결과를 JSONL 형식으로 저장\n",
    "with open(\"news_search_results.jsonl\", \"w\", encoding=\"utf-8\") as f:\n",
    "    for item in search_result['data']['items']:\n",
    "        f.write(json.dumps(item, ensure_ascii=False) + \"\\n\")"
   ]
  },
  {
   "cell_type": "code",
   "execution_count": null,
   "id": "7c2f69d4",
   "metadata": {},
   "outputs": [],
   "source": [
    "# 검색 결과를 가져오기\n",
    "with open(\"news_search_results.jsonl\", \"r\", encoding=\"utf-8\") as f:\n",
    "    \n",
    "    news_items = []\n",
    "\n",
    "    # JSONL 파일에서 각 줄을 읽어와서 JSON 객체로 변환\n",
    "    for line in f:\n",
    "        item = json.loads(line)\n",
    "        news_items.append(item)\n",
    "\n",
    "\n",
    "# 검색 결과 출력\n",
    "for item in news_items[:3]:\n",
    "    print(f\"제목: {item['title']}\")\n",
    "    print(f\"링크: {item['link']}\")\n",
    "    print(f\"요약: {item['description']}\")\n",
    "    print(f\"날짜: {item['pubDate']}\")\n",
    "    print(\"-\" * 100)"
   ]
  },
  {
   "cell_type": "markdown",
   "id": "6c7ef372",
   "metadata": {},
   "source": [
    "`(2) LLM 도구 호출`"
   ]
  },
  {
   "cell_type": "code",
   "execution_count": null,
   "id": "d81d6668",
   "metadata": {},
   "outputs": [],
   "source": [
    "# LLM에 도구를 바인딩\n",
    "llm_with_tools = llm.bind_tools(tools=[naver_news_search])\n",
    "\n",
    "# 도구 호출이 필요한 LLM 호출을 수행\n",
    "query = \"딥시크 한국 진출 현황에 대해서 알려줘.\"\n",
    "ai_msg = llm_with_tools.invoke(query)\n",
    "\n",
    "# LLM의 전체 출력 결과 출력\n",
    "pprint(ai_msg)\n",
    "print(\"-\" * 100)\n",
    "\n",
    "# 메시지 content 속성 (텍스트 출력)\n",
    "pprint(ai_msg.content)\n",
    "print(\"-\" * 100)\n",
    "\n",
    "# LLM이 호출한 도구 정보 출력\n",
    "pprint(ai_msg.tool_calls)\n",
    "print(\"-\" * 100)"
   ]
  },
  {
   "cell_type": "markdown",
   "id": "c35aa8ef",
   "metadata": {},
   "source": [
    "### **[실습]**\n",
    "\n",
    "- 도구 호출 결과를 실행합니다. \n",
    "- 뉴스 검색 결과를 기반으로 답변하는 Agent를 정의하고 테스트합니다."
   ]
  },
  {
   "cell_type": "code",
   "execution_count": null,
   "id": "11437e38",
   "metadata": {},
   "outputs": [],
   "source": [
    "# 여기에 코드를 작성하세요. "
   ]
  },
  {
   "cell_type": "markdown",
   "id": "e9964fec",
   "metadata": {},
   "source": [
    "---\n",
    "\n",
    "### 3 **검색 결과 필터링** \n",
    "\n",
    "- 뉴스 데이터를 최근 기간으로 필터링"
   ]
  },
  {
   "cell_type": "code",
   "execution_count": null,
   "id": "8c21d318",
   "metadata": {},
   "outputs": [],
   "source": [
    "import datetime\n",
    "import re\n",
    "from typing import List, Dict, Any, Optional\n",
    "from email.utils import parsedate_to_datetime\n",
    "from dateutil import parser as date_parser\n",
    "import pytz\n",
    "\n",
    "def filter_news_by_date_naver(\n",
    "    news_data: List[Dict[str, Any]], \n",
    "    days_limit: int = 7\n",
    "    ) -> List[Dict[str, Any]]:\n",
    "    \"\"\"\n",
    "    네이버 뉴스 검색 API 결과를 최근 기간으로 필터링하는 함수\n",
    "    \n",
    "    Args:\n",
    "        news_data (List[Dict]): 검색된 뉴스 데이터 리스트\n",
    "        days_limit (int): 최근 몇 일 동안의 뉴스만 필터링할지 (기본값: 7일)\n",
    "        \n",
    "    Returns:\n",
    "        List[Dict]: 최근 기간으로 필터링된 뉴스 데이터 리스트\n",
    "    \"\"\"\n",
    "    if not news_data:\n",
    "        return []\n",
    "    \n",
    "    filtered_news = []\n",
    "\n",
    "    # timezone 정보가 없는(naive) 현재 날짜 사용\n",
    "    current_date = datetime.datetime.now()\n",
    "    cutoff_date = current_date - datetime.timedelta(days=days_limit)\n",
    "    \n",
    "    for i, news in enumerate(news_data):\n",
    "        # 날짜 필드 찾기 (네이버 API는 'pubDate' 필드 사용)\n",
    "        pub_date = news.get('pubDate')\n",
    "        \n",
    "        # 날짜 필드가 없는 경우 포함하지 않음\n",
    "        if not pub_date:\n",
    "            print(f\"뉴스 {i+1}: 날짜 필드 없음\")\n",
    "            continue\n",
    "            \n",
    "        try:\n",
    "            # 다양한 날짜 형식 처리\n",
    "            news_date = parse_date_flexible(pub_date)\n",
    "            \n",
    "            if not news_date:\n",
    "                print(f\"뉴스 {i+1}: 날짜 형식 인식 불가 - {pub_date}\")\n",
    "                continue\n",
    "            \n",
    "            # timezone 정보가 있는(aware) 날짜를 naive로 변환\n",
    "            if news_date.tzinfo is not None:\n",
    "                news_date = news_date.replace(tzinfo=None)\n",
    "                        \n",
    "            # 설정한 기간 이내의 뉴스만 포함\n",
    "            if news_date >= cutoff_date:\n",
    "                filtered_news.append(news)\n",
    "                \n",
    "        except Exception as e:\n",
    "            print(f\"뉴스 {i+1}: 날짜 파싱 오류 - {str(e)}\")\n",
    "            continue\n",
    "    \n",
    "    return filtered_news\n",
    "\n",
    "def parse_date_flexible(date_str: str) -> Optional[datetime.datetime]:\n",
    "    \"\"\"\n",
    "    다양한 형식의 날짜 문자열을 파싱하는 함수\n",
    "    \n",
    "    Args:\n",
    "        date_str (str): 파싱할 날짜 문자열\n",
    "        \n",
    "    Returns:\n",
    "        Optional[datetime.datetime]: 파싱된 날짜, 파싱 실패 시 None\n",
    "        \n",
    "    Note:\n",
    "        반환된 날짜는 timezone 정보가 포함될 수 있습니다 (offset-aware).\n",
    "        비교하기 전에 timezone 정보를 제거해야 합니다.\n",
    "    \"\"\"\n",
    "    # 빈 문자열 체크\n",
    "    if not date_str or not isinstance(date_str, str):\n",
    "        return None\n",
    "        \n",
    "    # RFC 822 형식 시도 (네이버 API 공식 문서 형식)\n",
    "    try:\n",
    "        return parsedate_to_datetime(date_str)\n",
    "    except (ValueError, TypeError):\n",
    "        pass\n",
    "    \n",
    "    # 일반적인 ISO 형식 시도\n",
    "    try:\n",
    "        return datetime.datetime.fromisoformat(date_str.replace('Z', '+00:00'))\n",
    "    except (ValueError, TypeError):\n",
    "        pass\n",
    "    \n",
    "    # 네이버 뉴스에서 자주 사용하는 형식 처리\n",
    "    # 예: '2023년 10월 15일 오후 2시 30분'\n",
    "    korean_pattern = r'(\\d{4})년\\s*(\\d{1,2})월\\s*(\\d{1,2})일\\s*(오전|오후)?\\s*(\\d{1,2})시\\s*(\\d{1,2})분'\n",
    "    match = re.search(korean_pattern, date_str)\n",
    "    if match:\n",
    "        year, month, day, ampm, hour, minute = match.groups()\n",
    "        hour = int(hour)\n",
    "        if ampm == '오후' and hour < 12:\n",
    "            hour += 12\n",
    "        elif ampm == '오전' and hour == 12:\n",
    "            hour = 0\n",
    "        \n",
    "        try:\n",
    "            return datetime.datetime(int(year), int(month), int(day), hour, int(minute))\n",
    "        except (ValueError, TypeError):\n",
    "            pass\n",
    "    \n",
    "    # 다른 형식의 날짜 (YYYY-MM-DD, YYYY/MM/DD 등)\n",
    "    # dateutil 라이브러리 사용 (pip install python-dateutil 필요)\n",
    "    try:\n",
    "        return date_parser.parse(date_str)\n",
    "    except (ValueError, TypeError):\n",
    "        pass\n",
    "    \n",
    "    # 원본 문자열에서 일자만 추출 시도 (마지막 방법)\n",
    "    # 예: \"Mon, 18 Mar 2025 14:30:45 +0900\" 같은 형식에서 날짜만 추출\n",
    "    date_patterns = [\n",
    "        r'(\\d{1,2})\\s+(Jan|Feb|Mar|Apr|May|Jun|Jul|Aug|Sep|Oct|Nov|Dec)\\s+(\\d{4})',  # 18 Mar 2025\n",
    "        r'(\\d{4})-(\\d{1,2})-(\\d{1,2})',  # 2025-03-18\n",
    "        r'(\\d{1,2})/(\\d{1,2})/(\\d{4})'   # 3/18/2025 or 18/3/2025\n",
    "    ]\n",
    "    \n",
    "    for pattern in date_patterns:\n",
    "        match = re.search(pattern, date_str)\n",
    "        if match:\n",
    "            try:\n",
    "                # 재구성된 간단한 형식으로 다시 시도\n",
    "                simplified = ' '.join(match.groups())\n",
    "                return date_parser.parse(simplified)\n",
    "            except (ValueError, TypeError):\n",
    "                pass\n",
    "    \n",
    "    # 로그에 파싱 실패한 날짜 형식 출력 (디버깅용)\n",
    "    print(f\"파싱 실패한 날짜 형식: {date_str}\")\n",
    "    \n",
    "    # 모든 시도 실패\n",
    "    return None\n",
    "\n",
    "\n",
    "# 최근 10일 내 뉴스만 필터링\n",
    "filtered_news = filter_news_by_date_naver(news_items, days_limit=10)\n",
    "print(\"\\n===== 필터링 결과 =====\")\n",
    "print(f\"필터링된 뉴스 수: {len(filtered_news)}\")\n",
    "if result:\n",
    "    for idx, news in enumerate(filtered_news, 1):\n",
    "        print(f\"\\n[뉴스 {idx}]\")\n",
    "        print(f\"제목: {news['title']}\")\n",
    "        print(f\"날짜: {news['pubDate']}\")\n",
    "        print(\"-\" * 30)\n",
    "else:\n",
    "    print(\"필터링된 뉴스가 없습니다.\")"
   ]
  },
  {
   "cell_type": "markdown",
   "id": "73e9abc5",
   "metadata": {},
   "source": [
    "---\n",
    "\n",
    "### 4 **뉴스 본문 수집** \n",
    "\n",
    "- 뉴스 링크를 사용하여, 본문 텍스트를 수집"
   ]
  },
  {
   "cell_type": "code",
   "execution_count": null,
   "id": "e0c26b71",
   "metadata": {},
   "outputs": [],
   "source": [
    "# 필터링된 뉴스 중 네이버 링크 가져오기\n",
    "url = filtered_news[1]['link']\n",
    "\n",
    "url"
   ]
  },
  {
   "cell_type": "code",
   "execution_count": null,
   "id": "bfe14164",
   "metadata": {},
   "outputs": [],
   "source": [
    "# Data Loader - 웹페이지 데이터 가져오기\n",
    "from langchain_community.document_loaders import WebBaseLoader\n",
    "import bs4\n",
    "\n",
    "loader = WebBaseLoader(\n",
    "    url,\n",
    "    header_template={\n",
    "        \"User-Agent\": \"Mozilla/5.0 (Windows NT 10.0; Win64; x64) AppleWebKit/537.36 (KHTML, like Gecko) Chrome/120.0.0.0 Safari/537.36\"\n",
    "    },\n",
    "    bs_kwargs=dict(\n",
    "        parse_only=bs4.SoupStrainer(\n",
    "            class_=(\"media_and_head\", \"newsct_article _article_body\")\n",
    "        )\n",
    "    ),\n",
    ")\n",
    "\n",
    "# 요청 속도 조절 (초당 요청 수)\n",
    "loader.requests_per_second = 1 # 초에 1회 요청\n",
    "docs = loader.load()\n",
    "\n",
    "docs[0]"
   ]
  },
  {
   "cell_type": "code",
   "execution_count": null,
   "id": "bed72c3b",
   "metadata": {},
   "outputs": [],
   "source": [
    "pprint(docs[0].metadata)"
   ]
  },
  {
   "cell_type": "code",
   "execution_count": null,
   "id": "d4ffd6c5",
   "metadata": {},
   "outputs": [],
   "source": [
    "pprint(docs[0].page_content)"
   ]
  },
  {
   "cell_type": "code",
   "execution_count": null,
   "id": "c563fde0",
   "metadata": {},
   "outputs": [],
   "source": [
    "# 모든 뉴스를 순회하면서 뉴스 본문을 가져오기\n",
    "all_docs = []\n",
    "\n",
    "for news in filtered_news:\n",
    "    url = news['link']    \n",
    "    docs = loader.load()\n",
    "    all_docs.extend(docs)\n",
    "\n",
    "print(f\"총 {len(all_docs)}개의 뉴스 본문을 가져왔습니다.\")\n",
    "print(\"-\" * 100)\n",
    "print(all_docs[0].metadata)\n",
    "print(\"-\" * 100)\n",
    "print(all_docs[0].page_content)\n",
    "print(\"-\" * 100)"
   ]
  },
  {
   "cell_type": "markdown",
   "id": "444726ac",
   "metadata": {},
   "source": [
    "---\n",
    "\n",
    "### 5. **뉴스 본문 데이터 정제** "
   ]
  },
  {
   "cell_type": "markdown",
   "id": "4e49f5b2",
   "metadata": {},
   "source": [
    "`(1) 텍스트 정제`"
   ]
  },
  {
   "cell_type": "code",
   "execution_count": null,
   "id": "bc349ab6",
   "metadata": {},
   "outputs": [],
   "source": [
    "# 불필요한 공백 문자 제거\n",
    "def clean_text(text: str) -> str:\n",
    "    \"\"\"\n",
    "    텍스트에서 불필요한 공백, 줄바꿈 문자를 제거하는 함수\n",
    "    \"\"\"\n",
    "\n",
    "    cleaned_text = str(text)\n",
    "\n",
    "    # 연속된 줄바꿈을 하나로 통합\n",
    "    cleaned_text = re.sub(r'\\n+', '\\n', cleaned_text)\n",
    "\n",
    "    # 연속된 공백을 하나로 통합\n",
    "    cleaned_text = re.sub(r'\\s+', ' ', cleaned_text)\n",
    "\n",
    "    # 줄 시작과 끝의 공백 제거\n",
    "    cleaned_text = re.sub(r'^\\s+|\\s+$', '', cleaned_text, flags=re.MULTILINE)\n",
    "\n",
    "    return cleaned_text\n",
    "    \n",
    "\n",
    "# 첫 번째 뉴스 본문에서 불필요한 공백 문자 제거\n",
    "doc = all_docs[0]\n",
    "doc.page_content = clean_text(doc.page_content)\n",
    "print(doc.page_content)"
   ]
  },
  {
   "cell_type": "markdown",
   "id": "71cf6d9d",
   "metadata": {},
   "source": [
    "`(2) 언론사, 기자 이름, 뉴스 본문 구분`"
   ]
  },
  {
   "cell_type": "code",
   "execution_count": null,
   "id": "8bd5b637",
   "metadata": {},
   "outputs": [],
   "source": [
    "from typing import Optional\n",
    "from pydantic import BaseModel, Field\n",
    "from langchain_core.prompts import ChatPromptTemplate\n",
    "from langchain_openai import ChatOpenAI\n",
    "\n",
    "# 추출할 정보를 정의하는 Pydantic 모델 생성\n",
    "class NewsArticle(BaseModel):\n",
    "    \"\"\"뉴스 기사에서 추출할 정보.\"\"\"\n",
    "    \n",
    "    media_outlet: Optional[str] = Field(\n",
    "        default=None, \n",
    "        description=\"뉴스 기사를 발행한 언론사 이름\"\n",
    "    )\n",
    "    reporter: Optional[str] = Field(\n",
    "        default=None, \n",
    "        description=\"기사를 작성한 기자의 이름\"\n",
    "    )\n",
    "    title: Optional[str] = Field(\n",
    "        default=None, \n",
    "        description=\"뉴스 기사의 제목\"\n",
    "    )\n",
    "    content: Optional[str] = Field(\n",
    "        default=None, \n",
    "        description=\"뉴스 기사의 본문 내용\"\n",
    "    )\n",
    "\n",
    "# 추출 프롬프트 템플릿 정의\n",
    "prompt_template = ChatPromptTemplate.from_messages(\n",
    "    [\n",
    "        (\n",
    "            \"system\",\n",
    "            \"당신은 뉴스 기사에서 정보를 추출하는 전문가입니다. \"\n",
    "            \"주어진 텍스트에서 관련 정보만 추출하세요. \"\n",
    "            \"추출할 수 없는 정보가 있다면 해당 필드의 값으로 null을 반환하세요.\"\n",
    "        ),\n",
    "        (\"human\", \"{text}\")\n",
    "    ]\n",
    ")\n",
    "\n",
    "# 모델 및 구조화된 출력 설정\n",
    "llm = ChatOpenAI(model=\"gpt-4.1-mini\") \n",
    "structured_llm = llm.with_structured_output(NewsArticle)\n",
    "\n",
    "# 추출 파이프라인 생성\n",
    "extraction_chain = prompt_template | structured_llm\n",
    "\n",
    "# 사용 예시\n",
    "result = extraction_chain.invoke({\"text\": doc.page_content})\n",
    "print(result)"
   ]
  },
  {
   "cell_type": "code",
   "execution_count": null,
   "id": "1acbe5d4",
   "metadata": {},
   "outputs": [],
   "source": [
    "result.model_dump()  # Pydantic 모델의 속성 및 값 출력"
   ]
  },
  {
   "cell_type": "markdown",
   "id": "40f1e14d",
   "metadata": {},
   "source": [
    "`(3) 모든 뉴스에 대해서 데이터 처리`\n",
    "\n",
    "- 본문 공백 제거\n",
    "- 추출된 데이터를 메타데이터에 추가"
   ]
  },
  {
   "cell_type": "code",
   "execution_count": null,
   "id": "8bdb5a24",
   "metadata": {},
   "outputs": [],
   "source": [
    "processed_docs = []\n",
    "\n",
    "# 모든 뉴스 본문에 대해 정보 추출 수행\n",
    "for doc in all_docs:\n",
    "    # 불필요한 공백 문자 제거\n",
    "    doc.page_content = clean_text(doc.page_content)\n",
    "    \n",
    "    # 정보 추출 수행\n",
    "    result = extraction_chain.invoke({\"text\": doc.page_content})\n",
    "    \n",
    "    # 추출된 정보를 메타데이터에 추가\n",
    "    doc.metadata.update(result.model_dump())\n",
    "\n",
    "    # 처리된 문서 리스트에 추가\n",
    "    processed_docs.append(doc)\n",
    "\n",
    "print(f\"총 {len(processed_docs)}개의 뉴스 본문을 처리했습니다.\")\n",
    "print(\"-\" * 100)\n",
    "print(processed_docs[0].metadata)\n",
    "print(\"-\" * 100)\n",
    "print(processed_docs[0].page_content)"
   ]
  },
  {
   "cell_type": "code",
   "execution_count": null,
   "id": "6dd1bf58",
   "metadata": {},
   "outputs": [],
   "source": [
    "# 전처리 완료된 데이터를 pickle 파일로 저장\n",
    "import pickle\n",
    "\n",
    "with open(\"processed_news_articles.pkl\", \"wb\") as f:\n",
    "    pickle.dump(processed_docs, f)"
   ]
  },
  {
   "cell_type": "code",
   "execution_count": null,
   "id": "25edd5e1",
   "metadata": {},
   "outputs": [],
   "source": [
    "# pickle 파일에서 데이터 로드\n",
    "with open(\"processed_news_articles.pkl\", \"rb\") as f:\n",
    "    loaded_docs = pickle.load(f)\n",
    "    print(f\"로드된 문서 수: {len(loaded_docs)}\")"
   ]
  },
  {
   "cell_type": "code",
   "execution_count": null,
   "id": "a410f562",
   "metadata": {},
   "outputs": [],
   "source": [
    "loaded_docs[0].metadata"
   ]
  },
  {
   "cell_type": "markdown",
   "id": "a35b2c9e",
   "metadata": {},
   "source": [
    "---\n",
    "\n",
    "### **[실습 프로젝트]**\n",
    "\n",
    "- 특정 주제에 대한 최신 뉴스 기사 수집하는 도구를 작성 (네이버 뉴스 검색 도구를 개선)\n",
    "- 뉴스 검색 결과를 기반으로 답변하는 Agent 시스템을 구현합니다."
   ]
  },
  {
   "cell_type": "code",
   "execution_count": null,
   "id": "9fb837bc",
   "metadata": {},
   "outputs": [],
   "source": [
    "# 여기에 코드를 작성하세요. "
   ]
  }
 ],
 "metadata": {
  "kernelspec": {
   "display_name": ".venv",
   "language": "python",
   "name": "python3"
  },
  "language_info": {
   "codemirror_mode": {
    "name": "ipython",
    "version": 3
   },
   "file_extension": ".py",
   "mimetype": "text/x-python",
   "name": "python",
   "nbconvert_exporter": "python",
   "pygments_lexer": "ipython3",
   "version": "3.12.11"
  }
 },
 "nbformat": 4,
 "nbformat_minor": 5
}
