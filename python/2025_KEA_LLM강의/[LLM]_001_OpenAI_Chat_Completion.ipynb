{
 "cells": [
  {
   "cell_type": "markdown",
   "metadata": {
    "id": "fV-Z1B-Pa4L1"
   },
   "source": [
    "# OpenAI Chat Completion API 활용\n"
   ]
  },
  {
   "cell_type": "markdown",
   "metadata": {},
   "source": [
    "\n",
    "---\n",
    "\n",
    "## 환경 설정\n",
    "\n",
    "\n",
    "- **uv 프로젝트 설정**\n",
    "    - **프로젝트 생성**: `uv init [프로젝트명]  --python=3.12`\n",
    "    - **가상환경 생성**: `uv venv`\n",
    "    - **가상환경 활성화**: `.venv/bin/activate` (Unix) 또는 `.venv\\Scripts\\activate` (Windows)\n",
    "\n",
    "\n",
    "- **패키지 설치**\n",
    "\n",
    "    ```bash\n",
    "    # uv 사용 (권장)\n",
    "    uv add langchain langchain_openai python-dotenv ipykernel\n",
    "\n",
    "    # pip 사용\n",
    "    pip install langchain langchain_openai python-dotenv ipykernel\n",
    "    ```\n",
    "\n",
    "- **API 키 설정**\n",
    "\n",
    "    ```python\n",
    "    # .env 파일 생성\n",
    "    OPENAI_API_KEY=your_api_key_here\n",
    "\n",
    "    # Python에서 로드\n",
    "    from dotenv import load_dotenv\n",
    "    import os\n",
    "\n",
    "    load_dotenv()\n",
    "    OPENAI_API_KEY = os.getenv(\"OPENAI_API_KEY\")\n",
    "    ```\n"
   ]
  },
  {
   "cell_type": "code",
   "execution_count": null,
   "metadata": {},
   "outputs": [],
   "source": [
    "# Python에서 로드\n",
    "from dotenv import load_dotenv\n",
    "import os\n",
    "\n",
    "load_dotenv()\n",
    "OPENAI_API_KEY = os.getenv(\"OPENAI_API_KEY\")"
   ]
  },
  {
   "cell_type": "markdown",
   "metadata": {},
   "source": [
    "\n",
    "---\n",
    "\n",
    "## 텍스트 생성"
   ]
  },
  {
   "cell_type": "markdown",
   "metadata": {},
   "source": [
    "`(1) 간단한 질의-응답`"
   ]
  },
  {
   "cell_type": "code",
   "execution_count": null,
   "metadata": {},
   "outputs": [],
   "source": [
    "from openai import OpenAI\n",
    "\n",
    "# 클라이언트 생성\n",
    "client = OpenAI()\n",
    "\n",
    "# 기본 텍스트 생성\n",
    "response = client.chat.completions.create(\n",
    "    model=\"gpt-4.1-mini\",\n",
    "    messages=[\n",
    "        {\"role\": \"developer\", \"content\": \"당신은 친근한 프로그래밍 튜터입니다.\"},\n",
    "        {\"role\": \"user\", \"content\": \"파이썬 함수란 무엇인가요?\"}\n",
    "    ],\n",
    "    temperature=0.7,\n",
    "    max_tokens=300\n",
    ")\n",
    "\n",
    "# 결과 출력\n",
    "print(response.choices[0].message.content)"
   ]
  },
  {
   "cell_type": "markdown",
   "metadata": {},
   "source": [
    "`(2) 구조화된 출력`"
   ]
  },
  {
   "cell_type": "code",
   "execution_count": null,
   "metadata": {},
   "outputs": [],
   "source": [
    "import json\n",
    "\n",
    "# 상품 정보 추출 예제\n",
    "response = client.chat.completions.create(\n",
    "    model=\"gpt-4.1\",\n",
    "    messages=[\n",
    "        {\n",
    "            \"role\": \"developer\", \n",
    "            \"content\": \"상품 정보를 정확히 추출하여 JSON 형태로 반환합니다.\"\n",
    "        },\n",
    "        {\n",
    "            \"role\": \"user\", \n",
    "            \"content\": \"삼성 갤럭시 S24 Ultra 512GB (티타늄 그레이) - 1,698,400원\"\n",
    "        }\n",
    "    ],\n",
    "    response_format={\n",
    "        \"type\": \"json_schema\",\n",
    "        \"json_schema\": {\n",
    "            \"name\": \"product_schema\",\n",
    "            \"schema\": {\n",
    "                \"type\": \"object\",\n",
    "                \"properties\": {\n",
    "                    \"brand\": {\"type\": \"string\", \"description\": \"브랜드명\"},\n",
    "                    \"model\": {\"type\": \"string\", \"description\": \"모델명\"},\n",
    "                    \"storage\": {\"type\": \"string\", \"description\": \"저장용량\"},\n",
    "                    \"color\": {\"type\": \"string\", \"description\": \"색상\"},\n",
    "                    \"price\": {\"type\": \"number\", \"description\": \"가격(원)\"},\n",
    "                    \"category\": {\"type\": \"string\", \"description\": \"제품 카테고리\"}\n",
    "                },\n",
    "                \"required\": [\"brand\", \"model\", \"price\"]\n",
    "            }\n",
    "        }\n",
    "    }\n",
    ")\n",
    "\n",
    "# JSON 파싱\n",
    "product_data = json.loads(response.choices[0].message.content)\n",
    "print(json.dumps(product_data, indent=2, ensure_ascii=False))"
   ]
  },
  {
   "cell_type": "markdown",
   "metadata": {},
   "source": [
    "---\n",
    "\n",
    "## 매개변수 최적화\n",
    "\n",
    "| 매개변수 | 범위 | 용도 | 추천값 |\n",
    "|---------|------|------|--------|\n",
    "| `temperature` | 0~2 | 창의성 조절 | 0.3 (정확성), 0.7 (균형), 1.2 (창의성) |\n",
    "| `top_p` | 0~1 | 응답 다양성 | 0.9 (기본), 0.3 (집중적) |\n",
    "| `max_tokens` | 1~8192+ | 최대 길이 | 작업에 따라 조절 |\n",
    "| `frequency_penalty` | -2~2 | 반복 억제 | 0.3~0.6 |\n",
    "| `presence_penalty` | -2~2 | 새 주제 도입 | 0.3~0.6 |"
   ]
  },
  {
   "cell_type": "markdown",
   "metadata": {},
   "source": [
    "### [실습] 매개변수 최적화\n",
    "\n",
    "- 위 코드를 참고하여 매개변수 최적화를 진행합니다. \n",
    "- 매개변수를 조정해서 출력 결과를 비교합니다. \n",
    "- 최적화 결과를 확인합니다. "
   ]
  },
  {
   "cell_type": "code",
   "execution_count": null,
   "metadata": {},
   "outputs": [],
   "source": [
    "# 여기에 코드를 작성합니다. "
   ]
  },
  {
   "cell_type": "markdown",
   "metadata": {},
   "source": [
    "\n",
    "---\n",
    "\n",
    "## 🔗 유용한 링크\n",
    "- [OpenAI API 공식 문서](https://platform.openai.com/docs)\n",
    "- [OpenAI 토큰 계산기](https://platform.openai.com/tokenizer)\n",
    "---"
   ]
  }
 ],
 "metadata": {
  "colab": {
   "provenance": []
  },
  "kernelspec": {
   "display_name": ".venv",
   "language": "python",
   "name": "python3"
  },
  "language_info": {
   "codemirror_mode": {
    "name": "ipython",
    "version": 3
   },
   "file_extension": ".py",
   "mimetype": "text/x-python",
   "name": "python",
   "nbconvert_exporter": "python",
   "pygments_lexer": "ipython3",
   "version": "3.12.11"
  }
 },
 "nbformat": 4,
 "nbformat_minor": 0
}
