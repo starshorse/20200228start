{
 "cells": [
  {
   "cell_type": "markdown",
   "id": "49a4d481",
   "metadata": {},
   "source": [
    "#   뉴스 감성 분석\n",
    "\n",
    "---"
   ]
  },
  {
   "cell_type": "markdown",
   "id": "6eb2476b",
   "metadata": {},
   "source": [
    "## 환경 설정 및 준비"
   ]
  },
  {
   "cell_type": "markdown",
   "id": "363dfcd6",
   "metadata": {},
   "source": [
    "`(1) Env 환경변수`"
   ]
  },
  {
   "cell_type": "code",
   "execution_count": null,
   "id": "27bfdacd",
   "metadata": {},
   "outputs": [],
   "source": [
    "from dotenv import load_dotenv\n",
    "load_dotenv()"
   ]
  },
  {
   "cell_type": "markdown",
   "id": "28e76942",
   "metadata": {},
   "source": [
    "`(2) 기본 라이브러리`"
   ]
  },
  {
   "cell_type": "code",
   "execution_count": null,
   "id": "2192c8d2",
   "metadata": {},
   "outputs": [],
   "source": [
    "import os\n",
    "from glob import glob\n",
    "\n",
    "import re\n",
    "import json\n",
    "\n",
    "from textwrap import dedent\n",
    "from pprint import pprint\n",
    "\n",
    "import warnings\n",
    "warnings.filterwarnings(\"ignore\")\n"
   ]
  },
  {
   "cell_type": "markdown",
   "id": "6b4d32cb",
   "metadata": {},
   "source": [
    "`(3) 뉴스 데이터 로드`"
   ]
  },
  {
   "cell_type": "code",
   "execution_count": null,
   "id": "29ad8359",
   "metadata": {},
   "outputs": [],
   "source": [
    "# pickle 파일에서 데이터 로드\n",
    "import pickle\n",
    "\n",
    "with open(\"processed_news_articles.pkl\", \"rb\") as f:\n",
    "    loaded_docs = pickle.load(f)\n",
    "    print(f\"로드된 문서 수: {len(loaded_docs)}\")"
   ]
  },
  {
   "cell_type": "code",
   "execution_count": null,
   "id": "36736278",
   "metadata": {},
   "outputs": [],
   "source": [
    "loaded_docs[0].metadata"
   ]
  },
  {
   "cell_type": "markdown",
   "id": "caf95809",
   "metadata": {},
   "source": [
    "---\n",
    "\n",
    "## **LLM을 이용한 뉴스 감성 분석**\n",
    "\n",
    "- 특정 주제에 대한 언론 보도 경향 파악\n",
    "- 시간에 따른 뉴스 감성 변화 트래킹\n",
    "- 기업 또는 산업 관련 뉴스의 긍정/부정 비율 분석\n",
    "- 사회적 이슈에 대한 미디어 반응 연구"
   ]
  },
  {
   "cell_type": "markdown",
   "id": "54ff6219",
   "metadata": {},
   "source": [
    "---\n",
    "\n",
    "### 1. **감성 분석(Sentiment Analysis)**\n",
    "\n",
    "- **감성 분석**은 텍스트에 표현된 감정과 의견을 파악하는 기술임\n",
    "- 감성 분석은 텍스트를 **긍정, 부정, 중립** 등으로 분류함\n",
    "- 텍스트의 **맥락과 뉘앙스**를 고려한 감성 평가가 가능함"
   ]
  },
  {
   "cell_type": "code",
   "execution_count": null,
   "id": "91533fbe",
   "metadata": {},
   "outputs": [],
   "source": [
    "from langchain_core.prompts import ChatPromptTemplate\n",
    "from langchain.chat_models import init_chat_model\n",
    "from langchain_core.output_parsers import StrOutputParser\n",
    "from typing import List, Dict, Any, Literal\n",
    "from pydantic import BaseModel, Field\n",
    "\n",
    "# 감성 분석 결과를 위한 Pydantic 모델\n",
    "class SentimentAnalysis(BaseModel):\n",
    "    \"\"\"뉴스 기사의 감성 분석 결과\"\"\"\n",
    "    sentiment: Literal[\"긍정적\", \"부정적\", \"중립적\"] = Field(description=\"감성 분석 결과 (긍정적, 부정적, 중립적)\")\n",
    "    score: float = Field(description=\"감성 점수 (0~1, 1에 가까울수록 긍정적)\")\n",
    "    key_phrases: List[str] = Field(description=\"기사에서 감성을 나타내는 주요 구문\")\n",
    "    explanation: str = Field(description=\"감성 분석 결과에 대한 설명\")\n",
    "\n",
    "# LLM 초기화\n",
    "llm = init_chat_model(\"openai:gpt-4.1-mini\", temperature=0)\n",
    "structured_llm = llm.with_structured_output(SentimentAnalysis)\n",
    "\n",
    "# 감성 분석 프롬프트 템플릿\n",
    "sentiment_prompt = ChatPromptTemplate.from_messages([\n",
    "    (\"system\", \"\"\"당신은 뉴스 기사의 감성을 분석하는 전문가입니다. \n",
    "    주어진 뉴스 기사를 분석하여 긍정적, 부정적, 중립적 감성을 파악하세요.\n",
    "    감성 점수는 0(매우 부정적)에서 1(매우 긍정적) 사이의 값으로 제공하세요.\n",
    "    기사에서 감성을 나타내는 주요 구문을 추출하고 분석 결과를 설명하세요.\"\"\"),\n",
    "    (\"human\", \"{news_article}\")\n",
    "])\n",
    "\n",
    "# 감성 분석 체인 생성\n",
    "sentiment_analysis_chain = sentiment_prompt | structured_llm\n",
    "\n",
    "# 예시 뉴스 기사\n",
    "news_article = \"\"\"\n",
    "한국 IT 기업, 글로벌 시장 진출 성공적\n",
    "\n",
    "서울 - 국내 주요 IT 기업들이 글로벌 시장에서 큰 성과를 거두고 있다. \n",
    "지난 분기 대비 매출이 15% 증가하였으며, 특히 북미와 유럽 시장에서의 성장이 두드러졌다. \n",
    "업계 관계자는 \"혁신적인 기술력과 차별화된 서비스가 좋은 평가를 받고 있다\"고 밝혔다.\n",
    "그러나 일부 전문가들은 글로벌 경쟁이 심화되는 상황에서 지속적인 기술 투자가 필요하다고 지적했다.\n",
    "\"\"\"\n",
    "\n",
    "# 감성 분석 실행\n",
    "result = sentiment_analysis_chain.invoke({\"news_article\": news_article})\n",
    "print(f\"감성: {result.sentiment}\")\n",
    "print(f\"점수: {result.score}\")\n",
    "print(f\"주요 구문: {result.key_phrases}\")\n",
    "print(f\"설명: {result.explanation}\")"
   ]
  },
  {
   "cell_type": "markdown",
   "id": "8843a6f0",
   "metadata": {},
   "source": [
    "---\n",
    "\n",
    "### **[실습]**\n",
    "\n",
    "- 프롬프트를 수정하여 감성 분석 체인을 정의합니다. \n",
    "- 뉴스 데이터를 사용하여 감성 분석 작업을 수행합니다. "
   ]
  },
  {
   "cell_type": "code",
   "execution_count": null,
   "id": "b33c3642",
   "metadata": {},
   "outputs": [],
   "source": [
    "# 여기에 코드를 작성하세요. "
   ]
  },
  {
   "cell_type": "markdown",
   "id": "44b39e97",
   "metadata": {},
   "source": [
    "---\n",
    "\n",
    "### 2. **데이터 증강(Data Augmentation)**\n",
    "\n",
    "   - 감성 분석 모델 학습용 데이터 확장\n",
    "   - 다양한 관점의 기사 생성을 통한 균형 잡힌 분석\n",
    "   - 특정 주제에 대한 다각적 분석 자료 확보"
   ]
  },
  {
   "cell_type": "code",
   "execution_count": null,
   "id": "d929b2e6",
   "metadata": {},
   "outputs": [],
   "source": [
    "# 데이터 증강을 위한 Pydantic 모델\n",
    "class AugmentedNews(BaseModel):\n",
    "    \"\"\"증강된 뉴스 기사\"\"\"\n",
    "    headline: str = Field(description=\"뉴스 기사의 제목\")\n",
    "    content: str = Field(description=\"증강된 뉴스 기사 내용\")\n",
    "    perspective: str = Field(description=\"증강된 기사의 관점 또는 초점\")\n",
    "\n",
    "# 데이터 증강 프롬프트 템플릿\n",
    "augmentation_prompt = ChatPromptTemplate.from_messages([\n",
    "    (\"system\", \"\"\"당신은 뉴스 기사 작성 전문가입니다. \n",
    "    주어진 원본 뉴스 기사를 바탕으로 다음 지시에 따라 새로운 버전의 기사를 작성하세요:\n",
    "    \n",
    "    1. 원본 기사의 사실과 정보를 유지하면서 표현 방식과 구조를 변경하세요.\n",
    "    2. 제시된 관점이나 초점(예: 경제적 영향, 사회적 의미, 기술적 측면 등)에 맞게 내용을 재구성하세요.\n",
    "    3. 기사의 전체적인 톤을 지정된 방향(예: 중립적, 분석적, 설명적)으로 조정하세요.\n",
    "    4. 적절한 제목을 생성하세요.\n",
    "    \n",
    "    출력은 구조화된 형식으로 제공하되, 내용이 자연스럽고 실제 뉴스 기사처럼 읽히도록 하세요.\"\"\"),\n",
    "    (\"human\", \"\"\"\n",
    "    원본 기사: {original_news}\n",
    "    \n",
    "    증강 지시사항:\n",
    "    - 관점/초점: {perspective}\n",
    "    - 톤: {tone}\n",
    "    \"\"\")\n",
    "])\n",
    "\n",
    "# 구조화된 출력을 위한 LLM 설정\n",
    "augmentation_llm = llm.with_structured_output(AugmentedNews)\n",
    "\n",
    "# 데이터 증강 체인 생성\n",
    "data_augmentation_chain = augmentation_prompt | augmentation_llm\n",
    "\n",
    "# 다양한 관점과 톤으로 뉴스 기사 증강\n",
    "perspectives = [\"경제적 영향\", \"사회적 의미\", \"기술적 측면\", \"국제 관계\"]\n",
    "tones = [\"중립적\", \"분석적\", \"설명적\"]\n",
    "\n",
    "# 원본 뉴스 기사로 여러 버전 생성\n",
    "augmented_news_list = []\n",
    "\n",
    "for perspective in perspectives:\n",
    "    for tone in tones:\n",
    "        augmented = data_augmentation_chain.invoke({\n",
    "            \"original_news\": news_article,\n",
    "            \"perspective\": perspective,\n",
    "            \"tone\": tone\n",
    "        })\n",
    "        augmented_news_list.append(augmented)\n",
    "        print(f\"\\n=== {perspective} / {tone} 관점 증강 결과 ===\")\n",
    "        print(f\"제목: {augmented.headline}\")\n",
    "        print(f\"내용 일부: {augmented.content[:150]}...\")\n",
    "\n",
    "print(f\"\\n총 {len(augmented_news_list)}개의 증강된 뉴스 기사가 생성되었습니다.\")"
   ]
  },
  {
   "cell_type": "markdown",
   "id": "0f483fb6",
   "metadata": {},
   "source": [
    "---\n",
    "\n",
    "### **[실습]**\n",
    "\n",
    "- 프롬프트를 수정하여 데이터 증강 체인을 정의합니다. \n",
    "- 뉴스 데이터를 사용하여 데이터 증강 작업을 수행합니다. "
   ]
  },
  {
   "cell_type": "code",
   "execution_count": null,
   "id": "e2751e16",
   "metadata": {},
   "outputs": [],
   "source": [
    "# 여기에 코드를 작성하세요. "
   ]
  }
 ],
 "metadata": {
  "kernelspec": {
   "display_name": ".venv",
   "language": "python",
   "name": "python3"
  },
  "language_info": {
   "codemirror_mode": {
    "name": "ipython",
    "version": 3
   },
   "file_extension": ".py",
   "mimetype": "text/x-python",
   "name": "python",
   "nbconvert_exporter": "python",
   "pygments_lexer": "ipython3",
   "version": "3.12.11"
  }
 },
 "nbformat": 4,
 "nbformat_minor": 5
}
