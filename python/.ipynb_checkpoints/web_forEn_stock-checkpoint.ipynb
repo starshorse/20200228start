{
 "cells": [
  {
   "cell_type": "code",
   "execution_count": 1,
   "id": "06c53f44",
   "metadata": {},
   "outputs": [
    {
     "name": "stderr",
     "output_type": "stream",
     "text": [
      "C:\\Users\\user\\AppData\\Local\\Temp\\ipykernel_15364\\3383808542.py:3: DeprecationWarning: executable_path has been deprecated, please pass in a Service object\n",
      "  driver = webdriver.Chrome('./chromedriver')\n"
     ]
    }
   ],
   "source": [
    "from selenium import webdriver\n",
    "from selenium.webdriver.common.by import By\n",
    "driver = webdriver.Chrome('./chromedriver')"
   ]
  },
  {
   "cell_type": "code",
   "execution_count": 2,
   "id": "3bd6da72",
   "metadata": {},
   "outputs": [
    {
     "ename": "NoSuchElementException",
     "evalue": "Message: no such element: Unable to locate element: {\"method\":\"css selector\",\"selector\":\".box_contents\"}\n  (Session info: chrome=104.0.5112.102)\nStacktrace:\nBacktrace:\n\tOrdinal0 [0x00E078B3+2193587]\n\tOrdinal0 [0x00DA0681+1771137]\n\tOrdinal0 [0x00CB41A8+803240]\n\tOrdinal0 [0x00CE24A0+992416]\n\tOrdinal0 [0x00CE273B+993083]\n\tOrdinal0 [0x00D0F7C2+1177538]\n\tOrdinal0 [0x00CFD7F4+1103860]\n\tOrdinal0 [0x00D0DAE2+1170146]\n\tOrdinal0 [0x00CFD5C6+1103302]\n\tOrdinal0 [0x00CD77E0+948192]\n\tOrdinal0 [0x00CD86E6+952038]\n\tGetHandleVerifier [0x010B0CB2+2738370]\n\tGetHandleVerifier [0x010A21B8+2678216]\n\tGetHandleVerifier [0x00E917AA+512954]\n\tGetHandleVerifier [0x00E90856+509030]\n\tOrdinal0 [0x00DA743B+1799227]\n\tOrdinal0 [0x00DABB68+1817448]\n\tOrdinal0 [0x00DABC55+1817685]\n\tOrdinal0 [0x00DB5230+1856048]\n\tBaseThreadInitThunk [0x7735FA29+25]\n\tRtlGetAppContainerNamedObjectPath [0x77667A9E+286]\n\tRtlGetAppContainerNamedObjectPath [0x77667A6E+238]\n",
     "output_type": "error",
     "traceback": [
      "\u001b[1;31m---------------------------------------------------------------------------\u001b[0m",
      "\u001b[1;31mNoSuchElementException\u001b[0m                    Traceback (most recent call last)",
      "Input \u001b[1;32mIn [2]\u001b[0m, in \u001b[0;36m<cell line: 2>\u001b[1;34m()\u001b[0m\n\u001b[0;32m      1\u001b[0m driver\u001b[38;5;241m.\u001b[39mget(\u001b[38;5;124m'\u001b[39m\u001b[38;5;124mhttps://finance.daum.net/domestic/influential_investors\u001b[39m\u001b[38;5;124m'\u001b[39m)\n\u001b[1;32m----> 2\u001b[0m items \u001b[38;5;241m=\u001b[39m \u001b[43mdriver\u001b[49m\u001b[38;5;241;43m.\u001b[39;49m\u001b[43mfind_element\u001b[49m\u001b[43m(\u001b[49m\u001b[38;5;124;43m'\u001b[39;49m\u001b[38;5;124;43mclass name\u001b[39;49m\u001b[38;5;124;43m'\u001b[39;49m\u001b[43m,\u001b[49m\u001b[38;5;124;43m'\u001b[39;49m\u001b[38;5;124;43mbox_contents\u001b[39;49m\u001b[38;5;124;43m'\u001b[39;49m\u001b[43m)\u001b[49m\n\u001b[0;32m      3\u001b[0m \u001b[38;5;28mprint\u001b[39m( items\u001b[38;5;241m.\u001b[39mtext )\n",
      "File \u001b[1;32m~\\AppData\\Local\\Programs\\Python\\Python310\\lib\\site-packages\\selenium\\webdriver\\remote\\webdriver.py:855\u001b[0m, in \u001b[0;36mWebDriver.find_element\u001b[1;34m(self, by, value)\u001b[0m\n\u001b[0;32m    852\u001b[0m     by \u001b[38;5;241m=\u001b[39m By\u001b[38;5;241m.\u001b[39mCSS_SELECTOR\n\u001b[0;32m    853\u001b[0m     value \u001b[38;5;241m=\u001b[39m \u001b[38;5;124m'\u001b[39m\u001b[38;5;124m[name=\u001b[39m\u001b[38;5;124m\"\u001b[39m\u001b[38;5;132;01m%s\u001b[39;00m\u001b[38;5;124m\"\u001b[39m\u001b[38;5;124m]\u001b[39m\u001b[38;5;124m'\u001b[39m \u001b[38;5;241m%\u001b[39m value\n\u001b[1;32m--> 855\u001b[0m \u001b[38;5;28;01mreturn\u001b[39;00m \u001b[38;5;28;43mself\u001b[39;49m\u001b[38;5;241;43m.\u001b[39;49m\u001b[43mexecute\u001b[49m\u001b[43m(\u001b[49m\u001b[43mCommand\u001b[49m\u001b[38;5;241;43m.\u001b[39;49m\u001b[43mFIND_ELEMENT\u001b[49m\u001b[43m,\u001b[49m\u001b[43m \u001b[49m\u001b[43m{\u001b[49m\n\u001b[0;32m    856\u001b[0m \u001b[43m    \u001b[49m\u001b[38;5;124;43m'\u001b[39;49m\u001b[38;5;124;43musing\u001b[39;49m\u001b[38;5;124;43m'\u001b[39;49m\u001b[43m:\u001b[49m\u001b[43m \u001b[49m\u001b[43mby\u001b[49m\u001b[43m,\u001b[49m\n\u001b[0;32m    857\u001b[0m \u001b[43m    \u001b[49m\u001b[38;5;124;43m'\u001b[39;49m\u001b[38;5;124;43mvalue\u001b[39;49m\u001b[38;5;124;43m'\u001b[39;49m\u001b[43m:\u001b[49m\u001b[43m \u001b[49m\u001b[43mvalue\u001b[49m\u001b[43m}\u001b[49m\u001b[43m)\u001b[49m[\u001b[38;5;124m'\u001b[39m\u001b[38;5;124mvalue\u001b[39m\u001b[38;5;124m'\u001b[39m]\n",
      "File \u001b[1;32m~\\AppData\\Local\\Programs\\Python\\Python310\\lib\\site-packages\\selenium\\webdriver\\remote\\webdriver.py:428\u001b[0m, in \u001b[0;36mWebDriver.execute\u001b[1;34m(self, driver_command, params)\u001b[0m\n\u001b[0;32m    426\u001b[0m response \u001b[38;5;241m=\u001b[39m \u001b[38;5;28mself\u001b[39m\u001b[38;5;241m.\u001b[39mcommand_executor\u001b[38;5;241m.\u001b[39mexecute(driver_command, params)\n\u001b[0;32m    427\u001b[0m \u001b[38;5;28;01mif\u001b[39;00m response:\n\u001b[1;32m--> 428\u001b[0m     \u001b[38;5;28;43mself\u001b[39;49m\u001b[38;5;241;43m.\u001b[39;49m\u001b[43merror_handler\u001b[49m\u001b[38;5;241;43m.\u001b[39;49m\u001b[43mcheck_response\u001b[49m\u001b[43m(\u001b[49m\u001b[43mresponse\u001b[49m\u001b[43m)\u001b[49m\n\u001b[0;32m    429\u001b[0m     response[\u001b[38;5;124m'\u001b[39m\u001b[38;5;124mvalue\u001b[39m\u001b[38;5;124m'\u001b[39m] \u001b[38;5;241m=\u001b[39m \u001b[38;5;28mself\u001b[39m\u001b[38;5;241m.\u001b[39m_unwrap_value(\n\u001b[0;32m    430\u001b[0m         response\u001b[38;5;241m.\u001b[39mget(\u001b[38;5;124m'\u001b[39m\u001b[38;5;124mvalue\u001b[39m\u001b[38;5;124m'\u001b[39m, \u001b[38;5;28;01mNone\u001b[39;00m))\n\u001b[0;32m    431\u001b[0m     \u001b[38;5;28;01mreturn\u001b[39;00m response\n",
      "File \u001b[1;32m~\\AppData\\Local\\Programs\\Python\\Python310\\lib\\site-packages\\selenium\\webdriver\\remote\\errorhandler.py:243\u001b[0m, in \u001b[0;36mErrorHandler.check_response\u001b[1;34m(self, response)\u001b[0m\n\u001b[0;32m    241\u001b[0m         alert_text \u001b[38;5;241m=\u001b[39m value[\u001b[38;5;124m'\u001b[39m\u001b[38;5;124malert\u001b[39m\u001b[38;5;124m'\u001b[39m]\u001b[38;5;241m.\u001b[39mget(\u001b[38;5;124m'\u001b[39m\u001b[38;5;124mtext\u001b[39m\u001b[38;5;124m'\u001b[39m)\n\u001b[0;32m    242\u001b[0m     \u001b[38;5;28;01mraise\u001b[39;00m exception_class(message, screen, stacktrace, alert_text)  \u001b[38;5;66;03m# type: ignore[call-arg]  # mypy is not smart enough here\u001b[39;00m\n\u001b[1;32m--> 243\u001b[0m \u001b[38;5;28;01mraise\u001b[39;00m exception_class(message, screen, stacktrace)\n",
      "\u001b[1;31mNoSuchElementException\u001b[0m: Message: no such element: Unable to locate element: {\"method\":\"css selector\",\"selector\":\".box_contents\"}\n  (Session info: chrome=104.0.5112.102)\nStacktrace:\nBacktrace:\n\tOrdinal0 [0x00E078B3+2193587]\n\tOrdinal0 [0x00DA0681+1771137]\n\tOrdinal0 [0x00CB41A8+803240]\n\tOrdinal0 [0x00CE24A0+992416]\n\tOrdinal0 [0x00CE273B+993083]\n\tOrdinal0 [0x00D0F7C2+1177538]\n\tOrdinal0 [0x00CFD7F4+1103860]\n\tOrdinal0 [0x00D0DAE2+1170146]\n\tOrdinal0 [0x00CFD5C6+1103302]\n\tOrdinal0 [0x00CD77E0+948192]\n\tOrdinal0 [0x00CD86E6+952038]\n\tGetHandleVerifier [0x010B0CB2+2738370]\n\tGetHandleVerifier [0x010A21B8+2678216]\n\tGetHandleVerifier [0x00E917AA+512954]\n\tGetHandleVerifier [0x00E90856+509030]\n\tOrdinal0 [0x00DA743B+1799227]\n\tOrdinal0 [0x00DABB68+1817448]\n\tOrdinal0 [0x00DABC55+1817685]\n\tOrdinal0 [0x00DB5230+1856048]\n\tBaseThreadInitThunk [0x7735FA29+25]\n\tRtlGetAppContainerNamedObjectPath [0x77667A9E+286]\n\tRtlGetAppContainerNamedObjectPath [0x77667A6E+238]\n"
     ]
    }
   ],
   "source": [
    "driver.get('https://finance.daum.net/domestic/influential_investors')\n",
    "items = driver.find_element('class name','box_contents')\n",
    "print( items.text )"
   ]
  },
  {
   "cell_type": "code",
   "execution_count": 4,
   "id": "2ecd1e3e",
   "metadata": {},
   "outputs": [
    {
     "name": "stdout",
     "output_type": "stream",
     "text": [
      "[['삼성전자', '270,993', '4,448', '-0.98%'], ['NAVER', '34,567', '138', '-0.80%'], ['현대차', '44,367', '239', '+2.15%'], ['기아', '27,298', '355', '+0.65%'], ['삼성SDI', '28,431', '46', '-0.96%'], ['SK하이닉스', '20,882', '218', '+0.73%'], ['두산에너빌리티', '15,000', '703', '-1.40%'], ['셀트리온', '16,767', '81', '-0.49%'], ['현대모비스', '13,827', '66', '+1.66%'], ['SK바이오사이언스', '14,064', '114', '-4.51%'], ['LG화학', '13,654', '21', '-1.69%'], ['하나금융지주', '13,911', '359', '0.00%'], ['LG에너지솔루션', '10,587', '24', '-1.11%'], ['카카오페이', '13,765', '198', '+0.58%'], ['포스코케미칼', '9,459', '59', '-2.79%'], ['SK텔레콤', '12,523', '245', '-0.39%'], ['현대미포조선', '8,604', '80', '+1.39%'], ['카카오뱅크', '8,809', '280', '-8.17%'], ['강원랜드', '7,314', '279', '+0.57%'], ['카카오', '6,504', '84', '-3.16%'], ['KODEX 200선물인버스2X', '7,261', '2,474', '+1.04%'], ['TIGER 미국필라델피아반도체나스닥', '5,536', '527', '+1.85%'], ['KODEX 레버리지', '7,145', '444', '-1.23%'], ['POSCO홀딩스', '5,369', '21', '-0.39%'], ['삼성전기', '5,935', '43', '-1.09%'], ['한화솔루션', '5,257', '113', '0.00%'], ['한화에어로스페이스', '5,758', '81', '-1.12%'], ['KODEX 인버스', '5,117', '1,085', '+0.64%'], ['LIG넥스원', '5,749', '63', '+0.22%'], ['삼성에스디에스', '4,353', '33', '+0.38%'], ['고려아연', '5,445', '9', '-0.34%'], ['현대차우', '3,925', '44', '+1.13%'], ['이수화학', '5,381', '310', '-0.88%'], ['삼성증권', '3,661', '104', '-0.28%'], ['하이브', '5,194', '28', '-0.80%'], ['씨에스윈드', '3,285', '50', '-0.62%'], ['오리온', '4,696', '43', '+0.92%'], ['현대오토에버', '3,251', '27', '-2.07%'], ['엔씨소프트', '4,063', '11', '-2.09%'], ['S-Oil', '3,084', '33', '+1.84%'], ['BGF리테일', '4,015', '24', '-1.72%'], ['한국전력', '3,022', '140', '-0.23%'], ['TIGER 차이나전기차SOLACTIVE', '3,725', '226', '-2.32%'], ['우리금융지주', '2,938', '240', '+2.05%'], ['삼성화재', '3,480', '18', '+1.26%'], ['SK이노베이션', '2,789', '14', '-2.85%'], ['한전기술', '3,458', '47', '-2.80%'], ['일진머티리얼즈', '2,644', '36', '+2.07%'], ['삼성중공업', '3,289', '551', '+0.33%'], ['TIGER 원유선물Enhanced(H)', '2,372', '500', '+2.11%'], ['현대해상', '3,182', '93', '+1.32%'], ['KODEX 200', '2,220', '67', '-0.58%'], ['한화', '3,039', '98', '0.00%'], ['LG전자', '2,078', '21', '-0.98%'], ['현대위아', '3,028', '44', '-0.73%'], ['KT', '2,051', '54', '+1.71%'], ['해성디에스', '2,968', '50', '-2.10%'], ['BNK금융지주', '1,988', '291', '+0.29%'], ['대한전선', '2,878', '1,564', '-3.51%'], ['SK바이오팜', '1,978', '26', '-1.41%']]\n"
     ]
    }
   ],
   "source": [
    "def list_chuck(arr, n):\n",
    "    return [arr[i: i + n] for i in range(0, len(arr), n)]\n",
    "\n",
    "items = driver.find_element('xpath','//*[@id=\"boxInfluentialInvestors\"]/div[2]/div[1]/table')\n",
    "# print( items.text )\n",
    "\n",
    "list_items_info = items.text.splitlines()\n",
    "# print( list_items_info )\n",
    "\n",
    "del list_items_info[:2]\n",
    "# print( list_items_info )\n",
    "\n",
    "forEn = list_chuck( list_items_info, 4 )\n",
    "\n",
    "print( forEn )"
   ]
  },
  {
   "cell_type": "code",
   "execution_count": 5,
   "id": "fd221f9d",
   "metadata": {},
   "outputs": [
    {
     "name": "stdout",
     "output_type": "stream",
     "text": [
      "기준일 : 08.18\n"
     ]
    }
   ],
   "source": [
    "this_date = driver.find_element('xpath', '//*[@id=\"labDescription\"]/em' )\n",
    "print( this_date.text )"
   ]
  },
  {
   "cell_type": "code",
   "execution_count": 14,
   "id": "14505b1e",
   "metadata": {},
   "outputs": [
    {
     "name": "stdout",
     "output_type": "stream",
     "text": [
      "['08', '18']\n",
      "2022\n",
      "2022-08-18\n"
     ]
    }
   ],
   "source": [
    "this_date_1 = this_date.text[6:]\n",
    "this_date_mmdd = this_date_1.split('.')\n",
    "print( this_date_mmdd )\n",
    "from datetime import date \n",
    "this_year = date.today().year \n",
    "print( this_year )\n",
    "this_date_2 = str(this_year)+\"-\"+this_date_mmdd[0]+\"-\"+this_date_mmdd[1]\n",
    "print( this_date_2 )"
   ]
  },
  {
   "cell_type": "code",
   "execution_count": 16,
   "id": "2ba92063",
   "metadata": {},
   "outputs": [
    {
     "name": "stdout",
     "output_type": "stream",
     "text": [
      "[['삼성전자', '270,993', '4,448', '-0.98%', 1, '2022-08-18'], ['NAVER', '34,567', '138', '-0.80%', -1, '2022-08-18'], ['현대차', '44,367', '239', '+2.15%', 1, '2022-08-18'], ['기아', '27,298', '355', '+0.65%', -1, '2022-08-18'], ['삼성SDI', '28,431', '46', '-0.96%', 1, '2022-08-18'], ['SK하이닉스', '20,882', '218', '+0.73%', -1, '2022-08-18'], ['두산에너빌리티', '15,000', '703', '-1.40%', 1, '2022-08-18'], ['셀트리온', '16,767', '81', '-0.49%', -1, '2022-08-18'], ['현대모비스', '13,827', '66', '+1.66%', 1, '2022-08-18'], ['SK바이오사이언스', '14,064', '114', '-4.51%', -1, '2022-08-18'], ['LG화학', '13,654', '21', '-1.69%', 1, '2022-08-18'], ['하나금융지주', '13,911', '359', '0.00%', -1, '2022-08-18'], ['LG에너지솔루션', '10,587', '24', '-1.11%', 1, '2022-08-18'], ['카카오페이', '13,765', '198', '+0.58%', -1, '2022-08-18'], ['포스코케미칼', '9,459', '59', '-2.79%', 1, '2022-08-18'], ['SK텔레콤', '12,523', '245', '-0.39%', -1, '2022-08-18'], ['현대미포조선', '8,604', '80', '+1.39%', 1, '2022-08-18'], ['카카오뱅크', '8,809', '280', '-8.17%', -1, '2022-08-18'], ['강원랜드', '7,314', '279', '+0.57%', 1, '2022-08-18'], ['카카오', '6,504', '84', '-3.16%', -1, '2022-08-18'], ['KODEX 200선물인버스2X', '7,261', '2,474', '+1.04%', 1, '2022-08-18'], ['TIGER 미국필라델피아반도체나스닥', '5,536', '527', '+1.85%', -1, '2022-08-18'], ['KODEX 레버리지', '7,145', '444', '-1.23%', 1, '2022-08-18'], ['POSCO홀딩스', '5,369', '21', '-0.39%', -1, '2022-08-18'], ['삼성전기', '5,935', '43', '-1.09%', 1, '2022-08-18'], ['한화솔루션', '5,257', '113', '0.00%', -1, '2022-08-18'], ['한화에어로스페이스', '5,758', '81', '-1.12%', 1, '2022-08-18'], ['KODEX 인버스', '5,117', '1,085', '+0.64%', -1, '2022-08-18'], ['LIG넥스원', '5,749', '63', '+0.22%', 1, '2022-08-18'], ['삼성에스디에스', '4,353', '33', '+0.38%', -1, '2022-08-18'], ['고려아연', '5,445', '9', '-0.34%', 1, '2022-08-18'], ['현대차우', '3,925', '44', '+1.13%', -1, '2022-08-18'], ['이수화학', '5,381', '310', '-0.88%', 1, '2022-08-18'], ['삼성증권', '3,661', '104', '-0.28%', -1, '2022-08-18'], ['하이브', '5,194', '28', '-0.80%', 1, '2022-08-18'], ['씨에스윈드', '3,285', '50', '-0.62%', -1, '2022-08-18'], ['오리온', '4,696', '43', '+0.92%', 1, '2022-08-18'], ['현대오토에버', '3,251', '27', '-2.07%', -1, '2022-08-18'], ['엔씨소프트', '4,063', '11', '-2.09%', 1, '2022-08-18'], ['S-Oil', '3,084', '33', '+1.84%', -1, '2022-08-18'], ['BGF리테일', '4,015', '24', '-1.72%', 1, '2022-08-18'], ['한국전력', '3,022', '140', '-0.23%', -1, '2022-08-18'], ['TIGER 차이나전기차SOLACTIVE', '3,725', '226', '-2.32%', 1, '2022-08-18'], ['우리금융지주', '2,938', '240', '+2.05%', -1, '2022-08-18'], ['삼성화재', '3,480', '18', '+1.26%', 1, '2022-08-18'], ['SK이노베이션', '2,789', '14', '-2.85%', -1, '2022-08-18'], ['한전기술', '3,458', '47', '-2.80%', 1, '2022-08-18'], ['일진머티리얼즈', '2,644', '36', '+2.07%', -1, '2022-08-18'], ['삼성중공업', '3,289', '551', '+0.33%', 1, '2022-08-18'], ['TIGER 원유선물Enhanced(H)', '2,372', '500', '+2.11%', -1, '2022-08-18'], ['현대해상', '3,182', '93', '+1.32%', 1, '2022-08-18'], ['KODEX 200', '2,220', '67', '-0.58%', -1, '2022-08-18'], ['한화', '3,039', '98', '0.00%', 1, '2022-08-18'], ['LG전자', '2,078', '21', '-0.98%', -1, '2022-08-18'], ['현대위아', '3,028', '44', '-0.73%', 1, '2022-08-18'], ['KT', '2,051', '54', '+1.71%', -1, '2022-08-18'], ['해성디에스', '2,968', '50', '-2.10%', 1, '2022-08-18'], ['BNK금융지주', '1,988', '291', '+0.29%', -1, '2022-08-18'], ['대한전선', '2,878', '1,564', '-3.51%', 1, '2022-08-18'], ['SK바이오팜', '1,978', '26', '-1.41%', -1, '2022-08-18']]\n"
     ]
    }
   ],
   "source": [
    "for idx, x in enumerate( forEn ):\n",
    "    if idx%2:\n",
    "        x.append(-1)\n",
    "    else :\n",
    "        x.append(1)\n",
    "    x.append( this_date_2 )\n",
    "    \n",
    "print( forEn )\n",
    "        "
   ]
  },
  {
   "cell_type": "code",
   "execution_count": 20,
   "id": "511d7040",
   "metadata": {},
   "outputs": [],
   "source": [
    "from os import listdir \n",
    "from openpyxl import load_workbook , Workbook "
   ]
  },
  {
   "cell_type": "code",
   "execution_count": 21,
   "id": "aec8ef44",
   "metadata": {},
   "outputs": [],
   "source": [
    "result_xlsx = Workbook()\n",
    "result_sheet = result_xlsx.active "
   ]
  },
  {
   "cell_type": "code",
   "execution_count": 22,
   "id": "928d7c02",
   "metadata": {},
   "outputs": [],
   "source": [
    "for x in forEn:\n",
    "    result_sheet.append(x)\n",
    "\n",
    "result_xlsx.save('forEn.xlsx')"
   ]
  },
  {
   "cell_type": "code",
   "execution_count": 37,
   "id": "446890d4",
   "metadata": {},
   "outputs": [
    {
     "name": "stdout",
     "output_type": "stream",
     "text": [
      "1\n"
     ]
    }
   ],
   "source": [
    "result_xlsx_add = load_workbook('forEn.xlsx')\n",
    "result_sheet_add = result_xlsx_add['Sheet']\n",
    "\n",
    "max = result_sheet_add.max_row \n",
    "print( max )\n"
   ]
  },
  {
   "cell_type": "code",
   "execution_count": 34,
   "id": "a5b2a07a",
   "metadata": {},
   "outputs": [],
   "source": [
    "for x in forEn:\n",
    "#    result_sheet_add.append(x)\n",
    "    for idx, y in enumerate( x, start=1 ):\n",
    "        result_sheet_add.cell( row = max , column = idx , value = y )\n",
    "    max = max +1 \n",
    "\n",
    "result_xlsx_add.save('forEn.xlsx')"
   ]
  },
  {
   "cell_type": "code",
   "execution_count": 38,
   "id": "9215e0b6",
   "metadata": {},
   "outputs": [],
   "source": [
    "for x in forEn:\n",
    "    result_sheet_add.append(x)\n",
    "    \n",
    "result_xlsx_add.save('forEn.xlsx')"
   ]
  },
  {
   "cell_type": "code",
   "execution_count": null,
   "id": "b0d3a852",
   "metadata": {},
   "outputs": [],
   "source": []
  },
  {
   "cell_type": "code",
   "execution_count": null,
   "id": "5fb0ac72",
   "metadata": {},
   "outputs": [],
   "source": []
  },
  {
   "cell_type": "code",
   "execution_count": null,
   "id": "2bbd0cf5",
   "metadata": {},
   "outputs": [],
   "source": []
  }
 ],
 "metadata": {
  "kernelspec": {
   "display_name": "Python 3 (ipykernel)",
   "language": "python",
   "name": "python3"
  },
  "language_info": {
   "codemirror_mode": {
    "name": "ipython",
    "version": 3
   },
   "file_extension": ".py",
   "mimetype": "text/x-python",
   "name": "python",
   "nbconvert_exporter": "python",
   "pygments_lexer": "ipython3",
   "version": "3.10.6"
  }
 },
 "nbformat": 4,
 "nbformat_minor": 5
}
