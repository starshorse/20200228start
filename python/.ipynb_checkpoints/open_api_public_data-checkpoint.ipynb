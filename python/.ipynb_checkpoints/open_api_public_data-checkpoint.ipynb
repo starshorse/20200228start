{
 "cells": [
  {
   "cell_type": "code",
   "execution_count": null,
   "id": "162dddc2",
   "metadata": {},
   "outputs": [],
   "source": []
  },
  {
   "cell_type": "code",
   "execution_count": 1,
   "id": "60aae654-38a6-4b64-b832-e58d7173d5a3",
   "metadata": {},
   "outputs": [
    {
     "ename": "ModuleNotFoundError",
     "evalue": "No module named 'requests'",
     "output_type": "error",
     "traceback": [
      "\u001b[1;31m---------------------------------------------------------------------------\u001b[0m",
      "\u001b[1;31mModuleNotFoundError\u001b[0m                       Traceback (most recent call last)",
      "Input \u001b[1;32mIn [1]\u001b[0m, in \u001b[0;36m<cell line: 2>\u001b[1;34m()\u001b[0m\n\u001b[0;32m      1\u001b[0m \u001b[38;5;66;03m#라이브러리 import\u001b[39;00m\n\u001b[1;32m----> 2\u001b[0m \u001b[38;5;28;01mimport\u001b[39;00m \u001b[38;5;21;01mrequests\u001b[39;00m\n\u001b[0;32m      3\u001b[0m \u001b[38;5;28;01mimport\u001b[39;00m \u001b[38;5;21;01mpprint\u001b[39;00m\n\u001b[0;32m      4\u001b[0m \u001b[38;5;28;01mimport\u001b[39;00m \u001b[38;5;21;01mjson\u001b[39;00m\n",
      "\u001b[1;31mModuleNotFoundError\u001b[0m: No module named 'requests'"
     ]
    }
   ],
   "source": [
    "#라이브러리 import\n",
    "import requests\n",
    "import pprint\n",
    "import json\n",
    "\n",
    "# url 입력\n",
    "\n",
    "#url = 'http://api.data.go.kr/openapi/tn_pubr_public_cctv_api?serviceKey=개인인증키입력&pageNo=1&numOfRows=10&type=json'\n",
    "url = 'http://api.seibro.or.kr/openapi/service/CorpSvc/getIssucoBasicInfo?serviceKey=w8SK7ikbgYbS%2FCk3kIf0odvM6wfrNCFSCjSHGn8JKEQp9YAMW4hDR805UWO8%2BSfherqBEimlZ%2F23oKU7s7hiYg%3D%3D&issucoCustno=593&type=json'\n",
    "response = requests.get(url)\n",
    "\n",
    "contents = response.text\n",
    "\n",
    "# 데이터 결과값 예쁘게 출력해주는 코드\n",
    "pp = pprint.PrettyPrinter(indent=4)\n",
    "print(pp.pprint(contents))"
   ]
  },
  {
   "cell_type": "code",
   "execution_count": 87,
   "id": "a1238813-f027-4f29-b976-42e3bfe24064",
   "metadata": {},
   "outputs": [
    {
     "name": "stdout",
     "output_type": "stream",
     "text": [
      "<class 'dict'>\n",
      "[{'institutionNm': '경상남도 김해시청', 'rdnmadr': 'null', 'lnmadr': '경상남도 김해시 구산동 1072-19', 'installationPurpsType': '생활방범', 'cctvNumber': '3', 'cctvPixel': '200', 'potogrfInfo': '현대병원뒤', 'cstdyDay': '30', 'installationYymm': '2019-11', 'phoneNumber': '055-330-4741', 'latitude': '35.249247', 'longitude': '128.871639', 'referenceDate': '2019-06-26', 'insttCode': '5350000'}, {'institutionNm': '경상남도 김해시청', 'rdnmadr': 'null', 'lnmadr': '경상남도 김해시 구산동 305-15', 'installationPurpsType': '생활방범', 'cctvNumber': '2', 'cctvPixel': '200', 'potogrfInfo': '목화골공원', 'cstdyDay': '30', 'installationYymm': '2019-12', 'phoneNumber': '055-330-4741', 'latitude': '35.247411', 'longitude': '128.873605', 'referenceDate': '2019-06-26', 'insttCode': '5350000'}, {'institutionNm': '경상남도 김해시청', 'rdnmadr': 'null', 'lnmadr': '경상남도 김해시 삼계동 1484-14', 'installationPurpsType': '생활방범', 'cctvNumber': '2', 'cctvPixel': '200', 'potogrfInfo': '정원빌라', 'cstdyDay': '30', 'installationYymm': '2019-06', 'phoneNumber': '055-330-4741', 'latitude': '35.2617277', 'longitude': '128.8741435', 'referenceDate': '2019-06-26', 'insttCode': '5350000'}, {'institutionNm': '경상남도 김해시청', 'rdnmadr': 'null', 'lnmadr': '경상남도 김해시 구산동 1043', 'installationPurpsType': '생활방범', 'cctvNumber': '4', 'cctvPixel': '200', 'potogrfInfo': '최가아구찜', 'cstdyDay': '30', 'installationYymm': '2019-05', 'phoneNumber': '055-330-4741', 'latitude': '35.247076', 'longitude': '128.872461', 'referenceDate': '2019-06-26', 'insttCode': '5350000'}, {'institutionNm': '경상남도 김해시청', 'rdnmadr': 'null', 'lnmadr': '경상남도 김해시 구산동 175-10', 'installationPurpsType': '생활방범', 'cctvNumber': '2', 'cctvPixel': '200', 'potogrfInfo': '동호맨션', 'cstdyDay': '30', 'installationYymm': '2019-12', 'phoneNumber': '055-330-4741', 'latitude': '35.241185', 'longitude': '128.8773341', 'referenceDate': '2019-06-26', 'insttCode': '5350000'}, {'institutionNm': '경상남도 김해시청', 'rdnmadr': 'null', 'lnmadr': '경상남도 김해시 부원동 663', 'installationPurpsType': '생활방범', 'cctvNumber': '3', 'cctvPixel': '200', 'potogrfInfo': '김해시청뒷길', 'cstdyDay': '30', 'installationYymm': '2019-05', 'phoneNumber': '055-330-4741', 'latitude': '35.228923', 'longitude': '128.889096', 'referenceDate': '2019-06-26', 'insttCode': '5350000'}, {'institutionNm': '경상남도 김해시청', 'rdnmadr': 'null', 'lnmadr': '경상남도 김해시 부원동 342-17', 'installationPurpsType': '생활방범', 'cctvNumber': '3', 'cctvPixel': '200', 'potogrfInfo': '쇄내마을남쪽', 'cstdyDay': '30', 'installationYymm': '2019-03', 'phoneNumber': '055-330-4741', 'latitude': '35.21492806', 'longitude': '128.887706', 'referenceDate': '2019-06-26', 'insttCode': '5350000'}, {'institutionNm': '경상남도 김해시청', 'rdnmadr': 'null', 'lnmadr': '경상남도 김해시 부원동 36-1', 'installationPurpsType': '생활방범', 'cctvNumber': '3', 'cctvPixel': '200', 'potogrfInfo': '김해중후문', 'cstdyDay': '30', 'installationYymm': '2019-03', 'phoneNumber': '055-330-4741', 'latitude': '35.232047', 'longitude': '128.886201', 'referenceDate': '2019-06-26', 'insttCode': '5350000'}, {'institutionNm': '경상남도 김해시청', 'rdnmadr': 'null', 'lnmadr': '경상남도 김해시 부원동 169-6', 'installationPurpsType': '생활방범', 'cctvNumber': '3', 'cctvPixel': '200', 'potogrfInfo': '미진숯불갈비', 'cstdyDay': '30', 'installationYymm': '2019-10', 'phoneNumber': '055-330-4741', 'latitude': '35.22822376', 'longitude': '128.8927683', 'referenceDate': '2019-06-26', 'insttCode': '5350000'}, {'institutionNm': '경상남도 김해시청', 'rdnmadr': 'null', 'lnmadr': '경상남도 김해시 부원동 861-4', 'installationPurpsType': '생활방범', 'cctvNumber': '2', 'cctvPixel': '200', 'potogrfInfo': '한울빌', 'cstdyDay': '30', 'installationYymm': '2019-09', 'phoneNumber': '055-330-4741', 'latitude': '35.23016412', 'longitude': '128.881197', 'referenceDate': '2019-06-26', 'insttCode': '5350000'}]\n"
     ]
    }
   ],
   "source": [
    "## json을 DataFrame으로 변환하기 ##\n",
    "#문자열을 json으로 변경\n",
    "json_ob = json.loads(contents)\n",
    "print(type(json_ob)) #json타입 확인\n",
    "\n",
    "# 필요한 내용만 꺼내기\n",
    "body = json_ob['response']['body']['items']\n",
    "print(body)"
   ]
  },
  {
   "cell_type": "code",
   "execution_count": 88,
   "id": "2813001d-0563-494a-84c4-0bcabf96cc3c",
   "metadata": {},
   "outputs": [
    {
     "name": "stdout",
     "output_type": "stream",
     "text": [
      "  institutionNm rdnmadr                lnmadr installationPurpsType  \\\n",
      "0     경상남도 김해시청    null  경상남도 김해시 구산동 1072-19                  생활방범   \n",
      "1     경상남도 김해시청    null   경상남도 김해시 구산동 305-15                  생활방범   \n",
      "2     경상남도 김해시청    null  경상남도 김해시 삼계동 1484-14                  생활방범   \n",
      "3     경상남도 김해시청    null     경상남도 김해시 구산동 1043                  생활방범   \n",
      "4     경상남도 김해시청    null   경상남도 김해시 구산동 175-10                  생활방범   \n",
      "5     경상남도 김해시청    null      경상남도 김해시 부원동 663                  생활방범   \n",
      "6     경상남도 김해시청    null   경상남도 김해시 부원동 342-17                  생활방범   \n",
      "7     경상남도 김해시청    null     경상남도 김해시 부원동 36-1                  생활방범   \n",
      "8     경상남도 김해시청    null    경상남도 김해시 부원동 169-6                  생활방범   \n",
      "9     경상남도 김해시청    null    경상남도 김해시 부원동 861-4                  생활방범   \n",
      "\n",
      "  cctvNumber cctvPixel potogrfInfo cstdyDay installationYymm   phoneNumber  \\\n",
      "0          3       200       현대병원뒤       30          2019-11  055-330-4741   \n",
      "1          2       200       목화골공원       30          2019-12  055-330-4741   \n",
      "2          2       200        정원빌라       30          2019-06  055-330-4741   \n",
      "3          4       200       최가아구찜       30          2019-05  055-330-4741   \n",
      "4          2       200        동호맨션       30          2019-12  055-330-4741   \n",
      "5          3       200      김해시청뒷길       30          2019-05  055-330-4741   \n",
      "6          3       200      쇄내마을남쪽       30          2019-03  055-330-4741   \n",
      "7          3       200       김해중후문       30          2019-03  055-330-4741   \n",
      "8          3       200      미진숯불갈비       30          2019-10  055-330-4741   \n",
      "9          2       200         한울빌       30          2019-09  055-330-4741   \n",
      "\n",
      "      latitude    longitude referenceDate insttCode  \n",
      "0    35.249247   128.871639    2019-06-26   5350000  \n",
      "1    35.247411   128.873605    2019-06-26   5350000  \n",
      "2   35.2617277  128.8741435    2019-06-26   5350000  \n",
      "3    35.247076   128.872461    2019-06-26   5350000  \n",
      "4    35.241185  128.8773341    2019-06-26   5350000  \n",
      "5    35.228923   128.889096    2019-06-26   5350000  \n",
      "6  35.21492806   128.887706    2019-06-26   5350000  \n",
      "7    35.232047   128.886201    2019-06-26   5350000  \n",
      "8  35.22822376  128.8927683    2019-06-26   5350000  \n",
      "9  35.23016412   128.881197    2019-06-26   5350000  \n"
     ]
    },
    {
     "name": "stderr",
     "output_type": "stream",
     "text": [
      "<ipython-input-88-ac53431d1e9a>:5: FutureWarning: pandas.io.json.json_normalize is deprecated, use pandas.json_normalize instead\n",
      "  dataframe = json_normalize(body)\n"
     ]
    }
   ],
   "source": [
    "# pandas import\n",
    "import pandas as pd\n",
    "from pandas.io.json import json_normalize\n",
    "# Dataframe으로 만들기\n",
    "dataframe = json_normalize(body)\n",
    "\n",
    "print(dataframe)"
   ]
  }
 ],
 "metadata": {
  "kernelspec": {
   "display_name": "Python 3 (ipykernel)",
   "language": "python",
   "name": "python3"
  },
  "language_info": {
   "codemirror_mode": {
    "name": "ipython",
    "version": 3
   },
   "file_extension": ".py",
   "mimetype": "text/x-python",
   "name": "python",
   "nbconvert_exporter": "python",
   "pygments_lexer": "ipython3",
   "version": "3.10.6"
  }
 },
 "nbformat": 4,
 "nbformat_minor": 5
}
