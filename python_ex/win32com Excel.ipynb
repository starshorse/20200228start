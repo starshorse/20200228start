{
 "cells": [
  {
   "cell_type": "code",
   "execution_count": null,
   "id": "de6df3ce",
   "metadata": {},
   "outputs": [],
   "source": []
  },
  {
   "cell_type": "code",
   "execution_count": 1,
   "id": "837f232b",
   "metadata": {},
   "outputs": [],
   "source": [
    "import win32com.client"
   ]
  },
  {
   "cell_type": "code",
   "execution_count": 4,
   "id": "008d37e3",
   "metadata": {},
   "outputs": [
    {
     "data": {
      "text/plain": [
       "((34.0, 56.0, 78.0, 9999.0, 34.0),)"
      ]
     },
     "execution_count": 4,
     "metadata": {},
     "output_type": "execute_result"
    }
   ],
   "source": [
    "ExcelApp = win32com.client.gencache.EnsureDispatch(\"Excel.Application\")\n",
    "wrksht = ExcelApp.ActiveSheet \n",
    "data_list = wrksht.Range('A1:E1').Value\n",
    "data_list"
   ]
  },
  {
   "cell_type": "code",
   "execution_count": 3,
   "id": "9a80fe64",
   "metadata": {},
   "outputs": [
    {
     "name": "stdout",
     "output_type": "stream",
     "text": [
      "(34.0, 56.0, 78.0, 99.0, 34.0)\n"
     ]
    }
   ],
   "source": [
    "for cell_value in data_list:\n",
    "    print(cell_value)"
   ]
  }
 ],
 "metadata": {
  "kernelspec": {
   "display_name": "Python 3 (ipykernel)",
   "language": "python",
   "name": "python3"
  },
  "language_info": {
   "codemirror_mode": {
    "name": "ipython",
    "version": 3
   },
   "file_extension": ".py",
   "mimetype": "text/x-python",
   "name": "python",
   "nbconvert_exporter": "python",
   "pygments_lexer": "ipython3",
   "version": "3.10.6"
  }
 },
 "nbformat": 4,
 "nbformat_minor": 5
}
