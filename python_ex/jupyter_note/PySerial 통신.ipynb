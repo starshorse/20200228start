{
 "cells": [
  {
   "cell_type": "markdown",
   "id": "b41970f4",
   "metadata": {},
   "source": [
    "## PySerial 통신"
   ]
  },
  {
   "cell_type": "code",
   "execution_count": 1,
   "id": "7de8304e",
   "metadata": {},
   "outputs": [
    {
     "name": "stdout",
     "output_type": "stream",
     "text": [
      "Collecting pyserial\n",
      "  Downloading pyserial-3.5-py2.py3-none-any.whl (90 kB)\n",
      "     ---------------------------------------- 90.6/90.6 kB 5.4 MB/s eta 0:00:00\n",
      "Installing collected packages: pyserial\n",
      "Successfully installed pyserial-3.5\n"
     ]
    },
    {
     "name": "stderr",
     "output_type": "stream",
     "text": [
      "  WARNING: The scripts pyserial-miniterm.exe and pyserial-ports.exe are installed in 'C:\\Users\\rrr\\AppData\\Local\\Packages\\PythonSoftwareFoundation.Python.3.10_qbz5n2kfra8p0\\LocalCache\\local-packages\\Python310\\Scripts' which is not on PATH.\n",
      "  Consider adding this directory to PATH or, if you prefer to suppress this warning, use --no-warn-script-location.\n",
      "\n",
      "[notice] A new release of pip available: 22.2.1 -> 22.2.2\n",
      "[notice] To update, run: C:\\Users\\rrr\\AppData\\Local\\Microsoft\\WindowsApps\\PythonSoftwareFoundation.Python.3.10_qbz5n2kfra8p0\\python.exe -m pip install --upgrade pip\n"
     ]
    }
   ],
   "source": [
    "!pip3 install pyserial"
   ]
  },
  {
   "cell_type": "code",
   "execution_count": 2,
   "id": "d2f7f5f2",
   "metadata": {},
   "outputs": [],
   "source": [
    "import serial \n",
    "import threading \n",
    "import time "
   ]
  },
  {
   "cell_type": "code",
   "execution_count": 3,
   "id": "949bd564",
   "metadata": {},
   "outputs": [],
   "source": [
    "port = \"COM3\"\n",
    "baud = 38400\n",
    "ser = serial.Serial( port , baud , timeout = 1)"
   ]
  },
  {
   "cell_type": "code",
   "execution_count": 5,
   "id": "4e28336d",
   "metadata": {},
   "outputs": [
    {
     "name": "stdout",
     "output_type": "stream",
     "text": [
      "b''\n",
      "b''b''\n",
      "\n",
      "b''\n",
      "b''\n",
      "b''b''\n",
      "\n",
      "b''b''\n",
      "\n",
      "b'===============\\n'\n",
      "b'G De\\r\\n'\n",
      "b'=======================\\rPIOmo1  MU:A352x\\n'\n",
      "b'\\t-C  3G\\r-C: RCotex \\n'\n",
      "b'\\t  oreAM r-M3\\r\\t Cmicae :URT0-30 ps\\n'\n",
      "b'- omuntvia A  840b  IO Bnk\\n'\n",
      "b' GIO uP13\\n'\n",
      "b'\\r1.GPliy\\r2.PInpt \\r3 OEen npt\\n'\n",
      "b'========================\\n'\n",
      "b'G57]'\n",
      "b'.GPI xtralItu\\r================\\r[2#'\n",
      "b''b''\n",
      "\n",
      "b''b''\n",
      "\n",
      "b''b''\n",
      "\n",
      "b''b''\n",
      "\n",
      "b''b''\n",
      "\n",
      "b'================\\n'\n",
      "b'====================\\rGIOm1\\n'\n",
      "b'P Deo\\r-U  A32\\n'\n",
      "b'\\t-orA rxM \\n'\n",
      "b'\\t  MC:3G5x\\r  Ce: RMCote-3\\tCmnce i URT0-840p \\n'\n",
      "b'\\r OBk\\n'\n",
      "b'\\r - omuiatva:A  30 bs1.GPI liny\\r2. P Ipt \\n'\n",
      "b'GIOnuP13\\r IOxtenalIntut\\n'\n",
      "b'======================\\n'\n",
      "b'G2#'b'3.GP Er p\\r==================\\r[57]'\n",
      "\n",
      "b''b''\n",
      "\n",
      "b''b''\n",
      "\n",
      "b''b''\n",
      "\n",
      "b''b''\n",
      "\n",
      "b''b''\n",
      "\n",
      "b''b''\n",
      "\n",
      "b''b''\n",
      "\n",
      "b''\n",
      "b''\n",
      "b''b''\n",
      "\n",
      "b''b''\n",
      "\n",
      "b''b''\n",
      "\n",
      "b''b''\n",
      "\n",
      "b''b''\n",
      "\n",
      "b''b''\n",
      "\n",
      "b''\n",
      "b''\n",
      "b''\n",
      "b''\n",
      "b''b''\n",
      "\n",
      "b''\n",
      "b''\n",
      "b''b''\n",
      "\n",
      "b''b''\n",
      "\n",
      "b''b''\n",
      "\n"
     ]
    }
   ],
   "source": [
    "def main():\n",
    "    thread = threading.Thread( target = readthread, args = ( ser, ))\n",
    "    thread.start() \n",
    "    \n",
    "def readthread(ser):\n",
    "    while True:\n",
    "        if ser.readable():\n",
    "            res = ser.readline()\n",
    "            print(res)\n",
    "    ser.close()\n",
    " \n",
    "main()"
   ]
  },
  {
   "cell_type": "code",
   "execution_count": null,
   "id": "04aa056f",
   "metadata": {},
   "outputs": [],
   "source": []
  },
  {
   "cell_type": "code",
   "execution_count": null,
   "id": "89e1d184",
   "metadata": {},
   "outputs": [],
   "source": []
  },
  {
   "cell_type": "code",
   "execution_count": null,
   "id": "660fc929",
   "metadata": {},
   "outputs": [],
   "source": []
  },
  {
   "cell_type": "code",
   "execution_count": null,
   "id": "f7201173",
   "metadata": {},
   "outputs": [],
   "source": []
  },
  {
   "cell_type": "code",
   "execution_count": null,
   "id": "8130785a",
   "metadata": {},
   "outputs": [],
   "source": []
  },
  {
   "cell_type": "code",
   "execution_count": null,
   "id": "cb85f15a",
   "metadata": {},
   "outputs": [],
   "source": []
  },
  {
   "cell_type": "code",
   "execution_count": null,
   "id": "2558da25",
   "metadata": {},
   "outputs": [],
   "source": []
  },
  {
   "cell_type": "code",
   "execution_count": null,
   "id": "c5742c66",
   "metadata": {},
   "outputs": [],
   "source": []
  },
  {
   "cell_type": "code",
   "execution_count": null,
   "id": "8ada5f76",
   "metadata": {},
   "outputs": [],
   "source": []
  }
 ],
 "metadata": {
  "kernelspec": {
   "display_name": "Python 3 (ipykernel)",
   "language": "python",
   "name": "python3"
  },
  "language_info": {
   "codemirror_mode": {
    "name": "ipython",
    "version": 3
   },
   "file_extension": ".py",
   "mimetype": "text/x-python",
   "name": "python",
   "nbconvert_exporter": "python",
   "pygments_lexer": "ipython3",
   "version": "3.10.6"
  }
 },
 "nbformat": 4,
 "nbformat_minor": 5
}
