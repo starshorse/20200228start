{
 "cells": [
  {
   "cell_type": "markdown",
   "id": "3f98f11e",
   "metadata": {},
   "source": [
    "# Chrome 동작 Test"
   ]
  },
  {
   "cell_type": "markdown",
   "id": "0f794838",
   "metadata": {},
   "source": [
    "### Chrome  Chrome가 자동화 테스트 소프트웨어의 제어를 받고 있습니다"
   ]
  },
  {
   "cell_type": "code",
   "execution_count": 14,
   "id": "f9bd5b61",
   "metadata": {},
   "outputs": [],
   "source": [
    "import chromedriver_autoinstaller as chromedriver \n",
    "from selenium import webdriver\n",
    "from selenium.webdriver.common.by import By\n",
    "chromedriver.install()\n",
    "\n",
    "# selenumu insstaller \n",
    "#driver = webdriver.Chrome('./chromedriver') \n",
    "driver = webdriver.Chrome()"
   ]
  },
  {
   "cell_type": "code",
   "execution_count": 15,
   "id": "cac32fb1",
   "metadata": {},
   "outputs": [],
   "source": [
    "option = webdriver.ChromeOptions()\n",
    "option.add_experimental_option(\"useAutomationExtension\", False)\n",
    "option.add_experimental_option(\"excludeSwitches\", ['enable-automation'])\n",
    "#browser = webdriver.Chrome(executable_path='./chromedriver', chrome_options=option)\n",
    "browser = webdriver.Chrome(options=option)"
   ]
  },
  {
   "cell_type": "markdown",
   "id": "fb0c1a94",
   "metadata": {},
   "source": [
    "### 여기까지  Chrome init with browser "
   ]
  },
  {
   "cell_type": "code",
   "execution_count": 16,
   "id": "9a757335",
   "metadata": {},
   "outputs": [],
   "source": [
    "browser.get('http://ezoffice365.com')"
   ]
  },
  {
   "cell_type": "code",
   "execution_count": 20,
   "id": "6b2b08c2",
   "metadata": {},
   "outputs": [],
   "source": [
    "from selenium.webdriver.common.by import By\n",
    "elem = browser.find_element(\"id\", 'email_address')\n",
    "elem.send_keys('star_horse@naver.com')\n",
    "elem = browser.find_element(\"id\", 'password')\n",
    "elem.send_keys('ch1w')\n",
    "elem = browser.find_element(\"xpath\",'/html/body/div/my-login/main/div/div/div/div/div[2]/form/div[4]/button')\n",
    "#elem = browser.find_element( By.LINK_TEXT, \"Login\")\n",
    "elem.click()"
   ]
  },
  {
   "cell_type": "markdown",
   "id": "cc6711b0",
   "metadata": {},
   "source": [
    "## 앞에 테스트 한것을 한번에 묶어서 동작시킨다."
   ]
  },
  {
   "cell_type": "code",
   "execution_count": 28,
   "id": "55187a07",
   "metadata": {},
   "outputs": [],
   "source": [
    "from selenium import webdriver\n",
    "from selenium.webdriver.common.by import By\n",
    "from selenium.webdriver.common.action_chains import ActionChains \n",
    "\n",
    "option = webdriver.ChromeOptions()\n",
    "option.add_experimental_option(\"useAutomationExtension\", False)\n",
    "option.add_experimental_option(\"excludeSwitches\", ['enable-automation'])\n",
    "#browser = webdriver.Chrome(executable_path='./chromedriver', chrome_options=option)\n",
    "driver = webdriver.Chrome(options=option)"
   ]
  },
  {
   "cell_type": "code",
   "execution_count": 29,
   "id": "16c28af6",
   "metadata": {},
   "outputs": [],
   "source": [
    "driver.get('http://ezoffice365.com')\n",
    "elem1 = driver.find_element(\"id\", 'email_address')\n",
    "elem2 = driver.find_element(\"id\", 'password')\n",
    "elem3 = driver.find_element(\"xpath\",'/html/body/div/my-login/main/div/div/div/div/div[2]/form/div[4]/button')\n",
    "# ActionChains(driver).move_to_element(elem3).click()\n",
    "ActionChains(driver).move_to_element(elem1).send_keys('star_horse@naver.com').move_to_element(elem2).click().send_keys('ch1whdrb').move_to_element(elem3).click().perform()\n"
   ]
  },
  {
   "cell_type": "code",
   "execution_count": 32,
   "id": "635d429b",
   "metadata": {},
   "outputs": [
    {
     "ename": "StaleElementReferenceException",
     "evalue": "Message: stale element reference: stale element not found\n  (Session info: chrome=122.0.6261.131); For documentation on this error, please visit: https://www.selenium.dev/documentation/webdriver/troubleshooting/errors#stale-element-reference-exception\nStacktrace:\n\tGetHandleVerifier [0x008D8D03+51395]\n\t(No symbol) [0x00845F61]\n\t(No symbol) [0x006FE13A]\n\t(No symbol) [0x00709DA9]\n\t(No symbol) [0x00702DD1]\n\t(No symbol) [0x007014D5]\n\t(No symbol) [0x00703E69]\n\t(No symbol) [0x00703F00]\n\t(No symbol) [0x0073B0F6]\n\t(No symbol) [0x0073A827]\n\t(No symbol) [0x00770642]\n\t(No symbol) [0x00753E8C]\n\t(No symbol) [0x0076A570]\n\t(No symbol) [0x00753C26]\n\t(No symbol) [0x0072C629]\n\t(No symbol) [0x0072D40D]\n\tGetHandleVerifier [0x00C568D3+3712147]\n\tGetHandleVerifier [0x00C95CBA+3971194]\n\tGetHandleVerifier [0x00C90FA8+3951464]\n\tGetHandleVerifier [0x00989D09+776393]\n\t(No symbol) [0x00851734]\n\t(No symbol) [0x0084C618]\n\t(No symbol) [0x0084C7C9]\n\t(No symbol) [0x0083DDF0]\n\tBaseThreadInitThunk [0x74F5FCC9+25]\n\tRtlGetAppContainerNamedObjectPath [0x76F87C5E+286]\n\tRtlGetAppContainerNamedObjectPath [0x76F87C2E+238]\n",
     "output_type": "error",
     "traceback": [
      "\u001b[1;31m---------------------------------------------------------------------------\u001b[0m",
      "\u001b[1;31mStaleElementReferenceException\u001b[0m            Traceback (most recent call last)",
      "Cell \u001b[1;32mIn[32], line 1\u001b[0m\n\u001b[1;32m----> 1\u001b[0m \u001b[43mActionChains\u001b[49m\u001b[43m(\u001b[49m\u001b[43mdriver\u001b[49m\u001b[43m)\u001b[49m\u001b[38;5;241;43m.\u001b[39;49m\u001b[43mmove_to_element\u001b[49m\u001b[43m(\u001b[49m\u001b[43melem3\u001b[49m\u001b[43m)\u001b[49m\u001b[38;5;241;43m.\u001b[39;49m\u001b[43mclick\u001b[49m\u001b[43m(\u001b[49m\u001b[43m)\u001b[49m\u001b[38;5;241;43m.\u001b[39;49m\u001b[43mperform\u001b[49m\u001b[43m(\u001b[49m\u001b[43m)\u001b[49m\n",
      "File \u001b[1;32mc:\\python38\\lib\\site-packages\\selenium\\webdriver\\common\\action_chains.py:94\u001b[0m, in \u001b[0;36mActionChains.perform\u001b[1;34m(self)\u001b[0m\n\u001b[0;32m     92\u001b[0m \u001b[38;5;28;01mdef\u001b[39;00m \u001b[38;5;21mperform\u001b[39m(\u001b[38;5;28mself\u001b[39m) \u001b[38;5;241m-\u001b[39m\u001b[38;5;241m>\u001b[39m \u001b[38;5;28;01mNone\u001b[39;00m:\n\u001b[0;32m     93\u001b[0m \u001b[38;5;250m    \u001b[39m\u001b[38;5;124;03m\"\"\"Performs all stored actions.\"\"\"\u001b[39;00m\n\u001b[1;32m---> 94\u001b[0m     \u001b[38;5;28;43mself\u001b[39;49m\u001b[38;5;241;43m.\u001b[39;49m\u001b[43mw3c_actions\u001b[49m\u001b[38;5;241;43m.\u001b[39;49m\u001b[43mperform\u001b[49m\u001b[43m(\u001b[49m\u001b[43m)\u001b[49m\n",
      "File \u001b[1;32mc:\\python38\\lib\\site-packages\\selenium\\webdriver\\common\\actions\\action_builder.py:96\u001b[0m, in \u001b[0;36mActionBuilder.perform\u001b[1;34m(self)\u001b[0m\n\u001b[0;32m     94\u001b[0m         enc[\u001b[38;5;124m\"\u001b[39m\u001b[38;5;124mactions\u001b[39m\u001b[38;5;124m\"\u001b[39m]\u001b[38;5;241m.\u001b[39mappend(encoded)\n\u001b[0;32m     95\u001b[0m         device\u001b[38;5;241m.\u001b[39mactions \u001b[38;5;241m=\u001b[39m []\n\u001b[1;32m---> 96\u001b[0m \u001b[38;5;28;43mself\u001b[39;49m\u001b[38;5;241;43m.\u001b[39;49m\u001b[43mdriver\u001b[49m\u001b[38;5;241;43m.\u001b[39;49m\u001b[43mexecute\u001b[49m\u001b[43m(\u001b[49m\u001b[43mCommand\u001b[49m\u001b[38;5;241;43m.\u001b[39;49m\u001b[43mW3C_ACTIONS\u001b[49m\u001b[43m,\u001b[49m\u001b[43m \u001b[49m\u001b[43menc\u001b[49m\u001b[43m)\u001b[49m\n",
      "File \u001b[1;32mc:\\python38\\lib\\site-packages\\selenium\\webdriver\\remote\\webdriver.py:347\u001b[0m, in \u001b[0;36mWebDriver.execute\u001b[1;34m(self, driver_command, params)\u001b[0m\n\u001b[0;32m    345\u001b[0m response \u001b[38;5;241m=\u001b[39m \u001b[38;5;28mself\u001b[39m\u001b[38;5;241m.\u001b[39mcommand_executor\u001b[38;5;241m.\u001b[39mexecute(driver_command, params)\n\u001b[0;32m    346\u001b[0m \u001b[38;5;28;01mif\u001b[39;00m response:\n\u001b[1;32m--> 347\u001b[0m     \u001b[38;5;28;43mself\u001b[39;49m\u001b[38;5;241;43m.\u001b[39;49m\u001b[43merror_handler\u001b[49m\u001b[38;5;241;43m.\u001b[39;49m\u001b[43mcheck_response\u001b[49m\u001b[43m(\u001b[49m\u001b[43mresponse\u001b[49m\u001b[43m)\u001b[49m\n\u001b[0;32m    348\u001b[0m     response[\u001b[38;5;124m\"\u001b[39m\u001b[38;5;124mvalue\u001b[39m\u001b[38;5;124m\"\u001b[39m] \u001b[38;5;241m=\u001b[39m \u001b[38;5;28mself\u001b[39m\u001b[38;5;241m.\u001b[39m_unwrap_value(response\u001b[38;5;241m.\u001b[39mget(\u001b[38;5;124m\"\u001b[39m\u001b[38;5;124mvalue\u001b[39m\u001b[38;5;124m\"\u001b[39m, \u001b[38;5;28;01mNone\u001b[39;00m))\n\u001b[0;32m    349\u001b[0m     \u001b[38;5;28;01mreturn\u001b[39;00m response\n",
      "File \u001b[1;32mc:\\python38\\lib\\site-packages\\selenium\\webdriver\\remote\\errorhandler.py:229\u001b[0m, in \u001b[0;36mErrorHandler.check_response\u001b[1;34m(self, response)\u001b[0m\n\u001b[0;32m    227\u001b[0m         alert_text \u001b[38;5;241m=\u001b[39m value[\u001b[38;5;124m\"\u001b[39m\u001b[38;5;124malert\u001b[39m\u001b[38;5;124m\"\u001b[39m]\u001b[38;5;241m.\u001b[39mget(\u001b[38;5;124m\"\u001b[39m\u001b[38;5;124mtext\u001b[39m\u001b[38;5;124m\"\u001b[39m)\n\u001b[0;32m    228\u001b[0m     \u001b[38;5;28;01mraise\u001b[39;00m exception_class(message, screen, stacktrace, alert_text)  \u001b[38;5;66;03m# type: ignore[call-arg]  # mypy is not smart enough here\u001b[39;00m\n\u001b[1;32m--> 229\u001b[0m \u001b[38;5;28;01mraise\u001b[39;00m exception_class(message, screen, stacktrace)\n",
      "\u001b[1;31mStaleElementReferenceException\u001b[0m: Message: stale element reference: stale element not found\n  (Session info: chrome=122.0.6261.131); For documentation on this error, please visit: https://www.selenium.dev/documentation/webdriver/troubleshooting/errors#stale-element-reference-exception\nStacktrace:\n\tGetHandleVerifier [0x008D8D03+51395]\n\t(No symbol) [0x00845F61]\n\t(No symbol) [0x006FE13A]\n\t(No symbol) [0x00709DA9]\n\t(No symbol) [0x00702DD1]\n\t(No symbol) [0x007014D5]\n\t(No symbol) [0x00703E69]\n\t(No symbol) [0x00703F00]\n\t(No symbol) [0x0073B0F6]\n\t(No symbol) [0x0073A827]\n\t(No symbol) [0x00770642]\n\t(No symbol) [0x00753E8C]\n\t(No symbol) [0x0076A570]\n\t(No symbol) [0x00753C26]\n\t(No symbol) [0x0072C629]\n\t(No symbol) [0x0072D40D]\n\tGetHandleVerifier [0x00C568D3+3712147]\n\tGetHandleVerifier [0x00C95CBA+3971194]\n\tGetHandleVerifier [0x00C90FA8+3951464]\n\tGetHandleVerifier [0x00989D09+776393]\n\t(No symbol) [0x00851734]\n\t(No symbol) [0x0084C618]\n\t(No symbol) [0x0084C7C9]\n\t(No symbol) [0x0083DDF0]\n\tBaseThreadInitThunk [0x74F5FCC9+25]\n\tRtlGetAppContainerNamedObjectPath [0x76F87C5E+286]\n\tRtlGetAppContainerNamedObjectPath [0x76F87C2E+238]\n"
     ]
    }
   ],
   "source": [
    "ActionChains(driver).move_to_element(elem3).click().perform()"
   ]
  },
  {
   "cell_type": "markdown",
   "id": "f074c870",
   "metadata": {},
   "source": [
    "# Local File Loding "
   ]
  },
  {
   "cell_type": "markdown",
   "id": "f43db5d2",
   "metadata": {},
   "source": [
    "### local File load 테스트 ( file load and selenium ) "
   ]
  },
  {
   "cell_type": "code",
   "execution_count": 43,
   "id": "a8b91a16",
   "metadata": {},
   "outputs": [],
   "source": [
    "#browser.get('file:///H:/githubDn/20200228start/python_ex/test_html.html')\n",
    "from selenium import webdriver \n",
    "from selenium.webdriver.common.by import By \n",
    "import os , sys \n",
    "from os import listdir \n",
    "from os.path import join , isfile , isdir \n",
    "\n",
    "\n",
    "#dir_path = os.path.dirname( os.path.realpath( __file__ ))\n",
    "dir_path = os.path.dirname( os.path.abspath(''))\n",
    "dir_file_path = os.path.join( dir_path, 'test_html.html')\n",
    "dir_file_path\n",
    "\n",
    "browser = webdriver.Chrome()\n",
    "browser.get(f'file:///{ dir_file_path }')"
   ]
  },
  {
   "cell_type": "markdown",
   "id": "42040ce4",
   "metadata": {},
   "source": [
    "### local File load ans scripting automoation "
   ]
  },
  {
   "cell_type": "code",
   "execution_count": 51,
   "id": "ed5180c8",
   "metadata": {},
   "outputs": [],
   "source": [
    "from selenium import webdriver \n",
    "from selenium.webdriver.common.action_chains import ActionChains\n",
    "from selenium.webdriver.common.alert         import Alert\n",
    "from selenium.webdriver.support              import expected_conditions as EC\n",
    "from selenium.webdriver.support.ui           import WebDriverWait\n",
    "\n",
    "\n",
    "option = webdriver.ChromeOptions()\n",
    "option.add_experimental_option(\"useAutomationExtension\", False)\n",
    "option.add_experimental_option(\"excludeSwitches\", ['enable-automation'])\n",
    "browser = webdriver.Chrome( options=option )"
   ]
  },
  {
   "cell_type": "markdown",
   "id": "0dd601ec",
   "metadata": {},
   "source": [
    "### ActionChanins -  multi window Handling "
   ]
  },
  {
   "cell_type": "code",
   "execution_count": 52,
   "id": "50105e52",
   "metadata": {},
   "outputs": [
    {
     "data": {
      "text/plain": [
       "'EZ Office'"
      ]
     },
     "execution_count": 52,
     "metadata": {},
     "output_type": "execute_result"
    }
   ],
   "source": [
    "import os , sys \n",
    "from os.path import join \n",
    "from time import sleep \n",
    "\n",
    "dir_path = os.path.dirname( os.path.abspath(''))\n",
    "dir_file_path = os.path.join( dir_path , 'test_html.html')\n",
    "\n",
    "#browser.get('file:///H:/githubDn/20200228start/python_ex/test_html.html')\n",
    "browser.get(f'file:///{ dir_file_path  }')\n",
    "wait = WebDriverWait(browser, 10)\n",
    "element = wait.until(EC.element_to_be_clickable((By.ID, 'id')))\n",
    "elem_pw = browser.find_element('id', 'password')\n",
    "elem_submit = browser.find_element('id','submit')\n",
    "\n",
    "########################################################################################\n",
    "#  ActionChains \n",
    "########################################################################################\n",
    "link_win = browser.find_element(By.LINK_TEXT,'Login')\n",
    "ActionChains(browser).move_to_element(element).click(element).send_keys('star_horse@naver.com').perform()\n",
    "ActionChains(browser).move_to_element(elem_pw).click(elem_pw).send_keys('ch1whdrb').perform()\n",
    "ActionChains(browser).move_to_element(elem_submit).click(elem_submit).perform()\n",
    "\n",
    "alert = Alert(browser)\n",
    "sleep(3)\n",
    "alert.dismiss()\n",
    "########################################################################################\n",
    "#  windows handlingn\n",
    "########################################################################################\n",
    "link_win = browser.find_element(By.LINK_TEXT,'Login')\n",
    "link_win.click() \n",
    "wins = browser.window_handles\n",
    "browser.switch_to.window( wins[1])\n",
    "browser.title \n",
    "# input()\n"
   ]
  },
  {
   "cell_type": "code",
   "execution_count": 53,
   "id": "01026178",
   "metadata": {},
   "outputs": [],
   "source": [
    "driver = browser \n",
    "elem1 = driver.find_element(\"id\", 'email_address')\n",
    "elem2 = driver.find_element(\"id\", 'password')\n",
    "elem3 = driver.find_element(\"xpath\",'/html/body/div/my-login/main/div/div/div/div/div[2]/form/div[4]/button')\n",
    "# ActionChains(driver).move_to_element(elem3).click()\n",
    "ActionChains(driver).move_to_element(elem1).send_keys('star_horse@naver.com').move_to_element(elem2).click().send_keys('ch1whdrb').move_to_element(elem3).click().perform()\n"
   ]
  },
  {
   "cell_type": "code",
   "execution_count": null,
   "id": "0ddfafbf",
   "metadata": {},
   "outputs": [],
   "source": []
  }
 ],
 "metadata": {
  "kernelspec": {
   "display_name": "Python 3 (ipykernel)",
   "language": "python",
   "name": "python3"
  },
  "language_info": {
   "codemirror_mode": {
    "name": "ipython",
    "version": 3
   },
   "file_extension": ".py",
   "mimetype": "text/x-python",
   "name": "python",
   "nbconvert_exporter": "python",
   "pygments_lexer": "ipython3",
   "version": "3.8.7"
  }
 },
 "nbformat": 4,
 "nbformat_minor": 5
}
