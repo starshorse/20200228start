{
 "cells": [
  {
   "cell_type": "markdown",
   "id": "751ef225",
   "metadata": {},
   "source": [
    "## checkList Excel file open "
   ]
  },
  {
   "cell_type": "code",
   "execution_count": 26,
   "id": "d660abf1",
   "metadata": {},
   "outputs": [],
   "source": [
    "import openpyxl \n",
    "from openpyxl import load_workbook , workbook \n",
    "from datetime import datetime as dt"
   ]
  },
  {
   "cell_type": "code",
   "execution_count": 27,
   "id": "dd2741f7",
   "metadata": {},
   "outputs": [],
   "source": [
    "myfile = 'A31M223_응용 평가 항목 check List(FPGA)_new.xlsx'\n",
    "tg_xlsx = load_workbook( myfile)\n",
    "sheet = tg_xlsx['1. A31M223 FPGA AE CheckList']"
   ]
  },
  {
   "cell_type": "code",
   "execution_count": 28,
   "id": "aebfb2d7",
   "metadata": {},
   "outputs": [
    {
     "name": "stdout",
     "output_type": "stream",
     "text": [
      "1~5 항목을 입력하세요:3\n"
     ]
    }
   ],
   "source": [
    "cells_list = ['N14','N15','N16','N17','N18']\n",
    "indx = input('1~5 항목을 입력하세요:')\n",
    "cell_address = cells_list[ int(indx) - 1 ]\n",
    "now = dt.now()\n",
    "sheet[cell_address]= f'OK [{ now }]' "
   ]
  },
  {
   "cell_type": "code",
   "execution_count": null,
   "id": "ec595576",
   "metadata": {},
   "outputs": [],
   "source": []
  },
  {
   "cell_type": "code",
   "execution_count": null,
   "id": "ebc5b51c",
   "metadata": {},
   "outputs": [],
   "source": []
  },
  {
   "cell_type": "code",
   "execution_count": 6,
   "id": "c71f6026",
   "metadata": {},
   "outputs": [
    {
     "name": "stdout",
     "output_type": "stream",
     "text": [
      "1-1\n"
     ]
    }
   ],
   "source": [
    "print( sheet['F14'].value )"
   ]
  },
  {
   "cell_type": "code",
   "execution_count": 18,
   "id": "2ecc8fe6",
   "metadata": {},
   "outputs": [
    {
     "name": "stdout",
     "output_type": "stream",
     "text": [
      "2022-09-03 21:54:16.165737\n"
     ]
    }
   ],
   "source": [
    "now = dt.now()\n",
    "print( now )\n",
    "sheet['N14']= f'OK [{ now }]' "
   ]
  },
  {
   "cell_type": "code",
   "execution_count": 19,
   "id": "8b92648f",
   "metadata": {},
   "outputs": [
    {
     "name": "stdout",
     "output_type": "stream",
     "text": [
      "OK [2022-09-03 21:54:16.165737]\n"
     ]
    }
   ],
   "source": [
    "print( sheet['N14'].value)"
   ]
  },
  {
   "cell_type": "code",
   "execution_count": null,
   "id": "4694e721",
   "metadata": {},
   "outputs": [],
   "source": []
  },
  {
   "cell_type": "code",
   "execution_count": null,
   "id": "ea3a7488",
   "metadata": {},
   "outputs": [],
   "source": []
  },
  {
   "cell_type": "code",
   "execution_count": null,
   "id": "d25cf7ae",
   "metadata": {},
   "outputs": [],
   "source": []
  },
  {
   "cell_type": "code",
   "execution_count": 7,
   "id": "c1af817f",
   "metadata": {},
   "outputs": [
    {
     "name": "stdout",
     "output_type": "stream",
     "text": [
      "Select Data1\n",
      "1-1\n",
      "\n",
      "SystemCoreClock : 48MHz\n",
      "\n",
      "\n",
      "\n",
      "result : OK\n",
      "\n",
      "Select Data2\n",
      ">1-2\n",
      "\n",
      "1-2. Debugger Test\n",
      "\n",
      "result : OK\n",
      "\n",
      "Select Dataq\n"
     ]
    }
   ],
   "source": [
    "import openpyxl \n",
    "from openpyxl import load_workbook , workbook \n",
    "from datetime import datetime as dt\n",
    "import serial \n",
    "\n",
    "myfile = 'A31M223_응용 평가 항목 check List(FPGA)_new.xlsx'\n",
    "tg_xlsx = load_workbook( myfile)\n",
    "sheet = tg_xlsx['1. A31M223 FPGA AE CheckList']\n",
    "cells_list = ['N14','N15','N16','N17','N18']\n",
    "\n",
    "port = \"COM4\"\n",
    "baud = 38400\n",
    "ser = serial.Serial( port , baud , timeout = 1)\n",
    "\n",
    "try:\n",
    "    while True:\n",
    "        data = input('Select Data')\n",
    "        if data == 'q':\n",
    "            tg_xlsx.save('test.xlsx')\n",
    "            ser.close()\n",
    "            break\n",
    "        ser.write(data.encode('euc-kr'))\n",
    "        while True:\n",
    "            if ser.readable():\n",
    "                res_b = ser.readline()\n",
    "                res = res_b.decode('euc-kr')\n",
    "                print(res)\n",
    "                if res.find('result') != -1:\n",
    "                    cell_address = cells_list[ int(data) - 1 ]\n",
    "                    now = dt.now()\n",
    "                    sheet[cell_address]= f'OK [{ now }]' \n",
    "                    break\n",
    "\n",
    "except KeyboardInterrupt:\n",
    "    pass"
   ]
  },
  {
   "cell_type": "code",
   "execution_count": 8,
   "id": "c076ac04",
   "metadata": {},
   "outputs": [
    {
     "name": "stdout",
     "output_type": "stream",
     "text": [
      "1-1\r\n",
      "\n",
      "SystemCoreClock : 48MHz\r\n",
      "\n",
      "\n",
      "\n",
      "\r",
      "result : OK\r\n",
      "\n",
      ">1-2\r\n",
      "\n",
      "1-2. Debugger Test\n",
      "\n",
      "\r",
      "result : OK\r\n",
      "\n"
     ]
    }
   ],
   "source": [
    "import openpyxl \n",
    "from openpyxl import load_workbook , workbook \n",
    "from datetime import datetime as dt\n",
    "import serial \n",
    "\n",
    "myfile = 'A31M223_응용 평가 항목 check List(FPGA)_new.xlsx'\n",
    "tg_xlsx = load_workbook( myfile)\n",
    "sheet = tg_xlsx['1. A31M223 FPGA AE CheckList']\n",
    "cells_list = ['N14','N15','N16','N17','N18']\n",
    "\n",
    "port = \"COM4\"\n",
    "# port = \"COM3\"\n",
    "baud = 38400\n",
    "ser = serial.Serial( port , baud , timeout = 1)\n",
    "test_items = ['1','2']\n",
    "\n",
    "try:\n",
    "    for value in test_items: \n",
    "        ser.write(value.encode('euc-kr'))\n",
    "        while True:\n",
    "            if ser.readable():\n",
    "                res_b = ser.readline()\n",
    "                res = res_b.decode('euc-kr')\n",
    "                print(res)\n",
    "                if res.find('result') != -1:\n",
    "                    cell_address = cells_list[ int(value) - 1 ]\n",
    "                    now = dt.now()\n",
    "                    sheet[cell_address]= f'OK [{ now }]' \n",
    "                    break\n",
    "    tg_xlsx.save('test.xlsx')             \n",
    "except KeyboardInterrupt:\n",
    "    pass"
   ]
  },
  {
   "cell_type": "code",
   "execution_count": 29,
   "id": "560703bb",
   "metadata": {},
   "outputs": [],
   "source": [
    "tg_xlsx.save('test.xlsx')"
   ]
  },
  {
   "cell_type": "code",
   "execution_count": null,
   "id": "2f90014a",
   "metadata": {},
   "outputs": [],
   "source": []
  },
  {
   "cell_type": "code",
   "execution_count": null,
   "id": "a24821aa",
   "metadata": {},
   "outputs": [],
   "source": []
  },
  {
   "cell_type": "code",
   "execution_count": null,
   "id": "18745d59",
   "metadata": {},
   "outputs": [],
   "source": []
  },
  {
   "cell_type": "code",
   "execution_count": null,
   "id": "4e5fbc42",
   "metadata": {},
   "outputs": [],
   "source": []
  },
  {
   "cell_type": "code",
   "execution_count": null,
   "id": "c4b0dfc6",
   "metadata": {},
   "outputs": [],
   "source": []
  }
 ],
 "metadata": {
  "kernelspec": {
   "display_name": "Python 3 (ipykernel)",
   "language": "python",
   "name": "python3"
  },
  "language_info": {
   "codemirror_mode": {
    "name": "ipython",
    "version": 3
   },
   "file_extension": ".py",
   "mimetype": "text/x-python",
   "name": "python",
   "nbconvert_exporter": "python",
   "pygments_lexer": "ipython3",
   "version": "3.10.6"
  }
 },
 "nbformat": 4,
 "nbformat_minor": 5
}
