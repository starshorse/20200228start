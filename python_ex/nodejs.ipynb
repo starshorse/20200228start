{
 "cells": [
  {
   "cell_type": "code",
   "execution_count": 1,
   "id": "30de8b57",
   "metadata": {},
   "outputs": [
    {
     "name": "stdout",
     "output_type": "stream",
     "text": [
      "Pixiedust database opened successfully\n",
      "Table VERSION_TRACKER created successfully\n",
      "Table METRICS_TRACKER created successfully\n",
      "\n",
      "Share anonymous install statistics? (opt-out instructions)\n",
      "\n",
      "PixieDust will record metadata on its environment the next time the package is installed or updated. The data is anonymized and aggregated to help plan for future releases, and records only the following values:\n",
      "\n",
      "{\n",
      "   \"data_sent\": currentDate,\n",
      "   \"runtime\": \"python\",\n",
      "   \"application_version\": currentPixiedustVersion,\n",
      "   \"space_id\": nonIdentifyingUniqueId,\n",
      "   \"config\": {\n",
      "       \"repository_id\": \"https://github.com/ibm-watson-data-lab/pixiedust\",\n",
      "       \"target_runtimes\": [\"Data Science Experience\"],\n",
      "       \"event_id\": \"web\",\n",
      "       \"event_organizer\": \"dev-journeys\"\n",
      "   }\n",
      "}\n",
      "You can opt out by calling pixiedust.optOut() in a new cell.\n"
     ]
    },
    {
     "data": {
      "text/html": [
       "\n",
       "        <div style=\"margin:10px\">\n",
       "            <a href=\"https://github.com/ibm-watson-data-lab/pixiedust\" target=\"_new\">\n",
       "                <img src=\"https://github.com/ibm-watson-data-lab/pixiedust/raw/master/docs/_static/pd_icon32.png\" style=\"float:left;margin-right:10px\"/>\n",
       "            </a>\n",
       "            <span>Pixiedust version 1.1.19</span>\n",
       "        </div>\n",
       "        "
      ],
      "text/plain": [
       "<IPython.core.display.HTML object>"
      ]
     },
     "metadata": {},
     "output_type": "display_data"
    },
    {
     "name": "stdout",
     "output_type": "stream",
     "text": [
      "\u001b[31mPixiedust runtime updated. Please restart kernel\u001b[0m\n"
     ]
    },
    {
     "ename": "AttributeError",
     "evalue": "module 'jinja2.ext' has no attribute 'with_'",
     "output_type": "error",
     "traceback": [
      "\u001b[1;31m---------------------------------------------------------------------------\u001b[0m",
      "\u001b[1;31mAttributeError\u001b[0m                            Traceback (most recent call last)",
      "Input \u001b[1;32mIn [1]\u001b[0m, in \u001b[0;36m<cell line: 1>\u001b[1;34m()\u001b[0m\n\u001b[1;32m----> 1\u001b[0m \u001b[38;5;28;01mimport\u001b[39;00m \u001b[38;5;21;01mpixiedust_node\u001b[39;00m\n",
      "File \u001b[1;32m~\\AppData\\Local\\Programs\\Python\\Python38\\lib\\site-packages\\pixiedust_node\\__init__.py:21\u001b[0m, in \u001b[0;36m<module>\u001b[1;34m\u001b[0m\n\u001b[0;32m     19\u001b[0m \u001b[38;5;28;01mfrom\u001b[39;00m \u001b[38;5;21;01mIPython\u001b[39;00m\u001b[38;5;21;01m.\u001b[39;00m\u001b[38;5;21;01mcore\u001b[39;00m\u001b[38;5;21;01m.\u001b[39;00m\u001b[38;5;21;01merror\u001b[39;00m \u001b[38;5;28;01mimport\u001b[39;00m TryNext\n\u001b[0;32m     20\u001b[0m \u001b[38;5;28;01mimport\u001b[39;00m \u001b[38;5;21;01mwarnings\u001b[39;00m\n\u001b[1;32m---> 21\u001b[0m \u001b[38;5;28;01mfrom\u001b[39;00m \u001b[38;5;21;01m.\u001b[39;00m\u001b[38;5;21;01mnode\u001b[39;00m \u001b[38;5;28;01mimport\u001b[39;00m Node, Npm\n\u001b[0;32m     22\u001b[0m \u001b[38;5;28;01mimport\u001b[39;00m \u001b[38;5;21;01mos\u001b[39;00m\n\u001b[0;32m     23\u001b[0m \u001b[38;5;28;01mfrom\u001b[39;00m \u001b[38;5;21;01mpixiedust\u001b[39;00m\u001b[38;5;21;01m.\u001b[39;00m\u001b[38;5;21;01mutils\u001b[39;00m\u001b[38;5;21;01m.\u001b[39;00m\u001b[38;5;21;01mshellAccess\u001b[39;00m \u001b[38;5;28;01mimport\u001b[39;00m ShellAccess\n",
      "File \u001b[1;32m~\\AppData\\Local\\Programs\\Python\\Python38\\lib\\site-packages\\pixiedust_node\\node.py:13\u001b[0m, in \u001b[0;36m<module>\u001b[1;34m\u001b[0m\n\u001b[0;32m     11\u001b[0m \u001b[38;5;28;01mimport\u001b[39;00m \u001b[38;5;21;01mIPython\u001b[39;00m\n\u001b[0;32m     12\u001b[0m \u001b[38;5;28;01mimport\u001b[39;00m \u001b[38;5;21;01mpandas\u001b[39;00m\n\u001b[1;32m---> 13\u001b[0m \u001b[38;5;28;01mfrom\u001b[39;00m \u001b[38;5;21;01mpixiedust\u001b[39;00m\u001b[38;5;21;01m.\u001b[39;00m\u001b[38;5;21;01mdisplay\u001b[39;00m \u001b[38;5;28;01mimport\u001b[39;00m display\n\u001b[0;32m     14\u001b[0m \u001b[38;5;28;01mfrom\u001b[39;00m \u001b[38;5;21;01mpixiedust\u001b[39;00m\u001b[38;5;21;01m.\u001b[39;00m\u001b[38;5;21;01mutils\u001b[39;00m\u001b[38;5;21;01m.\u001b[39;00m\u001b[38;5;21;01menvironment\u001b[39;00m \u001b[38;5;28;01mimport\u001b[39;00m Environment\n\u001b[0;32m     15\u001b[0m \u001b[38;5;28;01mfrom\u001b[39;00m \u001b[38;5;21;01mpixiedust\u001b[39;00m\u001b[38;5;21;01m.\u001b[39;00m\u001b[38;5;21;01mutils\u001b[39;00m\u001b[38;5;21;01m.\u001b[39;00m\u001b[38;5;21;01mshellAccess\u001b[39;00m \u001b[38;5;28;01mimport\u001b[39;00m ShellAccess\n",
      "File \u001b[1;32m~\\AppData\\Local\\Programs\\Python\\Python38\\lib\\site-packages\\pixiedust\\__init__.py:59\u001b[0m, in \u001b[0;36m<module>\u001b[1;34m\u001b[0m\n\u001b[0;32m     57\u001b[0m \u001b[38;5;28;01mtry\u001b[39;00m:\n\u001b[0;32m     58\u001b[0m     \u001b[38;5;28;01mfrom\u001b[39;00m \u001b[38;5;21;01mIPython\u001b[39;00m\u001b[38;5;21;01m.\u001b[39;00m\u001b[38;5;21;01mcore\u001b[39;00m\u001b[38;5;21;01m.\u001b[39;00m\u001b[38;5;21;01mgetipython\u001b[39;00m \u001b[38;5;28;01mimport\u001b[39;00m get_ipython\n\u001b[1;32m---> 59\u001b[0m     \u001b[38;5;28;01mfrom\u001b[39;00m \u001b[38;5;21;01mpixiedust\u001b[39;00m\u001b[38;5;21;01m.\u001b[39;00m\u001b[38;5;21;01mdisplay\u001b[39;00m \u001b[38;5;28;01mimport\u001b[39;00m display\n\u001b[0;32m     60\u001b[0m     \u001b[38;5;28;01mimport\u001b[39;00m \u001b[38;5;21;01mpixiedust\u001b[39;00m\u001b[38;5;21;01m.\u001b[39;00m\u001b[38;5;21;01mservices\u001b[39;00m\n\u001b[0;32m     61\u001b[0m     \u001b[38;5;28;01mif\u001b[39;00m \u001b[38;5;124m\"\u001b[39m\u001b[38;5;124mdisplay\u001b[39m\u001b[38;5;124m\"\u001b[39m \u001b[38;5;129;01mnot\u001b[39;00m \u001b[38;5;129;01min\u001b[39;00m get_ipython()\u001b[38;5;241m.\u001b[39muser_ns:\n\u001b[0;32m     62\u001b[0m         \u001b[38;5;66;03m#be nice, only set the display variable on the user namespace if it's not already taken\u001b[39;00m\n",
      "File \u001b[1;32m~\\AppData\\Local\\Programs\\Python\\Python38\\lib\\site-packages\\pixiedust\\display\\__init__.py:39\u001b[0m, in \u001b[0;36m<module>\u001b[1;34m\u001b[0m\n\u001b[0;32m     36\u001b[0m     \u001b[38;5;28;01mglobal\u001b[39;00m displayRunListeners\n\u001b[0;32m     37\u001b[0m     displayRunListeners\u001b[38;5;241m.\u001b[39mappend(listener)\n\u001b[1;32m---> 39\u001b[0m \u001b[38;5;28;01mfrom\u001b[39;00m \u001b[38;5;21;01m.\u001b[39;00m\u001b[38;5;21;01mdisplay\u001b[39;00m \u001b[38;5;28;01mimport\u001b[39;00m \u001b[38;5;241m*\u001b[39m\n\u001b[0;32m     40\u001b[0m \u001b[38;5;28;01mfrom\u001b[39;00m \u001b[38;5;21;01m.\u001b[39;00m\u001b[38;5;21;01mchart\u001b[39;00m \u001b[38;5;28;01mimport\u001b[39;00m \u001b[38;5;241m*\u001b[39m\n\u001b[0;32m     41\u001b[0m \u001b[38;5;28;01mif\u001b[39;00m PD_Environment\u001b[38;5;241m.\u001b[39mhasSpark:\n",
      "File \u001b[1;32m~\\AppData\\Local\\Programs\\Python\\Python38\\lib\\site-packages\\pixiedust\\display\\display.py:186\u001b[0m, in \u001b[0;36m<module>\u001b[1;34m\u001b[0m\n\u001b[0;32m    182\u001b[0m     \u001b[38;5;28;01mdef\u001b[39;00m \u001b[38;5;21mcreateCategories\u001b[39m(\u001b[38;5;28mself\u001b[39m):\n\u001b[0;32m    183\u001b[0m         \u001b[38;5;28;01mreturn\u001b[39;00m []\n\u001b[0;32m    185\u001b[0m \u001b[38;5;129m@Logger\u001b[39m()\n\u001b[1;32m--> 186\u001b[0m \u001b[38;5;28;01mclass\u001b[39;00m \u001b[38;5;21;01mDisplay\u001b[39;00m(with_metaclass(ABCMeta)):\n\u001b[0;32m    187\u001b[0m \n\u001b[0;32m    188\u001b[0m     \u001b[38;5;66;03m#global jinja2 Environment\u001b[39;00m\n\u001b[0;32m    189\u001b[0m     env \u001b[38;5;241m=\u001b[39m PixiedustTemplateEnvironment()\n\u001b[0;32m    191\u001b[0m     \u001b[38;5;28;01mdef\u001b[39;00m \u001b[38;5;21m__init__\u001b[39m(\u001b[38;5;28mself\u001b[39m, options, entity, dataHandler\u001b[38;5;241m=\u001b[39m\u001b[38;5;28;01mNone\u001b[39;00m):\n",
      "File \u001b[1;32m~\\AppData\\Local\\Programs\\Python\\Python38\\lib\\site-packages\\pixiedust\\display\\display.py:189\u001b[0m, in \u001b[0;36mDisplay\u001b[1;34m()\u001b[0m\n\u001b[0;32m    185\u001b[0m \u001b[38;5;129m@Logger\u001b[39m()\n\u001b[0;32m    186\u001b[0m \u001b[38;5;28;01mclass\u001b[39;00m \u001b[38;5;21;01mDisplay\u001b[39;00m(with_metaclass(ABCMeta)):\n\u001b[0;32m    187\u001b[0m \n\u001b[0;32m    188\u001b[0m     \u001b[38;5;66;03m#global jinja2 Environment\u001b[39;00m\n\u001b[1;32m--> 189\u001b[0m     env \u001b[38;5;241m=\u001b[39m \u001b[43mPixiedustTemplateEnvironment\u001b[49m\u001b[43m(\u001b[49m\u001b[43m)\u001b[49m\n\u001b[0;32m    191\u001b[0m     \u001b[38;5;28;01mdef\u001b[39;00m \u001b[38;5;21m__init__\u001b[39m(\u001b[38;5;28mself\u001b[39m, options, entity, dataHandler\u001b[38;5;241m=\u001b[39m\u001b[38;5;28;01mNone\u001b[39;00m):\n\u001b[0;32m    192\u001b[0m         \u001b[38;5;28mself\u001b[39m\u001b[38;5;241m.\u001b[39mentity\u001b[38;5;241m=\u001b[39mentity\n",
      "File \u001b[1;32m~\\AppData\\Local\\Programs\\Python\\Python38\\lib\\site-packages\\pixiedust\\utils\\template.py:77\u001b[0m, in \u001b[0;36mPixiedustTemplateEnvironment.__init__\u001b[1;34m(self, baseModule)\u001b[0m\n\u001b[0;32m     75\u001b[0m     frm \u001b[38;5;241m=\u001b[39m inspect\u001b[38;5;241m.\u001b[39mstack()[\u001b[38;5;241m1\u001b[39m]\n\u001b[0;32m     76\u001b[0m     baseModule \u001b[38;5;241m=\u001b[39m inspect\u001b[38;5;241m.\u001b[39mgetmodule(frm[\u001b[38;5;241m0\u001b[39m])\u001b[38;5;241m.\u001b[39m\u001b[38;5;18m__name__\u001b[39m\n\u001b[1;32m---> 77\u001b[0m \u001b[38;5;28mself\u001b[39m\u001b[38;5;241m.\u001b[39menv \u001b[38;5;241m=\u001b[39m \u001b[43mEnvironment\u001b[49m\u001b[43m(\u001b[49m\u001b[43mloader\u001b[49m\u001b[38;5;241;43m=\u001b[39;49m\u001b[43mPixiedustTemplateLoader\u001b[49m\u001b[43m(\u001b[49m\u001b[43mbaseModule\u001b[49m\u001b[43m)\u001b[49m\u001b[43m,\u001b[49m\u001b[43mextensions\u001b[49m\u001b[38;5;241;43m=\u001b[39;49m\u001b[43m[\u001b[49m\u001b[38;5;124;43m'\u001b[39;49m\u001b[38;5;124;43mjinja2.ext.with_\u001b[39;49m\u001b[38;5;124;43m'\u001b[39;49m\u001b[43m]\u001b[49m\u001b[43m)\u001b[49m\n\u001b[0;32m     78\u001b[0m \u001b[38;5;28mself\u001b[39m\u001b[38;5;241m.\u001b[39menv\u001b[38;5;241m.\u001b[39mfilters[\u001b[38;5;124m\"\u001b[39m\u001b[38;5;124moneline\u001b[39m\u001b[38;5;124m\"\u001b[39m]\u001b[38;5;241m=\u001b[39m\u001b[38;5;28;01mlambda\u001b[39;00m s:reduce(\u001b[38;5;28;01mlambda\u001b[39;00m s, l: s\u001b[38;5;241m+\u001b[39ml, s\u001b[38;5;241m.\u001b[39msplit(\u001b[38;5;124m\"\u001b[39m\u001b[38;5;130;01m\\n\u001b[39;00m\u001b[38;5;124m\"\u001b[39m), \u001b[38;5;124m\"\u001b[39m\u001b[38;5;124m\"\u001b[39m) \u001b[38;5;28;01mif\u001b[39;00m s \u001b[38;5;28;01melse\u001b[39;00m s\n\u001b[0;32m     79\u001b[0m \u001b[38;5;28mself\u001b[39m\u001b[38;5;241m.\u001b[39menv\u001b[38;5;241m.\u001b[39mfilters[\u001b[38;5;124m\"\u001b[39m\u001b[38;5;124mbase64dataUri\u001b[39m\u001b[38;5;124m\"\u001b[39m]\u001b[38;5;241m=\u001b[39m\u001b[38;5;28;01mlambda\u001b[39;00m s: \u001b[38;5;124m'\u001b[39m\u001b[38;5;124mdata:image/png;base64,\u001b[39m\u001b[38;5;132;01m{0}\u001b[39;00m\u001b[38;5;124m'\u001b[39m\u001b[38;5;241m.\u001b[39mformat(\u001b[38;5;28mself\u001b[39m\u001b[38;5;241m.\u001b[39mgetTemplate(s\u001b[38;5;241m+\u001b[39m\u001b[38;5;124m\"\u001b[39m\u001b[38;5;124m#base64\u001b[39m\u001b[38;5;124m\"\u001b[39m)\u001b[38;5;241m.\u001b[39mrender())\n",
      "File \u001b[1;32m~\\AppData\\Local\\Programs\\Python\\Python38\\lib\\site-packages\\jinja2\\environment.py:363\u001b[0m, in \u001b[0;36mEnvironment.__init__\u001b[1;34m(self, block_start_string, block_end_string, variable_start_string, variable_end_string, comment_start_string, comment_end_string, line_statement_prefix, line_comment_prefix, trim_blocks, lstrip_blocks, newline_sequence, keep_trailing_newline, extensions, optimized, undefined, finalize, autoescape, loader, cache_size, auto_reload, bytecode_cache, enable_async)\u001b[0m\n\u001b[0;32m    360\u001b[0m \u001b[38;5;28mself\u001b[39m\u001b[38;5;241m.\u001b[39mpolicies \u001b[38;5;241m=\u001b[39m DEFAULT_POLICIES\u001b[38;5;241m.\u001b[39mcopy()\n\u001b[0;32m    362\u001b[0m \u001b[38;5;66;03m# load extensions\u001b[39;00m\n\u001b[1;32m--> 363\u001b[0m \u001b[38;5;28mself\u001b[39m\u001b[38;5;241m.\u001b[39mextensions \u001b[38;5;241m=\u001b[39m \u001b[43mload_extensions\u001b[49m\u001b[43m(\u001b[49m\u001b[38;5;28;43mself\u001b[39;49m\u001b[43m,\u001b[49m\u001b[43m \u001b[49m\u001b[43mextensions\u001b[49m\u001b[43m)\u001b[49m\n\u001b[0;32m    365\u001b[0m \u001b[38;5;28mself\u001b[39m\u001b[38;5;241m.\u001b[39mis_async \u001b[38;5;241m=\u001b[39m enable_async\n\u001b[0;32m    366\u001b[0m _environment_config_check(\u001b[38;5;28mself\u001b[39m)\n",
      "File \u001b[1;32m~\\AppData\\Local\\Programs\\Python\\Python38\\lib\\site-packages\\jinja2\\environment.py:117\u001b[0m, in \u001b[0;36mload_extensions\u001b[1;34m(environment, extensions)\u001b[0m\n\u001b[0;32m    115\u001b[0m \u001b[38;5;28;01mfor\u001b[39;00m extension \u001b[38;5;129;01min\u001b[39;00m extensions:\n\u001b[0;32m    116\u001b[0m     \u001b[38;5;28;01mif\u001b[39;00m \u001b[38;5;28misinstance\u001b[39m(extension, \u001b[38;5;28mstr\u001b[39m):\n\u001b[1;32m--> 117\u001b[0m         extension \u001b[38;5;241m=\u001b[39m t\u001b[38;5;241m.\u001b[39mcast(t\u001b[38;5;241m.\u001b[39mType[\u001b[38;5;124m\"\u001b[39m\u001b[38;5;124mExtension\u001b[39m\u001b[38;5;124m\"\u001b[39m], \u001b[43mimport_string\u001b[49m\u001b[43m(\u001b[49m\u001b[43mextension\u001b[49m\u001b[43m)\u001b[49m)\n\u001b[0;32m    119\u001b[0m     result[extension\u001b[38;5;241m.\u001b[39midentifier] \u001b[38;5;241m=\u001b[39m extension(environment)\n\u001b[0;32m    121\u001b[0m \u001b[38;5;28;01mreturn\u001b[39;00m result\n",
      "File \u001b[1;32m~\\AppData\\Local\\Programs\\Python\\Python38\\lib\\site-packages\\jinja2\\utils.py:149\u001b[0m, in \u001b[0;36mimport_string\u001b[1;34m(import_name, silent)\u001b[0m\n\u001b[0;32m    147\u001b[0m     \u001b[38;5;28;01melse\u001b[39;00m:\n\u001b[0;32m    148\u001b[0m         \u001b[38;5;28;01mreturn\u001b[39;00m \u001b[38;5;28m__import__\u001b[39m(import_name)\n\u001b[1;32m--> 149\u001b[0m     \u001b[38;5;28;01mreturn\u001b[39;00m \u001b[38;5;28;43mgetattr\u001b[39;49m\u001b[43m(\u001b[49m\u001b[38;5;28;43m__import__\u001b[39;49m\u001b[43m(\u001b[49m\u001b[43mmodule\u001b[49m\u001b[43m,\u001b[49m\u001b[43m \u001b[49m\u001b[38;5;28;43;01mNone\u001b[39;49;00m\u001b[43m,\u001b[49m\u001b[43m \u001b[49m\u001b[38;5;28;43;01mNone\u001b[39;49;00m\u001b[43m,\u001b[49m\u001b[43m \u001b[49m\u001b[43m[\u001b[49m\u001b[43mobj\u001b[49m\u001b[43m]\u001b[49m\u001b[43m)\u001b[49m\u001b[43m,\u001b[49m\u001b[43m \u001b[49m\u001b[43mobj\u001b[49m\u001b[43m)\u001b[49m\n\u001b[0;32m    150\u001b[0m \u001b[38;5;28;01mexcept\u001b[39;00m (\u001b[38;5;167;01mImportError\u001b[39;00m, \u001b[38;5;167;01mAttributeError\u001b[39;00m):\n\u001b[0;32m    151\u001b[0m     \u001b[38;5;28;01mif\u001b[39;00m \u001b[38;5;129;01mnot\u001b[39;00m silent:\n",
      "\u001b[1;31mAttributeError\u001b[0m: module 'jinja2.ext' has no attribute 'with_'"
     ]
    }
   ],
   "source": [
    "import pixiedust_node"
   ]
  },
  {
   "cell_type": "code",
   "execution_count": 2,
   "id": "c15176b3",
   "metadata": {},
   "outputs": [
    {
     "name": "stderr",
     "output_type": "stream",
     "text": [
      "npm WARN config global `--global`, `--local` are deprecated. Use `--location=global` instead.\n",
      "npm WARN deprecated uuid@3.4.0: Please upgrade  to version 7 or higher.  Older versions may use Math.random() in certain circumstances, which is known to be problematic.  See https://v8.dev/blog/math-random for details.\n",
      "npm notice \n",
      "npm notice New minor version of npm available! 8.13.2 -> 8.15.0\n",
      "npm notice Changelog: <https://github.com/npm/cli/releases/tag/v8.15.0>\n",
      "npm notice Run `npm install -g npm@8.15.0` to update!\n",
      "npm notice \n",
      "npm ERR! code 1\n",
      "npm ERR! path C:\\Users\\rrr\\AppData\\Roaming\\npm\\node_modules\\ijavascript\\node_modules\\zeromq\n",
      "npm ERR! command failed\n",
      "npm ERR! command C:\\WINDOWS\\system32\\cmd.exe /d /s /c C:\\Users\\rrr\\AppData\\Local\\Temp\\install6588777655.cmd\n",
      "npm ERR! > zeromq@5.2.8 build:libzmq\n",
      "npm ERR! > node-gyp rebuild\n",
      "npm ERR! gyp info it worked if it ends with ok\n",
      "npm ERR! gyp info using node-gyp@9.0.0\n",
      "npm ERR! gyp info using node@16.15.1 | win32 | x64\n",
      "npm ERR! gyp info find Python using Python version 3.8.7 found at \"C:\\Users\\rrr\\AppData\\Local\\Programs\\Python\\Python38\\python.exe\"\n",
      "npm ERR! gyp http GET https://nodejs.org/download/release/v16.15.1/node-v16.15.1-headers.tar.gz\n",
      "npm ERR! gyp http 200 https://nodejs.org/download/release/v16.15.1/node-v16.15.1-headers.tar.gz\n",
      "npm ERR! gyp http GET https://nodejs.org/download/release/v16.15.1/SHASUMS256.txt\n",
      "npm ERR! gyp http GET https://nodejs.org/download/release/v16.15.1/win-x86/node.lib\n",
      "npm ERR! gyp http GET https://nodejs.org/download/release/v16.15.1/win-arm64/node.lib\n",
      "npm ERR! gyp http GET https://nodejs.org/download/release/v16.15.1/win-x64/node.lib\n",
      "npm ERR! gyp http 200 https://nodejs.org/download/release/v16.15.1/SHASUMS256.txt\n",
      "npm ERR! gyp http 404 https://nodejs.org/download/release/v16.15.1/win-arm64/node.lib\n",
      "npm ERR! gyp http 200 https://nodejs.org/download/release/v16.15.1/win-x86/node.lib\n",
      "npm ERR! gyp http 200 https://nodejs.org/download/release/v16.15.1/win-x64/node.lib\n",
      "npm ERR! gyp ERR! find VS \n",
      "npm ERR! gyp ERR! find VS msvs_version not set from command line or npm config\n",
      "npm ERR! gyp ERR! find VS VCINSTALLDIR not set, not running in VS Command Prompt\n",
      "npm ERR! gyp ERR! find VS could not use PowerShell to find Visual Studio 2017 or newer, try re-running with '--loglevel silly' for more details\n",
      "npm ERR! gyp ERR! find VS looking for Visual Studio 2015\n",
      "npm ERR! gyp ERR! find VS - not found\n",
      "npm ERR! gyp ERR! find VS not looking for VS2013 as it is only supported up to Node.js 8\n",
      "npm ERR! gyp ERR! find VS \n",
      "npm ERR! gyp ERR! find VS **************************************************************\n",
      "npm ERR! gyp ERR! find VS You need to install the latest version of Visual Studio\n",
      "npm ERR! gyp ERR! find VS including the \"Desktop development with C++\" workload.\n",
      "npm ERR! gyp ERR! find VS For more information consult the documentation at:\n",
      "npm ERR! gyp ERR! find VS https://github.com/nodejs/node-gyp#on-windows\n",
      "npm ERR! gyp ERR! find VS **************************************************************\n",
      "npm ERR! gyp ERR! find VS \n",
      "npm ERR! gyp ERR! configure error \n",
      "npm ERR! gyp ERR! stack Error: Could not find any Visual Studio installation to use\n",
      "npm ERR! gyp ERR! stack     at VisualStudioFinder.fail (C:\\Users\\rrr\\AppData\\Roaming\\npm\\node_modules\\npm\\node_modules\\node-gyp\\lib\\find-visualstudio.js:122:47)\n",
      "npm ERR! gyp ERR! stack     at C:\\Users\\rrr\\AppData\\Roaming\\npm\\node_modules\\npm\\node_modules\\node-gyp\\lib\\find-visualstudio.js:75:16\n",
      "npm ERR! gyp ERR! stack     at VisualStudioFinder.findVisualStudio2013 (C:\\Users\\rrr\\AppData\\Roaming\\npm\\node_modules\\npm\\node_modules\\node-gyp\\lib\\find-visualstudio.js:363:14)\n",
      "npm ERR! gyp ERR! stack     at C:\\Users\\rrr\\AppData\\Roaming\\npm\\node_modules\\npm\\node_modules\\node-gyp\\lib\\find-visualstudio.js:71:14\n",
      "npm ERR! gyp ERR! stack     at C:\\Users\\rrr\\AppData\\Roaming\\npm\\node_modules\\npm\\node_modules\\node-gyp\\lib\\find-visualstudio.js:384:16\n",
      "npm ERR! gyp ERR! stack     at C:\\Users\\rrr\\AppData\\Roaming\\npm\\node_modules\\npm\\node_modules\\node-gyp\\lib\\util.js:54:7\n",
      "npm ERR! gyp ERR! stack     at C:\\Users\\rrr\\AppData\\Roaming\\npm\\node_modules\\npm\\node_modules\\node-gyp\\lib\\util.js:33:16\n",
      "npm ERR! gyp ERR! stack     at ChildProcess.exithandler (node:child_process:406:5)\n",
      "npm ERR! gyp ERR! stack     at ChildProcess.emit (node:events:527:28)\n",
      "npm ERR! gyp ERR! stack     at maybeClose (node:internal/child_process:1092:16)\n",
      "npm ERR! gyp ERR! System Windows_NT 10.0.19044\n",
      "npm ERR! gyp ERR! command \"C:\\\\Program Files\\\\nodejs\\\\node.exe\" \"C:\\\\Users\\\\rrr\\\\AppData\\\\Roaming\\\\npm\\\\node_modules\\\\npm\\\\node_modules\\\\node-gyp\\\\bin\\\\node-gyp.js\" \"rebuild\"\n",
      "npm ERR! gyp ERR! cwd C:\\Users\\rrr\\AppData\\Roaming\\npm\\node_modules\\ijavascript\\node_modules\\zeromq\n",
      "npm ERR! gyp ERR! node -v v16.15.1\n",
      "npm ERR! gyp ERR! node-gyp -v v9.0.0\n",
      "npm ERR! gyp ERR! not ok \n",
      "npm ERR! npm WARN config global `--global`, `--local` are deprecated. Use `--location=global` instead.\n",
      "npm ERR! npm WARN config global `--global`, `--local` are deprecated. Use `--location=global` instead.\n",
      "npm ERR! gyp info it worked if it ends with ok\n",
      "npm ERR! gyp info using node-gyp@9.0.0\n",
      "npm ERR! gyp info using node@16.15.1 | win32 | x64\n",
      "npm ERR! gyp info find Python using Python version 3.8.7 found at \"C:\\Users\\rrr\\AppData\\Local\\Programs\\Python\\Python38\\python.exe\"\n",
      "npm ERR! gyp ERR! find VS \n",
      "npm ERR! gyp ERR! find VS msvs_version not set from command line or npm config\n",
      "npm ERR! gyp ERR! find VS VCINSTALLDIR not set, not running in VS Command Prompt\n",
      "npm ERR! gyp ERR! find VS could not use PowerShell to find Visual Studio 2017 or newer, try re-running with '--loglevel silly' for more details\n",
      "npm ERR! gyp ERR! find VS looking for Visual Studio 2015\n",
      "npm ERR! gyp ERR! find VS - not found\n",
      "npm ERR! gyp ERR! find VS not looking for VS2013 as it is only supported up to Node.js 8\n",
      "npm ERR! gyp ERR! find VS \n",
      "npm ERR! gyp ERR! find VS **************************************************************\n",
      "npm ERR! gyp ERR! find VS You need to install the latest version of Visual Studio\n",
      "npm ERR! gyp ERR! find VS including the \"Desktop development with C++\" workload.\n",
      "npm ERR! gyp ERR! find VS For more information consult the documentation at:\n",
      "npm ERR! gyp ERR! find VS https://github.com/nodejs/node-gyp#on-windows\n",
      "npm ERR! gyp ERR! find VS **************************************************************\n",
      "npm ERR! gyp ERR! find VS \n",
      "npm ERR! gyp ERR! configure error \n",
      "npm ERR! gyp ERR! stack Error: Could not find any Visual Studio installation to use\n",
      "npm ERR! gyp ERR! stack     at VisualStudioFinder.fail (C:\\Users\\rrr\\AppData\\Roaming\\npm\\node_modules\\npm\\node_modules\\node-gyp\\lib\\find-visualstudio.js:122:47)\n",
      "npm ERR! gyp ERR! stack     at C:\\Users\\rrr\\AppData\\Roaming\\npm\\node_modules\\npm\\node_modules\\node-gyp\\lib\\find-visualstudio.js:75:16\n",
      "npm ERR! gyp ERR! stack     at VisualStudioFinder.findVisualStudio2013 (C:\\Users\\rrr\\AppData\\Roaming\\npm\\node_modules\\npm\\node_modules\\node-gyp\\lib\\find-visualstudio.js:363:14)\n",
      "npm ERR! gyp ERR! stack     at C:\\Users\\rrr\\AppData\\Roaming\\npm\\node_modules\\npm\\node_modules\\node-gyp\\lib\\find-visualstudio.js:71:14\n",
      "npm ERR! gyp ERR! stack     at C:\\Users\\rrr\\AppData\\Roaming\\npm\\node_modules\\npm\\node_modules\\node-gyp\\lib\\find-visualstudio.js:384:16\n",
      "npm ERR! gyp ERR! stack     at C:\\Users\\rrr\\AppData\\Roaming\\npm\\node_modules\\npm\\node_modules\\node-gyp\\lib\\util.js:54:7\n",
      "npm ERR! gyp ERR! stack     at C:\\Users\\rrr\\AppData\\Roaming\\npm\\node_modules\\npm\\node_modules\\node-gyp\\lib\\util.js:33:16\n",
      "npm ERR! gyp ERR! stack     at ChildProcess.exithandler (node:child_process:406:5)\n",
      "npm ERR! gyp ERR! stack     at ChildProcess.emit (node:events:527:28)\n",
      "npm ERR! gyp ERR! stack     at maybeClose (node:internal/child_process:1092:16)\n",
      "npm ERR! gyp ERR! System Windows_NT 10.0.19044\n",
      "npm ERR! gyp ERR! command \"C:\\\\Program Files\\\\nodejs\\\\node.exe\" \"C:\\\\Users\\\\rrr\\\\AppData\\\\Roaming\\\\npm\\\\node_modules\\\\npm\\\\node_modules\\\\node-gyp\\\\bin\\\\node-gyp.js\" \"rebuild\"\n",
      "npm ERR! gyp ERR! cwd C:\\Users\\rrr\\AppData\\Roaming\\npm\\node_modules\\ijavascript\\node_modules\\zeromq\n",
      "npm ERR! gyp ERR! node -v v16.15.1\n",
      "npm ERR! gyp ERR! node-gyp -v v9.0.0\n",
      "npm ERR! gyp ERR! not ok\n",
      "\n",
      "npm ERR! A complete log of this run can be found in:\n",
      "npm ERR!     C:\\Users\\rrr\\AppData\\Local\\npm-cache\\_logs\\2022-07-26T21_42_40_340Z-debug-0.log\n"
     ]
    }
   ],
   "source": [
    "!npm install -g --unsafe-perm ijavascript"
   ]
  },
  {
   "cell_type": "code",
   "execution_count": 3,
   "id": "150378b3",
   "metadata": {},
   "outputs": [
    {
     "name": "stdout",
     "output_type": "stream",
     "text": [
      "Pixiedust database opened successfully\n"
     ]
    },
    {
     "data": {
      "text/html": [
       "\n",
       "        <div style=\"margin:10px\">\n",
       "            <a href=\"https://github.com/ibm-watson-data-lab/pixiedust\" target=\"_new\">\n",
       "                <img src=\"https://github.com/ibm-watson-data-lab/pixiedust/raw/master/docs/_static/pd_icon32.png\" style=\"float:left;margin-right:10px\"/>\n",
       "            </a>\n",
       "            <span>Pixiedust version 1.1.19</span>\n",
       "        </div>\n",
       "        "
      ],
      "text/plain": [
       "<IPython.core.display.HTML object>"
      ]
     },
     "metadata": {},
     "output_type": "display_data"
    },
    {
     "ename": "AttributeError",
     "evalue": "module 'jinja2.ext' has no attribute 'with_'",
     "output_type": "error",
     "traceback": [
      "\u001b[1;31m---------------------------------------------------------------------------\u001b[0m",
      "\u001b[1;31mAttributeError\u001b[0m                            Traceback (most recent call last)",
      "Input \u001b[1;32mIn [3]\u001b[0m, in \u001b[0;36m<cell line: 1>\u001b[1;34m()\u001b[0m\n\u001b[1;32m----> 1\u001b[0m \u001b[38;5;28;01mimport\u001b[39;00m \u001b[38;5;21;01mpixiedust\u001b[39;00m\n",
      "File \u001b[1;32m~\\AppData\\Local\\Programs\\Python\\Python38\\lib\\site-packages\\pixiedust\\__init__.py:59\u001b[0m, in \u001b[0;36m<module>\u001b[1;34m\u001b[0m\n\u001b[0;32m     57\u001b[0m \u001b[38;5;28;01mtry\u001b[39;00m:\n\u001b[0;32m     58\u001b[0m     \u001b[38;5;28;01mfrom\u001b[39;00m \u001b[38;5;21;01mIPython\u001b[39;00m\u001b[38;5;21;01m.\u001b[39;00m\u001b[38;5;21;01mcore\u001b[39;00m\u001b[38;5;21;01m.\u001b[39;00m\u001b[38;5;21;01mgetipython\u001b[39;00m \u001b[38;5;28;01mimport\u001b[39;00m get_ipython\n\u001b[1;32m---> 59\u001b[0m     \u001b[38;5;28;01mfrom\u001b[39;00m \u001b[38;5;21;01mpixiedust\u001b[39;00m\u001b[38;5;21;01m.\u001b[39;00m\u001b[38;5;21;01mdisplay\u001b[39;00m \u001b[38;5;28;01mimport\u001b[39;00m display\n\u001b[0;32m     60\u001b[0m     \u001b[38;5;28;01mimport\u001b[39;00m \u001b[38;5;21;01mpixiedust\u001b[39;00m\u001b[38;5;21;01m.\u001b[39;00m\u001b[38;5;21;01mservices\u001b[39;00m\n\u001b[0;32m     61\u001b[0m     \u001b[38;5;28;01mif\u001b[39;00m \u001b[38;5;124m\"\u001b[39m\u001b[38;5;124mdisplay\u001b[39m\u001b[38;5;124m\"\u001b[39m \u001b[38;5;129;01mnot\u001b[39;00m \u001b[38;5;129;01min\u001b[39;00m get_ipython()\u001b[38;5;241m.\u001b[39muser_ns:\n\u001b[0;32m     62\u001b[0m         \u001b[38;5;66;03m#be nice, only set the display variable on the user namespace if it's not already taken\u001b[39;00m\n",
      "File \u001b[1;32m~\\AppData\\Local\\Programs\\Python\\Python38\\lib\\site-packages\\pixiedust\\display\\__init__.py:39\u001b[0m, in \u001b[0;36m<module>\u001b[1;34m\u001b[0m\n\u001b[0;32m     36\u001b[0m     \u001b[38;5;28;01mglobal\u001b[39;00m displayRunListeners\n\u001b[0;32m     37\u001b[0m     displayRunListeners\u001b[38;5;241m.\u001b[39mappend(listener)\n\u001b[1;32m---> 39\u001b[0m \u001b[38;5;28;01mfrom\u001b[39;00m \u001b[38;5;21;01m.\u001b[39;00m\u001b[38;5;21;01mdisplay\u001b[39;00m \u001b[38;5;28;01mimport\u001b[39;00m \u001b[38;5;241m*\u001b[39m\n\u001b[0;32m     40\u001b[0m \u001b[38;5;28;01mfrom\u001b[39;00m \u001b[38;5;21;01m.\u001b[39;00m\u001b[38;5;21;01mchart\u001b[39;00m \u001b[38;5;28;01mimport\u001b[39;00m \u001b[38;5;241m*\u001b[39m\n\u001b[0;32m     41\u001b[0m \u001b[38;5;28;01mif\u001b[39;00m PD_Environment\u001b[38;5;241m.\u001b[39mhasSpark:\n",
      "File \u001b[1;32m~\\AppData\\Local\\Programs\\Python\\Python38\\lib\\site-packages\\pixiedust\\display\\display.py:186\u001b[0m, in \u001b[0;36m<module>\u001b[1;34m\u001b[0m\n\u001b[0;32m    182\u001b[0m     \u001b[38;5;28;01mdef\u001b[39;00m \u001b[38;5;21mcreateCategories\u001b[39m(\u001b[38;5;28mself\u001b[39m):\n\u001b[0;32m    183\u001b[0m         \u001b[38;5;28;01mreturn\u001b[39;00m []\n\u001b[0;32m    185\u001b[0m \u001b[38;5;129m@Logger\u001b[39m()\n\u001b[1;32m--> 186\u001b[0m \u001b[38;5;28;01mclass\u001b[39;00m \u001b[38;5;21;01mDisplay\u001b[39;00m(with_metaclass(ABCMeta)):\n\u001b[0;32m    187\u001b[0m \n\u001b[0;32m    188\u001b[0m     \u001b[38;5;66;03m#global jinja2 Environment\u001b[39;00m\n\u001b[0;32m    189\u001b[0m     env \u001b[38;5;241m=\u001b[39m PixiedustTemplateEnvironment()\n\u001b[0;32m    191\u001b[0m     \u001b[38;5;28;01mdef\u001b[39;00m \u001b[38;5;21m__init__\u001b[39m(\u001b[38;5;28mself\u001b[39m, options, entity, dataHandler\u001b[38;5;241m=\u001b[39m\u001b[38;5;28;01mNone\u001b[39;00m):\n",
      "File \u001b[1;32m~\\AppData\\Local\\Programs\\Python\\Python38\\lib\\site-packages\\pixiedust\\display\\display.py:189\u001b[0m, in \u001b[0;36mDisplay\u001b[1;34m()\u001b[0m\n\u001b[0;32m    185\u001b[0m \u001b[38;5;129m@Logger\u001b[39m()\n\u001b[0;32m    186\u001b[0m \u001b[38;5;28;01mclass\u001b[39;00m \u001b[38;5;21;01mDisplay\u001b[39;00m(with_metaclass(ABCMeta)):\n\u001b[0;32m    187\u001b[0m \n\u001b[0;32m    188\u001b[0m     \u001b[38;5;66;03m#global jinja2 Environment\u001b[39;00m\n\u001b[1;32m--> 189\u001b[0m     env \u001b[38;5;241m=\u001b[39m \u001b[43mPixiedustTemplateEnvironment\u001b[49m\u001b[43m(\u001b[49m\u001b[43m)\u001b[49m\n\u001b[0;32m    191\u001b[0m     \u001b[38;5;28;01mdef\u001b[39;00m \u001b[38;5;21m__init__\u001b[39m(\u001b[38;5;28mself\u001b[39m, options, entity, dataHandler\u001b[38;5;241m=\u001b[39m\u001b[38;5;28;01mNone\u001b[39;00m):\n\u001b[0;32m    192\u001b[0m         \u001b[38;5;28mself\u001b[39m\u001b[38;5;241m.\u001b[39mentity\u001b[38;5;241m=\u001b[39mentity\n",
      "File \u001b[1;32m~\\AppData\\Local\\Programs\\Python\\Python38\\lib\\site-packages\\pixiedust\\utils\\template.py:77\u001b[0m, in \u001b[0;36mPixiedustTemplateEnvironment.__init__\u001b[1;34m(self, baseModule)\u001b[0m\n\u001b[0;32m     75\u001b[0m     frm \u001b[38;5;241m=\u001b[39m inspect\u001b[38;5;241m.\u001b[39mstack()[\u001b[38;5;241m1\u001b[39m]\n\u001b[0;32m     76\u001b[0m     baseModule \u001b[38;5;241m=\u001b[39m inspect\u001b[38;5;241m.\u001b[39mgetmodule(frm[\u001b[38;5;241m0\u001b[39m])\u001b[38;5;241m.\u001b[39m\u001b[38;5;18m__name__\u001b[39m\n\u001b[1;32m---> 77\u001b[0m \u001b[38;5;28mself\u001b[39m\u001b[38;5;241m.\u001b[39menv \u001b[38;5;241m=\u001b[39m \u001b[43mEnvironment\u001b[49m\u001b[43m(\u001b[49m\u001b[43mloader\u001b[49m\u001b[38;5;241;43m=\u001b[39;49m\u001b[43mPixiedustTemplateLoader\u001b[49m\u001b[43m(\u001b[49m\u001b[43mbaseModule\u001b[49m\u001b[43m)\u001b[49m\u001b[43m,\u001b[49m\u001b[43mextensions\u001b[49m\u001b[38;5;241;43m=\u001b[39;49m\u001b[43m[\u001b[49m\u001b[38;5;124;43m'\u001b[39;49m\u001b[38;5;124;43mjinja2.ext.with_\u001b[39;49m\u001b[38;5;124;43m'\u001b[39;49m\u001b[43m]\u001b[49m\u001b[43m)\u001b[49m\n\u001b[0;32m     78\u001b[0m \u001b[38;5;28mself\u001b[39m\u001b[38;5;241m.\u001b[39menv\u001b[38;5;241m.\u001b[39mfilters[\u001b[38;5;124m\"\u001b[39m\u001b[38;5;124moneline\u001b[39m\u001b[38;5;124m\"\u001b[39m]\u001b[38;5;241m=\u001b[39m\u001b[38;5;28;01mlambda\u001b[39;00m s:reduce(\u001b[38;5;28;01mlambda\u001b[39;00m s, l: s\u001b[38;5;241m+\u001b[39ml, s\u001b[38;5;241m.\u001b[39msplit(\u001b[38;5;124m\"\u001b[39m\u001b[38;5;130;01m\\n\u001b[39;00m\u001b[38;5;124m\"\u001b[39m), \u001b[38;5;124m\"\u001b[39m\u001b[38;5;124m\"\u001b[39m) \u001b[38;5;28;01mif\u001b[39;00m s \u001b[38;5;28;01melse\u001b[39;00m s\n\u001b[0;32m     79\u001b[0m \u001b[38;5;28mself\u001b[39m\u001b[38;5;241m.\u001b[39menv\u001b[38;5;241m.\u001b[39mfilters[\u001b[38;5;124m\"\u001b[39m\u001b[38;5;124mbase64dataUri\u001b[39m\u001b[38;5;124m\"\u001b[39m]\u001b[38;5;241m=\u001b[39m\u001b[38;5;28;01mlambda\u001b[39;00m s: \u001b[38;5;124m'\u001b[39m\u001b[38;5;124mdata:image/png;base64,\u001b[39m\u001b[38;5;132;01m{0}\u001b[39;00m\u001b[38;5;124m'\u001b[39m\u001b[38;5;241m.\u001b[39mformat(\u001b[38;5;28mself\u001b[39m\u001b[38;5;241m.\u001b[39mgetTemplate(s\u001b[38;5;241m+\u001b[39m\u001b[38;5;124m\"\u001b[39m\u001b[38;5;124m#base64\u001b[39m\u001b[38;5;124m\"\u001b[39m)\u001b[38;5;241m.\u001b[39mrender())\n",
      "File \u001b[1;32m~\\AppData\\Local\\Programs\\Python\\Python38\\lib\\site-packages\\jinja2\\environment.py:363\u001b[0m, in \u001b[0;36mEnvironment.__init__\u001b[1;34m(self, block_start_string, block_end_string, variable_start_string, variable_end_string, comment_start_string, comment_end_string, line_statement_prefix, line_comment_prefix, trim_blocks, lstrip_blocks, newline_sequence, keep_trailing_newline, extensions, optimized, undefined, finalize, autoescape, loader, cache_size, auto_reload, bytecode_cache, enable_async)\u001b[0m\n\u001b[0;32m    360\u001b[0m \u001b[38;5;28mself\u001b[39m\u001b[38;5;241m.\u001b[39mpolicies \u001b[38;5;241m=\u001b[39m DEFAULT_POLICIES\u001b[38;5;241m.\u001b[39mcopy()\n\u001b[0;32m    362\u001b[0m \u001b[38;5;66;03m# load extensions\u001b[39;00m\n\u001b[1;32m--> 363\u001b[0m \u001b[38;5;28mself\u001b[39m\u001b[38;5;241m.\u001b[39mextensions \u001b[38;5;241m=\u001b[39m \u001b[43mload_extensions\u001b[49m\u001b[43m(\u001b[49m\u001b[38;5;28;43mself\u001b[39;49m\u001b[43m,\u001b[49m\u001b[43m \u001b[49m\u001b[43mextensions\u001b[49m\u001b[43m)\u001b[49m\n\u001b[0;32m    365\u001b[0m \u001b[38;5;28mself\u001b[39m\u001b[38;5;241m.\u001b[39mis_async \u001b[38;5;241m=\u001b[39m enable_async\n\u001b[0;32m    366\u001b[0m _environment_config_check(\u001b[38;5;28mself\u001b[39m)\n",
      "File \u001b[1;32m~\\AppData\\Local\\Programs\\Python\\Python38\\lib\\site-packages\\jinja2\\environment.py:117\u001b[0m, in \u001b[0;36mload_extensions\u001b[1;34m(environment, extensions)\u001b[0m\n\u001b[0;32m    115\u001b[0m \u001b[38;5;28;01mfor\u001b[39;00m extension \u001b[38;5;129;01min\u001b[39;00m extensions:\n\u001b[0;32m    116\u001b[0m     \u001b[38;5;28;01mif\u001b[39;00m \u001b[38;5;28misinstance\u001b[39m(extension, \u001b[38;5;28mstr\u001b[39m):\n\u001b[1;32m--> 117\u001b[0m         extension \u001b[38;5;241m=\u001b[39m t\u001b[38;5;241m.\u001b[39mcast(t\u001b[38;5;241m.\u001b[39mType[\u001b[38;5;124m\"\u001b[39m\u001b[38;5;124mExtension\u001b[39m\u001b[38;5;124m\"\u001b[39m], \u001b[43mimport_string\u001b[49m\u001b[43m(\u001b[49m\u001b[43mextension\u001b[49m\u001b[43m)\u001b[49m)\n\u001b[0;32m    119\u001b[0m     result[extension\u001b[38;5;241m.\u001b[39midentifier] \u001b[38;5;241m=\u001b[39m extension(environment)\n\u001b[0;32m    121\u001b[0m \u001b[38;5;28;01mreturn\u001b[39;00m result\n",
      "File \u001b[1;32m~\\AppData\\Local\\Programs\\Python\\Python38\\lib\\site-packages\\jinja2\\utils.py:149\u001b[0m, in \u001b[0;36mimport_string\u001b[1;34m(import_name, silent)\u001b[0m\n\u001b[0;32m    147\u001b[0m     \u001b[38;5;28;01melse\u001b[39;00m:\n\u001b[0;32m    148\u001b[0m         \u001b[38;5;28;01mreturn\u001b[39;00m \u001b[38;5;28m__import__\u001b[39m(import_name)\n\u001b[1;32m--> 149\u001b[0m     \u001b[38;5;28;01mreturn\u001b[39;00m \u001b[38;5;28;43mgetattr\u001b[39;49m\u001b[43m(\u001b[49m\u001b[38;5;28;43m__import__\u001b[39;49m\u001b[43m(\u001b[49m\u001b[43mmodule\u001b[49m\u001b[43m,\u001b[49m\u001b[43m \u001b[49m\u001b[38;5;28;43;01mNone\u001b[39;49;00m\u001b[43m,\u001b[49m\u001b[43m \u001b[49m\u001b[38;5;28;43;01mNone\u001b[39;49;00m\u001b[43m,\u001b[49m\u001b[43m \u001b[49m\u001b[43m[\u001b[49m\u001b[43mobj\u001b[49m\u001b[43m]\u001b[49m\u001b[43m)\u001b[49m\u001b[43m,\u001b[49m\u001b[43m \u001b[49m\u001b[43mobj\u001b[49m\u001b[43m)\u001b[49m\n\u001b[0;32m    150\u001b[0m \u001b[38;5;28;01mexcept\u001b[39;00m (\u001b[38;5;167;01mImportError\u001b[39;00m, \u001b[38;5;167;01mAttributeError\u001b[39;00m):\n\u001b[0;32m    151\u001b[0m     \u001b[38;5;28;01mif\u001b[39;00m \u001b[38;5;129;01mnot\u001b[39;00m silent:\n",
      "\u001b[1;31mAttributeError\u001b[0m: module 'jinja2.ext' has no attribute 'with_'"
     ]
    }
   ],
   "source": [
    "import pixiedust"
   ]
  },
  {
   "cell_type": "code",
   "execution_count": null,
   "id": "0a04e091",
   "metadata": {},
   "outputs": [],
   "source": []
  }
 ],
 "metadata": {
  "kernelspec": {
   "display_name": "Python 3 (ipykernel)",
   "language": "python",
   "name": "python3"
  },
  "language_info": {
   "codemirror_mode": {
    "name": "ipython",
    "version": 3
   },
   "file_extension": ".py",
   "mimetype": "text/x-python",
   "name": "python",
   "nbconvert_exporter": "python",
   "pygments_lexer": "ipython3",
   "version": "3.8.7"
  }
 },
 "nbformat": 4,
 "nbformat_minor": 5
}
