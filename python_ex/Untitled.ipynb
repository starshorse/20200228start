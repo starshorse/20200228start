{
 "cells": [
  {
   "cell_type": "code",
   "execution_count": null,
   "id": "16c0af5d",
   "metadata": {},
   "outputs": [],
   "source": [
    "def add( x, y)\n",
    "    result = x+y\n",
    "    return(result)"
   ]
  }
 ],
 "metadata": {
  "kernelspec": {
   "display_name": "Python 3.8 (XPython Raw)",
   "language": "python",
   "name": "xpython-raw"
  },
  "language_info": {
   "name": ""
  }
 },
 "nbformat": 4,
 "nbformat_minor": 5
}
