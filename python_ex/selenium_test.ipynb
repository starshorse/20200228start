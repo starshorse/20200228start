{
 "cells": [
  {
   "cell_type": "code",
   "execution_count": null,
   "id": "439f24aa",
   "metadata": {},
   "outputs": [],
   "source": []
  },
  {
   "cell_type": "markdown",
   "id": "0f794838",
   "metadata": {},
   "source": [
    "### Chrome  Chrome가 자동화 테스트 소프트웨어의 제어를 받고 있습니다"
   ]
  },
  {
   "cell_type": "code",
   "execution_count": 1,
   "id": "f9bd5b61",
   "metadata": {},
   "outputs": [
    {
     "name": "stderr",
     "output_type": "stream",
     "text": [
      "C:\\Users\\rrr\\AppData\\Local\\Temp\\ipykernel_16940\\3383808542.py:3: DeprecationWarning: executable_path has been deprecated, please pass in a Service object\n",
      "  driver = webdriver.Chrome('./chromedriver')\n"
     ]
    }
   ],
   "source": [
    "from selenium import webdriver\n",
    "from selenium.webdriver.common.by import By\n",
    "driver = webdriver.Chrome('./chromedriver')"
   ]
  },
  {
   "cell_type": "code",
   "execution_count": 2,
   "id": "cac32fb1",
   "metadata": {},
   "outputs": [
    {
     "name": "stderr",
     "output_type": "stream",
     "text": [
      "C:\\Users\\rrr\\AppData\\Local\\Temp\\ipykernel_16940\\212663990.py:4: DeprecationWarning: executable_path has been deprecated, please pass in a Service object\n",
      "  browser = webdriver.Chrome(executable_path='./chromedriver', chrome_options=option)\n",
      "C:\\Users\\rrr\\AppData\\Local\\Temp\\ipykernel_16940\\212663990.py:4: DeprecationWarning: use options instead of chrome_options\n",
      "  browser = webdriver.Chrome(executable_path='./chromedriver', chrome_options=option)\n"
     ]
    }
   ],
   "source": [
    "option = webdriver.ChromeOptions()\n",
    "option.add_experimental_option(\"useAutomationExtension\", False)\n",
    "option.add_experimental_option(\"excludeSwitches\", ['enable-automation'])\n",
    "browser = webdriver.Chrome(executable_path='./chromedriver', chrome_options=option)"
   ]
  },
  {
   "cell_type": "markdown",
   "id": "fb0c1a94",
   "metadata": {},
   "source": [
    "### 여기까지  Chrome init with browser "
   ]
  },
  {
   "cell_type": "code",
   "execution_count": 21,
   "id": "9a757335",
   "metadata": {},
   "outputs": [],
   "source": [
    "browser.get('http://ezoffice365.com')"
   ]
  },
  {
   "cell_type": "code",
   "execution_count": 22,
   "id": "6b2b08c2",
   "metadata": {},
   "outputs": [],
   "source": [
    "from selenium.webdriver.common.by import By\n",
    "elem = browser.find_element(\"id\", 'email_address')\n",
    "elem.send_keys('star_horse@naver.com')\n",
    "elem = browser.find_element(\"id\", 'password')\n",
    "elem.send_keys('ch1w')\n",
    "elem = browser.find_element(\"xpath\",'/html/body/div/my-login/main/div/div/div/div/div[2]/form/div[4]/button')\n",
    "elem.click()"
   ]
  },
  {
   "cell_type": "code",
   "execution_count": null,
   "id": "f87e0b04",
   "metadata": {},
   "outputs": [],
   "source": []
  },
  {
   "cell_type": "code",
   "execution_count": 1,
   "id": "7fd3be67",
   "metadata": {},
   "outputs": [
    {
     "name": "stderr",
     "output_type": "stream",
     "text": [
      "C:\\Users\\rrr\\AppData\\Local\\Temp\\ipykernel_15332\\987407070.py:4: DeprecationWarning: executable_path has been deprecated, please pass in a Service object\n",
      "  driver = webdriver.Chrome('./chromedriver')\n"
     ]
    }
   ],
   "source": [
    "from selenium import webdriver\n",
    "from selenium.webdriver.common.by import By\n",
    "from selenium.webdriver.common.action_chains import ActionChains \n",
    "driver = webdriver.Chrome('./chromedriver')"
   ]
  },
  {
   "cell_type": "code",
   "execution_count": 23,
   "id": "16c28af6",
   "metadata": {},
   "outputs": [],
   "source": [
    "driver.get('http://ezoffice365.com')\n",
    "elem1 = driver.find_element(\"id\", 'email_address')\n",
    "elem2 = driver.find_element(\"id\", 'password')\n",
    "elem3 = driver.find_element(\"xpath\",'/html/body/div/my-login/main/div/div/div/div/div[2]/form/div[4]/button')\n",
    "# ActionChains(driver).move_to_element(elem3).click()\n",
    "ActionChains(driver).move_to_element(elem1).send_keys('star_horse@naver.com').move_to_element(elem2).click().send_keys('ch1whdrb').move_to_element(elem3).click().perform()\n"
   ]
  },
  {
   "cell_type": "code",
   "execution_count": 14,
   "id": "635d429b",
   "metadata": {},
   "outputs": [
    {
     "data": {
      "text/plain": [
       "<selenium.webdriver.common.action_chains.ActionChains at 0x25ee4fb9720>"
      ]
     },
     "execution_count": 14,
     "metadata": {},
     "output_type": "execute_result"
    }
   ],
   "source": [
    "ActionChains(driver).move_to_element(elem3).click()"
   ]
  },
  {
   "cell_type": "markdown",
   "id": "f43db5d2",
   "metadata": {},
   "source": [
    "### local File load 테스트 "
   ]
  },
  {
   "cell_type": "code",
   "execution_count": 3,
   "id": "a8b91a16",
   "metadata": {},
   "outputs": [],
   "source": [
    "browser.get('file:///H:/githubDn/20200228start/python_ex/test_html.html')"
   ]
  },
  {
   "cell_type": "code",
   "execution_count": 26,
   "id": "ed5180c8",
   "metadata": {},
   "outputs": [
    {
     "name": "stderr",
     "output_type": "stream",
     "text": [
      "C:\\Users\\rrr\\AppData\\Local\\Temp\\ipykernel_16940\\2764123497.py:9: DeprecationWarning: executable_path has been deprecated, please pass in a Service object\n",
      "  browser = webdriver.Chrome(executable_path='./chromedriver', chrome_options=option)\n",
      "C:\\Users\\rrr\\AppData\\Local\\Temp\\ipykernel_16940\\2764123497.py:9: DeprecationWarning: use options instead of chrome_options\n",
      "  browser = webdriver.Chrome(executable_path='./chromedriver', chrome_options=option)\n"
     ]
    }
   ],
   "source": [
    "from selenium.webdriver.common.action_chains import ActionChains\n",
    "from selenium.webdriver.common.alert         import Alert\n",
    "from selenium.webdriver.support              import expected_conditions as EC\n",
    "from selenium.webdriver.support.ui           import WebDriverWait\n",
    "\n",
    "option = webdriver.ChromeOptions()\n",
    "option.add_experimental_option(\"useAutomationExtension\", False)\n",
    "option.add_experimental_option(\"excludeSwitches\", ['enable-automation'])\n",
    "browser = webdriver.Chrome(executable_path='./chromedriver', chrome_options=option)"
   ]
  },
  {
   "cell_type": "code",
   "execution_count": 27,
   "id": "50105e52",
   "metadata": {},
   "outputs": [
    {
     "name": "stdout",
     "output_type": "stream",
     "text": [
      "EZ Office\n"
     ]
    }
   ],
   "source": [
    "browser.get('file:///H:/githubDn/20200228start/python_ex/test_html.html')\n",
    "wait = WebDriverWait(browser, 10)\n",
    "element = wait.until(EC.element_to_be_clickable((By.ID, 'id')))\n",
    "elem_pw = browser.find_element('id', 'password')\n",
    "elem_submit = browser.find_element('id','submit')\n",
    "\n",
    "########################################################################################\n",
    "#  ActionChains \n",
    "########################################################################################\n",
    "link_win = browser.find_element(By.LINK_TEXT,'Login')\n",
    "ActionChains(browser).move_to_element(element).click(element).send_keys('star_horse@naver.com').perform()\n",
    "ActionChains(browser).move_to_element(elem_pw).click(elem_pw).send_keys('ch1whdrb').perform()\n",
    "ActionChains(browser).move_to_element(elem_submit).click(elem_submit).perform()\n",
    "\n",
    "alert = Alert(browser)\n",
    "alert.dismiss()\n",
    "########################################################################################\n",
    "#  windows handlingn\n",
    "########################################################################################\n",
    "link_win = browser.find_element(By.LINK_TEXT,'Login')\n",
    "link_win.click() \n",
    "wins = browser.window_handles\n",
    "browser.switch_to.window( wins[1])\n",
    "print( browser.title )\n",
    "# input()\n"
   ]
  },
  {
   "cell_type": "code",
   "execution_count": null,
   "id": "01026178",
   "metadata": {},
   "outputs": [],
   "source": []
  },
  {
   "cell_type": "code",
   "execution_count": null,
   "id": "0ddfafbf",
   "metadata": {},
   "outputs": [],
   "source": []
  }
 ],
 "metadata": {
  "kernelspec": {
   "display_name": "Python 3 (ipykernel)",
   "language": "python",
   "name": "python3"
  },
  "language_info": {
   "codemirror_mode": {
    "name": "ipython",
    "version": 3
   },
   "file_extension": ".py",
   "mimetype": "text/x-python",
   "name": "python",
   "nbconvert_exporter": "python",
   "pygments_lexer": "ipython3",
   "version": "3.10.7"
  }
 },
 "nbformat": 4,
 "nbformat_minor": 5
}
