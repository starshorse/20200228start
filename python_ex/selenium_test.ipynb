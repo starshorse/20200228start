{
 "cells": [
  {
   "cell_type": "code",
   "execution_count": null,
   "id": "439f24aa",
   "metadata": {},
   "outputs": [],
   "source": []
  },
  {
   "cell_type": "markdown",
   "id": "0f794838",
   "metadata": {},
   "source": [
    "### Chrome  Chrome가 자동화 테스트 소프트웨어의 제어를 받고 있습니다"
   ]
  },
  {
   "cell_type": "code",
   "execution_count": 1,
   "id": "f9bd5b61",
   "metadata": {},
   "outputs": [
    {
     "name": "stderr",
     "output_type": "stream",
     "text": [
      "C:\\Users\\rrr\\AppData\\Local\\Temp\\ipykernel_916\\3383808542.py:3: DeprecationWarning: executable_path has been deprecated, please pass in a Service object\n",
      "  driver = webdriver.Chrome('./chromedriver')\n"
     ]
    }
   ],
   "source": [
    "from selenium import webdriver\n",
    "from selenium.webdriver.common.by import By\n",
    "driver = webdriver.Chrome('./chromedriver')"
   ]
  },
  {
   "cell_type": "code",
   "execution_count": 20,
   "id": "cac32fb1",
   "metadata": {},
   "outputs": [
    {
     "name": "stderr",
     "output_type": "stream",
     "text": [
      "C:\\Users\\rrr\\AppData\\Local\\Temp\\ipykernel_916\\212663990.py:4: DeprecationWarning: executable_path has been deprecated, please pass in a Service object\n",
      "  browser = webdriver.Chrome(executable_path='./chromedriver', chrome_options=option)\n",
      "C:\\Users\\rrr\\AppData\\Local\\Temp\\ipykernel_916\\212663990.py:4: DeprecationWarning: use options instead of chrome_options\n",
      "  browser = webdriver.Chrome(executable_path='./chromedriver', chrome_options=option)\n"
     ]
    }
   ],
   "source": [
    "option = webdriver.ChromeOptions()\n",
    "option.add_experimental_option(\"useAutomationExtension\", False)\n",
    "option.add_experimental_option(\"excludeSwitches\", ['enable-automation'])\n",
    "browser = webdriver.Chrome(executable_path='./chromedriver', chrome_options=option)"
   ]
  },
  {
   "cell_type": "code",
   "execution_count": 21,
   "id": "9a757335",
   "metadata": {},
   "outputs": [],
   "source": [
    "browser.get('http://ezoffice365.com')"
   ]
  },
  {
   "cell_type": "code",
   "execution_count": 22,
   "id": "6b2b08c2",
   "metadata": {},
   "outputs": [],
   "source": [
    "from selenium.webdriver.common.by import By\n",
    "elem = browser.find_element(\"id\", 'email_address')\n",
    "elem.send_keys('star_horse@naver.com')\n",
    "elem = browser.find_element(\"id\", 'password')\n",
    "elem.send_keys('ch1w')\n",
    "elem = browser.find_element(\"xpath\",'/html/body/div/my-login/main/div/div/div/div/div[2]/form/div[4]/button')\n",
    "elem.click()"
   ]
  },
  {
   "cell_type": "code",
   "execution_count": null,
   "id": "f87e0b04",
   "metadata": {},
   "outputs": [],
   "source": []
  },
  {
   "cell_type": "code",
   "execution_count": null,
   "id": "0ddfafbf",
   "metadata": {},
   "outputs": [],
   "source": []
  }
 ],
 "metadata": {
  "kernelspec": {
   "display_name": "Python 3 (ipykernel)",
   "language": "python",
   "name": "python3"
  },
  "language_info": {
   "codemirror_mode": {
    "name": "ipython",
    "version": 3
   },
   "file_extension": ".py",
   "mimetype": "text/x-python",
   "name": "python",
   "nbconvert_exporter": "python",
   "pygments_lexer": "ipython3",
   "version": "3.10.6"
  }
 },
 "nbformat": 4,
 "nbformat_minor": 5
}
