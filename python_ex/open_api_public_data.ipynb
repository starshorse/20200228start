{
 "cells": [
  {
   "cell_type": "code",
   "execution_count": 3,
   "id": "3a85ac98",
   "metadata": {},
   "outputs": [
    {
     "name": "stdout",
     "output_type": "stream",
     "text": [
      "Collecting requests\n",
      "  Using cached requests-2.28.1-py3-none-any.whl (62 kB)\n",
      "Collecting charset-normalizer<3,>=2\n",
      "  Using cached charset_normalizer-2.1.1-py3-none-any.whl (39 kB)\n",
      "Requirement already satisfied: idna<4,>=2.5 in c:\\users\\user\\appdata\\local\\programs\\python\\python310\\lib\\site-packages (from requests) (3.3)\n",
      "Requirement already satisfied: urllib3<1.27,>=1.21.1 in c:\\users\\user\\appdata\\local\\programs\\python\\python310\\lib\\site-packages (from requests) (1.26.11)\n",
      "Requirement already satisfied: certifi>=2017.4.17 in c:\\users\\user\\appdata\\local\\programs\\python\\python310\\lib\\site-packages (from requests) (2022.6.15)\n",
      "Installing collected packages: charset-normalizer, requests\n",
      "Successfully installed charset-normalizer-2.1.1 requests-2.28.1\n"
     ]
    },
    {
     "name": "stderr",
     "output_type": "stream",
     "text": [
      "\n",
      "[notice] A new release of pip available: 22.2.1 -> 22.2.2\n",
      "[notice] To update, run: python.exe -m pip install --upgrade pip\n"
     ]
    }
   ],
   "source": [
    "!pip3 install requests"
   ]
  },
  {
   "cell_type": "code",
   "execution_count": 4,
   "id": "c63beed7",
   "metadata": {},
   "outputs": [
    {
     "name": "stderr",
     "output_type": "stream",
     "text": [
      "ERROR: Could not find a version that satisfies the requirement pprint (from versions: none)\n",
      "ERROR: No matching distribution found for pprint\n",
      "\n",
      "[notice] A new release of pip available: 22.2.1 -> 22.2.2\n",
      "[notice] To update, run: python.exe -m pip install --upgrade pip\n"
     ]
    }
   ],
   "source": [
    "!pip3 install pprint"
   ]
  },
  {
   "cell_type": "code",
   "execution_count": 5,
   "id": "39bd2fa9",
   "metadata": {},
   "outputs": [
    {
     "name": "stderr",
     "output_type": "stream",
     "text": [
      "ERROR: Could not find a version that satisfies the requirement json (from versions: none)\n",
      "ERROR: No matching distribution found for json\n",
      "\n",
      "[notice] A new release of pip available: 22.2.1 -> 22.2.2\n",
      "[notice] To update, run: python.exe -m pip install --upgrade pip\n"
     ]
    }
   ],
   "source": [
    "!pip3 install json"
   ]
  },
  {
   "cell_type": "code",
   "execution_count": 16,
   "id": "60aae654-38a6-4b64-b832-e58d7173d5a3",
   "metadata": {},
   "outputs": [
    {
     "name": "stdout",
     "output_type": "stream",
     "text": [
      "[<item><agOrgTpcd>01</agOrgTpcd><agOrgTpcdNm>KSD</agOrgTpcdNm><apliDt>19750611</apliDt><apliDtY>20190913</apliDtY><bizno>124-81-00998</bizno><caltotMartTpcd>11</caltotMartTpcd><caltotMartTpcdNm>유가증권</caltotMartTpcdNm><ceoNm>한종희, 경계현</ceoNm><custXtinDt>99991231</custXtinDt><eltscYn>Y</eltscYn><engCustNm>SAMSUNG ELECTRONICS CO., LTD</engCustNm><engLegFormNm> CO., LTD</engLegFormNm><founDt>19690113</founDt><homepAddr>http://www.sec.co.kr</homepAddr><issucoCustno>593</issucoCustno><pval>100</pval><pvalStkqty>2500000</pvalStkqty><repSecnNm>삼성전자</repSecnNm><rostCloseTerm>기준일후 1 월</rostCloseTerm><rostCloseTermTpcd>1</rostCloseTermTpcd><rostCloseTermUnitCd>23</rostCloseTermUnitCd><rostCloseTermUnitNm>월</rostCloseTermUnitNm><rostCloseTerms>1</rostCloseTerms><setaccMmdd>12월</setaccMmdd><shotnIsin>005930</shotnIsin><totalStkCnt>   6,792,669,250 주</totalStkCnt></item>]\n"
     ]
    },
    {
     "data": {
      "text/html": [
       "<div>\n",
       "<style scoped>\n",
       "    .dataframe tbody tr th:only-of-type {\n",
       "        vertical-align: middle;\n",
       "    }\n",
       "\n",
       "    .dataframe tbody tr th {\n",
       "        vertical-align: top;\n",
       "    }\n",
       "\n",
       "    .dataframe thead th {\n",
       "        text-align: right;\n",
       "    }\n",
       "</style>\n",
       "<table border=\"1\" class=\"dataframe\">\n",
       "  <thead>\n",
       "    <tr style=\"text-align: right;\">\n",
       "      <th></th>\n",
       "      <th>agOrgTpcd</th>\n",
       "      <th>agOrgTpcdNm</th>\n",
       "      <th>apliDt</th>\n",
       "      <th>apliDtY</th>\n",
       "      <th>bizno</th>\n",
       "      <th>caltotMartTpcd</th>\n",
       "      <th>caltotMartTpcdNm</th>\n",
       "      <th>ceoNm</th>\n",
       "      <th>custXtinDt</th>\n",
       "      <th>eltscYn</th>\n",
       "      <th>...</th>\n",
       "      <th>pvalStkqty</th>\n",
       "      <th>repSecnNm</th>\n",
       "      <th>rostCloseTerm</th>\n",
       "      <th>rostCloseTermTpcd</th>\n",
       "      <th>rostCloseTermUnitCd</th>\n",
       "      <th>rostCloseTermUnitNm</th>\n",
       "      <th>rostCloseTerms</th>\n",
       "      <th>setaccMmdd</th>\n",
       "      <th>shotnIsin</th>\n",
       "      <th>totalStkCnt</th>\n",
       "    </tr>\n",
       "  </thead>\n",
       "  <tbody>\n",
       "    <tr>\n",
       "      <th>0</th>\n",
       "      <td>01</td>\n",
       "      <td>KSD</td>\n",
       "      <td>19750611</td>\n",
       "      <td>20190913</td>\n",
       "      <td>124-81-00998</td>\n",
       "      <td>11</td>\n",
       "      <td>유가증권</td>\n",
       "      <td>한종희, 경계현</td>\n",
       "      <td>99991231</td>\n",
       "      <td>Y</td>\n",
       "      <td>...</td>\n",
       "      <td>2500000</td>\n",
       "      <td>삼성전자</td>\n",
       "      <td>기준일후 1 월</td>\n",
       "      <td>1</td>\n",
       "      <td>23</td>\n",
       "      <td>월</td>\n",
       "      <td>1</td>\n",
       "      <td>12월</td>\n",
       "      <td>005930</td>\n",
       "      <td>6,792,669,250 주</td>\n",
       "    </tr>\n",
       "  </tbody>\n",
       "</table>\n",
       "<p>1 rows × 26 columns</p>\n",
       "</div>"
      ],
      "text/plain": [
       "  agOrgTpcd agOrgTpcdNm    apliDt   apliDtY         bizno caltotMartTpcd  \\\n",
       "0        01         KSD  19750611  20190913  124-81-00998             11   \n",
       "\n",
       "  caltotMartTpcdNm     ceoNm custXtinDt eltscYn  ... pvalStkqty repSecnNm  \\\n",
       "0             유가증권  한종희, 경계현   99991231       Y  ...    2500000      삼성전자   \n",
       "\n",
       "  rostCloseTerm rostCloseTermTpcd rostCloseTermUnitCd rostCloseTermUnitNm  \\\n",
       "0      기준일후 1 월                 1                  23                   월   \n",
       "\n",
       "  rostCloseTerms setaccMmdd shotnIsin         totalStkCnt  \n",
       "0              1        12월    005930     6,792,669,250 주  \n",
       "\n",
       "[1 rows x 26 columns]"
      ]
     },
     "execution_count": 16,
     "metadata": {},
     "output_type": "execute_result"
    }
   ],
   "source": [
    "#라이브러리 import\n",
    "import requests\n",
    "import pprint\n",
    "import json\n",
    "import bs4\n",
    "from lxml import html\n",
    "import pandas as pd \n",
    "\n",
    "public_key ='w8SK7ikbgYbS%2FCk3kIf0odvM6wfrNCFSCjSHGn8JKEQp9YAMW4hDR805UWO8%2BSfherqBEimlZ%2F23oKU7s7hiYg%3D%3D'\n",
    "# url 입력\n",
    "\n",
    "#url = 'http://api.data.go.kr/openapi/tn_pubr_public_cctv_api?serviceKey=개인인증키입력&pageNo=1&numOfRows=10&type=json'\n",
    "url = 'http://api.seibro.or.kr/openapi/service/CorpSvc/getIssucoBasicInfo?serviceKey=w8SK7ikbgYbS%2FCk3kIf0odvM6wfrNCFSCjSHGn8JKEQp9YAMW4hDR805UWO8%2BSfherqBEimlZ%2F23oKU7s7hiYg%3D%3D&issucoCustno=593'\n",
    "response = requests.get(url)\n",
    "\n",
    "contents = response.text\n",
    "\n",
    "xml_obj = bs4.BeautifulSoup(contents, 'lxml-xml')\n",
    "\n",
    "\n",
    "# 데이터 결과값 예쁘게 출력해주는 코드\n",
    "pp = pprint.PrettyPrinter(indent=4)\n",
    "# print(pp.pprint(xml_obj))\n",
    "rows = xml_obj.findAll('item')\n",
    "print(rows)\n",
    "# 각 행의 컬럼, 이름, 값을 가지는 리스트 만들기\n",
    "row_list = [] # 행값\n",
    "name_list = [] # 열이름값\n",
    "value_list = [] #데이터값\n",
    "\n",
    "# xml 안의 데이터 수집\n",
    "for i in range(0, len(rows)):\n",
    "    columns = rows[i].find_all()\n",
    "    #첫째 행 데이터 수집\n",
    "    for j in range(0,len(columns)):\n",
    "        if i ==0:\n",
    "            # 컬럼 이름 값 저장\n",
    "            name_list.append(columns[j].name)\n",
    "        # 컬럼의 각 데이터 값 저장\n",
    "        value_list.append(columns[j].text)\n",
    "    # 각 행의 value값 전체 저장\n",
    "    row_list.append(value_list)\n",
    "    # 데이터 리스트 값 초기화\n",
    "    value_list=[]\n",
    "\n",
    "#xml값 DataFrame으로 만들기\n",
    "corona_df = pd.DataFrame(row_list, columns=name_list)\n",
    "# print(corona_df.head(19))    \n",
    "corona_df"
   ]
  },
  {
   "cell_type": "code",
   "execution_count": 87,
   "id": "a1238813-f027-4f29-b976-42e3bfe24064",
   "metadata": {},
   "outputs": [
    {
     "name": "stdout",
     "output_type": "stream",
     "text": [
      "<class 'dict'>\n",
      "[{'institutionNm': '경상남도 김해시청', 'rdnmadr': 'null', 'lnmadr': '경상남도 김해시 구산동 1072-19', 'installationPurpsType': '생활방범', 'cctvNumber': '3', 'cctvPixel': '200', 'potogrfInfo': '현대병원뒤', 'cstdyDay': '30', 'installationYymm': '2019-11', 'phoneNumber': '055-330-4741', 'latitude': '35.249247', 'longitude': '128.871639', 'referenceDate': '2019-06-26', 'insttCode': '5350000'}, {'institutionNm': '경상남도 김해시청', 'rdnmadr': 'null', 'lnmadr': '경상남도 김해시 구산동 305-15', 'installationPurpsType': '생활방범', 'cctvNumber': '2', 'cctvPixel': '200', 'potogrfInfo': '목화골공원', 'cstdyDay': '30', 'installationYymm': '2019-12', 'phoneNumber': '055-330-4741', 'latitude': '35.247411', 'longitude': '128.873605', 'referenceDate': '2019-06-26', 'insttCode': '5350000'}, {'institutionNm': '경상남도 김해시청', 'rdnmadr': 'null', 'lnmadr': '경상남도 김해시 삼계동 1484-14', 'installationPurpsType': '생활방범', 'cctvNumber': '2', 'cctvPixel': '200', 'potogrfInfo': '정원빌라', 'cstdyDay': '30', 'installationYymm': '2019-06', 'phoneNumber': '055-330-4741', 'latitude': '35.2617277', 'longitude': '128.8741435', 'referenceDate': '2019-06-26', 'insttCode': '5350000'}, {'institutionNm': '경상남도 김해시청', 'rdnmadr': 'null', 'lnmadr': '경상남도 김해시 구산동 1043', 'installationPurpsType': '생활방범', 'cctvNumber': '4', 'cctvPixel': '200', 'potogrfInfo': '최가아구찜', 'cstdyDay': '30', 'installationYymm': '2019-05', 'phoneNumber': '055-330-4741', 'latitude': '35.247076', 'longitude': '128.872461', 'referenceDate': '2019-06-26', 'insttCode': '5350000'}, {'institutionNm': '경상남도 김해시청', 'rdnmadr': 'null', 'lnmadr': '경상남도 김해시 구산동 175-10', 'installationPurpsType': '생활방범', 'cctvNumber': '2', 'cctvPixel': '200', 'potogrfInfo': '동호맨션', 'cstdyDay': '30', 'installationYymm': '2019-12', 'phoneNumber': '055-330-4741', 'latitude': '35.241185', 'longitude': '128.8773341', 'referenceDate': '2019-06-26', 'insttCode': '5350000'}, {'institutionNm': '경상남도 김해시청', 'rdnmadr': 'null', 'lnmadr': '경상남도 김해시 부원동 663', 'installationPurpsType': '생활방범', 'cctvNumber': '3', 'cctvPixel': '200', 'potogrfInfo': '김해시청뒷길', 'cstdyDay': '30', 'installationYymm': '2019-05', 'phoneNumber': '055-330-4741', 'latitude': '35.228923', 'longitude': '128.889096', 'referenceDate': '2019-06-26', 'insttCode': '5350000'}, {'institutionNm': '경상남도 김해시청', 'rdnmadr': 'null', 'lnmadr': '경상남도 김해시 부원동 342-17', 'installationPurpsType': '생활방범', 'cctvNumber': '3', 'cctvPixel': '200', 'potogrfInfo': '쇄내마을남쪽', 'cstdyDay': '30', 'installationYymm': '2019-03', 'phoneNumber': '055-330-4741', 'latitude': '35.21492806', 'longitude': '128.887706', 'referenceDate': '2019-06-26', 'insttCode': '5350000'}, {'institutionNm': '경상남도 김해시청', 'rdnmadr': 'null', 'lnmadr': '경상남도 김해시 부원동 36-1', 'installationPurpsType': '생활방범', 'cctvNumber': '3', 'cctvPixel': '200', 'potogrfInfo': '김해중후문', 'cstdyDay': '30', 'installationYymm': '2019-03', 'phoneNumber': '055-330-4741', 'latitude': '35.232047', 'longitude': '128.886201', 'referenceDate': '2019-06-26', 'insttCode': '5350000'}, {'institutionNm': '경상남도 김해시청', 'rdnmadr': 'null', 'lnmadr': '경상남도 김해시 부원동 169-6', 'installationPurpsType': '생활방범', 'cctvNumber': '3', 'cctvPixel': '200', 'potogrfInfo': '미진숯불갈비', 'cstdyDay': '30', 'installationYymm': '2019-10', 'phoneNumber': '055-330-4741', 'latitude': '35.22822376', 'longitude': '128.8927683', 'referenceDate': '2019-06-26', 'insttCode': '5350000'}, {'institutionNm': '경상남도 김해시청', 'rdnmadr': 'null', 'lnmadr': '경상남도 김해시 부원동 861-4', 'installationPurpsType': '생활방범', 'cctvNumber': '2', 'cctvPixel': '200', 'potogrfInfo': '한울빌', 'cstdyDay': '30', 'installationYymm': '2019-09', 'phoneNumber': '055-330-4741', 'latitude': '35.23016412', 'longitude': '128.881197', 'referenceDate': '2019-06-26', 'insttCode': '5350000'}]\n"
     ]
    }
   ],
   "source": [
    "## json을 DataFrame으로 변환하기 ##\n",
    "#문자열을 json으로 변경\n",
    "json_ob = json.loads(contents)\n",
    "print(type(json_ob)) #json타입 확인\n",
    "\n",
    "# 필요한 내용만 꺼내기\n",
    "body = json_ob['response']['body']['items']\n",
    "print(body)"
   ]
  },
  {
   "cell_type": "code",
   "execution_count": 88,
   "id": "2813001d-0563-494a-84c4-0bcabf96cc3c",
   "metadata": {},
   "outputs": [
    {
     "name": "stdout",
     "output_type": "stream",
     "text": [
      "  institutionNm rdnmadr                lnmadr installationPurpsType  \\\n",
      "0     경상남도 김해시청    null  경상남도 김해시 구산동 1072-19                  생활방범   \n",
      "1     경상남도 김해시청    null   경상남도 김해시 구산동 305-15                  생활방범   \n",
      "2     경상남도 김해시청    null  경상남도 김해시 삼계동 1484-14                  생활방범   \n",
      "3     경상남도 김해시청    null     경상남도 김해시 구산동 1043                  생활방범   \n",
      "4     경상남도 김해시청    null   경상남도 김해시 구산동 175-10                  생활방범   \n",
      "5     경상남도 김해시청    null      경상남도 김해시 부원동 663                  생활방범   \n",
      "6     경상남도 김해시청    null   경상남도 김해시 부원동 342-17                  생활방범   \n",
      "7     경상남도 김해시청    null     경상남도 김해시 부원동 36-1                  생활방범   \n",
      "8     경상남도 김해시청    null    경상남도 김해시 부원동 169-6                  생활방범   \n",
      "9     경상남도 김해시청    null    경상남도 김해시 부원동 861-4                  생활방범   \n",
      "\n",
      "  cctvNumber cctvPixel potogrfInfo cstdyDay installationYymm   phoneNumber  \\\n",
      "0          3       200       현대병원뒤       30          2019-11  055-330-4741   \n",
      "1          2       200       목화골공원       30          2019-12  055-330-4741   \n",
      "2          2       200        정원빌라       30          2019-06  055-330-4741   \n",
      "3          4       200       최가아구찜       30          2019-05  055-330-4741   \n",
      "4          2       200        동호맨션       30          2019-12  055-330-4741   \n",
      "5          3       200      김해시청뒷길       30          2019-05  055-330-4741   \n",
      "6          3       200      쇄내마을남쪽       30          2019-03  055-330-4741   \n",
      "7          3       200       김해중후문       30          2019-03  055-330-4741   \n",
      "8          3       200      미진숯불갈비       30          2019-10  055-330-4741   \n",
      "9          2       200         한울빌       30          2019-09  055-330-4741   \n",
      "\n",
      "      latitude    longitude referenceDate insttCode  \n",
      "0    35.249247   128.871639    2019-06-26   5350000  \n",
      "1    35.247411   128.873605    2019-06-26   5350000  \n",
      "2   35.2617277  128.8741435    2019-06-26   5350000  \n",
      "3    35.247076   128.872461    2019-06-26   5350000  \n",
      "4    35.241185  128.8773341    2019-06-26   5350000  \n",
      "5    35.228923   128.889096    2019-06-26   5350000  \n",
      "6  35.21492806   128.887706    2019-06-26   5350000  \n",
      "7    35.232047   128.886201    2019-06-26   5350000  \n",
      "8  35.22822376  128.8927683    2019-06-26   5350000  \n",
      "9  35.23016412   128.881197    2019-06-26   5350000  \n"
     ]
    },
    {
     "name": "stderr",
     "output_type": "stream",
     "text": [
      "<ipython-input-88-ac53431d1e9a>:5: FutureWarning: pandas.io.json.json_normalize is deprecated, use pandas.json_normalize instead\n",
      "  dataframe = json_normalize(body)\n"
     ]
    }
   ],
   "source": [
    "# pandas import\n",
    "import pandas as pd\n",
    "from pandas.io.json import json_normalize\n",
    "# Dataframe으로 만들기\n",
    "dataframe = json_normalize(body)\n",
    "\n",
    "print(dataframe)"
   ]
  }
 ],
 "metadata": {
  "kernelspec": {
   "display_name": "Python 3 (ipykernel)",
   "language": "python",
   "name": "python3"
  },
  "language_info": {
   "codemirror_mode": {
    "name": "ipython",
    "version": 3
   },
   "file_extension": ".py",
   "mimetype": "text/x-python",
   "name": "python",
   "nbconvert_exporter": "python",
   "pygments_lexer": "ipython3",
   "version": "3.10.6"
  }
 },
 "nbformat": 4,
 "nbformat_minor": 5
}
